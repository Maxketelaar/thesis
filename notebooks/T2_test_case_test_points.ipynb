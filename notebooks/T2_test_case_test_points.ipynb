{
 "cells": [
  {
   "cell_type": "code",
   "execution_count": 1,
   "metadata": {},
   "outputs": [],
   "source": [
    "import trimesh as tm\n",
    "import numpy as np\n",
    "import pyvista as pv\n",
    "import os\n",
    "import topogenesis as tg\n",
    "import pickle as pk \n",
    "from ladybug.sunpath import Sunpath\n",
    "from ladybug.epw import EPW"
   ]
  },
  {
   "cell_type": "code",
   "execution_count": 2,
   "metadata": {},
   "outputs": [],
   "source": [
    "# create a sphere \n",
    "sphere = tm.creation.icosphere(subdivisions= 3, radius= 400.0)\n",
    "\n",
    "# extract vertices from sphere\n",
    "sphere_vertices = sphere.vertices\n",
    "\n",
    "# keep only positive vertices\n",
    "skydome = sphere_vertices[sphere_vertices[:,2] > 1.0]\n",
    "\n",
    "# convert to array\n",
    "skydome = np.array(skydome)"
   ]
  },
  {
   "cell_type": "code",
   "execution_count": 3,
   "metadata": {},
   "outputs": [],
   "source": [
    "sol_path = os.path.relpath(\"../input/NLD_Amsterdam.062400_IWEC.epw\")\n",
    "epw = EPW(sol_path)\n",
    "\n",
    "dnr = epw.direct_normal_radiation\n",
    "dni = epw.direct_normal_illuminance\n",
    "ghi = epw.global_horizontal_illuminance"
   ]
  },
  {
   "cell_type": "code",
   "execution_count": 4,
   "metadata": {},
   "outputs": [],
   "source": [
    "sp = Sunpath(longitude=4.3571, latitude=52.0116)\n",
    "\n",
    "sunvectors = []\n",
    "hoys = []\n",
    "dnrval = []\n",
    "dnival = []\n",
    "ghival = []\n",
    "\n",
    "for i in range(0, 365, 14): # gives biweekly moments\n",
    "    for j in range(24): # can also give a range of f.e. 12:00-14:00 hrs if needed\n",
    "        k = i*24 + j\n",
    "        sun = sp.calculate_sun_from_hoy(k)\n",
    "        sun_vec = sun.sun_vector.to_array()\n",
    "        if sun_vec[2] < 0.0:\n",
    "            hoys.append(j)\n",
    "            sunvectors.append(sun_vec)\n",
    "            dnrval.append(dnr[k])\n",
    "            dnival.append(dni[k])\n",
    "            ghival.append(ghi[k])\n",
    "            \n",
    "# convert to numpy array\n",
    "sunvectors = np.array(sunvectors)\n",
    "hoys = np.array(hoys)\n",
    "dnrval = np.array(dnrval)\n",
    "dnival = np.array(dnival)\n",
    "ghival = np.array(ghival)\n",
    "\n",
    "# rotate vectors to correct orientation for site\n",
    "rotation = 36.324\n",
    "Rz = tm.transformations.rotation_matrix(np.radians(rotation), [0,0,1])\n",
    "sunvectors = tm.transform_points(sunvectors, Rz)"
   ]
  },
  {
   "cell_type": "code",
   "execution_count": 5,
   "metadata": {},
   "outputs": [],
   "source": [
    "# save hoys  to pk\n",
    "pk.dump(hoys, open(\"../data/T2_hoys.pk\", \"wb\"))\n",
    "\n",
    "# save global horizontal illuminance to pk\n",
    "pk.dump(ghival, open(\"../data/T2_ghival.pk\", \"wb\"))\n",
    "# save direct normal radiation to pk\n",
    "pk.dump(dnrval, open(\"../data/T2_dnrval.pk\", \"wb\"))\n",
    "# save direct normal illuminance to pk\n",
    "pk.dump(dnival, open(\"../data/T2_dnival.pk\", \"wb\"))"
   ]
  },
  {
   "cell_type": "code",
   "execution_count": 6,
   "metadata": {},
   "outputs": [],
   "source": [
    "# save sun vectors to pk\n",
    "pk.dump(sunvectors, open(\"../data/T2_sunvectors.pk\", \"wb\"))\n",
    "# save skydome to pk\n",
    "pk.dump(skydome, open(\"../data/T2_skydome.pk\", \"wb\"))"
   ]
  },
  {
   "cell_type": "code",
   "execution_count": 7,
   "metadata": {},
   "outputs": [
    {
     "data": {
      "application/vnd.jupyter.widget-view+json": {
       "model_id": "95cecf606fdf42849fb60c36aa08b758",
       "version_major": 2,
       "version_minor": 0
      },
      "text/plain": [
       "ViewInteractiveWidget(height=768, layout=Layout(height='auto', width='100%'), width=1024)"
      ]
     },
     "metadata": {},
     "output_type": "display_data"
    },
    {
     "data": {
      "text/plain": [
       "[(1326.8095460519723, 1326.8095460519723, 1525.6196278915338),\n",
       " (0.0, 0.0, 198.81008183956146),\n",
       " (0.0, 0.0, 1.0)]"
      ]
     },
     "execution_count": 7,
     "metadata": {},
     "output_type": "execute_result"
    }
   ],
   "source": [
    "p = pv.Plotter(notebook=True)\n",
    "\n",
    "def tri_to_pv(tri_mesh):\n",
    "    faces = np.pad(tri_mesh.faces, ((0, 0),(1,0)), 'constant', constant_values=3)\n",
    "    pv_mesh = pv.PolyData(tri_mesh.vertices, faces)\n",
    "    return pv_mesh\n",
    "\n",
    "# fast visualization of the lattice\n",
    "# envelope_lattice.fast_vis(p)\n",
    "\n",
    "# add the sky vectors\n",
    "#p.add_points(skydome, color='#0013ff')\n",
    "p.add_arrows(skydome, -skydome, mag=0.1, show_scalar_bar=False)\n",
    "p.add_arrows(-sunvectors*300, 300*sunvectors, mag=0.1, show_scalar_bar=False)\n",
    "\n",
    "# add context\n",
    "#p.add_mesh(tri_to_pv(context_mesh), opacity=0.1, color='lightgrey')\n",
    "\n",
    "\n",
    "# plotting\n",
    "p.show(use_ipyvtk=True, screenshot='T2_skydome.png')"
   ]
  }
 ],
 "metadata": {
  "interpreter": {
   "hash": "605f37378f8decd54729b74730590eb2917d207ad05faa9b102943824fde243c"
  },
  "kernelspec": {
   "display_name": "Python 3.8.5 64-bit ('thesis': conda)",
   "name": "python3"
  },
  "language_info": {
   "codemirror_mode": {
    "name": "ipython",
    "version": 3
   },
   "file_extension": ".py",
   "mimetype": "text/x-python",
   "name": "python",
   "nbconvert_exporter": "python",
   "pygments_lexer": "ipython3",
   "version": "3.8.5"
  },
  "orig_nbformat": 4
 },
 "nbformat": 4,
 "nbformat_minor": 2
}
