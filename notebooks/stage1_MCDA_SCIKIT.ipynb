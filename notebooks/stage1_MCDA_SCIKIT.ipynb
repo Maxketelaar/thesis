{
 "metadata": {
  "language_info": {
   "codemirror_mode": {
    "name": "ipython",
    "version": 3
   },
   "file_extension": ".py",
   "mimetype": "text/x-python",
   "name": "python",
   "nbconvert_exporter": "python",
   "pygments_lexer": "ipython3",
   "version": "3.8.5-final"
  },
  "orig_nbformat": 2,
  "kernelspec": {
   "name": "python3",
   "display_name": "Python 3.8.5 64-bit ('thesis': conda)",
   "metadata": {
    "interpreter": {
     "hash": "605f37378f8decd54729b74730590eb2917d207ad05faa9b102943824fde243c"
    }
   }
  }
 },
 "nbformat": 4,
 "nbformat_minor": 2,
 "cells": [
  {
   "source": [
    "## Import"
   ],
   "cell_type": "markdown",
   "metadata": {}
  },
  {
   "cell_type": "code",
   "execution_count": 33,
   "metadata": {},
   "outputs": [],
   "source": [
    "import trimesh as tm\n",
    "import topogenesis as tg\n",
    "import numpy as np\n",
    "import matplotlib.pyplot as plt\n",
    "\n",
    "import os\n",
    "import math\n",
    "\n",
    "from skcriteria import Data\n",
    "from skcriteria.madm.simus import SIMUS\n",
    "from skcriteria.madm import closeness, simple"
   ]
  },
  {
   "source": [
    "## Loading context"
   ],
   "cell_type": "markdown",
   "metadata": {}
  },
  {
   "cell_type": "code",
   "execution_count": 2,
   "metadata": {},
   "outputs": [],
   "source": [
    "path = os.path.relpath('../data/my_envelope.obj') # building outer boundaries file path\n",
    "buildingplot = tm.load(path) # load specified building boundary mesh (footprint extruded to max height TODO: will be USER INPUT)"
   ]
  },
  {
   "source": [
    "## Presets"
   ],
   "cell_type": "markdown",
   "metadata": {}
  },
  {
   "cell_type": "code",
   "execution_count": 3,
   "metadata": {},
   "outputs": [],
   "source": [
    "vox_size = 10\n",
    "fh = 3.6 # floor height\n",
    "FSI_req = 4 # goal for the FSI TODO: USER INPUT\n",
    "\n",
    "max_extents_height = abs(buildingplot.bounds[0][2]) + abs(buildingplot.bounds[1][2])\n",
    "max_extents_width = abs(buildingplot.bounds[0][0]) + abs(buildingplot.bounds[1][0])\n",
    "max_extents_length = abs(buildingplot.bounds[0][1]) + abs(buildingplot.bounds[1][1])\n",
    "\n",
    "base = buildingplot.apply_transform(tm.transformations.projection_matrix((0,0,0), (0,0,-1))) # project mesh on z plane to get footprint <-- TODO: easier way?\n",
    "plot_area = base.area/2 # area calculates both sides of the flattened mesh, we need only 1\n",
    "\n",
    "# Annual solar energy output of PV is calculated as follows:\n",
    "# E(kwh) = A*r*H*PR where A = total solar panel area, r = solar panel yield/efficiency, H = Annual average solar radiation, PR = performance ratio\n",
    "# from this site TODO find better source: https://photovoltaic-software.com/principle-ressources/how-calculate-solar-energy-power-pv-systems \n",
    "\n",
    "r = 0.15 # yield/efficiency estimate\n",
    "H = 1050 # to be updated, currently wikipedia estimate. kWh.y\n",
    "PR = 0.75 # default value, estimate performance ratio influenced by shading, temperature, dust etc.\n",
    "PV_req = 20 # kWh/m2/year TODO: change to actual expected value from included colors + find source on this value"
   ]
  },
  {
   "source": [
    "## Objective functions"
   ],
   "cell_type": "markdown",
   "metadata": {}
  },
  {
   "cell_type": "code",
   "execution_count": 4,
   "metadata": {},
   "outputs": [],
   "source": [
    "def FSI_lowres(floors, width, length, plot = plot_area, goal = FSI_req):\n",
    "    FSI = (floors * width * length) / plot\n",
    "    FSI_normalized = 1/(1+(FSI - goal)**2)\n",
    "    if FSI >= goal:\n",
    "        FSI_normalized = 1 # if FSI is more than needed, normalized value is 1\n",
    "    return FSI, FSI_normalized # gives a rough estimate of the FSI, and normalizes this value on 0-1 depending on how close to the goal it is. 1 if it exceeds the goal\n",
    "\n",
    "def PV_lowres(floors, width, length, rotation, goal = PV_req):\n",
    "    A = width * length\n",
    "    E = r * H * PR * A\n",
    "    return PV, PV_normalized"
   ]
  },
  {
   "source": [
    "## Matrices of alternatives - cvxopt version"
   ],
   "cell_type": "markdown",
   "metadata": {}
  },
  {
   "cell_type": "code",
   "execution_count": 5,
   "metadata": {},
   "outputs": [],
   "source": [
    "plot_area = 10000\n",
    "c1 = plot_area # maximum area\n",
    "c2 = r * H * PR # PV yield per m2 roof\n",
    "c3 = 200000.0 # PV goal for a year\n",
    "c4 = 10.0 # floor upper limit\n",
    "c5 = 1.0 # floor lower limit\n",
    "c6 = 100.0 # area lower limit\n",
    "c7 = 5.0 # FSI goal\n",
    "c8 = 50.0 # PV goal per m2 variable\n",
    "\n",
    "def FSI_cvxopt(floors, area): # should calculate same score as CVXOPT does with qp\n",
    "    FSI_score = floors * area * c1**-1 * c7**-1\n",
    "    return FSI_score\n",
    "\n",
    "def PV_cvxopt(area): # should calculate same score as CVXOPT does with qp\n",
    "    PV_score = area * c2 * -c3**-1\n",
    "    return PV_score\n",
    "\n",
    "def FSI_real(floors, area): # should calculate the required FSI normalized score\n",
    "    FSI = (floors * area) / c1\n",
    "    FSI_normalized = 1/(1+(FSI - c7)**2)\n",
    "    return FSI_normalized\n",
    "\n",
    "def PV_real(floors, area):\n",
    "    E = r * H * PR * area\n",
    "    req = c3\n",
    "    PV_normalized = 1/(1+(E - req)**2)\n",
    "    return PV_normalized\n",
    "\n",
    "# -FSI_cvxopt(10, 18000) + PV_cvxopt(18000) # verify if results make sense\n",
    "\n",
    "lst1 = []\n",
    "scale = int(c1/1000)\n",
    "\n",
    "# for i in range(scale):\n",
    "#     for j in range(int(c4)):\n",
    "#         proj_list = []\n",
    "#         FSI_score = FSI_cvxopt(j,i*1000)\n",
    "#         PV_score = PV_cvxopt(i*1000)\n",
    "#         proj_list.append(FSI_score)\n",
    "#         proj_list.append(PV_score)\n",
    "#         lst1.append([FSI_score, PV_score])\n",
    "        # score_total = -FSI_score + PV_score\n",
    "indices1 = []\n",
    "\n",
    "for floors in range(int(c4)):\n",
    "    for area in range(scale):\n",
    "        realfloors = floors+1\n",
    "        realarea = area+1\n",
    "        proj_list = []\n",
    "        FSI_score = FSI_cvxopt(realfloors,realarea*1000)\n",
    "        PV_score = PV_cvxopt(realarea*1000)\n",
    "        proj_list.append(FSI_score)\n",
    "        proj_list.append(PV_score)\n",
    "        lst1.append([FSI_score, PV_score])\n",
    "        indices1.append([realfloors, realarea*1000])"
   ]
  },
  {
   "cell_type": "code",
   "execution_count": 6,
   "metadata": {},
   "outputs": [
    {
     "output_type": "execute_result",
     "data": {
      "text/plain": [
       "[[1, 1000],\n",
       " [1, 2000],\n",
       " [1, 3000],\n",
       " [1, 4000],\n",
       " [1, 5000],\n",
       " [1, 6000],\n",
       " [1, 7000],\n",
       " [1, 8000],\n",
       " [1, 9000],\n",
       " [1, 10000],\n",
       " [2, 1000],\n",
       " [2, 2000],\n",
       " [2, 3000],\n",
       " [2, 4000],\n",
       " [2, 5000],\n",
       " [2, 6000],\n",
       " [2, 7000],\n",
       " [2, 8000],\n",
       " [2, 9000],\n",
       " [2, 10000],\n",
       " [3, 1000],\n",
       " [3, 2000],\n",
       " [3, 3000],\n",
       " [3, 4000],\n",
       " [3, 5000],\n",
       " [3, 6000],\n",
       " [3, 7000],\n",
       " [3, 8000],\n",
       " [3, 9000],\n",
       " [3, 10000],\n",
       " [4, 1000],\n",
       " [4, 2000],\n",
       " [4, 3000],\n",
       " [4, 4000],\n",
       " [4, 5000],\n",
       " [4, 6000],\n",
       " [4, 7000],\n",
       " [4, 8000],\n",
       " [4, 9000],\n",
       " [4, 10000],\n",
       " [5, 1000],\n",
       " [5, 2000],\n",
       " [5, 3000],\n",
       " [5, 4000],\n",
       " [5, 5000],\n",
       " [5, 6000],\n",
       " [5, 7000],\n",
       " [5, 8000],\n",
       " [5, 9000],\n",
       " [5, 10000],\n",
       " [6, 1000],\n",
       " [6, 2000],\n",
       " [6, 3000],\n",
       " [6, 4000],\n",
       " [6, 5000],\n",
       " [6, 6000],\n",
       " [6, 7000],\n",
       " [6, 8000],\n",
       " [6, 9000],\n",
       " [6, 10000],\n",
       " [7, 1000],\n",
       " [7, 2000],\n",
       " [7, 3000],\n",
       " [7, 4000],\n",
       " [7, 5000],\n",
       " [7, 6000],\n",
       " [7, 7000],\n",
       " [7, 8000],\n",
       " [7, 9000],\n",
       " [7, 10000],\n",
       " [8, 1000],\n",
       " [8, 2000],\n",
       " [8, 3000],\n",
       " [8, 4000],\n",
       " [8, 5000],\n",
       " [8, 6000],\n",
       " [8, 7000],\n",
       " [8, 8000],\n",
       " [8, 9000],\n",
       " [8, 10000],\n",
       " [9, 1000],\n",
       " [9, 2000],\n",
       " [9, 3000],\n",
       " [9, 4000],\n",
       " [9, 5000],\n",
       " [9, 6000],\n",
       " [9, 7000],\n",
       " [9, 8000],\n",
       " [9, 9000],\n",
       " [9, 10000],\n",
       " [10, 1000],\n",
       " [10, 2000],\n",
       " [10, 3000],\n",
       " [10, 4000],\n",
       " [10, 5000],\n",
       " [10, 6000],\n",
       " [10, 7000],\n",
       " [10, 8000],\n",
       " [10, 9000],\n",
       " [10, 10000]]"
      ]
     },
     "metadata": {},
     "execution_count": 6
    }
   ],
   "source": [
    "indices1"
   ]
  },
  {
   "cell_type": "code",
   "execution_count": 7,
   "metadata": {},
   "outputs": [
    {
     "output_type": "execute_result",
     "data": {
      "text/plain": [
       "(-5.906250000000001, 2.0)"
      ]
     },
     "metadata": {},
     "execution_count": 7
    }
   ],
   "source": [
    "PV_cvxopt(10000), FSI_cvxopt(10, 10000)"
   ]
  },
  {
   "cell_type": "code",
   "execution_count": 8,
   "metadata": {},
   "outputs": [],
   "source": [
    "data = Data(\n",
    "    # alternative matrix\n",
    "    mtx=lst1,\n",
    "    \n",
    "    # optimal sense\n",
    "    criteria=[max, max],\n",
    "\n",
    "    # names of alternatives and criteria\n",
    "    anames=list(id for id, val in enumerate(lst1)),\n",
    "    cnames=[\"FSI\", \"PV\"]\n",
    ")"
   ]
  },
  {
   "cell_type": "code",
   "execution_count": 9,
   "metadata": {},
   "outputs": [
    {
     "output_type": "execute_result",
     "data": {
      "text/plain": [
       "[[9, 1000],\n",
       " [8, 1000],\n",
       " [1, 2000],\n",
       " [7, 1000],\n",
       " [6, 1000],\n",
       " [5, 1000],\n",
       " [4, 1000],\n",
       " [3, 1000],\n",
       " [2, 1000],\n",
       " [1, 1000]]"
      ]
     },
     "metadata": {},
     "execution_count": 9
    }
   ],
   "source": [
    "dm = simple.WeightedSum()\n",
    "dec = dm.decide(data)\n",
    "\n",
    "arr = np.array(dec.rank_)\n",
    "new = np.argsort(arr)[-10:]\n",
    "myplotlist = [indices1[i] for i in new]\n",
    "myplotlist"
   ]
  },
  {
   "cell_type": "code",
   "execution_count": 10,
   "metadata": {},
   "outputs": [],
   "source": [
    "lst2 = []\n",
    "scale = int(c1/1000)\n",
    "indices2 = []\n",
    "# for i in range(scale):\n",
    "#     for j in range(int(c4)):\n",
    "#         proj_list = []\n",
    "#         FSI_score = FSI_real(j,i*1000)\n",
    "#         PV_score = PV_real(j,i*1000)\n",
    "#         proj_list.append(FSI_score)\n",
    "#         proj_list.append(PV_score)\n",
    "#         lst2.append([FSI_score, PV_score])\n",
    "\n",
    "for floors in range(int(c4)):\n",
    "    for area in range(scale):\n",
    "        realfloors = floors+1\n",
    "        realarea = area+1\n",
    "        proj_list = []\n",
    "        FSI_score = FSI_real(realfloors,realarea*1000)\n",
    "        PV_score = PV_real(realfloors,realarea*1000)\n",
    "        proj_list.append(FSI_score)\n",
    "        proj_list.append(PV_score)\n",
    "        lst2.append([FSI_score, PV_score])\n",
    "        indices2.append([realfloors, realarea*1000])"
   ]
  },
  {
   "cell_type": "code",
   "execution_count": 11,
   "metadata": {},
   "outputs": [],
   "source": [
    "data2 = Data(\n",
    "    # alternative matrix\n",
    "    mtx=lst2,\n",
    "    \n",
    "    # optimal sense\n",
    "    criteria=[max, max],\n",
    "\n",
    "    # names of alternatives and criteria\n",
    "    anames=list(id for id, val in enumerate(lst1)),\n",
    "    cnames=[\"FSI\", \"PV\"]\n",
    ")"
   ]
  },
  {
   "cell_type": "code",
   "execution_count": 12,
   "metadata": {},
   "outputs": [
    {
     "output_type": "execute_result",
     "data": {
      "text/plain": [
       "WeightedSum (mnorm=sum, wnorm=sum) - Solution:\n",
       " ALT./CRIT.    FSI (max)    PV (max)     Rank\n",
       "------------  -----------  -----------  ------\n",
       "     0         0.039984    1.49175e-10    39\n",
       "     1         0.0415973   7.60999e-10    10\n",
       "     2         0.0433088   4.1961e-11     71\n",
       "     3         0.0451264   1.34669e-11    89\n",
       "     4         0.0470588   6.5536e-12     92\n",
       "     5         0.0491159   3.86359e-12    97\n",
       "     6         0.0513084   2.54471e-12    99\n",
       "     7         0.0536481   1.80172e-12    98\n",
       "     8         0.0561482   1.34231e-12    96\n",
       "     9         0.0588235   1.03858e-12    94\n",
       "     10        0.0415973   1.49175e-10    38\n",
       "     11        0.0451264   7.60999e-10    9\n",
       "     12        0.0491159   4.1961e-11     70\n",
       "     13        0.0536481   1.34669e-11    86\n",
       "     14        0.0588235   6.5536e-12     90\n",
       "     15        0.0647668   3.86359e-12    91\n",
       "     16        0.0716332   2.54471e-12    88\n",
       "     17        0.0796178   1.80172e-12    87\n",
       "     18        0.088968    1.34231e-12    84\n",
       "     19           0.1      1.03858e-12    79\n",
       "     20        0.0433088   1.49175e-10    37\n",
       "     21        0.0491159   7.60999e-10    8\n",
       "     22        0.0561482   4.1961e-11     68\n",
       "     23        0.0647668   1.34669e-11    83\n",
       "     24        0.0754717   6.5536e-12     85\n",
       "     25        0.088968    3.86359e-12    81\n",
       "     26         0.10627    2.54471e-12    76\n",
       "     27        0.128866    1.80172e-12    73\n",
       "     28        0.158983    1.34231e-12    66\n",
       "     29           0.2      1.03858e-12    58\n",
       "     30        0.0451264   1.49175e-10    36\n",
       "     31        0.0536481   7.60999e-10    7\n",
       "     32        0.0647668   4.1961e-11     65\n",
       "     33        0.0796178   1.34669e-11    77\n",
       "     34           0.1      6.5536e-12     75\n",
       "     35        0.128866    3.86359e-12    72\n",
       "     36        0.171233    2.54471e-12    61\n",
       "     37        0.235849    1.80172e-12    51\n",
       "     38        0.337838    1.34231e-12    45\n",
       "     39           0.5      1.03858e-12    28\n",
       "     40        0.0470588   1.49175e-10    35\n",
       "     41        0.0588235   7.60999e-10    6\n",
       "     42        0.0754717   4.1961e-11     62\n",
       "     43           0.1      1.34669e-11    74\n",
       "     44        0.137931    6.5536e-12     69\n",
       "     45           0.2      3.86359e-12    54\n",
       "     46        0.307692    2.54471e-12    47\n",
       "     47           0.5      1.80172e-12    27\n",
       "     48           0.8      1.34231e-12    19\n",
       "     49            1       1.03858e-12    12\n",
       "     50        0.0491159   1.49175e-10    34\n",
       "     51        0.0647668   7.60999e-10    5\n",
       "     52        0.088968    4.1961e-11     60\n",
       "     53        0.128866    1.34669e-11    67\n",
       "     54           0.2      6.5536e-12     53\n",
       "     55        0.337838    3.86359e-12    43\n",
       "     56        0.609756    2.54471e-12    23\n",
       "     57        0.961538    1.80172e-12    15\n",
       "     58        0.862069    1.34231e-12    17\n",
       "     59           0.5      1.03858e-12    29\n",
       "     60        0.0513084   1.49175e-10    33\n",
       "     61        0.0716332   7.60999e-10    4\n",
       "     62         0.10627    4.1961e-11     55\n",
       "     63        0.171233    1.34669e-11    57\n",
       "     64        0.307692    6.5536e-12     46\n",
       "     65        0.609756    3.86359e-12    22\n",
       "     66        0.990099    2.54471e-12    13\n",
       "     67        0.735294    1.80172e-12    21\n",
       "     68        0.371747    1.34231e-12    41\n",
       "     69           0.2      1.03858e-12    59\n",
       "     70        0.0536481   1.49175e-10    32\n",
       "     71        0.0796178   7.60999e-10    3\n",
       "     72        0.128866    4.1961e-11     52\n",
       "     73        0.235849    1.34669e-11    49\n",
       "     74           0.5      6.5536e-12     25\n",
       "     75        0.961538    3.86359e-12    14\n",
       "     76        0.735294    2.54471e-12    20\n",
       "     77        0.337838    1.80172e-12    44\n",
       "     78        0.171233    1.34231e-12    64\n",
       "     79           0.1      1.03858e-12    80\n",
       "     80        0.0561482   1.49175e-10    31\n",
       "     81        0.088968    7.60999e-10    2\n",
       "     82        0.158983    4.1961e-11     50\n",
       "     83        0.337838    1.34669e-11    42\n",
       "     84           0.8      6.5536e-12     18\n",
       "     85        0.862069    3.86359e-12    16\n",
       "     86        0.371747    2.54471e-12    40\n",
       "     87        0.171233    1.80172e-12    63\n",
       "     88        0.0942507   1.34231e-12    82\n",
       "     89        0.0588235   1.03858e-12    95\n",
       "     90        0.0588235   1.49175e-10    30\n",
       "     91           0.1      7.60999e-10    1\n",
       "     92           0.2      4.1961e-11     48\n",
       "     93           0.5      1.34669e-11    24\n",
       "     94            1       6.5536e-12     11\n",
       "     95           0.5      3.86359e-12    26\n",
       "     96           0.2      2.54471e-12    56\n",
       "     97           0.1      1.80172e-12    78\n",
       "     98        0.0588235   1.34231e-12    93\n",
       "     99        0.0384615   1.03858e-12   100"
      ],
      "text/html": "<div id='dec-ac385192-8c2c-11eb-9b6f-1062e58785d7'><p><b>WeightedSum (mnorm=sum, wnorm=sum) - Solution:</b></p><table>\n<thead>\n<tr><th style=\"text-align: center;\"> ALT./CRIT. </th><th style=\"text-align: center;\"> FSI (max) </th><th style=\"text-align: center;\"> PV (max)  </th><th style=\"text-align: center;\"> Rank </th></tr>\n</thead>\n<tbody>\n<tr><td style=\"text-align: center;\">     0      </td><td style=\"text-align: center;\"> 0.039984  </td><td style=\"text-align: center;\">1.49175e-10</td><td style=\"text-align: center;\">  39  </td></tr>\n<tr><td style=\"text-align: center;\">     1      </td><td style=\"text-align: center;\"> 0.0415973 </td><td style=\"text-align: center;\">7.60999e-10</td><td style=\"text-align: center;\">  10  </td></tr>\n<tr><td style=\"text-align: center;\">     2      </td><td style=\"text-align: center;\"> 0.0433088 </td><td style=\"text-align: center;\">4.1961e-11 </td><td style=\"text-align: center;\">  71  </td></tr>\n<tr><td style=\"text-align: center;\">     3      </td><td style=\"text-align: center;\"> 0.0451264 </td><td style=\"text-align: center;\">1.34669e-11</td><td style=\"text-align: center;\">  89  </td></tr>\n<tr><td style=\"text-align: center;\">     4      </td><td style=\"text-align: center;\"> 0.0470588 </td><td style=\"text-align: center;\">6.5536e-12 </td><td style=\"text-align: center;\">  92  </td></tr>\n<tr><td style=\"text-align: center;\">     5      </td><td style=\"text-align: center;\"> 0.0491159 </td><td style=\"text-align: center;\">3.86359e-12</td><td style=\"text-align: center;\">  97  </td></tr>\n<tr><td style=\"text-align: center;\">     6      </td><td style=\"text-align: center;\"> 0.0513084 </td><td style=\"text-align: center;\">2.54471e-12</td><td style=\"text-align: center;\">  99  </td></tr>\n<tr><td style=\"text-align: center;\">     7      </td><td style=\"text-align: center;\"> 0.0536481 </td><td style=\"text-align: center;\">1.80172e-12</td><td style=\"text-align: center;\">  98  </td></tr>\n<tr><td style=\"text-align: center;\">     8      </td><td style=\"text-align: center;\"> 0.0561482 </td><td style=\"text-align: center;\">1.34231e-12</td><td style=\"text-align: center;\">  96  </td></tr>\n<tr><td style=\"text-align: center;\">     9      </td><td style=\"text-align: center;\"> 0.0588235 </td><td style=\"text-align: center;\">1.03858e-12</td><td style=\"text-align: center;\">  94  </td></tr>\n<tr><td style=\"text-align: center;\">     10     </td><td style=\"text-align: center;\"> 0.0415973 </td><td style=\"text-align: center;\">1.49175e-10</td><td style=\"text-align: center;\">  38  </td></tr>\n<tr><td style=\"text-align: center;\">     11     </td><td style=\"text-align: center;\"> 0.0451264 </td><td style=\"text-align: center;\">7.60999e-10</td><td style=\"text-align: center;\">  9   </td></tr>\n<tr><td style=\"text-align: center;\">     12     </td><td style=\"text-align: center;\"> 0.0491159 </td><td style=\"text-align: center;\">4.1961e-11 </td><td style=\"text-align: center;\">  70  </td></tr>\n<tr><td style=\"text-align: center;\">     13     </td><td style=\"text-align: center;\"> 0.0536481 </td><td style=\"text-align: center;\">1.34669e-11</td><td style=\"text-align: center;\">  86  </td></tr>\n<tr><td style=\"text-align: center;\">     14     </td><td style=\"text-align: center;\"> 0.0588235 </td><td style=\"text-align: center;\">6.5536e-12 </td><td style=\"text-align: center;\">  90  </td></tr>\n<tr><td style=\"text-align: center;\">     15     </td><td style=\"text-align: center;\"> 0.0647668 </td><td style=\"text-align: center;\">3.86359e-12</td><td style=\"text-align: center;\">  91  </td></tr>\n<tr><td style=\"text-align: center;\">     16     </td><td style=\"text-align: center;\"> 0.0716332 </td><td style=\"text-align: center;\">2.54471e-12</td><td style=\"text-align: center;\">  88  </td></tr>\n<tr><td style=\"text-align: center;\">     17     </td><td style=\"text-align: center;\"> 0.0796178 </td><td style=\"text-align: center;\">1.80172e-12</td><td style=\"text-align: center;\">  87  </td></tr>\n<tr><td style=\"text-align: center;\">     18     </td><td style=\"text-align: center;\"> 0.088968  </td><td style=\"text-align: center;\">1.34231e-12</td><td style=\"text-align: center;\">  84  </td></tr>\n<tr><td style=\"text-align: center;\">     19     </td><td style=\"text-align: center;\">    0.1    </td><td style=\"text-align: center;\">1.03858e-12</td><td style=\"text-align: center;\">  79  </td></tr>\n<tr><td style=\"text-align: center;\">     20     </td><td style=\"text-align: center;\"> 0.0433088 </td><td style=\"text-align: center;\">1.49175e-10</td><td style=\"text-align: center;\">  37  </td></tr>\n<tr><td style=\"text-align: center;\">     21     </td><td style=\"text-align: center;\"> 0.0491159 </td><td style=\"text-align: center;\">7.60999e-10</td><td style=\"text-align: center;\">  8   </td></tr>\n<tr><td style=\"text-align: center;\">     22     </td><td style=\"text-align: center;\"> 0.0561482 </td><td style=\"text-align: center;\">4.1961e-11 </td><td style=\"text-align: center;\">  68  </td></tr>\n<tr><td style=\"text-align: center;\">     23     </td><td style=\"text-align: center;\"> 0.0647668 </td><td style=\"text-align: center;\">1.34669e-11</td><td style=\"text-align: center;\">  83  </td></tr>\n<tr><td style=\"text-align: center;\">     24     </td><td style=\"text-align: center;\"> 0.0754717 </td><td style=\"text-align: center;\">6.5536e-12 </td><td style=\"text-align: center;\">  85  </td></tr>\n<tr><td style=\"text-align: center;\">     25     </td><td style=\"text-align: center;\"> 0.088968  </td><td style=\"text-align: center;\">3.86359e-12</td><td style=\"text-align: center;\">  81  </td></tr>\n<tr><td style=\"text-align: center;\">     26     </td><td style=\"text-align: center;\">  0.10627  </td><td style=\"text-align: center;\">2.54471e-12</td><td style=\"text-align: center;\">  76  </td></tr>\n<tr><td style=\"text-align: center;\">     27     </td><td style=\"text-align: center;\"> 0.128866  </td><td style=\"text-align: center;\">1.80172e-12</td><td style=\"text-align: center;\">  73  </td></tr>\n<tr><td style=\"text-align: center;\">     28     </td><td style=\"text-align: center;\"> 0.158983  </td><td style=\"text-align: center;\">1.34231e-12</td><td style=\"text-align: center;\">  66  </td></tr>\n<tr><td style=\"text-align: center;\">     29     </td><td style=\"text-align: center;\">    0.2    </td><td style=\"text-align: center;\">1.03858e-12</td><td style=\"text-align: center;\">  58  </td></tr>\n<tr><td style=\"text-align: center;\">     30     </td><td style=\"text-align: center;\"> 0.0451264 </td><td style=\"text-align: center;\">1.49175e-10</td><td style=\"text-align: center;\">  36  </td></tr>\n<tr><td style=\"text-align: center;\">     31     </td><td style=\"text-align: center;\"> 0.0536481 </td><td style=\"text-align: center;\">7.60999e-10</td><td style=\"text-align: center;\">  7   </td></tr>\n<tr><td style=\"text-align: center;\">     32     </td><td style=\"text-align: center;\"> 0.0647668 </td><td style=\"text-align: center;\">4.1961e-11 </td><td style=\"text-align: center;\">  65  </td></tr>\n<tr><td style=\"text-align: center;\">     33     </td><td style=\"text-align: center;\"> 0.0796178 </td><td style=\"text-align: center;\">1.34669e-11</td><td style=\"text-align: center;\">  77  </td></tr>\n<tr><td style=\"text-align: center;\">     34     </td><td style=\"text-align: center;\">    0.1    </td><td style=\"text-align: center;\">6.5536e-12 </td><td style=\"text-align: center;\">  75  </td></tr>\n<tr><td style=\"text-align: center;\">     35     </td><td style=\"text-align: center;\"> 0.128866  </td><td style=\"text-align: center;\">3.86359e-12</td><td style=\"text-align: center;\">  72  </td></tr>\n<tr><td style=\"text-align: center;\">     36     </td><td style=\"text-align: center;\"> 0.171233  </td><td style=\"text-align: center;\">2.54471e-12</td><td style=\"text-align: center;\">  61  </td></tr>\n<tr><td style=\"text-align: center;\">     37     </td><td style=\"text-align: center;\"> 0.235849  </td><td style=\"text-align: center;\">1.80172e-12</td><td style=\"text-align: center;\">  51  </td></tr>\n<tr><td style=\"text-align: center;\">     38     </td><td style=\"text-align: center;\"> 0.337838  </td><td style=\"text-align: center;\">1.34231e-12</td><td style=\"text-align: center;\">  45  </td></tr>\n<tr><td style=\"text-align: center;\">     39     </td><td style=\"text-align: center;\">    0.5    </td><td style=\"text-align: center;\">1.03858e-12</td><td style=\"text-align: center;\">  28  </td></tr>\n<tr><td style=\"text-align: center;\">     40     </td><td style=\"text-align: center;\"> 0.0470588 </td><td style=\"text-align: center;\">1.49175e-10</td><td style=\"text-align: center;\">  35  </td></tr>\n<tr><td style=\"text-align: center;\">     41     </td><td style=\"text-align: center;\"> 0.0588235 </td><td style=\"text-align: center;\">7.60999e-10</td><td style=\"text-align: center;\">  6   </td></tr>\n<tr><td style=\"text-align: center;\">     42     </td><td style=\"text-align: center;\"> 0.0754717 </td><td style=\"text-align: center;\">4.1961e-11 </td><td style=\"text-align: center;\">  62  </td></tr>\n<tr><td style=\"text-align: center;\">     43     </td><td style=\"text-align: center;\">    0.1    </td><td style=\"text-align: center;\">1.34669e-11</td><td style=\"text-align: center;\">  74  </td></tr>\n<tr><td style=\"text-align: center;\">     44     </td><td style=\"text-align: center;\"> 0.137931  </td><td style=\"text-align: center;\">6.5536e-12 </td><td style=\"text-align: center;\">  69  </td></tr>\n<tr><td style=\"text-align: center;\">     45     </td><td style=\"text-align: center;\">    0.2    </td><td style=\"text-align: center;\">3.86359e-12</td><td style=\"text-align: center;\">  54  </td></tr>\n<tr><td style=\"text-align: center;\">     46     </td><td style=\"text-align: center;\"> 0.307692  </td><td style=\"text-align: center;\">2.54471e-12</td><td style=\"text-align: center;\">  47  </td></tr>\n<tr><td style=\"text-align: center;\">     47     </td><td style=\"text-align: center;\">    0.5    </td><td style=\"text-align: center;\">1.80172e-12</td><td style=\"text-align: center;\">  27  </td></tr>\n<tr><td style=\"text-align: center;\">     48     </td><td style=\"text-align: center;\">    0.8    </td><td style=\"text-align: center;\">1.34231e-12</td><td style=\"text-align: center;\">  19  </td></tr>\n<tr><td style=\"text-align: center;\">     49     </td><td style=\"text-align: center;\">     1     </td><td style=\"text-align: center;\">1.03858e-12</td><td style=\"text-align: center;\">  12  </td></tr>\n<tr><td style=\"text-align: center;\">     50     </td><td style=\"text-align: center;\"> 0.0491159 </td><td style=\"text-align: center;\">1.49175e-10</td><td style=\"text-align: center;\">  34  </td></tr>\n<tr><td style=\"text-align: center;\">     51     </td><td style=\"text-align: center;\"> 0.0647668 </td><td style=\"text-align: center;\">7.60999e-10</td><td style=\"text-align: center;\">  5   </td></tr>\n<tr><td style=\"text-align: center;\">     52     </td><td style=\"text-align: center;\"> 0.088968  </td><td style=\"text-align: center;\">4.1961e-11 </td><td style=\"text-align: center;\">  60  </td></tr>\n<tr><td style=\"text-align: center;\">     53     </td><td style=\"text-align: center;\"> 0.128866  </td><td style=\"text-align: center;\">1.34669e-11</td><td style=\"text-align: center;\">  67  </td></tr>\n<tr><td style=\"text-align: center;\">     54     </td><td style=\"text-align: center;\">    0.2    </td><td style=\"text-align: center;\">6.5536e-12 </td><td style=\"text-align: center;\">  53  </td></tr>\n<tr><td style=\"text-align: center;\">     55     </td><td style=\"text-align: center;\"> 0.337838  </td><td style=\"text-align: center;\">3.86359e-12</td><td style=\"text-align: center;\">  43  </td></tr>\n<tr><td style=\"text-align: center;\">     56     </td><td style=\"text-align: center;\"> 0.609756  </td><td style=\"text-align: center;\">2.54471e-12</td><td style=\"text-align: center;\">  23  </td></tr>\n<tr><td style=\"text-align: center;\">     57     </td><td style=\"text-align: center;\"> 0.961538  </td><td style=\"text-align: center;\">1.80172e-12</td><td style=\"text-align: center;\">  15  </td></tr>\n<tr><td style=\"text-align: center;\">     58     </td><td style=\"text-align: center;\"> 0.862069  </td><td style=\"text-align: center;\">1.34231e-12</td><td style=\"text-align: center;\">  17  </td></tr>\n<tr><td style=\"text-align: center;\">     59     </td><td style=\"text-align: center;\">    0.5    </td><td style=\"text-align: center;\">1.03858e-12</td><td style=\"text-align: center;\">  29  </td></tr>\n<tr><td style=\"text-align: center;\">     60     </td><td style=\"text-align: center;\"> 0.0513084 </td><td style=\"text-align: center;\">1.49175e-10</td><td style=\"text-align: center;\">  33  </td></tr>\n<tr><td style=\"text-align: center;\">     61     </td><td style=\"text-align: center;\"> 0.0716332 </td><td style=\"text-align: center;\">7.60999e-10</td><td style=\"text-align: center;\">  4   </td></tr>\n<tr><td style=\"text-align: center;\">     62     </td><td style=\"text-align: center;\">  0.10627  </td><td style=\"text-align: center;\">4.1961e-11 </td><td style=\"text-align: center;\">  55  </td></tr>\n<tr><td style=\"text-align: center;\">     63     </td><td style=\"text-align: center;\"> 0.171233  </td><td style=\"text-align: center;\">1.34669e-11</td><td style=\"text-align: center;\">  57  </td></tr>\n<tr><td style=\"text-align: center;\">     64     </td><td style=\"text-align: center;\"> 0.307692  </td><td style=\"text-align: center;\">6.5536e-12 </td><td style=\"text-align: center;\">  46  </td></tr>\n<tr><td style=\"text-align: center;\">     65     </td><td style=\"text-align: center;\"> 0.609756  </td><td style=\"text-align: center;\">3.86359e-12</td><td style=\"text-align: center;\">  22  </td></tr>\n<tr><td style=\"text-align: center;\">     66     </td><td style=\"text-align: center;\"> 0.990099  </td><td style=\"text-align: center;\">2.54471e-12</td><td style=\"text-align: center;\">  13  </td></tr>\n<tr><td style=\"text-align: center;\">     67     </td><td style=\"text-align: center;\"> 0.735294  </td><td style=\"text-align: center;\">1.80172e-12</td><td style=\"text-align: center;\">  21  </td></tr>\n<tr><td style=\"text-align: center;\">     68     </td><td style=\"text-align: center;\"> 0.371747  </td><td style=\"text-align: center;\">1.34231e-12</td><td style=\"text-align: center;\">  41  </td></tr>\n<tr><td style=\"text-align: center;\">     69     </td><td style=\"text-align: center;\">    0.2    </td><td style=\"text-align: center;\">1.03858e-12</td><td style=\"text-align: center;\">  59  </td></tr>\n<tr><td style=\"text-align: center;\">     70     </td><td style=\"text-align: center;\"> 0.0536481 </td><td style=\"text-align: center;\">1.49175e-10</td><td style=\"text-align: center;\">  32  </td></tr>\n<tr><td style=\"text-align: center;\">     71     </td><td style=\"text-align: center;\"> 0.0796178 </td><td style=\"text-align: center;\">7.60999e-10</td><td style=\"text-align: center;\">  3   </td></tr>\n<tr><td style=\"text-align: center;\">     72     </td><td style=\"text-align: center;\"> 0.128866  </td><td style=\"text-align: center;\">4.1961e-11 </td><td style=\"text-align: center;\">  52  </td></tr>\n<tr><td style=\"text-align: center;\">     73     </td><td style=\"text-align: center;\"> 0.235849  </td><td style=\"text-align: center;\">1.34669e-11</td><td style=\"text-align: center;\">  49  </td></tr>\n<tr><td style=\"text-align: center;\">     74     </td><td style=\"text-align: center;\">    0.5    </td><td style=\"text-align: center;\">6.5536e-12 </td><td style=\"text-align: center;\">  25  </td></tr>\n<tr><td style=\"text-align: center;\">     75     </td><td style=\"text-align: center;\"> 0.961538  </td><td style=\"text-align: center;\">3.86359e-12</td><td style=\"text-align: center;\">  14  </td></tr>\n<tr><td style=\"text-align: center;\">     76     </td><td style=\"text-align: center;\"> 0.735294  </td><td style=\"text-align: center;\">2.54471e-12</td><td style=\"text-align: center;\">  20  </td></tr>\n<tr><td style=\"text-align: center;\">     77     </td><td style=\"text-align: center;\"> 0.337838  </td><td style=\"text-align: center;\">1.80172e-12</td><td style=\"text-align: center;\">  44  </td></tr>\n<tr><td style=\"text-align: center;\">     78     </td><td style=\"text-align: center;\"> 0.171233  </td><td style=\"text-align: center;\">1.34231e-12</td><td style=\"text-align: center;\">  64  </td></tr>\n<tr><td style=\"text-align: center;\">     79     </td><td style=\"text-align: center;\">    0.1    </td><td style=\"text-align: center;\">1.03858e-12</td><td style=\"text-align: center;\">  80  </td></tr>\n<tr><td style=\"text-align: center;\">     80     </td><td style=\"text-align: center;\"> 0.0561482 </td><td style=\"text-align: center;\">1.49175e-10</td><td style=\"text-align: center;\">  31  </td></tr>\n<tr><td style=\"text-align: center;\">     81     </td><td style=\"text-align: center;\"> 0.088968  </td><td style=\"text-align: center;\">7.60999e-10</td><td style=\"text-align: center;\">  2   </td></tr>\n<tr><td style=\"text-align: center;\">     82     </td><td style=\"text-align: center;\"> 0.158983  </td><td style=\"text-align: center;\">4.1961e-11 </td><td style=\"text-align: center;\">  50  </td></tr>\n<tr><td style=\"text-align: center;\">     83     </td><td style=\"text-align: center;\"> 0.337838  </td><td style=\"text-align: center;\">1.34669e-11</td><td style=\"text-align: center;\">  42  </td></tr>\n<tr><td style=\"text-align: center;\">     84     </td><td style=\"text-align: center;\">    0.8    </td><td style=\"text-align: center;\">6.5536e-12 </td><td style=\"text-align: center;\">  18  </td></tr>\n<tr><td style=\"text-align: center;\">     85     </td><td style=\"text-align: center;\"> 0.862069  </td><td style=\"text-align: center;\">3.86359e-12</td><td style=\"text-align: center;\">  16  </td></tr>\n<tr><td style=\"text-align: center;\">     86     </td><td style=\"text-align: center;\"> 0.371747  </td><td style=\"text-align: center;\">2.54471e-12</td><td style=\"text-align: center;\">  40  </td></tr>\n<tr><td style=\"text-align: center;\">     87     </td><td style=\"text-align: center;\"> 0.171233  </td><td style=\"text-align: center;\">1.80172e-12</td><td style=\"text-align: center;\">  63  </td></tr>\n<tr><td style=\"text-align: center;\">     88     </td><td style=\"text-align: center;\"> 0.0942507 </td><td style=\"text-align: center;\">1.34231e-12</td><td style=\"text-align: center;\">  82  </td></tr>\n<tr><td style=\"text-align: center;\">     89     </td><td style=\"text-align: center;\"> 0.0588235 </td><td style=\"text-align: center;\">1.03858e-12</td><td style=\"text-align: center;\">  95  </td></tr>\n<tr><td style=\"text-align: center;\">     90     </td><td style=\"text-align: center;\"> 0.0588235 </td><td style=\"text-align: center;\">1.49175e-10</td><td style=\"text-align: center;\">  30  </td></tr>\n<tr><td style=\"text-align: center;\">     91     </td><td style=\"text-align: center;\">    0.1    </td><td style=\"text-align: center;\">7.60999e-10</td><td style=\"text-align: center;\">  1   </td></tr>\n<tr><td style=\"text-align: center;\">     92     </td><td style=\"text-align: center;\">    0.2    </td><td style=\"text-align: center;\">4.1961e-11 </td><td style=\"text-align: center;\">  48  </td></tr>\n<tr><td style=\"text-align: center;\">     93     </td><td style=\"text-align: center;\">    0.5    </td><td style=\"text-align: center;\">1.34669e-11</td><td style=\"text-align: center;\">  24  </td></tr>\n<tr><td style=\"text-align: center;\">     94     </td><td style=\"text-align: center;\">     1     </td><td style=\"text-align: center;\">6.5536e-12 </td><td style=\"text-align: center;\">  11  </td></tr>\n<tr><td style=\"text-align: center;\">     95     </td><td style=\"text-align: center;\">    0.5    </td><td style=\"text-align: center;\">3.86359e-12</td><td style=\"text-align: center;\">  26  </td></tr>\n<tr><td style=\"text-align: center;\">     96     </td><td style=\"text-align: center;\">    0.2    </td><td style=\"text-align: center;\">2.54471e-12</td><td style=\"text-align: center;\">  56  </td></tr>\n<tr><td style=\"text-align: center;\">     97     </td><td style=\"text-align: center;\">    0.1    </td><td style=\"text-align: center;\">1.80172e-12</td><td style=\"text-align: center;\">  78  </td></tr>\n<tr><td style=\"text-align: center;\">     98     </td><td style=\"text-align: center;\"> 0.0588235 </td><td style=\"text-align: center;\">1.34231e-12</td><td style=\"text-align: center;\">  93  </td></tr>\n<tr><td style=\"text-align: center;\">     99     </td><td style=\"text-align: center;\"> 0.0384615 </td><td style=\"text-align: center;\">1.03858e-12</td><td style=\"text-align: center;\"> 100  </td></tr>\n</tbody>\n</table></div>"
     },
     "metadata": {},
     "execution_count": 12
    }
   ],
   "source": [
    "dm = simple.WeightedSum()\n",
    "dec = dm.decide(data2)\n",
    "dec"
   ]
  },
  {
   "cell_type": "code",
   "execution_count": 13,
   "metadata": {},
   "outputs": [
    {
     "output_type": "execute_result",
     "data": {
      "text/plain": [
       "[[2, 6000],\n",
       " [1, 5000],\n",
       " [10, 9000],\n",
       " [1, 10000],\n",
       " [9, 10000],\n",
       " [1, 9000],\n",
       " [1, 6000],\n",
       " [1, 8000],\n",
       " [1, 7000],\n",
       " [10, 10000]]"
      ]
     },
     "metadata": {},
     "execution_count": 13
    }
   ],
   "source": [
    "arr = np.array(dec.rank_)\n",
    "new = np.argsort(arr)[-10:]\n",
    "myplotlist = [indices1[i] for i in new]\n",
    "myplotlist"
   ]
  },
  {
   "cell_type": "code",
   "execution_count": 36,
   "metadata": {},
   "outputs": [
    {
     "output_type": "execute_result",
     "data": {
      "text/plain": [
       "<module 'matplotlib.pyplot' from 'C:\\\\Users\\\\maxke\\\\.conda\\\\envs\\\\thesis\\\\lib\\\\site-packages\\\\matplotlib\\\\pyplot.py'>"
      ]
     },
     "metadata": {},
     "execution_count": 36
    }
   ],
   "source": [
    "lala = np.array(myplotlist)\n",
    "lulu = lala.transpose()\n",
    "\n",
    "x = lulu[0]\n",
    "y = lulu[1]\n",
    "\n",
    "plt.plot(x, y, 'o', color='blue');\n",
    "plt"
   ]
  },
  {
   "cell_type": "code",
   "execution_count": null,
   "metadata": {},
   "outputs": [],
   "source": []
  }
 ]
}