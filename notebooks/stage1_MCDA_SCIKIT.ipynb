{
 "metadata": {
  "language_info": {
   "codemirror_mode": {
    "name": "ipython",
    "version": 3
   },
   "file_extension": ".py",
   "mimetype": "text/x-python",
   "name": "python",
   "nbconvert_exporter": "python",
   "pygments_lexer": "ipython3",
   "version": "3.8.5-final"
  },
  "orig_nbformat": 2,
  "kernelspec": {
   "name": "python3",
   "display_name": "Python 3.8.5 64-bit ('thesis': conda)",
   "metadata": {
    "interpreter": {
     "hash": "605f37378f8decd54729b74730590eb2917d207ad05faa9b102943824fde243c"
    }
   }
  }
 },
 "nbformat": 4,
 "nbformat_minor": 2,
 "cells": [
  {
   "source": [
    "## Import"
   ],
   "cell_type": "markdown",
   "metadata": {}
  },
  {
   "cell_type": "code",
   "execution_count": 1,
   "metadata": {},
   "outputs": [],
   "source": [
    "import trimesh as tm\n",
    "import topogenesis as tg\n",
    "\n",
    "import os\n",
    "import math\n",
    "\n"
   ]
  },
  {
   "source": [
    "## Loading context"
   ],
   "cell_type": "markdown",
   "metadata": {}
  },
  {
   "cell_type": "code",
   "execution_count": 2,
   "metadata": {},
   "outputs": [],
   "source": [
    "path = os.path.relpath('../data/my_envelope.obj') # building outer boundaries file path\n",
    "buildingplot = tm.load(path) # load specified building boundary mesh (footprint extruded to max height TODO: will be USER INPUT)"
   ]
  },
  {
   "source": [
    "## Presets"
   ],
   "cell_type": "markdown",
   "metadata": {}
  },
  {
   "cell_type": "code",
   "execution_count": 3,
   "metadata": {},
   "outputs": [],
   "source": [
    "vox_size = 10\n",
    "fh = 3.6 # floor height\n",
    "FSI_req = 4 # goal for the FSI TODO: USER INPUT\n",
    "\n",
    "max_extents_height = abs(buildingplot.bounds[0][2]) + abs(buildingplot.bounds[1][2])\n",
    "max_extents_width = abs(buildingplot.bounds[0][0]) + abs(buildingplot.bounds[1][0])\n",
    "max_extents_length = abs(buildingplot.bounds[0][1]) + abs(buildingplot.bounds[1][1])\n",
    "\n",
    "base = buildingplot.apply_transform(tm.transformations.projection_matrix((0,0,0), (0,0,-1))) # project mesh on z plane to get footprint <-- TODO: easier way?\n",
    "plot_area = base.area/2 # area calculates both sides of the flattened mesh, we need only 1\n",
    "\n",
    "# Annual solar energy output of PV is calculated as follows:\n",
    "# E(kwh) = A*r*H*PR where A = total solar panel area, r = solar panel yield/efficiency, H = Annual average solar radiation, PR = performance ratio\n",
    "# from this site TODO find better source: https://photovoltaic-software.com/principle-ressources/how-calculate-solar-energy-power-pv-systems \n",
    "\n",
    "r = 0.15 # yield/efficiency estimate\n",
    "H = 1050 # to be updated, currently wikipedia estimate. kWh.y\n",
    "PR = 0.75 # default value, estimate performance ratio influenced by shading, temperature, dust etc.\n",
    "PV_req = 20 # kWh/m2/year TODO: change to actual expected value from included colors + find source on this value"
   ]
  },
  {
   "source": [
    "## Objective functions"
   ],
   "cell_type": "markdown",
   "metadata": {}
  },
  {
   "cell_type": "code",
   "execution_count": 4,
   "metadata": {},
   "outputs": [],
   "source": [
    "def FSI_lowres(floors, width, length, plot = plot_area, goal = FSI_req):\n",
    "    FSI = (floors * width * length) / plot\n",
    "    FSI_normalized = 1/(1+(FSI - goal)**2)\n",
    "    if FSI >= goal:\n",
    "        FSI_normalized = 1 # if FSI is more than needed, normalized value is 1\n",
    "    return FSI, FSI_normalized # gives a rough estimate of the FSI, and normalizes this value on 0-1 depending on how close to the goal it is. 1 if it exceeds the goal\n",
    "\n",
    "def PV_lowres(floors, width, length, rotation, goal = PV_req):\n",
    "    A = width * length\n",
    "    E = r * H * PR * A\n",
    "    return PV, PV_normalized"
   ]
  },
  {
   "source": [
    "## Matrices of alternatives"
   ],
   "cell_type": "markdown",
   "metadata": {}
  },
  {
   "cell_type": "code",
   "execution_count": null,
   "metadata": {},
   "outputs": [],
   "source": []
  }
 ]
}