{
 "metadata": {
  "language_info": {
   "codemirror_mode": {
    "name": "ipython",
    "version": 3
   },
   "file_extension": ".py",
   "mimetype": "text/x-python",
   "name": "python",
   "nbconvert_exporter": "python",
   "pygments_lexer": "ipython3",
   "version": "3.8.5-final"
  },
  "orig_nbformat": 2,
  "kernelspec": {
   "name": "python3",
   "display_name": "Python 3.8.5 64-bit ('thesis': conda)",
   "metadata": {
    "interpreter": {
     "hash": "605f37378f8decd54729b74730590eb2917d207ad05faa9b102943824fde243c"
    }
   }
  }
 },
 "nbformat": 4,
 "nbformat_minor": 2,
 "cells": [
  {
   "cell_type": "code",
   "execution_count": 1,
   "metadata": {},
   "outputs": [],
   "source": [
    "import trimesh as tm\n",
    "import os\n",
    "import pyvista as pv\n",
    "import numpy as np\n",
    "import topogenesis as tg"
   ]
  },
  {
   "cell_type": "code",
   "execution_count": 2,
   "metadata": {},
   "outputs": [],
   "source": [
    "\n",
    "lattice_path = os.path.relpath(\"../data/voxelized_envelope.csv\")\n",
    "occ_lattice = tg.lattice_from_csv(lattice_path) # the current occupation lattice\n",
    "\n",
    "path = os.path.relpath('../data/my_envelope.obj') # building outer boundaries file path\n",
    "buildingplot = tm.load(path) # load specified building boundary mesh (footprint extruded to max height, USER INPUT)"
   ]
  },
  {
   "cell_type": "code",
   "execution_count": 32,
   "metadata": {},
   "outputs": [
    {
     "output_type": "execute_result",
     "data": {
      "text/plain": [
       "array([[2, 0, 1],\n",
       "       [5, 3, 4],\n",
       "       [8, 6, 7]])"
      ]
     },
     "metadata": {},
     "execution_count": 32
    }
   ],
   "source": [
    "simple_array = np.arange(9).reshape(3,3)\n",
    "np.roll(simple_array, (0,1), (0,1))"
   ]
  },
  {
   "cell_type": "code",
   "execution_count": 13,
   "metadata": {},
   "outputs": [],
   "source": [
    "occ_shifted_down = np.roll(occ_lattice, (0,0,-1), (0,1,2))\n",
    "roof_mask = (occ_lattice == True)*(occ_shifted_down==False)\n",
    "roof_mask_lattice = tg.to_lattice(roof_mask, occ_lattice)"
   ]
  },
  {
   "cell_type": "code",
   "execution_count": 29,
   "metadata": {},
   "outputs": [
    {
     "output_type": "execute_result",
     "data": {
      "text/plain": [
       "stencil([[[0, 0, 0],\n",
       "          [0, 1, 0],\n",
       "          [0, 0, 0]],\n",
       "\n",
       "         [[0, 1, 0],\n",
       "          [1, 0, 1],\n",
       "          [0, 1, 0]],\n",
       "\n",
       "         [[0, 0, 0],\n",
       "          [0, 1, 0],\n",
       "          [0, 0, 0]]])"
      ]
     },
     "metadata": {},
     "execution_count": 29
    }
   ],
   "source": [
    "# create a step one moore neighbourhood\n",
    "s_vn = tg.create_stencil(\"von_neumann\", 1)\n",
    "\n",
    "# set the center to 0\n",
    "s_vn.set_index([0, 0, 0], 0)\n",
    "\n",
    "# assign the sum function\n",
    "s_vn.function = tg.sfunc.sum  # np.sum\n",
    "\n",
    "s_vn"
   ]
  },
  {
   "cell_type": "code",
   "execution_count": 23,
   "metadata": {},
   "outputs": [],
   "source": [
    "occ_neigh_sum = occ_lattice.apply_stencil(s_vn)\n",
    "corner_mask = occ_neigh_sum * occ_lattice == 3\n",
    "corner_mask_lattice  = tg.to_lattice(corner_mask, occ_lattice)"
   ]
  },
  {
   "cell_type": "code",
   "execution_count": 31,
   "metadata": {},
   "outputs": [
    {
     "output_type": "display_data",
     "data": {
      "text/plain": "ViewInteractiveWidget(height=768, layout=Layout(height='auto', width='100%'), width=1024)",
      "application/vnd.jupyter.widget-view+json": {
       "version_major": 2,
       "version_minor": 0,
       "model_id": "e64a105db65b424f80b3638aa153a3ce"
      }
     },
     "metadata": {}
    },
    {
     "output_type": "execute_result",
     "data": {
      "text/plain": [
       "[(285.89291929890817, 200.89291929890814, 270.89291929890817),\n",
       " (35.0, -50.0, 20.0),\n",
       " (0.0, 0.0, 1.0)]"
      ]
     },
     "metadata": {},
     "execution_count": 31
    }
   ],
   "source": [
    "# convert to trimesh definition, taken from spatial computing workshop\n",
    "def tri_to_pv(tri_mesh):\n",
    "    faces = np.pad(tri_mesh.faces, ((0, 0),(1,0)), 'constant', constant_values=3)\n",
    "    pv_mesh = pv.PolyData(tri_mesh.vertices, faces)\n",
    "    return pv_mesh\n",
    "\n",
    "# Visualize the mesh using pyvista plotter\n",
    "\n",
    "# initiating the plotter\n",
    "p = pv.Plotter(notebook=True)\n",
    "\n",
    "occ_lattice.fast_vis(p)\n",
    "# adding the base mesh: light blue\n",
    "#p.add_mesh(tri_to_pv(context), color='#abd8ff')\n",
    "\n",
    "# plotting\n",
    "p.show(use_ipyvtk=True)"
   ]
  },
  {
   "cell_type": "code",
   "execution_count": null,
   "metadata": {},
   "outputs": [],
   "source": []
  }
 ]
}