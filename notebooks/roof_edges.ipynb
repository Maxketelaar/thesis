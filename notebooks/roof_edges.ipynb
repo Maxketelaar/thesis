{
 "cells": [
  {
   "cell_type": "markdown",
   "metadata": {},
   "source": [
    "### 1.0 import libraries"
   ]
  },
  {
   "cell_type": "code",
   "execution_count": 1,
   "metadata": {},
   "outputs": [],
   "source": [
    "import os\n",
    "import random\n",
    "\n",
    "import pyvista as pv\n",
    "import trimesh as tm\n",
    "import numpy as np\n",
    "import topogenesis as tg"
   ]
  },
  {
   "cell_type": "markdown",
   "metadata": {},
   "source": [
    "### 1.1 load macrovoxels"
   ]
  },
  {
   "cell_type": "code",
   "execution_count": 2,
   "metadata": {},
   "outputs": [],
   "source": [
    "# load lattice CSV file\n",
    "lattice_path = os.path.relpath('../data/macrovoxels.csv')\n",
    "macro_lattice = tg.lattice_from_csv(lattice_path)"
   ]
  },
  {
   "cell_type": "markdown",
   "metadata": {},
   "source": [
    "### 1.x generate a single random configuration to be tested"
   ]
  },
  {
   "cell_type": "code",
   "execution_count": 3,
   "metadata": {},
   "outputs": [
    {
     "name": "stdout",
     "output_type": "stream",
     "text": [
      "[0, 0, 1, 1, 1, 1, 1, 1, 0, 0, 0, 1, 0, 0, 1, 1, 1, 1, 0, 0, 1, 1, 0, 1, 0, 0, 0]\n"
     ]
    }
   ],
   "source": [
    "# create random configuration\n",
    "# config_rand = [random.randint(0,1) for i in range(27)]\n",
    "config_rand = [0, 0, 1, 1, 1, 1, 1, 1, 0, 0, 0, 1, 0, 0, 1, 1, 1, 1, 0, 0, 1, 1, 0, 1, 0, 0, 0]\n",
    "print(config_rand)\n",
    "# voxels of the configuration\n",
    "config_index = [i for i in range(26) if config_rand[i] == 0] # random indices\n",
    "\n",
    "config_rand = np.reshape(config_rand,(3,3,3))\n",
    "config_rand = np.pad(config_rand, 1) # pad to regain original lattice structure\n"
   ]
  },
  {
   "cell_type": "code",
   "execution_count": 4,
   "metadata": {},
   "outputs": [],
   "source": [
    "# saving the random configuration for future use\n",
    "random_lattice = tg.to_lattice(config_rand, macro_lattice)\n",
    "save_path = os.path.relpath(\"../data/random_lattice.csv\")\n",
    "random_lattice.to_csv(save_path)"
   ]
  },
  {
   "cell_type": "markdown",
   "metadata": {},
   "source": [
    "## Identifying the roof"
   ]
  },
  {
   "cell_type": "code",
   "execution_count": 5,
   "metadata": {},
   "outputs": [],
   "source": [
    "# padding to avoid the rolling issue\n",
    "random_lattice_padded = np.pad(random_lattice, 1, mode='constant',constant_values=0)"
   ]
  },
  {
   "cell_type": "code",
   "execution_count": 6,
   "metadata": {},
   "outputs": [],
   "source": [
    "# shifting all the voxels one level down\n",
    "shifted_lattice = np.roll(random_lattice_padded, (0,0,-1)) "
   ]
  },
  {
   "cell_type": "code",
   "execution_count": 7,
   "metadata": {},
   "outputs": [],
   "source": [
    "# an exposed roof surface exists where a voxel is filled (1) and the voxel above it is empty (0)\n",
    "top_voxels_3darray_padded = (random_lattice_padded == 1) *  (shifted_lattice == 0)"
   ]
  },
  {
   "cell_type": "code",
   "execution_count": 8,
   "metadata": {},
   "outputs": [],
   "source": [
    "# removing the pad\n",
    "top_voxels_3darray = top_voxels_3darray_padded[1:-1, 1:-1, 1:-1]\n",
    "# convert to lattice\n",
    "top_voxels_lattice = tg.to_lattice(top_voxels_3darray, random_lattice)"
   ]
  },
  {
   "cell_type": "code",
   "execution_count": 9,
   "metadata": {},
   "outputs": [],
   "source": [
    "# extracting the centroids of all top voxels\n",
    "top_centroids = top_voxels_lattice.centroids"
   ]
  },
  {
   "cell_type": "code",
   "execution_count": 10,
   "metadata": {},
   "outputs": [],
   "source": [
    "unit = random_lattice.unit\n",
    "meshes= []\n",
    "\n",
    "for i, cen in enumerate(top_centroids):\n",
    "    # generating the vertices of the top face\n",
    "    # centroid + half of the unit size in the four top directions\n",
    "    v0 = cen + 0.5 * unit * np.array([ 1, 1, 1]) # top right front\n",
    "    v1 = cen + 0.5 * unit * np.array([ 1,-1, 1]) # top right back\n",
    "    v2 = cen + 0.5 * unit * np.array([-1,-1, 1]) # top left back\n",
    "    v3 = cen + 0.5 * unit * np.array([-1, 1, 1]) # top left front\n",
    "\n",
    "    face_a = [v0,v1,v2] # trimesh only takes triangular meshes, no quad meshes\n",
    "    face_b = [v2,v3,v0]\n",
    "\n",
    "    mesh_a = tm.Trimesh(vertices= face_a, faces= [[0,1,2]])\n",
    "    mesh_b = tm.Trimesh(vertices= face_b, faces= [[0,1,2]])\n",
    "    \n",
    "    meshes.append(mesh_a)\n",
    "    meshes.append(mesh_b)"
   ]
  },
  {
   "cell_type": "markdown",
   "metadata": {},
   "source": [
    "### Merge meshes"
   ]
  },
  {
   "cell_type": "code",
   "execution_count": 11,
   "metadata": {},
   "outputs": [],
   "source": [
    "# combined roof mesh\n",
    "combined_roof = tm.util.concatenate(meshes)"
   ]
  },
  {
   "cell_type": "code",
   "execution_count": 12,
   "metadata": {},
   "outputs": [],
   "source": [
    "def tri_to_pv(tri_mesh):\n",
    "    faces = np.pad(tri_mesh.faces, ((0, 0),(1,0)), 'constant', constant_values=3)\n",
    "    pv_mesh = pv.PolyData(tri_mesh.vertices, faces)\n",
    "    return pv_mesh"
   ]
  },
  {
   "cell_type": "markdown",
   "metadata": {},
   "source": [
    "### 1.x visuzalizing"
   ]
  },
  {
   "cell_type": "code",
   "execution_count": 13,
   "metadata": {},
   "outputs": [
    {
     "data": {
      "application/vnd.jupyter.widget-view+json": {
       "model_id": "8ffa904f8d414d50a1403e60a73d408a",
       "version_major": 2,
       "version_minor": 0
      },
      "text/plain": [
       "ViewInteractiveWidget(height=768, layout=Layout(height='auto', width='100%'), width=1024)"
      ]
     },
     "metadata": {},
     "output_type": "display_data"
    },
    {
     "data": {
      "text/plain": [
       "[(204.88887394336027, 84.88887394336027, 144.88887394336027),\n",
       " (60.0, -60.0, 0.0),\n",
       " (0.0, 0.0, 1.0)]"
      ]
     },
     "execution_count": 13,
     "metadata": {},
     "output_type": "execute_result"
    }
   ],
   "source": [
    "p = pv.Plotter(notebook=True)\n",
    "\n",
    "p.add_mesh(tri_to_pv(combined_roof), color='#abd8ff', opacity=0.9)\n",
    "random_lattice.fast_vis(p)\n",
    "\n",
    "p.show(use_ipyvtk=True)"
   ]
  }
 ],
 "metadata": {
  "interpreter": {
   "hash": "605f37378f8decd54729b74730590eb2917d207ad05faa9b102943824fde243c"
  },
  "kernelspec": {
   "display_name": "Python 3.8.5 64-bit ('thesis': conda)",
   "name": "python3"
  },
  "language_info": {
   "codemirror_mode": {
    "name": "ipython",
    "version": 3
   },
   "file_extension": ".py",
   "mimetype": "text/x-python",
   "name": "python",
   "nbconvert_exporter": "python",
   "pygments_lexer": "ipython3",
   "version": "3.8.5"
  },
  "orig_nbformat": 2
 },
 "nbformat": 4,
 "nbformat_minor": 2
}
