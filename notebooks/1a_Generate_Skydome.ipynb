{
 "cells": [
  {
   "cell_type": "code",
   "execution_count": 1,
   "metadata": {},
   "outputs": [],
   "source": [
    "import trimesh as tm\n",
    "import numpy as np\n",
    "import pyvista as pv\n",
    "import os\n",
    "import topogenesis as tg\n",
    "import pickle as pk"
   ]
  },
  {
   "cell_type": "code",
   "execution_count": 2,
   "metadata": {},
   "outputs": [],
   "source": [
    "context_path = os.path.relpath('../data/movedcontext.obj')\n",
    "context_mesh = tm.load(context_path)\n",
    "\n",
    "env_lat_path = os.path.relpath('../data/macrovoxels.csv')\n",
    "envelope_lattice = tg.lattice_from_csv(env_lat_path)"
   ]
  },
  {
   "cell_type": "code",
   "execution_count": 3,
   "metadata": {},
   "outputs": [],
   "source": [
    "# create a sphere \n",
    "sphere = tm.creation.icosphere(subdivisions= 3, radius= 300.0)\n",
    "\n",
    "# extract vertices from sphere\n",
    "sphere_vertices = sphere.vertices\n",
    "\n",
    "# keep only positive vertices\n",
    "skydome = sphere_vertices[sphere_vertices[:,2] > 0.0]\n",
    "\n",
    "# convert to array\n",
    "skydome = np.array(skydome)\n",
    "\n",
    "# shift skydome down to ground height --> shift down with minimum height of skydome points +10 and height offset of lattice and environment\n",
    "skydome[:,2] += -min(skydome[:,2]-10) + min(envelope_lattice.centroids[:,2])"
   ]
  },
  {
   "cell_type": "code",
   "execution_count": 4,
   "metadata": {},
   "outputs": [
    {
     "data": {
      "application/vnd.jupyter.widget-view+json": {
       "model_id": "5d762bbacf9f4334a8dbaee17eee21d6",
       "version_major": 2,
       "version_minor": 0
      },
      "text/plain": [
       "ViewInteractiveWidget(height=768, layout=Layout(height='auto', width='100%'), width=1024)"
      ]
     },
     "metadata": {},
     "output_type": "display_data"
    },
    {
     "data": {
      "text/plain": [
       "[(999.772514064959, 996.4703958584882, 1105.5574518419928),\n",
       " (3.302118206470709, 0.0, 109.08705598350447),\n",
       " (0.0, 0.0, 1.0)]"
      ]
     },
     "execution_count": 4,
     "metadata": {},
     "output_type": "execute_result"
    }
   ],
   "source": [
    "p = pv.Plotter(notebook=True)\n",
    "\n",
    "def tri_to_pv(tri_mesh):\n",
    "    faces = np.pad(tri_mesh.faces, ((0, 0),(1,0)), 'constant', constant_values=3)\n",
    "    pv_mesh = pv.PolyData(tri_mesh.vertices, faces)\n",
    "    return pv_mesh\n",
    "\n",
    "# fast visualization of the lattice\n",
    "envelope_lattice.fast_vis(p)\n",
    "\n",
    "# add the sky vectors\n",
    "p.add_points(skydome, color='#0013ff')\n",
    "\n",
    "# add context\n",
    "p.add_mesh(tri_to_pv(context_mesh), opacity=0.1, style='wireframe')\n",
    "\n",
    "# plotting\n",
    "p.show(use_ipyvtk=True)"
   ]
  },
  {
   "cell_type": "code",
   "execution_count": 5,
   "metadata": {},
   "outputs": [],
   "source": [
    "# save skydome to pk\n",
    "pk.dump(skydome, open(\"../data/skydome.pk\", \"wb\"))"
   ]
  }
 ],
 "metadata": {
  "interpreter": {
   "hash": "605f37378f8decd54729b74730590eb2917d207ad05faa9b102943824fde243c"
  },
  "kernelspec": {
   "display_name": "Python 3.8.5 64-bit ('thesis': conda)",
   "name": "python3"
  },
  "language_info": {
   "codemirror_mode": {
    "name": "ipython",
    "version": 3
   },
   "file_extension": ".py",
   "mimetype": "text/x-python",
   "name": "python",
   "nbconvert_exporter": "python",
   "pygments_lexer": "ipython3",
   "version": "3.8.5"
  },
  "orig_nbformat": 4
 },
 "nbformat": 4,
 "nbformat_minor": 2
}
