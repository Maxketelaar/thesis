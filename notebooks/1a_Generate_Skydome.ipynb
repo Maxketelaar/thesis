{
 "cells": [
  {
   "cell_type": "code",
   "execution_count": 1,
   "source": [
    "import trimesh as tm\r\n",
    "import numpy as np\r\n",
    "import pyvista as pv\r\n",
    "import os\r\n",
    "import pickle as pc\r\n",
    "import topogenesis as tg"
   ],
   "outputs": [],
   "metadata": {}
  },
  {
   "cell_type": "code",
   "execution_count": 2,
   "source": [
    "context_path = os.path.relpath('../data/movedcontext.obj')\r\n",
    "context_mesh = tm.load(context_path)\r\n",
    "\r\n",
    "env_lat_path = os.path.relpath('../data/macrovoxels.csv')\r\n",
    "envelope_lattice = tg.lattice_from_csv(env_lat_path)"
   ],
   "outputs": [],
   "metadata": {}
  },
  {
   "cell_type": "code",
   "execution_count": 3,
   "source": [
    "# create a sphere \r\n",
    "sphere = tm.creation.icosphere(subdivisions= 3, radius= 300.0)\r\n",
    "\r\n",
    "# extract vertices from sphere\r\n",
    "sphere_vertices = sphere.vertices\r\n",
    "\r\n",
    "# keep only positive vertices\r\n",
    "skydome = sphere_vertices[sphere_vertices[:,2] > 0.0]\r\n",
    "\r\n",
    "# convert to array\r\n",
    "skydome = np.array(skydome)\r\n",
    "\r\n"
   ],
   "outputs": [],
   "metadata": {}
  },
  {
   "cell_type": "code",
   "execution_count": 4,
   "source": [
    "p = pv.Plotter(notebook=True)\r\n",
    "\r\n",
    "def tri_to_pv(tri_mesh):\r\n",
    "    faces = np.pad(tri_mesh.faces, ((0, 0),(1,0)), 'constant', constant_values=3)\r\n",
    "    pv_mesh = pv.PolyData(tri_mesh.vertices, faces)\r\n",
    "    return pv_mesh\r\n",
    "\r\n",
    "# fast visualization of the lattice\r\n",
    "envelope_lattice.fast_vis(p)\r\n",
    "\r\n",
    "# add the sky vectors\r\n",
    "p.add_points(skydome, color='#0013ff')\r\n",
    "\r\n",
    "# add context\r\n",
    "p.add_mesh(tri_to_pv(context_mesh), opacity=0.1, style='wireframe')\r\n",
    "\r\n",
    "# plotting\r\n",
    "p.show(use_ipyvtk=True)"
   ],
   "outputs": [
    {
     "output_type": "display_data",
     "data": {
      "text/plain": [
       "ViewInteractiveWidget(height=768, layout=Layout(height='auto', width='100%'), width=1024)"
      ],
      "application/vnd.jupyter.widget-view+json": {
       "version_major": 2,
       "version_minor": 0,
       "model_id": "17c7a64c7ec1474c84849fb78b62d5a6"
      }
     },
     "metadata": {}
    },
    {
     "output_type": "execute_result",
     "data": {
      "text/plain": [
       "[(1017.0722991239528, 1013.7701809174821, 1145.020180917482),\n",
       " (3.302118206470709, 0.0, 131.25),\n",
       " (0.0, 0.0, 1.0)]"
      ]
     },
     "metadata": {},
     "execution_count": 4
    }
   ],
   "metadata": {}
  },
  {
   "cell_type": "code",
   "execution_count": null,
   "source": [],
   "outputs": [],
   "metadata": {}
  }
 ],
 "metadata": {
  "orig_nbformat": 4,
  "language_info": {
   "name": "python",
   "version": "3.8.5",
   "mimetype": "text/x-python",
   "codemirror_mode": {
    "name": "ipython",
    "version": 3
   },
   "pygments_lexer": "ipython3",
   "nbconvert_exporter": "python",
   "file_extension": ".py"
  },
  "kernelspec": {
   "name": "python3",
   "display_name": "Python 3.8.5 64-bit ('thesis': conda)"
  },
  "interpreter": {
   "hash": "605f37378f8decd54729b74730590eb2917d207ad05faa9b102943824fde243c"
  }
 },
 "nbformat": 4,
 "nbformat_minor": 2
}