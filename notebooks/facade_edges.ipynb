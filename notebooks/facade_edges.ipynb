{
 "cells": [
  {
   "cell_type": "markdown",
   "metadata": {},
   "source": [
    "### 1.0 import libraries"
   ]
  },
  {
   "cell_type": "code",
   "execution_count": 1,
   "metadata": {},
   "outputs": [],
   "source": [
    "import os\n",
    "import random\n",
    "\n",
    "import pyvista as pv\n",
    "import trimesh as tm\n",
    "import numpy as np\n",
    "import topogenesis as tg"
   ]
  },
  {
   "cell_type": "markdown",
   "metadata": {},
   "source": [
    "### 1.1 load macrovoxels"
   ]
  },
  {
   "cell_type": "code",
   "execution_count": 2,
   "metadata": {},
   "outputs": [],
   "source": [
    "# load lattice CSV file\n",
    "lattice_path = os.path.relpath('../data/macrovoxels.csv')\n",
    "macro_lattice = tg.lattice_from_csv(lattice_path)"
   ]
  },
  {
   "cell_type": "markdown",
   "metadata": {},
   "source": [
    "### 1.x generate a single random configuration to be tested"
   ]
  },
  {
   "cell_type": "code",
   "execution_count": 3,
   "metadata": {},
   "outputs": [
    {
     "name": "stdout",
     "output_type": "stream",
     "text": [
      "[0, 0, 1, 1, 1, 1, 1, 1, 0, 0, 0, 1, 0, 0, 1, 1, 1, 1, 0, 0, 1, 1, 0, 1, 0, 0, 0]\n"
     ]
    }
   ],
   "source": [
    "# create random configuration\n",
    "# config_rand = [random.randint(0,1) for i in range(27)]\n",
    "config_rand = [0, 0, 1, 1, 1, 1, 1, 1, 0, 0, 0, 1, 0, 0, 1, 1, 1, 1, 0, 0, 1, 1, 0, 1, 0, 0, 0]\n",
    "print(config_rand)\n",
    "# voxels of the configuration\n",
    "config_index = [i for i in range(26) if config_rand[i] == 0] # random indices\n",
    "\n",
    "config_rand = np.reshape(config_rand,(3,3,3))\n",
    "config_rand = np.pad(config_rand, 1) # pad to regain original lattice structure\n"
   ]
  },
  {
   "cell_type": "code",
   "execution_count": 4,
   "metadata": {},
   "outputs": [],
   "source": [
    "# saving the random configuration for future use\n",
    "random_lattice = tg.to_lattice(config_rand, macro_lattice)\n",
    "save_path = os.path.relpath(\"../data/random_lattice.csv\")\n",
    "random_lattice.to_csv(save_path)"
   ]
  },
  {
   "cell_type": "markdown",
   "metadata": {},
   "source": [
    "## Identifying the roof"
   ]
  },
  {
   "cell_type": "code",
   "execution_count": 5,
   "metadata": {},
   "outputs": [],
   "source": [
    "# shifting all the voxels one level sideways --> -Y direction\n",
    "#shifted_lattice_Y_neg = np.roll(random_lattice_padded, (0,0,-1),axis=1) "
   ]
  },
  {
   "cell_type": "code",
   "execution_count": 6,
   "metadata": {},
   "outputs": [],
   "source": [
    "# shifting all the voxels one level sideways --> +X direction\n",
    "#shifted_lattice_X_pos = np.roll(random_lattice_padded, (0,0,1),axis=2) "
   ]
  },
  {
   "cell_type": "code",
   "execution_count": 7,
   "metadata": {},
   "outputs": [],
   "source": [
    "# shifting all the voxels one level sideways --> -X direction\n",
    "#shifted_lattice_X_neg = np.roll(random_lattice_padded, (0,0,-1),axis=2) "
   ]
  },
  {
   "cell_type": "code",
   "execution_count": 8,
   "metadata": {},
   "outputs": [],
   "source": [
    "# # padding to avoid the rolling issue\n",
    "# random_lattice_padded = np.pad(random_lattice, 1, mode='constant',constant_values=0)\n",
    "\n",
    "# # shifting all the voxels one level sideways --> +Y direction\n",
    "# # TODO: unify into single function for each meshing approach from here to mesh list\n",
    "# shifted_lattice_Y_pos = np.roll(random_lattice_padded, (0,0,1),axis=1) \n",
    "\n",
    "# # an exposed facade surface exists where a voxel is filled (1) and the voxel next to it is empty (0)\n",
    "# side_voxels_3darray_padded = (random_lattice_padded == 1) *  (shifted_lattice_Y_pos == 0)\n",
    "\n",
    "# # removing the pad\n",
    "# side_voxels_3darray = side_voxels_3darray_padded[1:-1, 1:-1, 1:-1]\n",
    "# # convert to lattice\n",
    "# side_voxels_lattice = tg.to_lattice(side_voxels_3darray, random_lattice)\n",
    "\n",
    "# # extracting the centroids of all side voxels\n",
    "# side_centroids = side_voxels_lattice.centroids"
   ]
  },
  {
   "cell_type": "code",
   "execution_count": 9,
   "metadata": {},
   "outputs": [],
   "source": [
    "def find_centroids(lattice, dir, axes):\n",
    "\n",
    "    # shifting all the voxels one level sideways --> +Y direction\n",
    "    shifted_lattice_Y_pos = np.roll(lattice, (0,0,dir),axis=axes) \n",
    "    \n",
    "    # an exposed facade surface exists where a voxel is filled (1) and the voxel next to it is empty (0)\n",
    "    side_voxels_3darray_padded = (lattice == 1) *  (shifted_lattice_Y_pos == 0)\n",
    "\n",
    "    # removing the pad\n",
    "    side_voxels_3darray = side_voxels_3darray_padded[1:-1, 1:-1, 1:-1]\n",
    "    \n",
    "    # convert to lattice\n",
    "    side_voxels_lattice = tg.to_lattice(side_voxels_3darray, random_lattice)\n",
    "\n",
    "    # extracting the centroids of all side voxels\n",
    "    side_centroids = side_voxels_lattice.centroids\n",
    "\n",
    "    return side_centroids"
   ]
  },
  {
   "cell_type": "code",
   "execution_count": 181,
   "metadata": {},
   "outputs": [],
   "source": [
    "# Function for creating meshes\n",
    "\n",
    "def construct_mesh_y_pos(centroid):\n",
    "    meshes= []\n",
    "    for i, cen in enumerate(centroid):\n",
    "        # generating the vertices of the side faces in +Y direction\n",
    "        # centroid + half of the unit size in the four top directions\n",
    "        v0 = cen + 0.5 * unit * np.array([ 1, -1, 1]) # side right above\n",
    "        v1 = cen + 0.5 * unit * np.array([ 1,-1, -1]) # side right below\n",
    "        v2 = cen + 0.5 * unit * np.array([-1,-1, -1]) # side left below\n",
    "        v3 = cen + 0.5 * unit * np.array([-1, -1, 1]) # side left above\n",
    "\n",
    "        face_a = [v0,v1,v2] # trimesh only takes triangular meshes, no quad meshes\n",
    "        face_b = [v2,v3,v0]\n",
    "\n",
    "        mesh_a = tm.Trimesh(vertices= face_a, faces= [[2,1,0]])\n",
    "        mesh_b = tm.Trimesh(vertices= face_b, faces= [[2,1,0]])\n",
    "\n",
    "        meshes.append(mesh_a)\n",
    "        meshes.append(mesh_b)\n",
    "\n",
    "    return meshes"
   ]
  },
  {
   "cell_type": "code",
   "execution_count": 182,
   "metadata": {},
   "outputs": [],
   "source": [
    "# Function for creating meshes\n",
    "# TODO: adapt\n",
    "def construct_mesh_y_neg(centroid):\n",
    "    meshes= []\n",
    "    for i, cen in enumerate(centroid):\n",
    "        # generating the vertices of the side faces in +Y direction\n",
    "        # centroid + half of the unit size in the four top directions\n",
    "        v0 = cen + 0.5 * unit * np.array([ 1, 1, 1]) # side right above\n",
    "        v1 = cen + 0.5 * unit * np.array([ 1,1, -1]) # side right below\n",
    "        v2 = cen + 0.5 * unit * np.array([-1,1, -1]) # side left below\n",
    "        v3 = cen + 0.5 * unit * np.array([-1, 1, 1]) # side left above\n",
    "\n",
    "        face_a = [v0,v1,v2] # trimesh only takes triangular meshes, no quad meshes\n",
    "        face_b = [v2,v3,v0]\n",
    "\n",
    "        mesh_a = tm.Trimesh(vertices= face_a, faces= [[0,1,2]])\n",
    "        mesh_b = tm.Trimesh(vertices= face_b, faces= [[0,1,2]])\n",
    "\n",
    "        meshes.append(mesh_a)\n",
    "        meshes.append(mesh_b)\n",
    "\n",
    "    return meshes"
   ]
  },
  {
   "cell_type": "code",
   "execution_count": 205,
   "metadata": {},
   "outputs": [],
   "source": [
    "# Function for creating meshes\n",
    "# TODO: adapt\n",
    "def construct_mesh_x_pos(centroid):\n",
    "    meshes= []\n",
    "    for i, cen in enumerate(centroid):\n",
    "        # generating the vertices of the side faces in +Y direction\n",
    "        # centroid + half of the unit size in the four top directions\n",
    "        v0 = cen + 0.5 * unit * np.array([ -1, -1, 1]) # side right above\n",
    "        v1 = cen + 0.5 * unit * np.array([ -1,-1, -1]) # side right below\n",
    "        v2 = cen + 0.5 * unit * np.array([-1,1, -1]) # side left below\n",
    "        v3 = cen + 0.5 * unit * np.array([-1, 1, 1]) # side left above\n",
    "\n",
    "        face_a = [v0,v1,v2] # trimesh only takes triangular meshes, no quad meshes\n",
    "        face_b = [v2,v3,v0]\n",
    "\n",
    "        mesh_a = tm.Trimesh(vertices= face_a, faces= [[2,1,0]])\n",
    "        mesh_b = tm.Trimesh(vertices= face_b, faces= [[2,1,0]])\n",
    "\n",
    "        meshes.append(mesh_a)\n",
    "        meshes.append(mesh_b)\n",
    "\n",
    "    return meshes"
   ]
  },
  {
   "cell_type": "code",
   "execution_count": 216,
   "metadata": {},
   "outputs": [],
   "source": [
    "# Function for creating meshes\n",
    "# TODO: adapt\n",
    "def construct_mesh_x_neg(centroid):\n",
    "    meshes= []\n",
    "    for i, cen in enumerate(centroid):\n",
    "        # generating the vertices of the side faces in +Y direction\n",
    "        # centroid + half of the unit size in the four top directions\n",
    "        v0 = cen + 0.5 * unit * np.array([ 1, 1, 1]) # side right above\n",
    "        v1 = cen + 0.5 * unit * np.array([1,1, -1]) # side right below\n",
    "        v2 = cen + 0.5 * unit * np.array([1,-1, -1]) # side left below\n",
    "        v3 = cen + 0.5 * unit * np.array([1, -1, 1]) # side left above\n",
    "\n",
    "        face_a = [v0,v1,v2] # trimesh only takes triangular meshes, no quad meshes\n",
    "        face_b = [v2,v3,v0]\n",
    "\n",
    "        mesh_a = tm.Trimesh(vertices= face_a, faces= [[2,1,0]])\n",
    "        mesh_b = tm.Trimesh(vertices= face_b, faces= [[2,1,0]])\n",
    "\n",
    "        meshes.append(mesh_a)\n",
    "        meshes.append(mesh_b)\n",
    "\n",
    "    return meshes"
   ]
  },
  {
   "cell_type": "code",
   "execution_count": 217,
   "metadata": {},
   "outputs": [],
   "source": [
    "def construct_vertical_mesh(lat):\n",
    "    vertical_meshes = []\n",
    "\n",
    "    # padding to avoid the rolling issue\n",
    "    input_lattice_padded = np.pad(lat, 1, mode='constant',constant_values=0)\n",
    "\n",
    "    # Y_positive\n",
    "    Y_pos_centroids = find_centroids(lattice= input_lattice_padded, dir= 1, axes= 1)\n",
    "    Y_pos_mesh = construct_mesh_y_pos(Y_pos_centroids)\n",
    "    vertical_meshes.extend(Y_pos_mesh)\n",
    "\n",
    "    # Y_negative\n",
    "    Y_neg_centroids = find_centroids(lattice= input_lattice_padded, dir= -1, axes= 1)\n",
    "    Y_neg_mesh = construct_mesh_y_neg(Y_neg_centroids)\n",
    "    vertical_meshes.extend(Y_neg_mesh)\n",
    "\n",
    "    # X_positive\n",
    "    X_pos_centroids = find_centroids(lattice= input_lattice_padded, dir= 1, axes= 0)\n",
    "    X_pos_mesh = construct_mesh_x_pos(X_pos_centroids)\n",
    "    vertical_meshes.extend(X_pos_mesh)\n",
    "\n",
    "    # X_negative\n",
    "    X_neg_centroids = find_centroids(lattice= input_lattice_padded, dir= -1, axes= 0)\n",
    "    X_neg_mesh = construct_mesh_x_neg(X_neg_centroids)\n",
    "    vertical_meshes.extend(X_neg_mesh)\n",
    "    \n",
    "    return vertical_meshes"
   ]
  },
  {
   "cell_type": "code",
   "execution_count": 218,
   "metadata": {},
   "outputs": [],
   "source": [
    "unit = random_lattice.unit"
   ]
  },
  {
   "cell_type": "code",
   "execution_count": 219,
   "metadata": {},
   "outputs": [
    {
     "data": {
      "text/plain": [
       "32"
      ]
     },
     "execution_count": 219,
     "metadata": {},
     "output_type": "execute_result"
    }
   ],
   "source": [
    "facade_mesh = tm.util.concatenate(construct_vertical_mesh(random_lattice))\n",
    "norms = facade_mesh.face_normals\n",
    "# TODO: check normals direction, formalize THIS^\n",
    "len(norms)"
   ]
  },
  {
   "cell_type": "code",
   "execution_count": 220,
   "metadata": {},
   "outputs": [],
   "source": [
    "vert = facade_mesh.vertices\n",
    "count = 0\n",
    "centroids = []\n",
    "for i in range(len(norms)):\n",
    "    value = 0\n",
    "    for j in range(3):\n",
    "        value += vert[3*i+j]\n",
    "        value = value.astype(float)\n",
    "        #print(value/3)\n",
    "    centroids.append(value)\n",
    "\n"
   ]
  },
  {
   "cell_type": "markdown",
   "metadata": {},
   "source": [
    "### Merge meshes"
   ]
  },
  {
   "cell_type": "code",
   "execution_count": 221,
   "metadata": {},
   "outputs": [],
   "source": [
    "# combined roof mesh\n",
    "#combined_roof = tm.util.concatenate(construct_mesh_y_pos(side_centroids))"
   ]
  },
  {
   "cell_type": "code",
   "execution_count": 222,
   "metadata": {},
   "outputs": [],
   "source": [
    "# left = construct_mesh_y_pos(find_centroids(lattice= np.pad(random_lattice, 1, mode='constant',constant_values=0), dir= 1, axes= 1))\n",
    "# right = construct_mesh_y_neg(find_centroids(lattice= np.pad(random_lattice, 1, mode='constant',constant_values=0), dir= -1, axes= 1))\n",
    "# front = construct_mesh_x_pos(find_centroids(lattice= np.pad(random_lattice, 1, mode='constant',constant_values=0), dir= 1, axes= 0))\n",
    "# back = construct_mesh_x_neg(find_centroids(lattice= np.pad(random_lattice, 1, mode='constant',constant_values=0), dir= -1, axes= 0))"
   ]
  },
  {
   "cell_type": "code",
   "execution_count": 223,
   "metadata": {},
   "outputs": [],
   "source": [
    "def tri_to_pv(tri_mesh):\n",
    "    faces = np.pad(tri_mesh.faces, ((0, 0),(1,0)), 'constant', constant_values=3)\n",
    "    pv_mesh = pv.PolyData(tri_mesh.vertices, faces)\n",
    "    return pv_mesh"
   ]
  },
  {
   "cell_type": "code",
   "execution_count": 224,
   "metadata": {},
   "outputs": [
    {
     "data": {
      "text/plain": [
       "32"
      ]
     },
     "execution_count": 224,
     "metadata": {},
     "output_type": "execute_result"
    }
   ],
   "source": [
    "len(centroids)\n"
   ]
  },
  {
   "cell_type": "markdown",
   "metadata": {},
   "source": [
    "### 1.x visuzalizing"
   ]
  },
  {
   "cell_type": "code",
   "execution_count": 225,
   "metadata": {},
   "outputs": [
    {
     "data": {
      "application/vnd.jupyter.widget-view+json": {
       "model_id": "98e4e76abcd543c8a62304470450aa4d",
       "version_major": 2,
       "version_minor": 0
      },
      "text/plain": [
       "ViewInteractiveWidget(height=768, layout=Layout(height='auto', width='100%'), width=1024)"
      ]
     },
     "metadata": {},
     "output_type": "display_data"
    },
    {
     "data": {
      "text/plain": [
       "[(153.81588256357912, 33.81588256357914, 93.81588256357914),\n",
       " (60.0, -60.0, 0.0),\n",
       " (0.0, 0.0, 1.0)]"
      ]
     },
     "execution_count": 225,
     "metadata": {},
     "output_type": "execute_result"
    }
   ],
   "source": [
    "p = pv.Plotter(notebook=True)\n",
    "\n",
    "p.add_mesh(tri_to_pv(facade_mesh), color='#abd8ff', opacity=0.99)\n",
    "random_lattice.fast_vis(p,False,False,opacity=0.1)\n",
    "p.add_arrows(np.array(centroids)/3,norms,mag=5)\n",
    "p.show(use_ipyvtk=True)"
   ]
  },
  {
   "cell_type": "code",
   "execution_count": null,
   "metadata": {},
   "outputs": [],
   "source": []
  },
  {
   "cell_type": "code",
   "execution_count": null,
   "metadata": {},
   "outputs": [],
   "source": []
  }
 ],
 "metadata": {
  "interpreter": {
   "hash": "605f37378f8decd54729b74730590eb2917d207ad05faa9b102943824fde243c"
  },
  "kernelspec": {
   "display_name": "Python 3.8.5 64-bit ('thesis': conda)",
   "name": "python3"
  },
  "language_info": {
   "codemirror_mode": {
    "name": "ipython",
    "version": 3
   },
   "file_extension": ".py",
   "mimetype": "text/x-python",
   "name": "python",
   "nbconvert_exporter": "python",
   "pygments_lexer": "ipython3",
   "version": "3.8.5"
  },
  "orig_nbformat": 2
 },
 "nbformat": 4,
 "nbformat_minor": 2
}
