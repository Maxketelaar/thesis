{
 "cells": [
  {
   "cell_type": "markdown",
   "metadata": {},
   "source": [
    "### 1.0 import libraries"
   ]
  },
  {
   "cell_type": "code",
   "execution_count": 142,
   "metadata": {},
   "outputs": [],
   "source": [
    "import os\n",
    "import random\n",
    "\n",
    "import pyvista as pv\n",
    "import trimesh as tm\n",
    "import numpy as np\n",
    "import topogenesis as tg"
   ]
  },
  {
   "cell_type": "markdown",
   "metadata": {},
   "source": [
    "### 1.1 load macrovoxels"
   ]
  },
  {
   "cell_type": "code",
   "execution_count": 143,
   "metadata": {},
   "outputs": [],
   "source": [
    "# load lattice CSV file\n",
    "lattice_path = os.path.relpath('../data/macrovoxels.csv')\n",
    "macro_lattice = tg.lattice_from_csv(lattice_path)"
   ]
  },
  {
   "cell_type": "markdown",
   "metadata": {},
   "source": [
    "### 1.x generate a single random configuration to be tested"
   ]
  },
  {
   "cell_type": "code",
   "execution_count": 144,
   "metadata": {},
   "outputs": [],
   "source": [
    "# create random configuration\n",
    "#config_rand = [random.randint(0,1) for i in range(125)]\n",
    "config_rand = [0, 0, 0, 1, 1, 1, 0, 0, 0, 0, 1, 0, 0, 0, 1, 0, 0, 0, 1, 0, 0, 0, 0, 0, 0, 0, 1, 0, 0, 1, 1, 1, 0, 1, 1, 0, 1, 1, 1, 0, 0, 1, 1, 1, 0, 0, 1, 0, 1, 0, 1, 0, 0, 0, 0, 0, 1, 0, 0, 0, 1, 1, 1, 0, 0, 0, 1, 1, 0, 0, 0, 1, 0, 0, 1, 0, 0, 0, 0, 0, 1, 1, 0, 1, 1, 0, 0, 1, 1, 1, 1, 0, 1, 1, 1, 1, 0, 0, 1, 1, 1, 1, 0, 0, 1, 0, 0, 0, 0, 0, 0, 1, 1, 1, 0, 1, 1, 1, 0, 0, 1, 0, 1, 0, 0]\n",
    "\n",
    "config_rand = np.reshape(config_rand,(5,5,5))"
   ]
  },
  {
   "cell_type": "code",
   "execution_count": 145,
   "metadata": {},
   "outputs": [],
   "source": [
    "# saving the random configuration for future use\n",
    "random_lattice = tg.to_lattice(config_rand, macro_lattice)\n",
    "save_path = os.path.relpath(\"../data/random_lattice.csv\")\n",
    "random_lattice.to_csv(save_path)"
   ]
  },
  {
   "cell_type": "markdown",
   "metadata": {},
   "source": [
    "## Identifying the roof"
   ]
  },
  {
   "cell_type": "code",
   "execution_count": 146,
   "metadata": {},
   "outputs": [],
   "source": [
    "# shifting all the voxels one level sideways --> -Y direction\n",
    "#shifted_lattice_Y_neg = np.roll(random_lattice_padded, (0,0,-1),axis=1) "
   ]
  },
  {
   "cell_type": "code",
   "execution_count": 147,
   "metadata": {},
   "outputs": [],
   "source": [
    "# shifting all the voxels one level sideways --> +X direction\n",
    "#shifted_lattice_X_pos = np.roll(random_lattice_padded, (0,0,1),axis=2) "
   ]
  },
  {
   "cell_type": "code",
   "execution_count": 148,
   "metadata": {},
   "outputs": [],
   "source": [
    "# shifting all the voxels one level sideways --> -X direction\n",
    "#shifted_lattice_X_neg = np.roll(random_lattice_padded, (0,0,-1),axis=2) "
   ]
  },
  {
   "cell_type": "code",
   "execution_count": 149,
   "metadata": {},
   "outputs": [],
   "source": [
    "# # padding to avoid the rolling issue\n",
    "# random_lattice_padded = np.pad(random_lattice, 1, mode='constant',constant_values=0)\n",
    "\n",
    "# # shifting all the voxels one level sideways --> +Y direction\n",
    "# # TODO: unify into single function for each meshing approach from here to mesh list\n",
    "# shifted_lattice_Y_pos = np.roll(random_lattice_padded, (0,0,1),axis=1) \n",
    "\n",
    "# # an exposed facade surface exists where a voxel is filled (1) and the voxel next to it is empty (0)\n",
    "# side_voxels_3darray_padded = (random_lattice_padded == 1) *  (shifted_lattice_Y_pos == 0)\n",
    "\n",
    "# # removing the pad\n",
    "# side_voxels_3darray = side_voxels_3darray_padded[1:-1, 1:-1, 1:-1]\n",
    "# # convert to lattice\n",
    "# side_voxels_lattice = tg.to_lattice(side_voxels_3darray, random_lattice)\n",
    "\n",
    "# # extracting the centroids of all side voxels\n",
    "# side_centroids = side_voxels_lattice.centroids"
   ]
  },
  {
   "cell_type": "code",
   "execution_count": 150,
   "metadata": {},
   "outputs": [],
   "source": [
    "# def construct_vertical_mesh(lat):\n",
    "#     vertical_meshes = []\n",
    "\n",
    "#     # padding to avoid the rolling issue\n",
    "#     input_lattice_padded = np.pad(lat, 1, mode='constant',constant_values=0)\n",
    "\n",
    "#     # Y_positive\n",
    "#     Y_pos_centroids = find_centroids(lattice= input_lattice_padded, dir= 1, axes= 1)\n",
    "#     Y_pos_mesh = construct_mesh_y_pos(Y_pos_centroids)\n",
    "#     vertical_meshes.extend(Y_pos_mesh)\n",
    "\n",
    "#     # Y_negative\n",
    "#     Y_neg_centroids = find_centroids(lattice= input_lattice_padded, dir= -1, axes= 1)\n",
    "#     Y_neg_mesh = construct_mesh_y_neg(Y_neg_centroids)\n",
    "#     vertical_meshes.extend(Y_neg_mesh)\n",
    "\n",
    "#     # X_positive\n",
    "#     X_pos_centroids = find_centroids(lattice= input_lattice_padded, dir= 1, axes= 0)\n",
    "#     X_pos_mesh = construct_mesh_x_pos(X_pos_centroids)\n",
    "#     vertical_meshes.extend(X_pos_mesh)\n",
    "\n",
    "#     # X_negative\n",
    "#     X_neg_centroids = find_centroids(lattice= input_lattice_padded, dir= -1, axes= 0)\n",
    "#     X_neg_mesh = construct_mesh_x_neg(X_neg_centroids)\n",
    "#     vertical_meshes.extend(X_neg_mesh)\n",
    "    \n",
    "#     return vertical_meshes"
   ]
  },
  {
   "cell_type": "code",
   "execution_count": 151,
   "metadata": {},
   "outputs": [],
   "source": [
    "def find_centroids(lattice, ref_lattice, dir, axes):\n",
    "\n",
    "    # shifting all the voxels one level in a certain direction\n",
    "    shifted_lattice_Y_pos = np.roll(lattice, (0,0,dir),axis=axes) \n",
    "    \n",
    "    # an exposed facade surface exists where a voxel is filled (1) and the voxel next to it is empty (0)\n",
    "    side_voxels_3darray_padded = (lattice == 1) *  (shifted_lattice_Y_pos == 0)\n",
    "\n",
    "    # removing the pad\n",
    "    side_voxels_3darray = side_voxels_3darray_padded[1:-1, 1:-1, 1:-1]\n",
    "    \n",
    "    # convert to lattice\n",
    "    side_voxels_lattice = tg.to_lattice(side_voxels_3darray, ref_lattice)\n",
    "\n",
    "    # extracting the centroids of all exposed voxels\n",
    "    centroids = side_voxels_lattice.centroids\n",
    "\n",
    "    return centroids"
   ]
  },
  {
   "cell_type": "code",
   "execution_count": 152,
   "metadata": {},
   "outputs": [],
   "source": [
    "# Function for creating meshes\n",
    "\n",
    "def construct_mesh_y_pos(centroid, unit):\n",
    "    meshes= []\n",
    "    for i, cen in enumerate(centroid):\n",
    "        # generating the vertices of the side faces in +Y direction\n",
    "        # centroid + half of the unit size in the four top directions\n",
    "        v0 = cen + 0.5 * unit * np.array([ 1, -1, 1]) # side right above\n",
    "        v1 = cen + 0.5 * unit * np.array([ 1,-1, -1]) # side right below\n",
    "        v2 = cen + 0.5 * unit * np.array([-1,-1, -1]) # side left below\n",
    "        v3 = cen + 0.5 * unit * np.array([-1, -1, 1]) # side left above\n",
    "\n",
    "        face_a = [v0,v1,v2] # trimesh only takes triangular meshes, no quad meshes\n",
    "        face_b = [v2,v3,v0]\n",
    "\n",
    "        mesh_a = tm.Trimesh(vertices= face_a, faces= [[0,2,1]])\n",
    "        mesh_b = tm.Trimesh(vertices= face_b, faces= [[0,2,1]])\n",
    "\n",
    "        meshes.append(mesh_a)\n",
    "        meshes.append(mesh_b)\n",
    "\n",
    "    return meshes"
   ]
  },
  {
   "cell_type": "code",
   "execution_count": 153,
   "metadata": {},
   "outputs": [],
   "source": [
    "# Function for creating meshes\n",
    "\n",
    "def construct_mesh_y_neg(centroid, unit):\n",
    "    meshes= []\n",
    "    for i, cen in enumerate(centroid):\n",
    "        # generating the vertices of the side faces in +Y direction\n",
    "        # centroid + half of the unit size in the four top directions\n",
    "        v0 = cen + 0.5 * unit * np.array([ 1, 1, 1]) # side right above\n",
    "        v1 = cen + 0.5 * unit * np.array([ 1,1, -1]) # side right below\n",
    "        v2 = cen + 0.5 * unit * np.array([-1,1, -1]) # side left below\n",
    "        v3 = cen + 0.5 * unit * np.array([-1, 1, 1]) # side left above\n",
    "\n",
    "        face_a = [v1,v2,v3] # trimesh only takes triangular meshes, no quad meshes\n",
    "        face_b = [v3,v0,v1]\n",
    "\n",
    "        mesh_a = tm.Trimesh(vertices= face_a, faces= [[1,2,0]])\n",
    "        mesh_b = tm.Trimesh(vertices= face_b, faces= [[1,2,0]])\n",
    "\n",
    "        meshes.append(mesh_a)\n",
    "        meshes.append(mesh_b)\n",
    "\n",
    "    return meshes"
   ]
  },
  {
   "cell_type": "code",
   "execution_count": 154,
   "metadata": {},
   "outputs": [],
   "source": [
    "# Function for creating meshes\n",
    "\n",
    "def construct_mesh_x_pos(centroid, unit):\n",
    "    meshes= []\n",
    "    for i, cen in enumerate(centroid):\n",
    "        # generating the vertices of the side faces in +Y direction\n",
    "        # centroid + half of the unit size in the four top directions\n",
    "        v0 = cen + 0.5 * unit * np.array([ -1, -1, 1]) # side right above\n",
    "        v1 = cen + 0.5 * unit * np.array([ -1,-1, -1]) # side right below\n",
    "        v2 = cen + 0.5 * unit * np.array([-1,1, -1]) # side left below\n",
    "        v3 = cen + 0.5 * unit * np.array([-1, 1, 1]) # side left above\n",
    "\n",
    "        face_a = [v0,v1,v2] # trimesh only takes triangular meshes, no quad meshes\n",
    "        face_b = [v2,v3,v0]\n",
    "\n",
    "        mesh_a = tm.Trimesh(vertices= face_a, faces= [[2,1,0]])\n",
    "        mesh_b = tm.Trimesh(vertices= face_b, faces= [[2,1,0]])\n",
    "\n",
    "        meshes.append(mesh_a)\n",
    "        meshes.append(mesh_b)\n",
    "\n",
    "    return meshes"
   ]
  },
  {
   "cell_type": "code",
   "execution_count": 155,
   "metadata": {},
   "outputs": [],
   "source": [
    "# Function for creating meshes\n",
    "\n",
    "def construct_mesh_x_neg(centroid, unit):\n",
    "    meshes= []\n",
    "    for i, cen in enumerate(centroid):\n",
    "        # generating the vertices of the side faces in +Y direction\n",
    "        # centroid + half of the unit size in the four top directions\n",
    "        v0 = cen + 0.5 * unit * np.array([ 1, 1, 1]) # side right above\n",
    "        v1 = cen + 0.5 * unit * np.array([1,1, -1]) # side right below\n",
    "        v2 = cen + 0.5 * unit * np.array([1,-1, -1]) # side left below\n",
    "        v3 = cen + 0.5 * unit * np.array([1, -1, 1]) # side left above\n",
    "\n",
    "        face_a = [v0,v1,v2] # trimesh only takes triangular meshes, no quad meshes\n",
    "        face_b = [v2,v3,v0]\n",
    "\n",
    "        mesh_a = tm.Trimesh(vertices= face_a, faces= [[2,1,0]])\n",
    "        mesh_b = tm.Trimesh(vertices= face_b, faces= [[2,1,0]])\n",
    "\n",
    "        meshes.append(mesh_a)\n",
    "        meshes.append(mesh_b)\n",
    "\n",
    "    return meshes"
   ]
  },
  {
   "cell_type": "code",
   "execution_count": 156,
   "metadata": {},
   "outputs": [],
   "source": [
    "# this function could be much shorter probably --> 4x almost identical operations, does works fine\n",
    "\n",
    "def construct_vertical_mesh(lat,unit):\n",
    "    vertical_meshes = []\n",
    "    test_points = []\n",
    "    test_point_normals = []\n",
    "\n",
    "    # padding to avoid the rolling issue\n",
    "    input_lattice_padded = np.pad(lat, 1, mode='constant',constant_values=0)\n",
    "\n",
    "    # Y_positive mesh\n",
    "    Y_pos_centroids = find_centroids(lattice= input_lattice_padded, ref_lattice=lat, dir= 1, axes= 1)\n",
    "    Y_pos_mesh = construct_mesh_y_pos(Y_pos_centroids, unit)\n",
    "    vertical_meshes.extend(Y_pos_mesh)\n",
    "\n",
    "    # move the test points so they are not inside mesh edge\n",
    "    Y_pos_text_point = Y_pos_centroids + (lat.unit/2 + 0.01) * [0,-1,0]\n",
    "    test_points.extend(Y_pos_text_point)\n",
    "\n",
    "    # find normal of squares: take every other triangle normal\n",
    "    Y_pos_mesh = tm.util.concatenate(Y_pos_mesh)\n",
    "    Y_pos_normals = Y_pos_mesh.face_normals[::2]\n",
    "    test_point_normals.extend(Y_pos_normals)\n",
    "    \n",
    "    # Y_negative mesh\n",
    "    Y_neg_centroids = find_centroids(lattice= input_lattice_padded, ref_lattice=lat, dir= -1, axes= 1)\n",
    "    Y_neg_mesh = construct_mesh_y_neg(Y_neg_centroids, unit)\n",
    "    vertical_meshes.extend(Y_neg_mesh)\n",
    "\n",
    "    # move the test points so they are not inside mesh edge\n",
    "    Y_neg_text_point = Y_neg_centroids + (lat.unit/2 + 0.01) * [0,1,0]\n",
    "    test_points.extend(Y_neg_text_point)\n",
    "\n",
    "    # find normal of squares: take every other triangle normal\n",
    "    Y_neg_mesh = tm.util.concatenate(Y_neg_mesh)\n",
    "    Y_neg_normals = Y_neg_mesh.face_normals[::2]\n",
    "    test_point_normals.extend(Y_neg_normals)\n",
    "\n",
    "    # X_positive mesh\n",
    "    X_pos_centroids = find_centroids(lattice= input_lattice_padded, ref_lattice=lat, dir= 1, axes= 0)\n",
    "    X_pos_mesh = construct_mesh_x_pos(X_pos_centroids, unit)\n",
    "    vertical_meshes.extend(X_pos_mesh)\n",
    "\n",
    "    # move the test points so they are not inside mesh edge\n",
    "    X_pos_text_point = X_pos_centroids + (lat.unit/2 + 0.01) * [-1,0,0]\n",
    "    test_points.extend(X_pos_text_point)\n",
    "\n",
    "    # find normal of squares: take every other triangle normal\n",
    "    X_pos_mesh = tm.util.concatenate(X_pos_mesh)\n",
    "    X_pos_normals = X_pos_mesh.face_normals[::2]\n",
    "    test_point_normals.extend(X_pos_normals)\n",
    "\n",
    "    # X_negative mesh\n",
    "    X_neg_centroids = find_centroids(lattice= input_lattice_padded, ref_lattice=lat, dir= -1, axes= 0)\n",
    "    X_neg_mesh = construct_mesh_x_neg(X_neg_centroids, unit)\n",
    "    vertical_meshes.extend(X_neg_mesh)\n",
    "\n",
    "    # move the test points so they are not inside mesh edge\n",
    "    X_neg_text_point = X_neg_centroids + (lat.unit/2 + 0.01) * [1,0,0]\n",
    "    test_points.extend(X_neg_text_point)\n",
    "\n",
    "    # find normal of squares: take every other triangle normal\n",
    "    X_neg_mesh = tm.util.concatenate(X_neg_mesh)\n",
    "    X_neg_normals = X_neg_mesh.face_normals[::2]\n",
    "    test_point_normals.extend(X_neg_normals)\n",
    "\n",
    "    return vertical_meshes, test_points, test_point_normals"
   ]
  },
  {
   "cell_type": "code",
   "execution_count": 157,
   "metadata": {},
   "outputs": [],
   "source": [
    "unit = random_lattice.unit"
   ]
  },
  {
   "cell_type": "code",
   "execution_count": 158,
   "metadata": {},
   "outputs": [],
   "source": [
    "facade_mesh, test_points, test_point_normals = construct_vertical_mesh(random_lattice,unit)\n",
    "facade_mesh = tm.util.concatenate(facade_mesh)"
   ]
  },
  {
   "cell_type": "markdown",
   "metadata": {},
   "source": [
    "### Merge meshes"
   ]
  },
  {
   "cell_type": "code",
   "execution_count": 159,
   "metadata": {},
   "outputs": [],
   "source": [
    "def tri_to_pv(tri_mesh):\n",
    "    faces = np.pad(tri_mesh.faces, ((0, 0),(1,0)), 'constant', constant_values=3)\n",
    "    pv_mesh = pv.PolyData(tri_mesh.vertices, faces)\n",
    "    return pv_mesh"
   ]
  },
  {
   "cell_type": "markdown",
   "metadata": {},
   "source": [
    "### 1.x visuzalizing"
   ]
  },
  {
   "cell_type": "code",
   "execution_count": 163,
   "metadata": {},
   "outputs": [
    {
     "data": {
      "application/vnd.jupyter.widget-view+json": {
       "model_id": "cce9294e4fb54606bfa5367e17bc0a3b",
       "version_major": 2,
       "version_minor": 0
      },
      "text/plain": [
       "ViewInteractiveWidget(height=768, layout=Layout(height='auto', width='100%'), width=1024)"
      ]
     },
     "metadata": {},
     "output_type": "display_data"
    },
    {
     "data": {
      "text/plain": [
       "[(218.05727316311544, 98.0572712557668, 158.05727220944112),\n",
       " (60.000000953674316, -60.000000953674316, 0.0),\n",
       " (0.0, 0.0, 1.0)]"
      ]
     },
     "execution_count": 163,
     "metadata": {},
     "output_type": "execute_result"
    }
   ],
   "source": [
    "p = pv.Plotter(notebook=True)\n",
    "\n",
    "p.add_mesh(tri_to_pv(facade_mesh), color='#abd8ff', opacity=1)\n",
    "#random_lattice.fast_vis(p,False,False,opacity=1)\n",
    "p.add_arrows(np.array(test_points),np.array(test_point_normals),mag=5)\n",
    "p.add_points(np.array(test_points))\n",
    "\n",
    "p.show(use_ipyvtk=True)"
   ]
  },
  {
   "cell_type": "code",
   "execution_count": null,
   "metadata": {},
   "outputs": [],
   "source": []
  },
  {
   "cell_type": "code",
   "execution_count": null,
   "metadata": {},
   "outputs": [],
   "source": []
  }
 ],
 "metadata": {
  "interpreter": {
   "hash": "605f37378f8decd54729b74730590eb2917d207ad05faa9b102943824fde243c"
  },
  "kernelspec": {
   "display_name": "Python 3.8.5 64-bit ('thesis': conda)",
   "name": "python3"
  },
  "language_info": {
   "codemirror_mode": {
    "name": "ipython",
    "version": 3
   },
   "file_extension": ".py",
   "mimetype": "text/x-python",
   "name": "python",
   "nbconvert_exporter": "python",
   "pygments_lexer": "ipython3",
   "version": "3.8.5"
  },
  "orig_nbformat": 2
 },
 "nbformat": 4,
 "nbformat_minor": 2
}
