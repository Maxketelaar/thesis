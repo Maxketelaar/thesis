{
 "metadata": {
  "language_info": {
   "codemirror_mode": {
    "name": "ipython",
    "version": 3
   },
   "file_extension": ".py",
   "mimetype": "text/x-python",
   "name": "python",
   "nbconvert_exporter": "python",
   "pygments_lexer": "ipython3",
   "version": "3.8.5-final"
  },
  "orig_nbformat": 2,
  "kernelspec": {
   "name": "python3",
   "display_name": "Python 3.8.5 64-bit ('thesis': conda)",
   "metadata": {
    "interpreter": {
     "hash": "605f37378f8decd54729b74730590eb2917d207ad05faa9b102943824fde243c"
    }
   }
  }
 },
 "nbformat": 4,
 "nbformat_minor": 2,
 "cells": [
  {
   "source": [
    "# Importing libraries"
   ],
   "cell_type": "markdown",
   "metadata": {}
  },
  {
   "cell_type": "code",
   "execution_count": 13,
   "metadata": {},
   "outputs": [],
   "source": [
    "import trimesh as tm\n",
    "import os\n",
    "import pyvista as pv\n",
    "import numpy as np\n",
    "import topogenesis as tg"
   ]
  },
  {
   "source": [
    "# loading lattice and context, setting default values"
   ],
   "cell_type": "markdown",
   "metadata": {}
  },
  {
   "cell_type": "code",
   "execution_count": 14,
   "metadata": {},
   "outputs": [],
   "source": [
    "lattice_path = os.path.relpath(\"../data/voxelized_envelope.csv\")\n",
    "occ_lattice = tg.lattice_from_csv(lattice_path) # a default occupation lattice\n",
    "\n",
    "path = os.path.relpath('../data/my_envelope.obj') # building outer boundaries file path\n",
    "buildingplot = tm.load(path) # load specified building boundary mesh (footprint extruded to max height, will be USER INPUT???)\n",
    "\n",
    "base = buildingplot.apply_transform(tm.transformations.projection_matrix((0,0,0), (0,0,-1))) # project mesh on z plane to get footprint <-- easier way?\n",
    "plot_area = base.area/2 # area calculates both sides of the flattened mesh, we need only 1\n",
    "\n",
    "env_all_vox = occ_lattice.flatten() # flattened lattice of all possible positions, True is occupied, False is unoccupied\n",
    "vox_size = env_all_vox.unit[0] "
   ]
  },
  {
   "source": [
    "# FSI\n",
    "\n",
    "Global objective function\n",
    "\n"
   ],
   "cell_type": "markdown",
   "metadata": {}
  },
  {
   "cell_type": "code",
   "execution_count": 52,
   "metadata": {},
   "outputs": [
    {
     "output_type": "execute_result",
     "data": {
      "text/plain": [
       "3.056270794229774"
      ]
     },
     "metadata": {},
     "execution_count": 52
    }
   ],
   "source": [
    "def FSI(m2_plot, occupationlattice): # FSI based on the plot Area & all occupied cells in the lattice, for 2nd stage\n",
    "    cell_count = sum(i for i in occupationlattice.flatten() if i != False) # <-- maybe rewrite? generator expression possible?\n",
    "    m2_total = vox_size**2*cell_count\n",
    "    FSI = m2_total/m2_plot\n",
    "    return FSI\n",
    "\n",
    "def FSI_lowres(floors, floor_percent=0.75): # quick FSI based on floorcount & plot coverage of the floors, for 1st stage\n",
    "    FSI = floor_percent*floors\n",
    "    return FSI\n",
    "\n",
    "FSI(plot_area, occ_lattice)"
   ]
  },
  {
   "source": [
    "# PV Yield\n",
    "\n",
    "Global objective function"
   ],
   "cell_type": "markdown",
   "metadata": {}
  },
  {
   "cell_type": "code",
   "execution_count": 41,
   "metadata": {},
   "outputs": [],
   "source": [
    "# Annual solar energy output of PV is calculated as follows:\n",
    "# E(kwh) = A*r*H*PR where A = total solar panel area, r = solar panel yield/efficiency, H = Annual average solar radiation, PR = performance ratio\n",
    "# from: https://photovoltaic-software.com/principle-ressources/how-calculate-solar-energy-power-pv-systems \n",
    "\n",
    "r = 0.15 # yield/efficiency estimate\n",
    "H = 1050 # to be updated, currently wikipedia estimate. Slope, tilt, orientation may change values. kWh.y so maybe *365???\n",
    "PR = 0.75 # default value, estimate"
   ]
  },
  {
   "cell_type": "code",
   "execution_count": 48,
   "metadata": {},
   "outputs": [
    {
     "output_type": "execute_result",
     "data": {
      "text/plain": [
       "217350.0"
      ]
     },
     "metadata": {},
     "execution_count": 48
    }
   ],
   "source": [
    "def PV(occupationlattice): # an accurate value (kWh estimate) of the PV potential of the mass <-- this currently uses uniform data for r, H, PR. \n",
    "    occ_shifted_down = np.roll(occupationlattice, (0,0,-1), (0,1,2)) # TODO: check calculation method, seems plausible\n",
    "    roof_mask = (occ_lattice == True)*(occ_shifted_down == False)\n",
    "    roof_mask_lattice = tg.to_lattice(roof_mask, occ_lattice)\n",
    "    cell_count = sum(i for i in roof_mask_lattice.flatten() if i != False) # <-- maybe rewrite? generator expression possible?\n",
    "    A = cell_count*vox_size\n",
    "    E = A*r*H*PR\n",
    "    return E\n",
    "\n",
    "def PV_lowres(floors): # this gives the ratio between roof area and total area, for 1st stage\n",
    "    PV = 1/floors\n",
    "    return PV\n",
    "\n",
    "PV(occ_lattice)"
   ]
  },
  {
   "source": [
    "# Daylighting\n",
    "\n",
    "Local objective function"
   ],
   "cell_type": "markdown",
   "metadata": {}
  },
  {
   "cell_type": "code",
   "execution_count": null,
   "metadata": {},
   "outputs": [],
   "source": []
  },
  {
   "source": [
    "# Zoning\n",
    "\n",
    "Local cost function"
   ],
   "cell_type": "markdown",
   "metadata": {}
  },
  {
   "cell_type": "code",
   "execution_count": null,
   "metadata": {},
   "outputs": [],
   "source": []
  }
 ]
}