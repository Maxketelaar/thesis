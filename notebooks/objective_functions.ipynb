{
 "metadata": {
  "language_info": {
   "codemirror_mode": {
    "name": "ipython",
    "version": 3
   },
   "file_extension": ".py",
   "mimetype": "text/x-python",
   "name": "python",
   "nbconvert_exporter": "python",
   "pygments_lexer": "ipython3",
   "version": "3.8.5-final"
  },
  "orig_nbformat": 2,
  "kernelspec": {
   "name": "python3",
   "display_name": "Python 3.8.5 64-bit ('thesis': conda)",
   "metadata": {
    "interpreter": {
     "hash": "605f37378f8decd54729b74730590eb2917d207ad05faa9b102943824fde243c"
    }
   }
  }
 },
 "nbformat": 4,
 "nbformat_minor": 2,
 "cells": [
  {
   "source": [
    "# Importing libraries"
   ],
   "cell_type": "markdown",
   "metadata": {}
  },
  {
   "cell_type": "code",
   "execution_count": 13,
   "metadata": {},
   "outputs": [],
   "source": [
    "import trimesh as tm\n",
    "import os\n",
    "import pyvista as pv\n",
    "import numpy as np\n",
    "import topogenesis as tg"
   ]
  },
  {
   "source": [
    "# loading lattice and context, getting default values"
   ],
   "cell_type": "markdown",
   "metadata": {}
  },
  {
   "cell_type": "code",
   "execution_count": 14,
   "metadata": {},
   "outputs": [],
   "source": [
    "lattice_path = os.path.relpath(\"../data/voxelized_envelope.csv\")\n",
    "occ_lattice = tg.lattice_from_csv(lattice_path) # a default occupation lattice\n",
    "\n",
    "path = os.path.relpath('../data/my_envelope.obj') # building outer boundaries file path\n",
    "buildingplot = tm.load(path) # load specified building boundary mesh (footprint extruded to max height, will be USER INPUT???)\n",
    "\n",
    "base = buildingplot.apply_transform(tm.transformations.projection_matrix((0,0,0), (0,0,-1))) # project mesh on z plane to get footprint\n",
    "plot_area = base.area/2 # area calculates both sides of the flattened mesh, we need only 1\n",
    "\n",
    "env_all_vox = occ_lattice.flatten() # flattened lattice of all possible positions, True is occupied, False is unoccupied\n",
    "vox_size = env_all_vox.unit[0] "
   ]
  },
  {
   "source": [
    "# FSI\n",
    "\n",
    "Global objective function\n",
    "\n"
   ],
   "cell_type": "markdown",
   "metadata": {}
  },
  {
   "cell_type": "code",
   "execution_count": 15,
   "metadata": {},
   "outputs": [],
   "source": [
    "def FSI(m2_plot, occupationlattice): # FSI based on the plot Area & all occupied cells in the lattice\n",
    "    cell_count = [i for i in occupationlattice if i != False] # <-- maybe rewrite?\n",
    "    m2_total = vox_size**2*len(cell_count)\n",
    "    FSI = m2_total/m2_plot\n",
    "    return FSI\n",
    "\n",
    "def FSI_lowres(floors, floor_percent): # quick FSI based on floorcount & plot coverage of the floors\n",
    "    FSI = floor_percent*floors\n",
    "    return FSI"
   ]
  },
  {
   "source": [
    "# PV Yield\n",
    "\n",
    "Global objective function"
   ],
   "cell_type": "markdown",
   "metadata": {}
  },
  {
   "cell_type": "code",
   "execution_count": 12,
   "metadata": {},
   "outputs": [
    {
     "output_type": "error",
     "ename": "NameError",
     "evalue": "name 'a' is not defined",
     "traceback": [
      "\u001b[1;31m---------------------------------------------------------------------------\u001b[0m",
      "\u001b[1;31mNameError\u001b[0m                                 Traceback (most recent call last)",
      "\u001b[1;32m<ipython-input-12-3f786850e387>\u001b[0m in \u001b[0;36m<module>\u001b[1;34m\u001b[0m\n\u001b[1;32m----> 1\u001b[1;33m \u001b[0ma\u001b[0m\u001b[1;33m\u001b[0m\u001b[1;33m\u001b[0m\u001b[0m\n\u001b[0m",
      "\u001b[1;31mNameError\u001b[0m: name 'a' is not defined"
     ]
    }
   ],
   "source": []
  },
  {
   "source": [
    "# Daylighting\n",
    "\n",
    "Local objective function"
   ],
   "cell_type": "markdown",
   "metadata": {}
  },
  {
   "cell_type": "code",
   "execution_count": null,
   "metadata": {},
   "outputs": [],
   "source": []
  },
  {
   "source": [
    "# Zoning\n",
    "\n",
    "Local cost function"
   ],
   "cell_type": "markdown",
   "metadata": {}
  },
  {
   "cell_type": "code",
   "execution_count": null,
   "metadata": {},
   "outputs": [],
   "source": []
  }
 ]
}