{
 "cells": [
  {
   "cell_type": "code",
   "execution_count": 15,
   "metadata": {},
   "outputs": [],
   "source": [
    "import os\n",
    "import topogenesis as tg\n",
    "import pyvista as pv\n",
    "import trimesh as tm\n",
    "import numpy as np\n",
    "import pickle as pk\n",
    "import resources.RES as res\n",
    "from sklearn.preprocessing import minmax_scale as sk_minmax"
   ]
  },
  {
   "cell_type": "code",
   "execution_count": 16,
   "metadata": {},
   "outputs": [],
   "source": [
    "# retrieve context, maximum extents, and maximum extends as voxelised volume\n",
    "\n",
    "context_path = os.path.relpath(\"../data/movedcontext.obj\") \n",
    "context_mesh = tm.load(context_path)\n",
    "\n",
    "# extents_path = os.path.relpath(\"../data/maximumextents.obj\") \n",
    "# extents_mesh = tm.load(extents_path)\n",
    "\n",
    "env_lat_path = os.path.relpath(\"../data/macrovoxels.csv\")\n",
    "envelope_lattice = tg.lattice_from_csv(env_lat_path)"
   ]
  },
  {
   "cell_type": "code",
   "execution_count": 17,
   "metadata": {},
   "outputs": [],
   "source": [
    "# skydome\n",
    "skydome = pk.load(open(\"../data/skydome.pk\", \"rb\"))"
   ]
  },
  {
   "cell_type": "code",
   "execution_count": 18,
   "metadata": {},
   "outputs": [],
   "source": [
    "# create trimesh cuboids for computing intersections\n",
    "def transform_mat(value):\n",
    "    mat = np.identity(4)\n",
    "    mat[:3,-1] = np.array(value)\n",
    "    return mat"
   ]
  },
  {
   "cell_type": "code",
   "execution_count": 19,
   "metadata": {},
   "outputs": [],
   "source": [
    "# voxel cuboid meshes\n",
    "vox_cuboids = [tm.creation.box(envelope_lattice.unit, transform=transform_mat(ct)) for ct in envelope_lattice.centroids]\n",
    "\n",
    "# number of faces per voxel\n",
    "f_numb = len(vox_cuboids[0].faces)\n",
    "\n",
    "# combine voxels into one mesh\n",
    "combined_voxels = tm.util.concatenate(vox_cuboids)"
   ]
  },
  {
   "cell_type": "code",
   "execution_count": 20,
   "metadata": {},
   "outputs": [],
   "source": [
    "# combine voxels and context into one mesh\n",
    "combined_meshes = tm.util.concatenate(combined_voxels, context_mesh)\n",
    "\n",
    "# shoot towards the skydome points from all of the voxels\n",
    "DL_ray_ctr = np.tile(skydome, [len(envelope_lattice.centroids),1]) # daylighting ray for each centroid\n",
    "DL_ctr_ray = np.tile(envelope_lattice.centroids, [1, len(skydome)]).reshape(-1, 3) # daylighting centroid for each ray"
   ]
  },
  {
   "cell_type": "code",
   "execution_count": 21,
   "metadata": {},
   "outputs": [],
   "source": [
    "# intersection of rays from voxel centroids to sky patch objects with all voxel faces\n",
    "face_id, ray_id = combined_meshes.ray.intersects_id(ray_origins=DL_ctr_ray, ray_directions=DL_ray_ctr, multiple_hits=True) # environment too complex? Takes about 70s"
   ]
  },
  {
   "cell_type": "code",
   "execution_count": 22,
   "metadata": {},
   "outputs": [],
   "source": [
    "G1, U1 = res.construct_graph(skydome, face_id, ray_id, envelope_lattice, f_numb)"
   ]
  },
  {
   "cell_type": "code",
   "execution_count": 23,
   "metadata": {},
   "outputs": [],
   "source": [
    "# save interedependencies for later use\n",
    "pk.dump(G1, open(\"../data/SkyG1.pk\", \"wb\"))\n",
    "\n",
    "# save obstructions for later use\n",
    "pk.dump(U1, open(\"../data/SkyU1.pk\", \"wb\"))"
   ]
  },
  {
   "cell_type": "code",
   "execution_count": 24,
   "metadata": {},
   "outputs": [],
   "source": [
    "# sum per row twice\n",
    "sky_obstructed = (G1.sum(axis=1)).sum(axis=1)\n",
    "\n",
    "# sum per column and then per row\n",
    "sky_obstructing = (G1.sum(axis=0)).sum(axis=1)"
   ]
  },
  {
   "cell_type": "code",
   "execution_count": 25,
   "metadata": {},
   "outputs": [],
   "source": [
    "def reshape_and_store_to_lattice(values_list, envelope_lattice):\n",
    "    env_all_vox_id = envelope_lattice.indices.flatten()\n",
    "    env_all_vox = envelope_lattice.flatten() # envelope inclusion condition: True-False\n",
    "    env_in_vox_id = env_all_vox_id[env_all_vox] # keep in-envelope voxels (True)\n",
    "\n",
    "    # initialize array\n",
    "    values_array = np.full(env_all_vox.shape, 0.0)\n",
    "    \n",
    "    # store values for the in-envelope voxels\n",
    "    values_array[env_in_vox_id] = values_list\n",
    "\n",
    "    # reshape to lattice shape\n",
    "    values_array_3d = values_array.reshape(envelope_lattice.shape)\n",
    "\n",
    "    # convert to lattice\n",
    "    values_lattice = tg.to_lattice(values_array_3d, envelope_lattice)\n",
    "\n",
    "    return values_lattice"
   ]
  },
  {
   "cell_type": "code",
   "execution_count": 26,
   "metadata": {},
   "outputs": [],
   "source": [
    "# apply weight to sky patches/points (currently weight of 1 uniformly)\n",
    "w1 = np.ones(len(skydome))\n",
    "\n",
    "# dot product with ray weights\n",
    "o1 = np.array(np.dot(G1.sum(axis=1),w1), dtype='int64') # sun blocking\n",
    "o2 = np.array(np.dot(G1.sum(axis=0),w1), dtype='int64') # sun blocked\n",
    "\n",
    "# obscurity cost formula (hadamard product)\n",
    "c2 = np.multiply(o1+1, o2+1)\n",
    "\n",
    "# normalize values\n",
    "c2_norm = sk_minmax(c2) # voxel daylighting potential\n",
    "\n",
    "# reshape and store to lattice\n",
    "c2_lat = reshape_and_store_to_lattice(c2_norm, envelope_lattice)"
   ]
  },
  {
   "cell_type": "code",
   "execution_count": 27,
   "metadata": {},
   "outputs": [],
   "source": [
    "# save normalized values for later use\n",
    "pk.dump(c2_norm, open(\"../data/c2_norm.pk\", \"wb\"))\n",
    "# normalized values of sky blocking/sky blocked cost of each voxel"
   ]
  },
  {
   "cell_type": "code",
   "execution_count": 28,
   "metadata": {},
   "outputs": [
    {
     "data": {
      "application/vnd.jupyter.widget-view+json": {
       "model_id": "54519e47341f4ab2b19135cd9aec4908",
       "version_major": 2,
       "version_minor": 0
      },
      "text/plain": [
       "ViewInteractiveWidget(height=768, layout=Layout(height='auto', width='100%'), width=1024)"
      ]
     },
     "metadata": {},
     "output_type": "display_data"
    },
    {
     "data": {
      "text/plain": [
       "[(788.6785661399646, 711.2621611399645, 723.5957336399646),\n",
       " (65.08283250000001, -12.333572500000002, 0.0),\n",
       " (0.0, 0.0, 1.0)]"
      ]
     },
     "execution_count": 28,
     "metadata": {},
     "output_type": "execute_result"
    }
   ],
   "source": [
    "# visualize daylighting potential values \n",
    "p = pv.Plotter(notebook=True)\n",
    "\n",
    "def tri_to_pv(tri_mesh):\n",
    "    faces = np.pad(tri_mesh.faces, ((0, 0),(1,0)), 'constant', constant_values=3)\n",
    "    pv_mesh = pv.PolyData(tri_mesh.vertices, faces)\n",
    "    return pv_mesh\n",
    "\n",
    "# fast visualization of the lattice\n",
    "# envelope_lattice.fast_vis(p)\n",
    "\n",
    "# add context\n",
    "p.add_mesh(tri_to_pv(context_mesh), opacity=0.1, style='wireframe')\n",
    "\n",
    "base_lattice = c2_lat\n",
    "grid = pv.UniformGrid() # Create the spatial reference\n",
    "grid.dimensions = np.array(base_lattice.shape) + 1 # Set the grid dimensions\n",
    "grid.origin = base_lattice.minbound - 0.5 * base_lattice.unit # The bottom left corner of the data set\n",
    "grid.spacing = base_lattice.unit # These are the cell sizes along each axis\n",
    "\n",
    "# Add the data values to the cell data\n",
    "# grid.point_arrays[\"Score\"] = base_lattice.flatten(order=\"F\")  # Flatten the Lattice\n",
    "grid.cell_arrays[\"Score\"] = base_lattice.flatten(order=\"F\")  # Flatten the Lattice\n",
    "# adding the volume\n",
    "opacity = np.array([0,0.6,0.6,0.6,0.6,0.6,0.6])*1.0\n",
    "p.add_volume(grid, cmap=\"coolwarm\", clim=[base_lattice.min(), base_lattice.max()],opacity=opacity, shade=True)\n",
    "\n",
    "# plotting\n",
    "p.show(use_ipyvtk=True)"
   ]
  }
 ],
 "metadata": {
  "interpreter": {
   "hash": "605f37378f8decd54729b74730590eb2917d207ad05faa9b102943824fde243c"
  },
  "kernelspec": {
   "display_name": "Python 3.8.5 64-bit ('thesis': conda)",
   "name": "python3"
  },
  "language_info": {
   "codemirror_mode": {
    "name": "ipython",
    "version": 3
   },
   "file_extension": ".py",
   "mimetype": "text/x-python",
   "name": "python",
   "nbconvert_exporter": "python",
   "pygments_lexer": "ipython3",
   "version": "3.8.5"
  },
  "orig_nbformat": 4
 },
 "nbformat": 4,
 "nbformat_minor": 2
}
