{
 "cells": [
  {
   "cell_type": "code",
   "execution_count": 1,
   "metadata": {},
   "outputs": [],
   "source": [
    "import os\n",
    "import topogenesis as tg\n",
    "import pyvista as pv\n",
    "import trimesh as tm\n",
    "import numpy as np\n",
    "import scipy as sp\n",
    "import math as m\n",
    "import pickle as pk\n",
    "import resources.RES as res\n",
    "# import resources.res.store_interdependencies\n",
    "from ladybug.sunpath import Sunpath as sp\n",
    "from sklearn.preprocessing import minmax_scale as sk_minmax\n",
    "import pymorton as pm\n",
    "import pygmo as pg"
   ]
  },
  {
   "cell_type": "code",
   "execution_count": 2,
   "metadata": {},
   "outputs": [],
   "source": [
    "# import lattice\n",
    "env_lat_path = os.path.relpath(\"../data/macrovoxels.csv\")\n",
    "envelope_lattice = tg.lattice_from_csv(env_lat_path)\n",
    "\n",
    "# plot dimensions - USER INPUT\n",
    "plot_area = 6000\n",
    "\n",
    "# required FSI - USER INPUT\n",
    "FSI = 3\n",
    "\n",
    "area_req = FSI * plot_area\n",
    "voxs_req = int(area_req / (envelope_lattice.unit[0] * envelope_lattice.unit[1]))\n",
    "\n",
    "# number of variables:\n",
    "num_var = envelope_lattice.flatten().shape[0]\n",
    "\n",
    "# actual PV sun obstructing cost array:\n",
    "# c1_norm = pk.load(open(\"../data/c1_norm.pk\", \"rb\"))\n",
    "sol_interd = pk.load(open(\"../data/SolG1.pk\", \"rb\")) # interdependencies\n",
    "sol_blocks = pk.load(open(\"../data/SolU1.pk\", \"rb\")) # context blocks\n",
    "\n",
    "# actual daylighting obstructing cost array:\n",
    "# c2_norm = pk.load(open(\"../data/c2_norm.pk\", \"rb\"))\n",
    "sky_interd = pk.load(open(\"../data/SkyG1.pk\", \"rb\")) # interdependencies\n",
    "sky_blocks = pk.load(open(\"../data/SkyU1.pk\", \"rb\")) # context blocks\n",
    "\n",
    "# actual sky view factor obstructing cost array:\n",
    "svf_norm = pk.load(open(\"../data/svf_norm.pk\", \"rb\"))\n",
    "svf_interd = pk.load(open(\"../data/SvFG1.pk\", \"rb\")) # interdependencies\n",
    "svf_blocks = pk.load(open(\"../data/SvFU1.pk\", \"rb\")) # context blocks\n",
    "\n",
    "dnr = pk.load(open(\"../data/dnrval.pk\", \"rb\")) # direct normal radiation\n",
    "\n",
    "nums = (np.random.rand(125) > 0.5).astype(int) # random numbers for testing functions"
   ]
  },
  {
   "cell_type": "code",
   "execution_count": 3,
   "metadata": {},
   "outputs": [],
   "source": [
    "def solarhits(interdependencies, contextblocks, radiation, x):\n",
    "    \n",
    "    # mask for finding active voxels that may block the rays\n",
    "    blockedrays = x[np.newaxis, :, np.newaxis] * interdependencies # all rays that are blocked by the 'active' voxels\n",
    "\n",
    "    blocked = np.sum(blockedrays, axis=1, dtype='int') # how many times each ray is blocked by another active voxel for each voxel\n",
    "    context_blocks = x[:, np.newaxis] * contextblocks # whether a ray is blocked by the environment for each voxel\n",
    "    total_blocks = context_blocks + blocked\n",
    "\n",
    "    dnr_reshape = radiation[np.newaxis, :]\n",
    "\n",
    "    reaches = np.where(total_blocks == 0, 1, 0) # outputs 1 if a ray can reach the voxel, else it outputs 0\n",
    "    weighted_hits = dnr_reshape * reaches # optional weighting of the rays\n",
    "\n",
    "    hits = np.sum(reaches, axis=1) # total number of rays that can reach the current configuration\n",
    "    directradiation = np.sum(weighted_hits, axis=1) # total direct normal radiation on the voxels TODO: do we want to use this?\n",
    "\n",
    "    possiblehits = (np.count_nonzero(x) * interdependencies.shape[2]) - context_blocks.sum()\n",
    "    \n",
    "    score = hits.sum()/possiblehits\n",
    "    return score #, weightedscore"
   ]
  },
  {
   "cell_type": "code",
   "execution_count": 4,
   "metadata": {},
   "outputs": [],
   "source": [
    "def skyhits(interdependencies, contextblocks, x):\n",
    "    \n",
    "    # mask for finding active voxels that may block the rays\n",
    "    blockedrays = x[np.newaxis, :, np.newaxis] * interdependencies # all rays that are blocked by the 'active' voxels\n",
    "\n",
    "    blocked = np.sum(blockedrays, axis=1, dtype='int') # how many times each ray is blocked by another active voxel for each voxel\n",
    "    context_blocks = x[:, np.newaxis] * contextblocks # whether a ray is blocked by the environment for each voxel\n",
    "    total_blocks = context_blocks + blocked\n",
    "\n",
    "    reaches = np.where(total_blocks == 0, 1, 0) # outputs 1 if a ray can reach the voxel, else it outputs 0\n",
    "\n",
    "    hits = np.sum(reaches, axis=1) # total number of rays that can reach the current configuration\n",
    "\n",
    "    possiblehits = (np.count_nonzero(x) * interdependencies.shape[2]) - context_blocks.sum()\n",
    "    \n",
    "    score = hits.sum()/possiblehits\n",
    "    return score #, weightedscore"
   ]
  },
  {
   "cell_type": "code",
   "execution_count": 5,
   "metadata": {},
   "outputs": [],
   "source": [
    "def reshape_and_store_to_lattice(values_list, envelope_lattice):\n",
    "    env_all_vox_id = envelope_lattice.indices.flatten()\n",
    "    env_all_vox = envelope_lattice.flatten() # envelope inclusion condition: True-False\n",
    "    env_in_vox_id = env_all_vox_id[env_all_vox] # keep in-envelope voxels (True)\n",
    "\n",
    "    # initialize array\n",
    "    values_array = np.full(env_all_vox.shape, 0.0)\n",
    "    \n",
    "    # store values for the in-envelope voxels\n",
    "    values_array[env_in_vox_id] = values_list\n",
    "\n",
    "    # reshape to lattice shape\n",
    "    values_array_3d = values_array.reshape(envelope_lattice.shape)\n",
    "\n",
    "    # convert to lattice\n",
    "    values_lattice = tg.to_lattice(values_array_3d, envelope_lattice)\n",
    "\n",
    "    return values_lattice"
   ]
  },
  {
   "cell_type": "code",
   "execution_count": 6,
   "metadata": {},
   "outputs": [],
   "source": [
    "def compactness(x, reference_lattice):\n",
    "    # create the current configuration as a lattice\n",
    "    curr_envelope = reshape_and_store_to_lattice(x.astype('bool'), reference_lattice)\n",
    "    # flatten the envelope\n",
    "    envlp_voxs = curr_envelope.flatten()\n",
    "\n",
    "    # create stencil\n",
    "    stencil = tg.create_stencil(\"von_neumann\", 1, 1)\n",
    "    stencil.set_index([0,0,0], 0)\n",
    "\n",
    "    # find indices of the neighbours for each voxel \n",
    "    neighs = curr_envelope.find_neighbours(stencil)\n",
    "\n",
    "    # occupation status for the neighbours for each voxel\n",
    "    neighs_status = envlp_voxs[neighs]\n",
    "\n",
    "    # for voxels inside the envelope:\n",
    "    neigh_array = np.array(neighs_status[envlp_voxs.astype(\"bool\")])  \n",
    "\n",
    "    # when the neighbour's status is False that refers to an outer face\n",
    "    outer_faces = np.count_nonzero(neigh_array==0)\n",
    "\n",
    "    # voxel edge length\n",
    "    l = envelope_lattice.unit[0] # TODO: can we leave this dimension out?\n",
    "\n",
    "    # calculate total surface area of outer faces\n",
    "    A_exterior = (l**2)*outer_faces\n",
    "\n",
    "    # number of in-envelope voxels\n",
    "    in_voxels = np.count_nonzero(x)\n",
    "\n",
    "    # calculate total volume inclosed in the envelope\n",
    "    V = in_voxels * (l**3)\n",
    "\n",
    "    # edge length of a cube that has the same volume\n",
    "    l_ref = V**(1/3)\n",
    "\n",
    "    # calculate ratio\n",
    "    R_ref = (6*(l_ref**2))/V\n",
    "\n",
    "    relative_compactness = (A_exterior/V)/R_ref\n",
    "    return relative_compactness"
   ]
  },
  {
   "cell_type": "code",
   "execution_count": 16,
   "metadata": {},
   "outputs": [],
   "source": [
    "class test_python:\n",
    "\n",
    "    # Number of dimensions\n",
    "    def __init__(self,dim,envelope):\n",
    "        self.dim = dim\n",
    "\n",
    "    # Define objectives    \n",
    "    def fitness(self, x):\n",
    "        # direct normal radiation on voxel roofs (PV potential)\n",
    "        # f1 = -solarhits(sol_interd, sol_blocks, dnr, x)\n",
    "\n",
    "        # daylighting (sky visibility from building)\n",
    "        #f2 = -skyhits(sky_interd, sky_blocks, x) # daylighting potential of voxels\n",
    "\n",
    "        # floor space index\n",
    "        f3 = -(1 - (abs(voxs_req - sum(x)))/voxs_req) # TODO: this constrains the model too much\n",
    "\n",
    "        # sky view factor from street level around plot\n",
    "        f4 = sum(svf_norm[np.nonzero(x)])\n",
    "\n",
    "        # relative compactness\n",
    "        #f5 = -compactness(x, envelope_lattice)\n",
    "\n",
    "        return [f3, f4]\n",
    "    \n",
    "    # Return number of objectives\n",
    "    def get_nobj(self):\n",
    "        return 2\n",
    "\n",
    "    # Return bounds of decision variables\n",
    "    def get_bounds(self):\n",
    "        return (np.full((self.dim,),0.),np.full((self.dim,),1.))\n",
    "\n",
    "    # return number of integer variables (all variables are integer in this case TODO: transparency vectors for smoother shapes/results)\n",
    "    def get_nix(self):\n",
    "        return self.dim\n",
    "\n",
    "    # Return function name\n",
    "    def get_name(self):\n",
    "        return \"Test function MAX no.1\""
   ]
  },
  {
   "cell_type": "code",
   "execution_count": 17,
   "metadata": {},
   "outputs": [],
   "source": [
    "# create User Defined Problem\n",
    "prob = pg.problem(test_python(dim = num_var, envelope=envelope_lattice))"
   ]
  },
  {
   "cell_type": "code",
   "execution_count": 25,
   "metadata": {},
   "outputs": [],
   "source": [
    "# create population\n",
    "pop = pg.population(prob, size=8)\n",
    "\n",
    "# select algorithm --> ihs nsga2 maco for integers\n",
    "# maco seems slow, unreliable\n",
    "# ihs seems fastest but not always yields results that make sense\n",
    "# nsga2 is most consistent with results, average speed\n",
    "\n",
    "# TODO: continuous in stead of discrete/integer\n",
    "algo = pg.algorithm(pg.nsga2(gen=100))\n",
    "\n",
    "# run optimization\n",
    "pop = algo.evolve(pop)\n",
    "\n",
    "# extract results\n",
    "fits, vectors = pop.get_f(), pop.get_x()\n",
    "\n",
    "# extract and print non-dominated fronts\n",
    "ndf, dl, dc, ndr = pg.fast_non_dominated_sorting(fits)\n",
    "\n",
    "# ax = pg.plot_non_dominated_fronts(pop.get_f()) # plotting the non dominated fronts #TODO: what exactly does this mean in this context"
   ]
  },
  {
   "cell_type": "code",
   "execution_count": 26,
   "metadata": {},
   "outputs": [],
   "source": [
    "best = pg.sort_population_mo(points = pop.get_f())[0] # the best solutions (by population)"
   ]
  },
  {
   "cell_type": "code",
   "execution_count": 27,
   "metadata": {},
   "outputs": [
    {
     "name": "stdout",
     "output_type": "stream",
     "text": [
      "The best configuration is: \n",
      " [0. 0. 1. 1. 0. 1. 1. 0. 1. 1. 0. 1. 1. 0. 0. 0. 0. 0. 0. 1. 0. 0. 0. 0.\n",
      " 1. 0. 0. 0. 1. 1. 1. 0. 1. 1. 1. 0. 1. 1. 1. 1. 1. 1. 1. 0. 1. 0. 0. 0.\n",
      " 1. 1. 1. 0. 1. 0. 1. 0. 1. 1. 1. 1. 0. 1. 0. 1. 1. 1. 1. 1. 0. 1. 0. 1.\n",
      " 1. 1. 1. 0. 0. 1. 1. 0. 1. 1. 1. 1. 1. 1. 1. 1. 1. 1. 0. 0. 0. 1. 1. 1.\n",
      " 1. 0. 1. 1. 1. 0. 0. 1. 1. 1. 0. 1. 1. 0. 0. 1. 0. 1. 1. 0. 1. 1. 1. 1.\n",
      " 1. 1. 1. 1. 1.] \n",
      " It's fitness is:  [-1.         24.25954198] \n",
      " This is population # 0\n"
     ]
    }
   ],
   "source": [
    "print(\"The best configuration is: \\n\", pop.get_x()[best], \"\\n It's fitness is: \", pop.get_f()[best], \"\\n This is population #\", best)"
   ]
  },
  {
   "cell_type": "code",
   "execution_count": 28,
   "metadata": {},
   "outputs": [
    {
     "data": {
      "text/plain": [
       "80"
      ]
     },
     "execution_count": 28,
     "metadata": {},
     "output_type": "execute_result"
    }
   ],
   "source": [
    "np.count_nonzero(pop.get_x()[best]) # TODO: does the FSI fitness requirement constrain the model too much? \n",
    "# TODO: should the other fitness functions be normalized (again) so that all objectives can achieve a maximum of -1? --> increases computation time without changing results"
   ]
  },
  {
   "cell_type": "code",
   "execution_count": 29,
   "metadata": {},
   "outputs": [],
   "source": [
    "def reshape_and_store_to_lattice(values_list, envelope_lattice):\n",
    "    env_all_vox_id = envelope_lattice.indices.flatten()\n",
    "    env_all_vox = envelope_lattice.flatten() # envelope inclusion condition: True-False\n",
    "    env_in_vox_id = env_all_vox_id[env_all_vox] # keep in-envelope voxels (True)\n",
    "\n",
    "    # initialize array\n",
    "    values_array = np.full(env_all_vox.shape, 0.0)\n",
    "    \n",
    "    # store values for the in-envelope voxels\n",
    "    values_array[env_in_vox_id] = values_list\n",
    "\n",
    "    # reshape to lattice shape\n",
    "    values_array_3d = values_array.reshape(envelope_lattice.shape)\n",
    "\n",
    "    # convert to lattice\n",
    "    values_lattice = tg.to_lattice(values_array_3d, envelope_lattice)\n",
    "\n",
    "    return values_lattice"
   ]
  },
  {
   "cell_type": "code",
   "execution_count": 30,
   "metadata": {},
   "outputs": [],
   "source": [
    "configuration = reshape_and_store_to_lattice(pop.get_x()[best], envelope_lattice)"
   ]
  },
  {
   "cell_type": "code",
   "execution_count": 31,
   "metadata": {},
   "outputs": [
    {
     "data": {
      "application/vnd.jupyter.widget-view+json": {
       "model_id": "34ca8f86b69a401d8291746199ad4830",
       "version_major": 2,
       "version_minor": 0
      },
      "text/plain": [
       "ViewInteractiveWidget(height=768, layout=Layout(height='auto', width='100%'), width=1024)"
      ]
     },
     "metadata": {},
     "output_type": "display_data"
    },
    {
     "data": {
      "text/plain": [
       "[(204.88887394336027, 84.88887394336027, 144.88887394336027),\n",
       " (60.0, -60.0, 0.0),\n",
       " (0.0, 0.0, 1.0)]"
      ]
     },
     "execution_count": 31,
     "metadata": {},
     "output_type": "execute_result"
    }
   ],
   "source": [
    "# visualize configuration \n",
    "p = pv.Plotter(notebook=True)\n",
    "\n",
    "# fast visualization of the lattice\n",
    "configuration.fast_vis(p)\n",
    "\n",
    "# plotting\n",
    "p.show(use_ipyvtk=True)"
   ]
  },
  {
   "cell_type": "code",
   "execution_count": null,
   "metadata": {},
   "outputs": [],
   "source": []
  }
 ],
 "metadata": {
  "interpreter": {
   "hash": "605f37378f8decd54729b74730590eb2917d207ad05faa9b102943824fde243c"
  },
  "kernelspec": {
   "display_name": "Python 3.8.5 64-bit ('thesis': conda)",
   "name": "python3"
  },
  "language_info": {
   "codemirror_mode": {
    "name": "ipython",
    "version": 3
   },
   "file_extension": ".py",
   "mimetype": "text/x-python",
   "name": "python",
   "nbconvert_exporter": "python",
   "pygments_lexer": "ipython3",
   "version": "3.8.5"
  },
  "orig_nbformat": 4
 },
 "nbformat": 4,
 "nbformat_minor": 2
}
