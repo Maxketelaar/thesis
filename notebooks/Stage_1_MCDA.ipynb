{
 "metadata": {
  "language_info": {
   "codemirror_mode": {
    "name": "ipython",
    "version": 3
   },
   "file_extension": ".py",
   "mimetype": "text/x-python",
   "name": "python",
   "nbconvert_exporter": "python",
   "pygments_lexer": "ipython3",
   "version": "3.8.5-final"
  },
  "orig_nbformat": 2,
  "kernelspec": {
   "name": "python3",
   "display_name": "Python 3.8.5 64-bit ('thesis': conda)",
   "metadata": {
    "interpreter": {
     "hash": "605f37378f8decd54729b74730590eb2917d207ad05faa9b102943824fde243c"
    }
   }
  }
 },
 "nbformat": 4,
 "nbformat_minor": 2,
 "cells": [
  {
   "source": [
    "# STAGE 1 scikit + ortools implementation\n"
   ],
   "cell_type": "markdown",
   "metadata": {}
  },
  {
   "cell_type": "code",
   "execution_count": 1,
   "metadata": {},
   "outputs": [],
   "source": [
    "import trimesh as tm\n",
    "import pyvista as pv\n",
    "import numpy as np\n",
    "import topogenesis as tg\n",
    "\n",
    "import bisect # use interval?\n",
    "import os\n",
    "import copy\n",
    "import math\n",
    "\n",
    "from intervals import interval # use bisect?\n",
    "from ortools.linear_solver import pywraplp\n",
    "from skcriteria import Data, MIN, MAX"
   ]
  },
  {
   "source": [
    "## loading lattice and context, setting default values"
   ],
   "cell_type": "markdown",
   "metadata": {}
  },
  {
   "cell_type": "code",
   "execution_count": 2,
   "metadata": {},
   "outputs": [],
   "source": [
    "lattice_path = os.path.relpath(\"../data/voxelized_envelope.csv\")\n",
    "occ_lattice = tg.lattice_from_csv(lattice_path) # a default occupation lattice\n",
    "\n",
    "path = os.path.relpath('../data/my_envelope.obj') # building outer boundaries file path\n",
    "buildingplot = tm.load(path) # load specified building boundary mesh (footprint extruded to max height TODO: will be USER INPUT???)\n",
    "\n",
    "env_all_vox = occ_lattice.flatten() # flattened lattice of all possible positions, True is occupied, False is unoccupied\n",
    "\n",
    "# ^ TODO: make into dynamic lattice of current envelope\n",
    "\n",
    "vox_size = env_all_vox.unit[0] \n",
    "\n",
    "max_extents_height = abs(buildingplot.bounds[0][2]) + abs(buildingplot.bounds[1][2])\n",
    "max_extents_width = abs(buildingplot.bounds[0][0]) + abs(buildingplot.bounds[1][0])\n",
    "max_extents_length = abs(buildingplot.bounds[0][1]) + abs(buildingplot.bounds[1][1])"
   ]
  },
  {
   "cell_type": "code",
   "execution_count": 3,
   "metadata": {},
   "outputs": [],
   "source": [
    "base = buildingplot.apply_transform(tm.transformations.projection_matrix((0,0,0), (0,0,-1))) # project mesh on z plane to get footprint <-- easier way?\n",
    "plot_area = base.area/2 # area calculates both sides of the flattened mesh, we need only 1\n",
    "FSI_req = 4 # goal for the FSI TODO: to be decided by user"
   ]
  },
  {
   "cell_type": "code",
   "execution_count": 4,
   "metadata": {},
   "outputs": [],
   "source": [
    "# Annual solar energy output of PV is calculated as follows:\n",
    "# E(kwh) = A*r*H*PR where A = total solar panel area, r = solar panel yield/efficiency, H = Annual average solar radiation, PR = performance ratio\n",
    "# from this site TODO find better source: https://photovoltaic-software.com/principle-ressources/how-calculate-solar-energy-power-pv-systems \n",
    "\n",
    "r = 0.15 # yield/efficiency estimate\n",
    "H = 1050 # to be updated, currently wikipedia estimate. Slope, tilt, orientation may change values. kWh.y so maybe *365???\n",
    "PR = 0.75 # default value, estimate\n",
    "PV_req = 2 # kWh/m2/year TODO: change to actual expected value from included colors"
   ]
  },
  {
   "source": [
    "## decision variables"
   ],
   "cell_type": "markdown",
   "metadata": {}
  },
  {
   "cell_type": "code",
   "execution_count": 5,
   "metadata": {},
   "outputs": [],
   "source": [
    "# length int x>0\n",
    "# width int x>0\n",
    "# floor_count int x>1\n",
    "# orientation float 0<x>360\n",
    "\n",
    "# starting settings\n",
    "f = 3 # number of floors\n",
    "fh = 3.6 # floor height\n",
    "l = 10 # envelope length\n",
    "w = 20 # envelope width\n",
    "h = f*fh # envelope height\n",
    "deg = np.radians(225) # envelope rotation in radians\n",
    "\n",
    "box = tm.creation.box((l,w,h))\n",
    "box1 = copy.deepcopy(box) # copies are made to distinguish between original geometry (may be needed later) and new geometry\n",
    "box2 = copy.deepcopy(box) # not sure if copying is necessary here TODO: find a way to create NEW instances directly by applying transforms instead of this\n",
    "\n",
    "matrix = tm.transformations.rotation_matrix(deg, (0,0,1))\n",
    "trans = tm.transformations.transform_around(matrix, box.centroid)\n",
    "\n",
    "box3 = box1.apply_transform(trans)\n",
    "\n",
    "# TODO: make variable variables - see below"
   ]
  },
  {
   "source": [
    "## variables - OR-Tools"
   ],
   "cell_type": "markdown",
   "metadata": {}
  },
  {
   "cell_type": "code",
   "execution_count": 6,
   "metadata": {},
   "outputs": [],
   "source": [
    "solver = pywraplp.Solver.CreateSolver(\"GLOP\") # GLOP and SCIP get different results, also different results at different times --> different solvers? GUROBI?\n",
    "infinity = math.inf\n",
    "\n",
    "a = solver.IntVar(1.0, infinity, 'floors')\n",
    "b = solver.IntVar(10.0, infinity, 'length')\n",
    "c = solver.IntVar(10.0, infinity, 'width')\n",
    "d = solver.IntVar(0.0, 90.0, 'rotation')\n"
   ]
  },
  {
   "source": [
    "## constraints - OR-Tools"
   ],
   "cell_type": "markdown",
   "metadata": {}
  },
  {
   "cell_type": "code",
   "execution_count": 7,
   "metadata": {},
   "outputs": [
    {
     "output_type": "execute_result",
     "data": {
      "text/plain": [
       "<ortools.linear_solver.pywraplp.Constraint; proxy of <Swig Object of type 'operations_research::MPConstraint *' at 0x000001BED7E74720> >"
      ]
     },
     "metadata": {},
     "execution_count": 7
    }
   ],
   "source": [
    "solver.Add(a * fh <= max_extents_height)\n",
    "# solver.Add(b * math.cos(d.solution_value()) + c * math.sin(d.solution_value()) <= max_extents_length) # not sure if this works as it is supposed to right now\n",
    "# solver.Add(c * math.cos(d.solution_value()) + b * math.sin(d.solution_value()) <= max_extents_width) # not sure if this works like it is supposed to right now"
   ]
  },
  {
   "source": [
    "## objective functions"
   ],
   "cell_type": "markdown",
   "metadata": {}
  },
  {
   "cell_type": "code",
   "execution_count": 8,
   "metadata": {},
   "outputs": [
    {
     "output_type": "stream",
     "name": "stdout",
     "text": [
      "0.060386007650769\n"
     ]
    }
   ],
   "source": [
    "def FSI(m2_plot, occupationlattice): # FSI based on the plot Area & all occupied cells in the lattice, for 2nd stage\n",
    "    cell_count = sum(i for i in occupationlattice.flatten() if i != False) # <-- maybe rewrite? generator expression possible?\n",
    "    m2_total = vox_size**2*cell_count\n",
    "    FSI = m2_total/m2_plot\n",
    "    return FSI\n",
    "\n",
    "def FSI_lowres(floors, floor_percent=0.75): # quick FSI based on floorcount & plot coverage of the floors, for 1st stage\n",
    "    FSI = floor_percent*floors\n",
    "    return FSI\n",
    "\n",
    "def FSI_normalize(FSI, target): # normalizes the achieved FSI to the target FSI as a score of 0 to 1\n",
    "    FSI_score = 1/(1+(FSI-target)**2)\n",
    "    return FSI_score\n",
    "\n",
    "aa = FSI_normalize(FSI_lowres(10, (10*10)/plot_area), FSI_req)\n",
    "print(aa)"
   ]
  },
  {
   "source": [
    "## objective - OR-Tools"
   ],
   "cell_type": "markdown",
   "metadata": {}
  },
  {
   "cell_type": "code",
   "execution_count": 32,
   "metadata": {},
   "outputs": [
    {
     "output_type": "stream",
     "name": "stdout",
     "text": [
      "Solution:\nObjective value = 0.05897708883622576\nfloors = 1.0\nwidth = 10.0\nlength = 10.0\nrotation = 90.0\n"
     ]
    },
    {
     "output_type": "error",
     "ename": "AttributeError",
     "evalue": "'Solver' object has no attribute 'GetIntegerParam'",
     "traceback": [
      "\u001b[1;31m---------------------------------------------------------------------------\u001b[0m",
      "\u001b[1;31mAttributeError\u001b[0m                            Traceback (most recent call last)",
      "\u001b[1;32m<ipython-input-32-d98b57f69d09>\u001b[0m in \u001b[0;36m<module>\u001b[1;34m\u001b[0m\n\u001b[0;32m     18\u001b[0m     \u001b[0mprint\u001b[0m\u001b[1;33m(\u001b[0m\u001b[1;34m'The problem does not have an optimal solution.'\u001b[0m\u001b[1;33m,\u001b[0m \u001b[0mstatus\u001b[0m\u001b[1;33m,\u001b[0m \u001b[0mpywraplp\u001b[0m\u001b[1;33m.\u001b[0m\u001b[0mSolver\u001b[0m\u001b[1;33m.\u001b[0m\u001b[0mOPTIMAL\u001b[0m\u001b[1;33m)\u001b[0m\u001b[1;33m\u001b[0m\u001b[1;33m\u001b[0m\u001b[0m\n\u001b[0;32m     19\u001b[0m \u001b[1;33m\u001b[0m\u001b[0m\n\u001b[1;32m---> 20\u001b[1;33m \u001b[0msolver\u001b[0m\u001b[1;33m.\u001b[0m\u001b[0mGetIntegerParam\u001b[0m\u001b[1;33m(\u001b[0m\u001b[1;33m(\u001b[0m\u001b[1;33m)\u001b[0m\u001b[1;33m,\u001b[0m \u001b[0ma\u001b[0m\u001b[1;33m.\u001b[0m\u001b[0mSolutionValue\u001b[0m\u001b[1;33m)\u001b[0m\u001b[1;33m\u001b[0m\u001b[1;33m\u001b[0m\u001b[0m\n\u001b[0m",
      "\u001b[1;31mAttributeError\u001b[0m: 'Solver' object has no attribute 'GetIntegerParam'"
     ]
    }
   ],
   "source": [
    "solver.Maximize(FSI_normalize(FSI_lowres(a.solution_value(), (b.solution_value() * c.solution_value())/plot_area), FSI_req)) # <-- not working yet, need to write functions inside maximize function\n",
    "# solver.Maximize(1/(1+((a * ((b.solution_value() * c.solution_value())/plot_area))-FSI_req)**2)) # <-- also not working yet, need to write my own MILP solver? typeerror\n",
    "# solver.Maximize(a) # <-- also not working yet, need to write my own MILP solver? typeerror <-- PROBLEM: can't multiply variables apparently?\n",
    "# TODO: find way to linearize objective functions, OR use different method over MILP? --> get to NORMALIZED FSI/PV from current variables\n",
    "\n",
    "# ALMOST got it: min/max goes wrong, does not want to add more floors\n",
    "\n",
    "status = solver.Solve()\n",
    "\n",
    "if status == pywraplp.Solver.OPTIMAL:\n",
    "    print('Solution:')\n",
    "    print('Objective value =', solver.Objective().Value())\n",
    "    print('floors =', a.solution_value())\n",
    "    print('width =', b.solution_value())\n",
    "    print('length =', c.solution_value())\n",
    "    print('rotation =', d.solution_value())\n",
    "else:\n",
    "    print('The problem does not have an optimal solution.', status, pywraplp.Solver.OPTIMAL)\n",
    "\n"
   ]
  },
  {
   "cell_type": "code",
   "execution_count": 10,
   "metadata": {},
   "outputs": [],
   "source": [
    "def PV(occupationlattice, req = PV_req): # an accurate value (kWh estimate) of the PV potential of the mass <-- this currently uses uniform data for r, H, PR. \n",
    "    occ_shifted_down = np.roll(occupationlattice, (0,0,-1), (0,1,2)) # TODO: check calculation method, seems plausible\n",
    "    roof_mask = (occ_lattice == True)*(occ_shifted_down == False)\n",
    "    roof_mask_lattice = tg.to_lattice(roof_mask, occ_lattice)\n",
    "    cell_count = sum(i for i in roof_mask_lattice.flatten() if i != False) # <-- maybe rewrite? generator expression possible?\n",
    "    A = cell_count*vox_size**2\n",
    "    E = A*r*H*PR\n",
    "    PV_needed = A*PV_req\n",
    "    PV_achieved = E\n",
    "    if PV_achieved >= PV_needed: # TODO: Do I want this to be thresholds too? Or instead maximize\n",
    "        PV_score = 1\n",
    "    elif PV_achieved <= 0:\n",
    "        PV_score = 0\n",
    "    else:\n",
    "        PV_score = PV_achieved/PV_needed\n",
    "    return PV_achieved, PV_needed, PV_score\n",
    "\n",
    "def PV_lowres(floors): # this gives the ratio between roof area and total area, for 1st stage TODO currently not valid/used\n",
    "    PV = 1/floors\n",
    "    return PV\n",
    "\n",
    "def PV_normalize(PV, occupationlattice, target = PV_req): # this normalizes the achieved PV versus the expected amount of PV energy needed by the total floor area TODO: include in main PV def --> add here\n",
    "    return PV"
   ]
  },
  {
   "source": [
    "## visualisation"
   ],
   "cell_type": "markdown",
   "metadata": {}
  },
  {
   "cell_type": "code",
   "execution_count": 11,
   "metadata": {},
   "outputs": [
    {
     "output_type": "execute_result",
     "data": {
      "text/plain": [
       "\"\\n# convert to trimesh definition, taken from spatial computing workshop\\ndef tri_to_pv(tri_mesh):\\n    faces = np.pad(tri_mesh.faces, ((0, 0),(1,0)), 'constant', constant_values=3)\\n    pv_mesh = pv.PolyData(tri_mesh.vertices, faces)\\n    return pv_mesh\\n\\n# Visualize the mesh using pyvista plotter\\n\\n# initiating the plotter\\np = pv.Plotter(notebook=True)\\n\\n# adding the base mesh: light blue\\np.add_mesh(tri_to_pv(box3), color='#abd8ff')\\np.add_mesh(tri_to_pv(box), color = '#ab7ff')\\n\\n# plotting\\np.show(use_ipyvtk=True)\\n\""
      ]
     },
     "metadata": {},
     "execution_count": 11
    }
   ],
   "source": [
    "\"\"\"\n",
    "# convert to trimesh definition, taken from spatial computing workshop\n",
    "def tri_to_pv(tri_mesh):\n",
    "    faces = np.pad(tri_mesh.faces, ((0, 0),(1,0)), 'constant', constant_values=3)\n",
    "    pv_mesh = pv.PolyData(tri_mesh.vertices, faces)\n",
    "    return pv_mesh\n",
    "\n",
    "# Visualize the mesh using pyvista plotter\n",
    "\n",
    "# initiating the plotter\n",
    "p = pv.Plotter(notebook=True)\n",
    "\n",
    "# adding the base mesh: light blue\n",
    "p.add_mesh(tri_to_pv(box3), color='#abd8ff')\n",
    "p.add_mesh(tri_to_pv(box), color = '#ab7ff')\n",
    "\n",
    "# plotting\n",
    "p.show(use_ipyvtk=True)\n",
    "\"\"\""
   ]
  },
  {
   "cell_type": "code",
   "execution_count": null,
   "metadata": {},
   "outputs": [],
   "source": []
  }
 ]
}