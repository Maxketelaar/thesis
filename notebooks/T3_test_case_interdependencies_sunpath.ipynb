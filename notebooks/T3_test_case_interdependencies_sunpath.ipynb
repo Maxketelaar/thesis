{
 "cells": [
  {
   "cell_type": "code",
   "execution_count": 1,
   "metadata": {},
   "outputs": [],
   "source": [
    "import os\n",
    "import topogenesis as tg\n",
    "import pyvista as pv\n",
    "import trimesh as tm\n",
    "import numpy as np\n",
    "import pickle as pk\n",
    "import resources.RES as res\n",
    "from sklearn.preprocessing import minmax_scale as sk_minmax"
   ]
  },
  {
   "cell_type": "code",
   "execution_count": 2,
   "metadata": {},
   "outputs": [],
   "source": [
    "# retrieve context\n",
    "context_path = os.path.relpath(\"../input/testcase_context.obj\") \n",
    "context_mesh = tm.load(context_path)"
   ]
  },
  {
   "cell_type": "code",
   "execution_count": 3,
   "metadata": {},
   "outputs": [],
   "source": [
    "# retrieve lattice\n",
    "env_lat_path = os.path.relpath(\"../data/testcase_lattice.csv\")\n",
    "envelope_lattice = tg.lattice_from_csv(env_lat_path)"
   ]
  },
  {
   "cell_type": "code",
   "execution_count": 4,
   "metadata": {},
   "outputs": [],
   "source": [
    "# sunvectors\n",
    "sunvectors = pk.load(open(\"../data/T2_sunvectors.pk\", \"rb\"))"
   ]
  },
  {
   "cell_type": "code",
   "execution_count": 5,
   "metadata": {},
   "outputs": [],
   "source": [
    "# create trimesh cuboids for computing intersections\n",
    "def transform_mat(value):\n",
    "    mat = np.identity(4)\n",
    "    mat[:3,-1] = np.array(value)\n",
    "    return mat"
   ]
  },
  {
   "cell_type": "code",
   "execution_count": 6,
   "metadata": {},
   "outputs": [],
   "source": [
    "# voxel cuboid meshes\n",
    "vox_cuboids = [tm.creation.box(envelope_lattice.unit, transform=transform_mat(ct)) for ct in envelope_lattice.centroids]\n",
    "\n",
    "# number of faces per voxel\n",
    "f_numb = len(vox_cuboids[0].faces)\n",
    "\n",
    "# combine voxels into one mesh\n",
    "combined_voxels = tm.util.concatenate(vox_cuboids)"
   ]
  },
  {
   "cell_type": "code",
   "execution_count": 7,
   "metadata": {},
   "outputs": [],
   "source": [
    "# combine voxels and context into one mesh\n",
    "combined_meshes = tm.util.concatenate(combined_voxels, context_mesh)\n",
    "\n",
    "# PV positions on roof\n",
    "unit = envelope_lattice.unit[0]\n",
    "dist = unit/2 # distance from centroid to top of voxel\n",
    "\n",
    "transfrm = [0,0,dist] \n",
    "ctr = envelope_lattice.centroids\n",
    "\n",
    "newctr = ctr + transfrm  # move z-value of centroids for placement/calculation of PV\n",
    "\n",
    "PV_ray_ctr = np.tile(-sunvectors, [len(newctr),1]) # PV ray for each centroid\n",
    "PV_ctr_ray = np.tile(newctr, [1, len(sunvectors)]).reshape(-1, 3) # PV centroid for each ray"
   ]
  },
  {
   "cell_type": "code",
   "execution_count": 8,
   "metadata": {},
   "outputs": [],
   "source": [
    "# intersection of rays from voxel centroids to sun objects with all voxel faces\n",
    "face_id, ray_id = combined_meshes.ray.intersects_id(ray_origins=PV_ctr_ray, ray_directions=PV_ray_ctr, multiple_hits=True)"
   ]
  },
  {
   "cell_type": "code",
   "execution_count": 9,
   "metadata": {},
   "outputs": [],
   "source": [
    "G1, U1 = res.construct_graph(sunvectors, face_id, ray_id, envelope_lattice, f_numb)"
   ]
  },
  {
   "cell_type": "code",
   "execution_count": 10,
   "metadata": {},
   "outputs": [
    {
     "data": {
      "text/plain": [
       "((315, 315, 324), (315, 324))"
      ]
     },
     "execution_count": 10,
     "metadata": {},
     "output_type": "execute_result"
    }
   ],
   "source": [
    "G1.shape, U1.shape"
   ]
  },
  {
   "cell_type": "code",
   "execution_count": 11,
   "metadata": {},
   "outputs": [],
   "source": [
    "# save interedependencies for later use\n",
    "#pk.dump(G1, open(\"../data/T3_SolG1.pk\", \"wb\")) # too big\n",
    "\n",
    "# save obstructions for later use\n",
    "#pk.dump(U1, open(\"../data/T3_SolU1.pk\", \"wb\"))"
   ]
  }
 ],
 "metadata": {
  "interpreter": {
   "hash": "605f37378f8decd54729b74730590eb2917d207ad05faa9b102943824fde243c"
  },
  "kernelspec": {
   "display_name": "Python 3.8.5 64-bit ('thesis': conda)",
   "language": "python",
   "name": "python3"
  },
  "language_info": {
   "codemirror_mode": {
    "name": "ipython",
    "version": 3
   },
   "file_extension": ".py",
   "mimetype": "text/x-python",
   "name": "python",
   "nbconvert_exporter": "python",
   "pygments_lexer": "ipython3",
   "version": "3.8.5"
  },
  "orig_nbformat": 4
 },
 "nbformat": 4,
 "nbformat_minor": 2
}
