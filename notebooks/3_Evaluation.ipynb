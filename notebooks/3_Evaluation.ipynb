{
 "cells": [
  {
   "cell_type": "code",
   "execution_count": 202,
   "metadata": {},
   "outputs": [],
   "source": [
    "import os\n",
    "import topogenesis as tg\n",
    "import pyvista as pv\n",
    "import trimesh as tm\n",
    "import numpy as np\n",
    "import scipy as sp\n",
    "import math as m\n",
    "import pickle as pk\n",
    "import resources.RES as res\n",
    "# import resources.res.store_interdependencies\n",
    "from ladybug.sunpath import Sunpath as sp\n",
    "from sklearn.preprocessing import minmax_scale as sk_minmax\n",
    "import pymorton as pm\n",
    "import pygmo as pg"
   ]
  },
  {
   "cell_type": "code",
   "execution_count": 203,
   "metadata": {},
   "outputs": [],
   "source": [
    "# import lattice\n",
    "env_lat_path = os.path.relpath(\"../data/macrovoxels.csv\")\n",
    "envelope_lattice = tg.lattice_from_csv(env_lat_path)\n",
    "\n",
    "# plot dimensions - USER INPUT\n",
    "plot_area = 6000\n",
    "\n",
    "# required FSI - USER INPUT\n",
    "FSI = 3\n",
    "\n",
    "area_req = FSI * plot_area\n",
    "voxs_req = int(area_req / (envelope_lattice.unit[0] * envelope_lattice.unit[1]))\n",
    "\n",
    "# number of variables:\n",
    "num_var = envelope_lattice.flatten().shape[0]\n",
    "\n",
    "# actual PV sun obstructing cost array:\n",
    "c1_norm = pk.load(open(\"../data/c1_norm.pk\", \"rb\"))\n",
    "\n",
    "# actual daylighting obstructing cost array:\n",
    "c2_norm = pk.load(open(\"../data/c2_norm.pk\", \"rb\"))\n",
    "\n",
    "# actual sky view factor obstructing cost array:\n",
    "c4_norm = pk.load(open(\"../data/c4_norm.pk\", \"rb\"))"
   ]
  },
  {
   "cell_type": "code",
   "execution_count": null,
   "metadata": {},
   "outputs": [],
   "source": [
    "# # TODO:\n",
    "\n",
    "# Run:\n",
    "# constrained vs unconstrained\n",
    "# single objective vs combined objectives vs all objectives\n",
    "# integer vs continuous\n",
    "# run different optimizer -> ant colony optimization\n",
    "\n",
    "# Change class:\n",
    "# evaluate fitness inside class\n",
    "# variables and constraints inside class\n",
    "# construct lattice inside class (where needed)\n",
    "# don't use global variables -> move inside class\n",
    "# FSI -> square difference, normalize (don't use abs())\n",
    "# add weights\n",
    "# x is np array -> we can use oneliners for the for loops\n",
    "\n",
    "# Indexing:\n",
    "# morton/z order (is it necessary?)\n",
    "# Check if indexing is consistent and correct\n"
   ]
  },
  {
   "cell_type": "code",
   "execution_count": 204,
   "metadata": {},
   "outputs": [],
   "source": [
    "class test_python:\n",
    "\n",
    "    # Number of dimensions\n",
    "    def __init__(self,dim,envelope):\n",
    "        self.dim = dim\n",
    "\n",
    "    # Define objectives    \n",
    "    def fitness(self, x):\n",
    "        f1 = 0 # direct radiation on voxel roofs/PV potential (TODO: split faces and roofs, take internals/neighbour blocks into account since the blocked voxels never contribute)\n",
    "        for i in range(num_var):\n",
    "            f1 -= x[i] * c1_norm[i] #/sum(c1_norm) # We need to maximize; pygmo minimizes by default\n",
    "        f2 = 0 # daylighting potential of voxels\n",
    "        for j in range(num_var):\n",
    "            f2 -= x[j] * c2_norm[j] #/sum(c2_norm) # We need to maximize; pygmo minimizes by default\n",
    "        f3 = -(1 - (abs(voxs_req - sum(x)))/voxs_req) # FSI\n",
    "        f4 = 0\n",
    "        for k in range(num_var):\n",
    "            f4 -= x[k] * c4_norm[k] #/sum(c4_norm)\n",
    "        # TODO: f5 compactness\n",
    "        f5 = -compactness(x, envelope_lattice)\n",
    "        return [f1, f2, f3, f4, f5]\n",
    "    \n",
    "    # Return number of objectives\n",
    "    def get_nobj(self):\n",
    "        return 5\n",
    "\n",
    "    # Return bounds of decision variables\n",
    "    def get_bounds(self):\n",
    "        return (np.full((self.dim,),0.),np.full((self.dim,),1.))\n",
    "\n",
    "    # return number of integer variables (all variables are integer in this case TODO: transparency vectors for smoother shapes/results)\n",
    "    def get_nix(self):\n",
    "        return self.dim\n",
    "\n",
    "    # Return function name\n",
    "    def get_name(self):\n",
    "        return \"Test function MAX no.1\""
   ]
  },
  {
   "cell_type": "code",
   "execution_count": 205,
   "metadata": {},
   "outputs": [],
   "source": [
    "# create User Defined Problem\n",
    "prob = pg.problem(test_python(dim = num_var, envelope=envelope_lattice))"
   ]
  },
  {
   "cell_type": "code",
   "execution_count": 206,
   "metadata": {},
   "outputs": [],
   "source": [
    "# create population\n",
    "pop = pg.population(prob, size=8)\n",
    "\n",
    "# select algorithm\n",
    "algo = pg.algorithm(pg.nsga2(gen=150))\n",
    "\n",
    "# run optimization\n",
    "pop = algo.evolve(pop)\n",
    "\n",
    "# extract results\n",
    "fits, vectors = pop.get_f(), pop.get_x()\n",
    "\n",
    "# extract and print non-dominated fronts\n",
    "ndf, dl, dc, ndr = pg.fast_non_dominated_sorting(fits)\n",
    "\n",
    "# ax = pg.plot_non_dominated_fronts(pop.get_f()) # plotting the non dominated fronts #TODO: what exactly does this mean in this context"
   ]
  },
  {
   "cell_type": "code",
   "execution_count": 207,
   "metadata": {},
   "outputs": [],
   "source": [
    "best = pg.sort_population_mo(points = pop.get_f())[0] # the best solutions (by population)"
   ]
  },
  {
   "cell_type": "code",
   "execution_count": 208,
   "metadata": {},
   "outputs": [],
   "source": [
    "def reshape_and_store_to_lattice(values_list, envelope_lattice):\n",
    "    env_all_vox_id = envelope_lattice.indices.flatten()\n",
    "    env_all_vox = envelope_lattice.flatten() # envelope inclusion condition: True-False\n",
    "    env_in_vox_id = env_all_vox_id[env_all_vox] # keep in-envelope voxels (True)\n",
    "\n",
    "    # initialize array\n",
    "    values_array = np.full(env_all_vox.shape, 0.0)\n",
    "    \n",
    "    # store values for the in-envelope voxels\n",
    "    values_array[env_in_vox_id] = values_list\n",
    "\n",
    "    # reshape to lattice shape\n",
    "    values_array_3d = values_array.reshape(envelope_lattice.shape)\n",
    "\n",
    "    # convert to lattice\n",
    "    values_lattice = tg.to_lattice(values_array_3d, envelope_lattice)\n",
    "\n",
    "    return values_lattice"
   ]
  },
  {
   "cell_type": "code",
   "execution_count": 209,
   "metadata": {},
   "outputs": [],
   "source": [
    "def compactness(x, reference_lattice):\n",
    "    # create the current configuration as a lattice\n",
    "    curr_envelope = reshape_and_store_to_lattice(x.astype('bool'), reference_lattice)\n",
    "    # flatten the envelope\n",
    "    envlp_voxs = curr_envelope.flatten()\n",
    "\n",
    "    # create stencil\n",
    "    stencil = tg.create_stencil(\"von_neumann\", 1, 1)\n",
    "    stencil.set_index([0,0,0], 0)\n",
    "\n",
    "    # find indices of the neighbours for each voxel \n",
    "    neighs = curr_envelope.find_neighbours(stencil)\n",
    "\n",
    "    # occupation status for the neighbours for each voxel\n",
    "    neighs_status = envlp_voxs[neighs]\n",
    "\n",
    "    # for voxels inside the envelope:\n",
    "    neigh_array = np.array(neighs_status[envlp_voxs.astype(\"bool\")])  \n",
    "\n",
    "    # when the neighbour's status is False that refers to an outer face\n",
    "    outer_faces = np.count_nonzero(neigh_array==0)\n",
    "\n",
    "    # voxel edge length\n",
    "    l = envelope_lattice.unit[0] # TODO: can we leave this dimension out?\n",
    "\n",
    "    # calculate total surface area of outer faces\n",
    "    A_exterior = (l**2)*outer_faces\n",
    "\n",
    "    # number of in-envelope voxels\n",
    "    in_voxels = np.count_nonzero(x)\n",
    "\n",
    "    # calculate total volume inclosed in the envelope\n",
    "    V = in_voxels * (l**3)\n",
    "\n",
    "    # edge length of a cube that has the same volume\n",
    "    l_ref = V**(1/3)\n",
    "\n",
    "    # calculate ratio\n",
    "    R_ref = (6*(l_ref**2))/V\n",
    "\n",
    "    relative_compactness = (A_exterior/V)/R_ref\n",
    "    return relative_compactness"
   ]
  },
  {
   "cell_type": "code",
   "execution_count": 210,
   "metadata": {},
   "outputs": [
    {
     "data": {
      "text/plain": [
       "1.561965150273116"
      ]
     },
     "execution_count": 210,
     "metadata": {},
     "output_type": "execute_result"
    }
   ],
   "source": [
    "compactness(pop.get_x()[best], envelope_lattice)"
   ]
  },
  {
   "cell_type": "code",
   "execution_count": 211,
   "metadata": {},
   "outputs": [
    {
     "name": "stdout",
     "output_type": "stream",
     "text": [
      "The best configuration is: \n",
      " [1. 1. 0. 1. 1. 1. 0. 1. 0. 1. 0. 1. 0. 1. 1. 1. 1. 1. 0. 1. 1. 1. 1. 1.\n",
      " 0. 0. 1. 1. 0. 1. 0. 1. 1. 0. 1. 0. 1. 1. 0. 1. 0. 1. 0. 1. 1. 1. 1. 1.\n",
      " 1. 0. 1. 0. 0. 1. 0. 0. 1. 1. 1. 1. 0. 1. 1. 1. 1. 1. 1. 1. 1. 1. 1. 1.\n",
      " 1. 1. 0. 1. 0. 1. 1. 1. 0. 1. 1. 1. 0. 1. 1. 1. 1. 1. 0. 0. 1. 0. 1. 0.\n",
      " 1. 1. 1. 0. 0. 0. 0. 0. 1. 0. 0. 1. 0. 0. 1. 1. 0. 1. 0. 0. 0. 1. 1. 1.\n",
      " 0. 1. 0. 1. 0.] \n",
      " It's fitness is:  [-27.93714489 -35.86200034  -1.         -29.16793893  -1.56196515] \n",
      " This is population # 0\n"
     ]
    }
   ],
   "source": [
    "print(\"The best configuration is: \\n\", pop.get_x()[best], \"\\n It's fitness is: \", pop.get_f()[best], \"\\n This is population #\", best)"
   ]
  },
  {
   "cell_type": "code",
   "execution_count": 212,
   "metadata": {},
   "outputs": [
    {
     "data": {
      "text/plain": [
       "80"
      ]
     },
     "execution_count": 212,
     "metadata": {},
     "output_type": "execute_result"
    }
   ],
   "source": [
    "np.count_nonzero(pop.get_x()[best]) # TODO: does the FSI fitness requirement constrain the model too much? \n",
    "# TODO: should the other fitness functions be normalized (again) so that all objectives can achieve a maximum of -1? --> increases computation time without changing results"
   ]
  },
  {
   "cell_type": "code",
   "execution_count": 213,
   "metadata": {},
   "outputs": [],
   "source": [
    "def reshape_and_store_to_lattice(values_list, envelope_lattice):\n",
    "    env_all_vox_id = envelope_lattice.indices.flatten()\n",
    "    env_all_vox = envelope_lattice.flatten() # envelope inclusion condition: True-False\n",
    "    env_in_vox_id = env_all_vox_id[env_all_vox] # keep in-envelope voxels (True)\n",
    "\n",
    "    # initialize array\n",
    "    values_array = np.full(env_all_vox.shape, 0.0)\n",
    "    \n",
    "    # store values for the in-envelope voxels\n",
    "    values_array[env_in_vox_id] = values_list\n",
    "\n",
    "    # reshape to lattice shape\n",
    "    values_array_3d = values_array.reshape(envelope_lattice.shape)\n",
    "\n",
    "    # convert to lattice\n",
    "    values_lattice = tg.to_lattice(values_array_3d, envelope_lattice)\n",
    "\n",
    "    return values_lattice"
   ]
  },
  {
   "cell_type": "code",
   "execution_count": 214,
   "metadata": {},
   "outputs": [],
   "source": [
    "configuration = reshape_and_store_to_lattice(pop.get_x()[best], envelope_lattice)"
   ]
  },
  {
   "cell_type": "code",
   "execution_count": 215,
   "metadata": {},
   "outputs": [
    {
     "data": {
      "application/vnd.jupyter.widget-view+json": {
       "model_id": "6b96fd73fe4a4d4fa55c0795b70eb345",
       "version_major": 2,
       "version_minor": 0
      },
      "text/plain": [
       "ViewInteractiveWidget(height=768, layout=Layout(height='auto', width='100%'), width=1024)"
      ]
     },
     "metadata": {},
     "output_type": "display_data"
    },
    {
     "data": {
      "text/plain": [
       "[(204.88887394336027, 84.88887394336027, 144.88887394336027),\n",
       " (60.0, -60.0, 0.0),\n",
       " (0.0, 0.0, 1.0)]"
      ]
     },
     "execution_count": 215,
     "metadata": {},
     "output_type": "execute_result"
    }
   ],
   "source": [
    "# visualize configuration \n",
    "p = pv.Plotter(notebook=True)\n",
    "\n",
    "# fast visualization of the lattice\n",
    "configuration.fast_vis(p)\n",
    "\n",
    "# plotting\n",
    "p.show(use_ipyvtk=True)"
   ]
  }
 ],
 "metadata": {
  "interpreter": {
   "hash": "605f37378f8decd54729b74730590eb2917d207ad05faa9b102943824fde243c"
  },
  "kernelspec": {
   "display_name": "Python 3.8.5 64-bit ('thesis': conda)",
   "name": "python3"
  },
  "language_info": {
   "codemirror_mode": {
    "name": "ipython",
    "version": 3
   },
   "file_extension": ".py",
   "mimetype": "text/x-python",
   "name": "python",
   "nbconvert_exporter": "python",
   "pygments_lexer": "ipython3",
   "version": "3.8.5"
  },
  "orig_nbformat": 4
 },
 "nbformat": 4,
 "nbformat_minor": 2
}
