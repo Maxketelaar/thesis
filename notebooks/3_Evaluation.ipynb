{
 "cells": [
  {
   "cell_type": "code",
   "execution_count": 6,
   "metadata": {},
   "outputs": [],
   "source": [
    "import os\n",
    "import topogenesis as tg\n",
    "import pyvista as pv\n",
    "import trimesh as tm\n",
    "import numpy as np\n",
    "import scipy as sp\n",
    "import math as m\n",
    "import pickle as pk\n",
    "import resources.RES as res\n",
    "# import resources.res.store_interdependencies\n",
    "from ladybug.sunpath import Sunpath as sp\n",
    "from sklearn.preprocessing import minmax_scale as sk_minmax\n",
    "import pymorton as pm\n",
    "import pygmo as pg"
   ]
  },
  {
   "cell_type": "code",
   "execution_count": 7,
   "metadata": {},
   "outputs": [],
   "source": [
    "# import lattice\n",
    "env_lat_path = os.path.relpath(\"../data/macrovoxels.csv\")\n",
    "envelope_lattice = tg.lattice_from_csv(env_lat_path)\n",
    "\n",
    "# plot dimensions - USER INPUT\n",
    "plot_area = 6000\n",
    "\n",
    "# required FSI - USER INPUT\n",
    "FSI = 3\n",
    "\n",
    "area_req = FSI * plot_area\n",
    "voxs_req = int(area_req / (envelope_lattice.unit[0] * envelope_lattice.unit[1]))\n",
    "\n",
    "# number of variables:\n",
    "num_var = envelope_lattice.flatten().shape[0]\n",
    "\n",
    "# actual PV sun obstructing cost array:\n",
    "c1_norm = pk.load(open(\"../data/c1_norm.pk\", \"rb\"))\n",
    "\n",
    "# actual daylighting obstructing cost array:\n",
    "c2_norm = pk.load(open(\"../data/c2_norm.pk\", \"rb\"))\n",
    "\n",
    "# actual sky view factor obstructing cost array:\n",
    "c4_norm = pk.load(open(\"../data/c4_norm.pk\", \"rb\"))"
   ]
  },
  {
   "cell_type": "code",
   "execution_count": 37,
   "metadata": {},
   "outputs": [],
   "source": [
    "class test_python:\n",
    "\n",
    "    # Number of dimensions\n",
    "    def __init__(self,dim):\n",
    "        self.dim = dim\n",
    "\n",
    "    # Define objectives    \n",
    "    def fitness(self, x):\n",
    "        f1 = 0 # direct radiation on voxel roofs/PV potential (TODO: split faces and roofs, take internals/neighbour blocks into account since the blocked voxels never contribute)\n",
    "        for i in range(num_var):\n",
    "            f1 -= x[i] * c1_norm[i] #/sum(c1_norm) # We need to maximize; pygmo minimizes by default\n",
    "        f2 = 0 # daylighting potential of voxels\n",
    "        for j in range(num_var):\n",
    "            f2 -= x[j] * c2_norm[j] #/sum(c2_norm) # We need to maximize; pygmo minimizes by default\n",
    "        f3 = -(1 - (abs(voxs_req - sum(x)))/voxs_req) # FSI\n",
    "        f4 = 0\n",
    "        for k in range(num_var):\n",
    "            f4 -= x[k] * c4_norm[k] #/sum(c4_norm)\n",
    "        # TODO: f5 compactness\n",
    "        return [f1, f2, f3, f4]\n",
    "    \n",
    "    # Return number of objectives\n",
    "    def get_nobj(self):\n",
    "        return 4\n",
    "\n",
    "    # Return bounds of decision variables\n",
    "    def get_bounds(self):\n",
    "        return (np.full((self.dim,),0.),np.full((self.dim,),1.))\n",
    "\n",
    "    # return number of integer variables (all variables are integer in this case TODO: transparency vectors for smoother shapes/results)\n",
    "    def get_nix(self):\n",
    "        return self.dim\n",
    "\n",
    "    # Return function name\n",
    "    def get_name(self):\n",
    "        return \"Test function MAX no.1\""
   ]
  },
  {
   "cell_type": "code",
   "execution_count": 38,
   "metadata": {},
   "outputs": [],
   "source": [
    "# create User Defined Problem\n",
    "prob = pg.problem(test_python(dim = num_var))"
   ]
  },
  {
   "cell_type": "code",
   "execution_count": 39,
   "metadata": {},
   "outputs": [],
   "source": [
    "# create population\n",
    "pop = pg.population(prob, size=8)\n",
    "\n",
    "# select algorithm\n",
    "algo = pg.algorithm(pg.nsga2(gen=150))\n",
    "\n",
    "# run optimization\n",
    "pop = algo.evolve(pop)\n",
    "\n",
    "# extract results\n",
    "fits, vectors = pop.get_f(), pop.get_x()\n",
    "\n",
    "# extract and print non-dominated fronts\n",
    "ndf, dl, dc, ndr = pg.fast_non_dominated_sorting(fits)\n",
    "\n",
    "# ax = pg.plot_non_dominated_fronts(pop.get_f()) # plotting the non dominated fronts #TODO: what exactly does this mean in this context"
   ]
  },
  {
   "cell_type": "code",
   "execution_count": 40,
   "metadata": {},
   "outputs": [],
   "source": [
    "best = pg.sort_population_mo(points = pop.get_f())[0] # the best solutions (by population)"
   ]
  },
  {
   "cell_type": "code",
   "execution_count": 41,
   "metadata": {},
   "outputs": [
    {
     "name": "stdout",
     "output_type": "stream",
     "text": [
      "The best configuration is: \n",
      " [1. 1. 1. 1. 1. 0. 1. 1. 1. 1. 1. 1. 1. 1. 0. 0. 1. 0. 1. 0. 1. 1. 1. 0.\n",
      " 1. 1. 1. 1. 1. 1. 1. 1. 1. 1. 1. 1. 1. 1. 1. 1. 1. 1. 1. 1. 1. 1. 1. 1.\n",
      " 1. 1. 1. 0. 1. 1. 0. 0. 1. 1. 1. 1. 1. 1. 1. 1. 1. 1. 1. 1. 1. 1. 1. 1.\n",
      " 1. 1. 1. 1. 1. 1. 1. 0. 1. 1. 1. 1. 0. 1. 1. 1. 1. 1. 1. 1. 1. 1. 0. 0.\n",
      " 1. 1. 1. 1. 1. 1. 0. 1. 1. 1. 0. 1. 1. 1. 1. 1. 1. 1. 0. 1. 1. 0. 1. 1.\n",
      " 1. 1. 0. 1. 0.] \n",
      " It's fitness is:  [-35.25926703 -44.95322696  -0.675      -38.38931298] \n",
      " This is population # 0\n"
     ]
    }
   ],
   "source": [
    "print(\"The best configuration is: \\n\", pop.get_x()[best], \"\\n It's fitness is: \", pop.get_f()[best], \"\\n This is population #\", best)"
   ]
  },
  {
   "cell_type": "code",
   "execution_count": 42,
   "metadata": {},
   "outputs": [
    {
     "data": {
      "text/plain": [
       "106"
      ]
     },
     "execution_count": 42,
     "metadata": {},
     "output_type": "execute_result"
    }
   ],
   "source": [
    "np.count_nonzero(pop.get_x()[best]) # TODO: does the FSI fitness requirement constrain the model too much? \n",
    "# TODO: should the other fitness functions be normalized (again) so that all objectives can achieve a maximum of -1? --> increases computation time without changing results"
   ]
  },
  {
   "cell_type": "code",
   "execution_count": 43,
   "metadata": {},
   "outputs": [],
   "source": [
    "def reshape_and_store_to_lattice(values_list, envelope_lattice):\n",
    "    env_all_vox_id = envelope_lattice.indices.flatten()\n",
    "    env_all_vox = envelope_lattice.flatten() # envelope inclusion condition: True-False\n",
    "    env_in_vox_id = env_all_vox_id[env_all_vox] # keep in-envelope voxels (True)\n",
    "\n",
    "    # initialize array\n",
    "    values_array = np.full(env_all_vox.shape, 0.0)\n",
    "    \n",
    "    # store values for the in-envelope voxels\n",
    "    values_array[env_in_vox_id] = values_list\n",
    "\n",
    "    # reshape to lattice shape\n",
    "    values_array_3d = values_array.reshape(envelope_lattice.shape)\n",
    "\n",
    "    # convert to lattice\n",
    "    values_lattice = tg.to_lattice(values_array_3d, envelope_lattice)\n",
    "\n",
    "    return values_lattice"
   ]
  },
  {
   "cell_type": "code",
   "execution_count": 44,
   "metadata": {},
   "outputs": [],
   "source": [
    "configuration = reshape_and_store_to_lattice(pop.get_x()[best], envelope_lattice)"
   ]
  },
  {
   "cell_type": "code",
   "execution_count": 45,
   "metadata": {},
   "outputs": [
    {
     "data": {
      "application/vnd.jupyter.widget-view+json": {
       "model_id": "943d745c2a6544c0a69296126a372094",
       "version_major": 2,
       "version_minor": 0
      },
      "text/plain": [
       "ViewInteractiveWidget(height=768, layout=Layout(height='auto', width='100%'), width=1024)"
      ]
     },
     "metadata": {},
     "output_type": "display_data"
    },
    {
     "data": {
      "text/plain": [
       "[(204.88887394336027, 84.88887394336027, 144.88887394336027),\n",
       " (60.0, -60.0, 0.0),\n",
       " (0.0, 0.0, 1.0)]"
      ]
     },
     "execution_count": 45,
     "metadata": {},
     "output_type": "execute_result"
    }
   ],
   "source": [
    "# visualize configuration \n",
    "p = pv.Plotter(notebook=True)\n",
    "\n",
    "# fast visualization of the lattice\n",
    "configuration.fast_vis(p)\n",
    "\n",
    "# plotting\n",
    "p.show(use_ipyvtk=True)"
   ]
  }
 ],
 "metadata": {
  "interpreter": {
   "hash": "605f37378f8decd54729b74730590eb2917d207ad05faa9b102943824fde243c"
  },
  "kernelspec": {
   "display_name": "Python 3.8.5 64-bit ('thesis': conda)",
   "name": "python3"
  },
  "language_info": {
   "codemirror_mode": {
    "name": "ipython",
    "version": 3
   },
   "file_extension": ".py",
   "mimetype": "text/x-python",
   "name": "python",
   "nbconvert_exporter": "python",
   "pygments_lexer": "ipython3",
   "version": "3.8.5"
  },
  "orig_nbformat": 4
 },
 "nbformat": 4,
 "nbformat_minor": 2
}
