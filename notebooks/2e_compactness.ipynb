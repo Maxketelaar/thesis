{
 "cells": [
  {
   "cell_type": "code",
   "execution_count": null,
   "metadata": {},
   "outputs": [],
   "source": [
    "import topogenesis as tg\n",
    "import numpy as np\n",
    "\n",
    "# TODO: incorporate into pygmo structure"
   ]
  },
  {
   "cell_type": "code",
   "execution_count": null,
   "metadata": {},
   "outputs": [],
   "source": [
    "# create stencil\n",
    "stencil = tg.create_stencil(\"von_neumann\", 1, 1)\n",
    "\n",
    "# remove \"self\" from stencil\n",
    "stencil.set_index([0,0,0], 0)\n",
    "\n",
    "# find indices of the neighbours for each voxel \n",
    "neighs = random_envelope.find_neighbours(stencil)\n",
    "\n",
    "# check which voxels are inside the envelope\n",
    "envlp_voxs = random_envelope.flatten() # True-False values\n",
    "\n",
    "# map indices to True-False values \n",
    "neighs_status = envlp_voxs[neighs]\n",
    "\n",
    "# for voxels inside the envelope\n",
    "negh_array = np.array(neighs_status[envlp_voxs])"
   ]
  },
  {
   "cell_type": "code",
   "execution_count": null,
   "metadata": {},
   "outputs": [],
   "source": [
    "# when the neighbour's status is False that refers to an outer face\n",
    "# another method to calculate this: len(np.where(negh_array == False)[0])\n",
    "outer_faces = np.count_nonzero(negh_array==0)\n",
    "\n",
    "# voxel edge length\n",
    "l = envelope_lattice.unit[0]\n",
    "\n",
    "# calculate total surface area of outer faces\n",
    "A_exterior = (l**2)*outer_faces\n",
    "\n",
    "# number of in-envelope voxels\n",
    "in_voxels = len(random_envelope.centroids)\n",
    "\n",
    "# calculate total volume inclosed in the envelope\n",
    "V = in_voxels * (l**3)"
   ]
  },
  {
   "cell_type": "code",
   "execution_count": null,
   "metadata": {},
   "outputs": [],
   "source": [
    "# edge length of a cube that has the same volume\n",
    "l_ref = V**(1/3)\n",
    "\n",
    "# calculate ratio\n",
    "R_ref = (6*(l_ref**2))/V"
   ]
  },
  {
   "cell_type": "code",
   "execution_count": null,
   "metadata": {},
   "outputs": [],
   "source": [
    "RC = (A_exterior/V)/R_ref\n",
    "\n",
    "RC_cost = abs(RC-1)"
   ]
  },
  {
   "cell_type": "code",
   "execution_count": null,
   "metadata": {},
   "outputs": [],
   "source": [
    "# current definition:\n",
    "\n",
    "def compactness(x, reference_lattice):\n",
    "    # create the current configuration as a lattice\n",
    "    curr_envelope = reshape_and_store_to_lattice(x.astype('bool'), reference_lattice)\n",
    "    # flatten the envelope\n",
    "    envlp_voxs = curr_envelope.flatten()\n",
    "\n",
    "    # create stencil\n",
    "    stencil = tg.create_stencil(\"von_neumann\", 1, 1)\n",
    "    stencil.set_index([0,0,0], 0)\n",
    "\n",
    "    # find indices of the neighbours for each voxel \n",
    "    neighs = curr_envelope.find_neighbours(stencil)\n",
    "\n",
    "    # occupation status for the neighbours for each voxel\n",
    "    neighs_status = envlp_voxs[neighs]\n",
    "\n",
    "    # for voxels inside the envelope:\n",
    "    neigh_array = np.array(neighs_status[envlp_voxs.astype(\"bool\")])  \n",
    "\n",
    "    # when the neighbour's status is False that refers to an outer face\n",
    "    outer_faces = np.count_nonzero(neigh_array==0)\n",
    "\n",
    "    # voxel edge length\n",
    "    l = envelope_lattice.unit[0] # TODO: can we leave this dimension out?\n",
    "\n",
    "    # calculate total surface area of outer faces\n",
    "    A_exterior = (l**2)*outer_faces\n",
    "\n",
    "    # number of in-envelope voxels\n",
    "    in_voxels = np.count_nonzero(x)\n",
    "\n",
    "    # calculate total volume inclosed in the envelope\n",
    "    V = in_voxels * (l**3)\n",
    "\n",
    "    # edge length of a cube that has the same volume\n",
    "    l_ref = V**(1/3)\n",
    "\n",
    "    # calculate ratio\n",
    "    R_ref = (6*(l_ref**2))/V\n",
    "\n",
    "    relative_compactness = (A_exterior/V)/R_ref\n",
    "    return relative_compactness"
   ]
  }
 ],
 "metadata": {
  "language_info": {
   "name": "python"
  },
  "orig_nbformat": 4
 },
 "nbformat": 4,
 "nbformat_minor": 2
}
