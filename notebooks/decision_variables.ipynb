{
 "metadata": {
  "language_info": {
   "codemirror_mode": {
    "name": "ipython",
    "version": 3
   },
   "file_extension": ".py",
   "mimetype": "text/x-python",
   "name": "python",
   "nbconvert_exporter": "python",
   "pygments_lexer": "ipython3",
   "version": "3.8.5-final"
  },
  "orig_nbformat": 2,
  "kernelspec": {
   "name": "python3",
   "display_name": "Python 3.8.5 64-bit",
   "metadata": {
    "interpreter": {
     "hash": "605f37378f8decd54729b74730590eb2917d207ad05faa9b102943824fde243c"
    }
   }
  }
 },
 "nbformat": 4,
 "nbformat_minor": 2,
 "cells": [
  {
   "source": [
    "# Problem formulation\n",
    "\n",
    "1. Define decision variables\n",
    "2. Define constraints (on the decision variables)\n",
    "3. Define objective function"
   ],
   "cell_type": "markdown",
   "metadata": {}
  },
  {
   "source": [
    "## Global decision variables - FSI\n",
    "\n",
    "Inputs required:\n",
    "\n",
    "- maximum building extents in 3D (in the form of a .obj to be provided by user)\n",
    "- the current occupation lattice"
   ],
   "cell_type": "markdown",
   "metadata": {}
  },
  {
   "source": [
    "# first we define the decision variables for the programmatic minimum requirement of the entire project (manifesting itself as FSI)\n",
    "# then we find the solar yield of the entire project, this includes solar heat gain and PV potential as aggregated values (manifesting itself as collisisons per m2)\n",
    "\n",
    "import trimesh as tm\n",
    "import os\n",
    "import pyvista as pv\n",
    "import numpy as np\n",
    "import topogenesis as tg\n",
    "\n",
    "lattice_path = os.path.relpath(\"../data/voxelized_envelope.csv\")\n",
    "occ_lattice = tg.lattice_from_csv(lattice_path) # the current occupation lattice\n",
    "\n",
    "path = os.path.relpath('../data/my_envelope.obj') # building outer boundaries file path\n",
    "buildingplot = tm.load(path) # load specified building boundary mesh (footprint extruded to max height, USER INPUT)\n",
    "\n",
    "base = buildingplot.apply_transform(tm.transformations.projection_matrix((0,0,0), (0,0,-1))) # project mesh on z plane to get footprint\n",
    "env_all_vox = occ_lattice.flatten() # flattened lattice of all possible positions, True is occupied, False is unoccupied\n",
    "FSI_min = 2.0 # current goal for the FSI, can be a variable\n",
    "\n",
    "### FSI ### maybe it is faster to take footprint outside of the equation so it does not recompute the footprint everytime?\n",
    "\n",
    "def FSI(footprint, occupationlattice): # calculate FSI based on occupation lattice and mesh plot\n",
    "    vox_size = occupationlattice.unit[0]\n",
    "    m2_plot = footprint.area/2 # area calculates both sides of the flattened mesh, we need only 1\n",
    "    cell_count = [i for i in occupationlattice if i != False ]\n",
    "    m2_total = vox_size**2*len(cell_count)\n",
    "    FSI = m2_total/m2_plot\n",
    "    return FSI\n",
    "\n",
    "def FSI_fast(footprint, floors, floor_percent=0.8): # calculate FSI based on floorcount, plot coverage of the floors, and mesh plot\n",
    "    m2_plot = footprint.area/2 # area claculates both sides of the flattened mesh, we need only 1\n",
    "    m2_floor = m2_plot*floor_percent\n",
    "    m2_total = m2_floor*floors\n",
    "    FSI = m2_total/m2_plot\n",
    "    return FSI\n",
    "\n",
    "FSI_fast(base,10, 0.9)"
   ],
   "cell_type": "code",
   "metadata": {},
   "execution_count": 7,
   "outputs": [
    {
     "output_type": "execute_result",
     "data": {
      "text/plain": [
       "9.0"
      ]
     },
     "metadata": {},
     "execution_count": 7
    }
   ]
  },
  {
   "source": [
    "## Global decision variables - Aggregated Solar Score (ASS) (working title)\n",
    "\n",
    "Inputs required:\n",
    "\n",
    "- Building mass (mesh or .obj) OR floorcount + roof area\n",
    "- Coordinates OR solar vectors (prepared) using Ladybug plugin"
   ],
   "cell_type": "markdown",
   "metadata": {}
  },
  {
   "cell_type": "code",
   "execution_count": 13,
   "metadata": {},
   "outputs": [
    {
     "output_type": "execute_result",
     "data": {
      "text/plain": [
       "0.3333333333333333"
      ]
     },
     "metadata": {},
     "execution_count": 13
    }
   ],
   "source": [
    "# this includes a. the PV potential (calculated by roof area over total floor area)\n",
    "# and b. the solar heat gain over the year (calculated by G-value/SHGC, window/wall ratio, solar heat gain coefficient of opaque components)\n",
    "\n",
    "# PV potential - how much roof area per m2 is available for installing PV\n",
    "\n",
    "def PV_fast(floors): # this gives an ESTIMATE on the global scale. Needs to be recomputed at the end of the local scale (or continuously calculated) DO: find out\n",
    "    PV = 1/floors\n",
    "    return PV\n",
    "\n",
    "def PV()\n"
   ]
  },
  {
   "source": [
    "## Local cost/objective function - Energy usage (minimize)\n",
    "\n",
    "inputs required:\n",
    "\n",
    "- current floor area (per building unit type)\n",
    "- constant value (per building unit type)"
   ],
   "cell_type": "markdown",
   "metadata": {}
  },
  {
   "source": [
    "## Local cost/objective function - daylighting (threshold)\n",
    "\n",
    "inputs required:\n",
    "\n",
    "- Current building unit (type)\n",
    "- Surrounding voxels\n",
    "- Solar path"
   ],
   "cell_type": "markdown",
   "metadata": {}
  },
  {
   "source": [
    "## Visualisation"
   ],
   "cell_type": "markdown",
   "metadata": {}
  },
  {
   "cell_type": "code",
   "execution_count": 105,
   "metadata": {},
   "outputs": [
    {
     "output_type": "display_data",
     "data": {
      "text/plain": "ViewInteractiveWidget(height=768, layout=Layout(height='auto', width='100%'), width=1024)",
      "application/vnd.jupyter.widget-view+json": {
       "version_major": 2,
       "version_minor": 0,
       "model_id": "27adf991b5f14d22be5e4a3400837d28"
      }
     },
     "metadata": {}
    },
    {
     "output_type": "execute_result",
     "data": {
      "text/plain": [
       "[(285.89291929890817, 200.89291929890814, 270.89291929890817),\n",
       " (35.0, -50.0, 20.0),\n",
       " (0.0, 0.0, 1.0)]"
      ]
     },
     "metadata": {},
     "execution_count": 105
    }
   ],
   "source": [
    "def tri_to_pv(tri_mesh):\n",
    "    faces = np.pad(tri_mesh.faces, ((0, 0),(1,0)), 'constant', constant_values=3)\n",
    "    pv_mesh = pv.PolyData(tri_mesh.vertices, faces)\n",
    "    return pv_mesh\n",
    "\n",
    "# Visualize the mesh using pyvista plotter\n",
    "\n",
    "# initiating the plotter\n",
    "p = pv.Plotter(notebook=True)\n",
    "occ_lattice.fast_vis(p)\n",
    "\n",
    "# adding the base mesh: light blue\n",
    "p.add_mesh(tri_to_pv(bounds), color='#abd8ff')\n",
    "\n",
    "# plotting\n",
    "p.show(use_ipyvtk=True)"
   ]
  }
 ]
}