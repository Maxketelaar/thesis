{
 "cells": [
  {
   "cell_type": "code",
   "execution_count": 135,
   "metadata": {},
   "outputs": [],
   "source": [
    "import os\n",
    "import topogenesis as tg\n",
    "import pyvista as pv\n",
    "import numpy as np\n",
    "import math as m\n",
    "import pickle as pk\n",
    "import resources.RES as res\n",
    "from sklearn.preprocessing import minmax_scale as sk_minmax\n",
    "import pygmo as pg"
   ]
  },
  {
   "cell_type": "code",
   "execution_count": 136,
   "metadata": {},
   "outputs": [],
   "source": [
    "# import lattice\n",
    "env_lat_path = os.path.relpath(\"../data/testcase_lattice.csv\")\n",
    "envelope_lattice = tg.lattice_from_csv(env_lat_path)\n",
    "\n",
    "# voxel dimension\n",
    "vox_dim = envelope_lattice.unit[0]*envelope_lattice.unit[1]\n",
    "\n",
    "# plot dimensions\n",
    "size = envelope_lattice.bounds[1]-envelope_lattice.bounds[0]\n",
    "plot_area = vox_dim * size[0] * size[1]\n",
    "\n",
    "# required FSI - USER INPUT\n",
    "FSI = 3\n",
    "\n",
    "area_req = FSI * plot_area\n",
    "voxs_req = int(area_req / (vox_dim))\n",
    "\n",
    "# number of variables:\n",
    "num_var = envelope_lattice.flatten().shape[0]\n",
    "\n",
    "# actual PV interdependencies array:\n",
    "sol_interd = pk.load(open(\"../data/T3_SolG1.pk\", \"rb\")) # interdependencies\n",
    "sol_blocks = pk.load(open(\"../data/T3_SolU1.pk\", \"rb\")) # context blocks\n",
    "\n",
    "# actual daylighting obstructing cost array:\n",
    "sky_interd = pk.load(open(\"../data/T3_SkyG1.pk\", \"rb\")) # interdependencies\n",
    "sky_blocks = pk.load(open(\"../data/T3_SkyU1.pk\", \"rb\")) # context blocks\n",
    "\n",
    "# actual sky view factor obstructing cost array:\n",
    "# svf_norm = pk.load(open(\"../data/T3_svf_norm.pk\", \"rb\")) # sky view blockage of street level from voxels\n",
    "# svf_interd = pk.load(open(\"../data/SvFG1.pk\", \"rb\")) # interdependencies\n",
    "# svf_blocks = pk.load(open(\"../data/SvFU1.pk\", \"rb\")) # context blocks\n",
    "\n",
    "dnr = pk.load(open(\"../data/T2_dnrval.pk\", \"rb\")) # direct normal radiation"
   ]
  },
  {
   "cell_type": "code",
   "execution_count": 137,
   "metadata": {},
   "outputs": [],
   "source": [
    "# function for reshaping an array to a lattice\n",
    "def reshape_and_store_to_lattice(values_list, envelope_lattice):\n",
    "    env_all_vox_id = envelope_lattice.indices.flatten()\n",
    "    env_all_vox = envelope_lattice.flatten() # envelope inclusion condition: True-False\n",
    "    env_in_vox_id = env_all_vox_id[env_all_vox] # keep in-envelope voxels (True)\n",
    "\n",
    "    # initialize array\n",
    "    values_array = np.full(env_all_vox.shape, 0.0)\n",
    "    \n",
    "    # store values for the in-envelope voxels\n",
    "    values_array[env_in_vox_id] = values_list\n",
    "\n",
    "    # reshape to lattice shape\n",
    "    values_array_3d = values_array.reshape(envelope_lattice.shape)\n",
    "\n",
    "    # convert to lattice\n",
    "    values_lattice = tg.to_lattice(values_array_3d, envelope_lattice)\n",
    "\n",
    "    return values_lattice"
   ]
  },
  {
   "cell_type": "code",
   "execution_count": 151,
   "metadata": {},
   "outputs": [],
   "source": [
    "# function for finding total amount of rays that reach the sun for configuration x with possibility for weight\n",
    "def solarhits(interdependencies, contextblocks, x, radiation=None):\n",
    "    \n",
    "    # mask for finding active voxels that may block the rays\n",
    "    blockedrays = x[np.newaxis, :, np.newaxis] * interdependencies # all rays that are blocked by the 'active' voxels\n",
    "\n",
    "    blocked = np.sum(blockedrays, axis=1, dtype='int') # how many times each ray is blocked by another active voxel for each voxel\n",
    "    context_blocks = x[:, np.newaxis] * contextblocks # whether a ray is blocked by the environment for each voxel\n",
    "    total_blocks = context_blocks + blocked\n",
    "\n",
    "    # dnr_reshape = radiation[np.newaxis, :]\n",
    "\n",
    "    reaches = np.where(total_blocks == 0, 1, 0) # outputs 1 if a ray can reach the voxel, else it outputs 0\n",
    "    # weighted_hits = dnr_reshape * reaches # optional weighting of the rays\n",
    "\n",
    "    hits = np.sum(reaches, axis=1) # total number of rays that can reach the current configuration\n",
    "    # directradiation = np.sum(weighted_hits, axis=1) # total direct normal radiation on the voxels TODO: do we want to use this?\n",
    "\n",
    "    possiblehits = (np.count_nonzero(x) * interdependencies.shape[2]) - context_blocks.sum()\n",
    "    \n",
    "    score = hits.sum()\n",
    "    return score"
   ]
  },
  {
   "cell_type": "code",
   "execution_count": 152,
   "metadata": {},
   "outputs": [],
   "source": [
    "# function for finding total amount of rays that reach the sky for configuration x\n",
    "def skyhits(interdependencies, contextblocks, x):\n",
    "    \n",
    "    # mask for finding active voxels that may block the rays\n",
    "    blockedrays = x[np.newaxis, :, np.newaxis] * interdependencies # all rays that are blocked by the 'active' voxels\n",
    "\n",
    "    blocked = np.sum(blockedrays, axis=1, dtype='int') # how many times each ray is blocked by another active voxel for each voxel\n",
    "    context_blocks = x[:, np.newaxis] * contextblocks # whether a ray is blocked by the environment for each voxel\n",
    "    total_blocks = context_blocks + blocked\n",
    "\n",
    "    reaches = np.where(total_blocks == 0, 1, 0) # outputs 1 if a ray can reach the voxel, else it outputs 0\n",
    "\n",
    "    hits = np.sum(reaches, axis=1) # total number of rays that can reach the current configuration\n",
    "\n",
    "    possiblehits = (np.count_nonzero(x) * interdependencies.shape[2]) - context_blocks.sum()\n",
    "    \n",
    "    score = hits.sum()/(possiblehits)\n",
    "    return score"
   ]
  },
  {
   "cell_type": "code",
   "execution_count": 153,
   "metadata": {},
   "outputs": [],
   "source": [
    "# function for finding the compactness of configuration x\n",
    "def compactness(x, reference_lattice):\n",
    "    # create the current configuration as a lattice\n",
    "    curr_envelope = reshape_and_store_to_lattice(x.astype('bool'), reference_lattice)\n",
    "    # flatten the envelope\n",
    "    envlp_voxs = curr_envelope.flatten()\n",
    "\n",
    "    # create stencil\n",
    "    stencil = tg.create_stencil(\"von_neumann\", 1, 1)\n",
    "    stencil.set_index([0,0,0], 0)\n",
    "\n",
    "    # find indices of the neighbours for each voxel \n",
    "    neighs = curr_envelope.find_neighbours(stencil)\n",
    "\n",
    "    # occupation status for the neighbours for each voxel\n",
    "    neighs_status = envlp_voxs[neighs]\n",
    "\n",
    "    # for voxels inside the envelope:\n",
    "    neigh_array = np.array(neighs_status[envlp_voxs.astype(\"bool\")])  \n",
    "\n",
    "    # when the neighbour's status is False that refers to an outer face\n",
    "    outer_faces = np.count_nonzero(neigh_array==0)\n",
    "\n",
    "    # voxel edge length\n",
    "    l = envelope_lattice.unit[0] # TODO: can we leave this dimension out?\n",
    "\n",
    "    # calculate total surface area of outer faces\n",
    "    A_exterior = (l**2)*outer_faces\n",
    "\n",
    "    # number of in-envelope voxels\n",
    "    in_voxels = np.count_nonzero(x)\n",
    "\n",
    "    # calculate total volume inclosed in the envelope\n",
    "    V = in_voxels * (l**3)\n",
    "\n",
    "    # edge length of a cube that has the same volume\n",
    "    l_ref = V**(1/3)\n",
    "\n",
    "    # calculate ratio\n",
    "    R_ref = (6*(l_ref**2))/V\n",
    "\n",
    "    relative_compactness = (A_exterior/V)/R_ref\n",
    "    return relative_compactness"
   ]
  },
  {
   "cell_type": "code",
   "execution_count": 154,
   "metadata": {},
   "outputs": [],
   "source": [
    "class pygmo_optimze:\n",
    "\n",
    "    # Number of dimensions\n",
    "    def __init__(self, dim):\n",
    "        self.dim = dim\n",
    "\n",
    "    # Define objectives    \n",
    "    def fitness(self, x):\n",
    "        # total solar hits on the roofs of the configuration (PV potential)\n",
    "        f1 = -solarhits(sol_interd, sol_blocks, x)\n",
    "\n",
    "        # total daylighting (sky visibility from building)\n",
    "        f2 = -skyhits(sky_interd, sky_blocks, x) # daylighting potential of voxels\n",
    "\n",
    "        # floor space index\n",
    "        f3 = -(1 - (abs(voxs_req - sum(x)))/voxs_req) # TODO: this constrains the model too much\n",
    "\n",
    "        # sky view factor from street level around plot\n",
    "        #f4 = sum(svf_norm[np.nonzero(x)])\n",
    "        \n",
    "        # relative compactness\n",
    "        f5 = -compactness(x, envelope_lattice)\n",
    "\n",
    "        return [f1,f2,f3,f5]\n",
    "    \n",
    "    # Return number of objectives\n",
    "    def get_nobj(self):\n",
    "        return 4\n",
    "\n",
    "    # Return bounds of decision variables\n",
    "    def get_bounds(self):\n",
    "        return (np.full((self.dim,),0.),np.full((self.dim,),1.))\n",
    "\n",
    "    # return number of integer variables (all variables are integer in this case TODO: transparency vectors for smoother shapes/results)\n",
    "    #def get_nix(self):\n",
    "    #    return self.dim\n",
    "\n",
    "    # Return function name\n",
    "    def get_name(self):\n",
    "        return \"Test function MAX no.1\""
   ]
  },
  {
   "cell_type": "code",
   "execution_count": 155,
   "metadata": {},
   "outputs": [],
   "source": [
    "# create User Defined Problem\n",
    "prob = pg.problem(pygmo_optimze(dim = num_var))"
   ]
  },
  {
   "cell_type": "code",
   "execution_count": 156,
   "metadata": {},
   "outputs": [],
   "source": [
    "# create population\n",
    "pop = pg.population(prob, size=8)\n",
    "\n",
    "# the used algorithm\n",
    "algo = pg.algorithm(pg.ihs(gen=150))\n",
    "\n",
    "# run optimization\n",
    "pop = algo.evolve(pop)\n",
    "\n",
    "# extract results\n",
    "fits, vectors = pop.get_f(), pop.get_x()\n",
    "\n",
    "# extract non-dominated fronts\n",
    "ndf, dl, dc, ndr = pg.fast_non_dominated_sorting(fits)"
   ]
  },
  {
   "cell_type": "code",
   "execution_count": 157,
   "metadata": {},
   "outputs": [],
   "source": [
    "#plotting\n",
    "# ax = pg.plot_non_dominated_fronts(pop.get_f()) # plotting the non dominated fronts #TODO: what exactly does this mean in this context"
   ]
  },
  {
   "cell_type": "code",
   "execution_count": 158,
   "metadata": {},
   "outputs": [],
   "source": [
    "# the best solutions\n",
    "best = pg.sort_population_mo(points = pop.get_f())[0] # the best solutions (by population)"
   ]
  },
  {
   "cell_type": "code",
   "execution_count": 159,
   "metadata": {},
   "outputs": [
    {
     "name": "stdout",
     "output_type": "stream",
     "text": [
      "The best configuration is: \n",
      " [0.48259531 0.2993015  0.65560664 0.93840307 0.59200973 0.26512706\n",
      " 0.16259114 0.82164533 0.8483251  0.96984764 0.51935569 0.98452543\n",
      " 0.7077281  0.08738257 0.7166797  0.87767455 0.02859596 0.81067132\n",
      " 0.57626107 0.91154759 0.75978872 0.96874166 0.62201672 0.72861184\n",
      " 0.86753043 0.4676665  0.44485804 0.68969772 0.53298798 0.82539756\n",
      " 0.73829226 0.28405007 0.57206265 0.89464706 0.30169064 0.30430621\n",
      " 0.12261566 0.77220791 0.90817822 0.44730143 0.66886243 0.89989859\n",
      " 0.08750879 0.68242855 0.87037697 0.9407332  0.89644313 0.3144771\n",
      " 0.98029969 0.51017274 0.91831518 0.46113822 0.5108645  0.88653125\n",
      " 0.97032903 0.23983729 0.67837591 0.13325588 0.64905333 0.93324282\n",
      " 0.92619686 0.68431081 0.77773157 0.11359587 0.52591595 0.9809755\n",
      " 0.93269126 0.247171   0.32107658 0.94833993 0.24411187 0.92032989\n",
      " 0.76212839 0.21255771 0.42416639 0.80850762 0.97436813 0.91238107\n",
      " 0.75053636 0.79793834 0.17109173 0.47771043 0.32976075 0.9893084\n",
      " 0.04450897 0.27435592 0.16220988 0.45753008 0.75690015 0.83497458\n",
      " 0.51791174 0.71854503 0.41884513 0.71868407 0.2287685  0.53433559\n",
      " 0.86099817 0.97074697 0.66412964 0.89787332 0.1891052  0.18694034\n",
      " 0.8246346  0.85135624 0.88173015 0.41157939 0.46505264 0.05633902\n",
      " 0.18042751 0.98926129 0.42266214 0.99902629 0.84994591 0.65966939\n",
      " 0.96418542 0.6002253  0.1474308  0.23588734 0.88182265 0.75214165\n",
      " 0.57273281 0.27682105 0.91738701 0.85998326 0.98009828 0.3767998\n",
      " 0.64037141 0.84115089 0.61706577 0.48599047 0.96655216 0.77499079\n",
      " 0.59504011 0.39584286 0.05179146 0.09920811 0.82230591 0.65260025\n",
      " 0.6281329  0.82157685 0.38344567 0.34899355 0.73247704 0.67922431\n",
      " 0.741102   0.58840322 0.96095456 0.93162309 0.51119198 0.80903298\n",
      " 0.71731591 0.55449297 0.09197124 0.7249184  0.86151982 0.84509962\n",
      " 0.93028717 0.39427851 0.9543039  0.80704638 0.10164954 0.71870862\n",
      " 0.85096978 0.02605268 0.3100484  0.8762059  0.20470053 0.23634719\n",
      " 0.16857469 0.5063072  0.81945952 0.12504405 0.4877029  0.13142002\n",
      " 0.56825727 0.60192686 0.44707241 0.12533854 0.54641779 0.70023407\n",
      " 0.29640815 0.47408335 0.4985631  0.75747446 0.64500478 0.87668957\n",
      " 0.97354835 0.61096811 0.2413171  0.64713099 0.25798246 0.81033759\n",
      " 0.53688874 0.29543209 0.82029934 0.15338683 0.78761574 0.90575498\n",
      " 0.6198173  0.80907017 0.27094377 0.26460889 0.48670024 0.94310747\n",
      " 0.79954828 0.60201116 0.74669423 0.90064453 0.98283495 0.60152205\n",
      " 0.41412948 0.12917887 0.42526986 0.10180455 0.14171144 0.35673312\n",
      " 0.84880497 0.77820928 0.18494644 0.77728968 0.22732377 0.79636498\n",
      " 0.23148042 0.92261318 0.17107473 0.81257954 0.30436068 0.28528685\n",
      " 0.90189357 0.99709967 0.32132899 0.99476789 0.08053886 0.28969431\n",
      " 0.91413003 0.64325892 0.9518693  0.20763763 0.22369366 0.96079941\n",
      " 0.16384214 0.11672339 0.91566745 0.55595124 0.55095219 0.68964223\n",
      " 0.80689868 0.53646472 0.2531265  0.65204853 0.28923507 0.15959678\n",
      " 0.70982809 0.83474511 0.67722237 0.38227291 0.98000645 0.75017966\n",
      " 0.81131667 0.37594835 0.63468465 0.76571517 0.84007383 0.12741694\n",
      " 0.85652599 0.55105154 0.65707038 0.8484932  0.93553757 0.89368896\n",
      " 0.90345303 0.8626817  0.47655478 0.47774706 0.95654784 0.56764046\n",
      " 0.50360061 0.46090891 0.29041947 0.60755119 0.41113417 0.98176077\n",
      " 0.5728087  0.99004602 0.28110668 0.87800086 0.09317846 0.3901965\n",
      " 0.59912373 0.71095424 0.93982461 0.77225603 0.45973999 0.56395274\n",
      " 0.53952383 0.20526022 0.98831454 0.94273281 0.54717602 0.91014617\n",
      " 0.81206181 0.55302702 0.23321422 0.30087079 0.33813867 0.62971297\n",
      " 0.94703042 0.66336513 0.55319586 0.200658   0.74122288 0.17365704\n",
      " 0.83476967 0.91171622 0.54560019] \n",
      " It's fitness is:  [-8.94430000e+04 -9.74378242e-01 -1.04298693e-01 -2.16002924e-02] \n",
      " This is population # 1\n"
     ]
    }
   ],
   "source": [
    "print(\"The best configuration is: \\n\", pop.get_x()[best], \"\\n It's fitness is: \", pop.get_f()[best].astype(float), \"\\n This is population #\", best)"
   ]
  },
  {
   "cell_type": "code",
   "execution_count": 160,
   "metadata": {},
   "outputs": [],
   "source": [
    "# creating the new configuration\n",
    "best_lat = envelope_lattice.flatten()*np.around(pop.get_x()[best])\n",
    "best_lat_3D = best_lat.reshape(envelope_lattice.shape)\n",
    "\n",
    "# convert to lattice\n",
    "configuration = tg.to_lattice(best_lat_3D, envelope_lattice)"
   ]
  },
  {
   "cell_type": "code",
   "execution_count": 161,
   "metadata": {},
   "outputs": [
    {
     "data": {
      "application/vnd.jupyter.widget-view+json": {
       "model_id": "22ab30afb43846569cdf2329dbf34932",
       "version_major": 2,
       "version_minor": 0
      },
      "text/plain": [
       "ViewInteractiveWidget(height=768, layout=Layout(height='auto', width='100%'), width=1024)"
      ]
     },
     "metadata": {},
     "output_type": "display_data"
    },
    {
     "data": {
      "text/plain": [
       "[(69.43029329077571, 69.43029329077571, 89.43029329077571),\n",
       " (0.0, 0.0, 20.0),\n",
       " (0.0, 0.0, 1.0)]"
      ]
     },
     "execution_count": 161,
     "metadata": {},
     "output_type": "execute_result"
    }
   ],
   "source": [
    "# visualize configuration \n",
    "p = pv.Plotter(notebook=True)\n",
    "\n",
    "# fast visualization of the lattice\n",
    "configuration.fast_vis(p,True,False,color='pink',opacity=1)\n",
    "\n",
    "# plotting\n",
    "p.show(use_ipyvtk=True,screenshot='continuous.png')"
   ]
  },
  {
   "cell_type": "code",
   "execution_count": null,
   "metadata": {},
   "outputs": [],
   "source": []
  }
 ],
 "metadata": {
  "interpreter": {
   "hash": "605f37378f8decd54729b74730590eb2917d207ad05faa9b102943824fde243c"
  },
  "kernelspec": {
   "display_name": "Python 3.8.5 64-bit ('thesis': conda)",
   "language": "python",
   "name": "python3"
  },
  "language_info": {
   "codemirror_mode": {
    "name": "ipython",
    "version": 3
   },
   "file_extension": ".py",
   "mimetype": "text/x-python",
   "name": "python",
   "nbconvert_exporter": "python",
   "pygments_lexer": "ipython3",
   "version": "3.8.5"
  },
  "orig_nbformat": 4
 },
 "nbformat": 4,
 "nbformat_minor": 2
}
