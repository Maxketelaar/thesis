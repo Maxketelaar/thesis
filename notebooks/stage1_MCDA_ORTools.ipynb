{
 "metadata": {
  "language_info": {
   "codemirror_mode": {
    "name": "ipython",
    "version": 3
   },
   "file_extension": ".py",
   "mimetype": "text/x-python",
   "name": "python",
   "nbconvert_exporter": "python",
   "pygments_lexer": "ipython3",
   "version": "3.8.5-final"
  },
  "orig_nbformat": 2,
  "kernelspec": {
   "name": "python3",
   "display_name": "Python 3.8.5 64-bit ('thesis': conda)",
   "metadata": {
    "interpreter": {
     "hash": "605f37378f8decd54729b74730590eb2917d207ad05faa9b102943824fde243c"
    }
   }
  }
 },
 "nbformat": 4,
 "nbformat_minor": 2,
 "cells": [
  {
   "source": [
    "## Import"
   ],
   "cell_type": "markdown",
   "metadata": {}
  },
  {
   "cell_type": "code",
   "execution_count": 1,
   "metadata": {},
   "outputs": [],
   "source": [
    "# import trimesh as tm\n",
    "# import topogenesis as tg\n",
    "import numpy as np\n",
    "\n",
    "# import os\n",
    "import math\n",
    "import ortools\n",
    "\n",
    "from ortools.linear_solver import pywraplp"
   ]
  },
  {
   "source": [
    "## Loading context"
   ],
   "cell_type": "markdown",
   "metadata": {}
  },
  {
   "cell_type": "code",
   "execution_count": 2,
   "metadata": {},
   "outputs": [],
   "source": [
    "# path = os.path.relpath('../data/my_envelope.obj') # building outer boundaries file path\n",
    "# buildingplot = tm.load(path) # load specified building boundary mesh (footprint extruded to max height TODO: will be USER INPUT)\n",
    "\n",
    "vox_size = 10\n",
    "fh = 3.6 # floor height\n",
    "\n",
    "# max_extents_height = abs(buildingplot.bounds[0][2]) + abs(buildingplot.bounds[1][2])\n",
    "max_extents_height = 36\n",
    "# max_extents_width = abs(buildingplot.bounds[0][0]) + abs(buildingplot.bounds[1][0])\n",
    "max_extents_width = 140\n",
    "# max_extents_length = abs(buildingplot.bounds[0][1]) + abs(buildingplot.bounds[1][1])\n",
    "max_extents_length = 150"
   ]
  },
  {
   "source": [
    "## FSI presets"
   ],
   "cell_type": "markdown",
   "metadata": {}
  },
  {
   "cell_type": "code",
   "execution_count": 3,
   "metadata": {},
   "outputs": [],
   "source": [
    "# base = buildingplot.apply_transform(tm.transformations.projection_matrix((0,0,0), (0,0,-1))) # project mesh on z plane to get footprint <-- TODO: easier way?\n",
    "# plot_area = base.area/2 # area calculates both sides of the flattened mesh, we need only 1\n",
    "plot_area = 18000\n",
    "FSI_req = 4 # goal for the FSI TODO: USER INPUT"
   ]
  },
  {
   "source": [
    "## PV presets"
   ],
   "cell_type": "markdown",
   "metadata": {}
  },
  {
   "cell_type": "code",
   "execution_count": 4,
   "metadata": {},
   "outputs": [],
   "source": [
    "# Annual solar energy output of PV is calculated as follows:\n",
    "# E(kwh) = A*r*H*PR where A = total solar panel area, r = solar panel yield/efficiency, H = Annual average solar radiation, PR = performance ratio\n",
    "# from this site TODO find better source: https://photovoltaic-software.com/principle-ressources/how-calculate-solar-energy-power-pv-systems \n",
    "\n",
    "# r = 0.15 # yield/efficiency estimate\n",
    "# H = 1050 # to be updated, currently wikipedia estimate. kWh.y\n",
    "# PR = 0.75 # default value, estimate performance ratio influenced by angle\n",
    "# PV_req = 20 # kWh/m2/year TODO: change to actual expected value from included colors + find source on this value"
   ]
  },
  {
   "source": [
    "## ORTools - variables"
   ],
   "cell_type": "markdown",
   "metadata": {}
  },
  {
   "cell_type": "code",
   "execution_count": 11,
   "metadata": {},
   "outputs": [
    {
     "output_type": "stream",
     "name": "stdout",
     "text": [
      "4\n"
     ]
    }
   ],
   "source": [
    "solver = pywraplp.Solver.CreateSolver(\"SCIP\") # GLOP and SCIP get different and sometimes 'wrong' results, also different results at different times (restarting kernel seems to help)\n",
    "# TODO:--> different solvers? GUROBI? CP-SAT? constraint programming not MILP?\n",
    "infinity = math.inf\n",
    "\n",
    "a = solver.IntVar(1.0, infinity, 'floors') # number of floors\n",
    "b = solver.IntVar(10.0, infinity, 'length') # building length\n",
    "c = solver.IntVar(10.0, infinity, 'width') # building width\n",
    "# d = solver.IntVar(0.0, 90.0, 'rotation') # building orientation\n",
    "e = solver.IntVar(0, infinity, 'aux') # e is an auxilliary variable for the area in order to change the problem from quadratic to linear\n",
    "\n",
    "print(solver.NumVariables())"
   ]
  },
  {
   "source": [
    "## ORTools - constraints"
   ],
   "cell_type": "markdown",
   "metadata": {}
  },
  {
   "cell_type": "code",
   "execution_count": 6,
   "metadata": {},
   "outputs": [
    {
     "output_type": "stream",
     "name": "stdout",
     "text": [
      "5\n"
     ]
    }
   ],
   "source": [
    "solver.Add(a * fh <= max_extents_height) # ensures height limit is not exceeded\n",
    "solver.Add(e <= 100*b) \n",
    "solver.Add(e <= 100*c)\n",
    "solver.Add(e >= 10*b + 10*c -100)\n",
    "solver.Add(e >= 100*b + 100*c - 10000) # assuming max width and max height are 100 TODO: adapt to compensate for angle\n",
    "\n",
    "# not sure if these work as it they are supposed to right now:\n",
    "# solver.Add(b * math.cos(d.solution_value()) + c * math.sin(d.solution_value()) <= max_extents_length) # constrains the length for the given oreientation\n",
    "# solver.Add(c * math.cos(d.solution_valuen()) + b * math.n(d.solution_extents_width) # constrains the width for the given orientation\n",
    "\n",
    "print(solver.NumConstraints())"
   ]
  },
  {
   "source": [
    "## objective function"
   ],
   "cell_type": "markdown",
   "metadata": {}
  },
  {
   "cell_type": "code",
   "execution_count": 7,
   "metadata": {},
   "outputs": [
    {
     "output_type": "stream",
     "name": "stdout",
     "text": [
      "[2.5 1.5 0.5 1.  1.  1. ]\n"
     ]
    },
    {
     "output_type": "execute_result",
     "data": {
      "text/plain": [
       "array([-2.5, -1.5, -0.5,  0.5,  1.5,  2.5])"
      ]
     },
     "metadata": {},
     "execution_count": 7
    }
   ],
   "source": [
    "def FSI_lowres(floors, width, length, plot = plot_area, goal = FSI_req):\n",
    "    FSI = (floors * width * length) / plot\n",
    "    # FSI = floors / plot\n",
    "    FSI_normalized = 1/(1+(FSI - goal)**2)\n",
    "    # FSI_normalized = (1+(FSI - goal))\n",
    "    if FSI >= goal:\n",
    "        FSI_normalized = 1 # if FSI is more than needed, normalized value is 1\n",
    "    return FSI, FSI_normalized # gives a rough estimate of the FSI, and normalizes this value on 0-1 depending on how close to the goal it is. 1 if it exceeds the goal\n",
    "\n",
    "# def FSI_linear(np.piecewise(FSI_lowres, [x < 0, x >= 0], x, x)):\n",
    "\n",
    "def AREA(length, width):\n",
    "    area = length*width\n",
    "    return area\n",
    "\n",
    "x = np.linspace(-2.5, 2.5, 6)\n",
    "\n",
    "print(np.piecewise(x, [x < 0, x >= 0], [lambda x: -x, lambda x: 1]))\n",
    "x"
   ]
  },
  {
   "source": [
    "## ORTools - solving"
   ],
   "cell_type": "markdown",
   "metadata": {}
  },
  {
   "cell_type": "code",
   "execution_count": 8,
   "metadata": {},
   "outputs": [
    {
     "output_type": "error",
     "ename": "TypeError",
     "evalue": "",
     "traceback": [
      "\u001b[1;31m---------------------------------------------------------------------------\u001b[0m",
      "\u001b[1;31mTypeError\u001b[0m                                 Traceback (most recent call last)",
      "\u001b[1;32m<ipython-input-8-385c32db80c0>\u001b[0m in \u001b[0;36m<module>\u001b[1;34m\u001b[0m\n\u001b[0;32m      4\u001b[0m \u001b[1;31m# solver.Maximize(FSI_lowres(a,b,c)[1]) # <-- this is what I want in the end\u001b[0m\u001b[1;33m\u001b[0m\u001b[1;33m\u001b[0m\u001b[1;33m\u001b[0m\u001b[0m\n\u001b[0;32m      5\u001b[0m \u001b[1;31m# solver.Maximize(FSI_lowres(a)[1])\u001b[0m\u001b[1;33m\u001b[0m\u001b[1;33m\u001b[0m\u001b[1;33m\u001b[0m\u001b[0m\n\u001b[1;32m----> 6\u001b[1;33m \u001b[0msolver\u001b[0m\u001b[1;33m.\u001b[0m\u001b[0mMaximize\u001b[0m\u001b[1;33m(\u001b[0m\u001b[0mAREA\u001b[0m\u001b[1;33m(\u001b[0m\u001b[0ma\u001b[0m\u001b[1;33m,\u001b[0m\u001b[0mb\u001b[0m\u001b[1;33m)\u001b[0m\u001b[1;33m)\u001b[0m\u001b[1;33m\u001b[0m\u001b[1;33m\u001b[0m\u001b[0m\n\u001b[0m\u001b[0;32m      7\u001b[0m \u001b[1;33m\u001b[0m\u001b[0m\n\u001b[0;32m      8\u001b[0m \u001b[1;31m# I might need to use MPSolverParameters.GetIntegerParam to pass current values to the FSI definition, but I don't understand the documentation on this:\u001b[0m\u001b[1;33m\u001b[0m\u001b[1;33m\u001b[0m\u001b[1;33m\u001b[0m\u001b[0m\n",
      "\u001b[1;32m<ipython-input-7-93c8dcf39906>\u001b[0m in \u001b[0;36mAREA\u001b[1;34m(length, width)\u001b[0m\n\u001b[0;32m     11\u001b[0m \u001b[1;33m\u001b[0m\u001b[0m\n\u001b[0;32m     12\u001b[0m \u001b[1;32mdef\u001b[0m \u001b[0mAREA\u001b[0m\u001b[1;33m(\u001b[0m\u001b[0mlength\u001b[0m\u001b[1;33m,\u001b[0m \u001b[0mwidth\u001b[0m\u001b[1;33m)\u001b[0m\u001b[1;33m:\u001b[0m\u001b[1;33m\u001b[0m\u001b[1;33m\u001b[0m\u001b[0m\n\u001b[1;32m---> 13\u001b[1;33m     \u001b[0marea\u001b[0m \u001b[1;33m=\u001b[0m \u001b[0mlength\u001b[0m\u001b[1;33m*\u001b[0m\u001b[0mwidth\u001b[0m\u001b[1;33m\u001b[0m\u001b[1;33m\u001b[0m\u001b[0m\n\u001b[0m\u001b[0;32m     14\u001b[0m     \u001b[1;32mreturn\u001b[0m \u001b[0marea\u001b[0m\u001b[1;33m\u001b[0m\u001b[1;33m\u001b[0m\u001b[0m\n\u001b[0;32m     15\u001b[0m \u001b[1;33m\u001b[0m\u001b[0m\n",
      "\u001b[1;32m~\\.conda\\envs\\thesis\\lib\\site-packages\\ortools\\linear_solver\\pywraplp.py\u001b[0m in \u001b[0;36m<lambda>\u001b[1;34m(self, *args)\u001b[0m\n\u001b[0;32m    577\u001b[0m \u001b[1;32mdef\u001b[0m \u001b[0msetup_variable_operator\u001b[0m\u001b[1;33m(\u001b[0m\u001b[0mopname\u001b[0m\u001b[1;33m)\u001b[0m\u001b[1;33m:\u001b[0m\u001b[1;33m\u001b[0m\u001b[1;33m\u001b[0m\u001b[0m\n\u001b[0;32m    578\u001b[0m   setattr(Variable, opname,\n\u001b[1;32m--> 579\u001b[1;33m           lambda self, *args: getattr(VariableExpr(self), opname)(*args))\n\u001b[0m\u001b[0;32m    580\u001b[0m \u001b[1;32mfor\u001b[0m \u001b[0mopname\u001b[0m \u001b[1;32min\u001b[0m \u001b[0mLinearExpr\u001b[0m\u001b[1;33m.\u001b[0m\u001b[0mOVERRIDDEN_OPERATOR_METHODS\u001b[0m\u001b[1;33m:\u001b[0m\u001b[1;33m\u001b[0m\u001b[1;33m\u001b[0m\u001b[0m\n\u001b[0;32m    581\u001b[0m   \u001b[0msetup_variable_operator\u001b[0m\u001b[1;33m(\u001b[0m\u001b[0mopname\u001b[0m\u001b[1;33m)\u001b[0m\u001b[1;33m\u001b[0m\u001b[1;33m\u001b[0m\u001b[0m\n",
      "\u001b[1;32m~\\.conda\\envs\\thesis\\lib\\site-packages\\ortools\\linear_solver\\linear_solver_natural_api.py\u001b[0m in \u001b[0;36m__mul__\u001b[1;34m(self, cst)\u001b[0m\n\u001b[0;32m    114\u001b[0m \u001b[1;33m\u001b[0m\u001b[0m\n\u001b[0;32m    115\u001b[0m   \u001b[1;32mdef\u001b[0m \u001b[0m__mul__\u001b[0m\u001b[1;33m(\u001b[0m\u001b[0mself\u001b[0m\u001b[1;33m,\u001b[0m \u001b[0mcst\u001b[0m\u001b[1;33m)\u001b[0m\u001b[1;33m:\u001b[0m\u001b[1;33m\u001b[0m\u001b[1;33m\u001b[0m\u001b[0m\n\u001b[1;32m--> 116\u001b[1;33m     \u001b[1;32mreturn\u001b[0m \u001b[0mProductCst\u001b[0m\u001b[1;33m(\u001b[0m\u001b[0mself\u001b[0m\u001b[1;33m,\u001b[0m \u001b[0mcst\u001b[0m\u001b[1;33m)\u001b[0m\u001b[1;33m\u001b[0m\u001b[1;33m\u001b[0m\u001b[0m\n\u001b[0m\u001b[0;32m    117\u001b[0m \u001b[1;33m\u001b[0m\u001b[0m\n\u001b[0;32m    118\u001b[0m   \u001b[1;32mdef\u001b[0m \u001b[0m__rmul__\u001b[0m\u001b[1;33m(\u001b[0m\u001b[0mself\u001b[0m\u001b[1;33m,\u001b[0m \u001b[0mcst\u001b[0m\u001b[1;33m)\u001b[0m\u001b[1;33m:\u001b[0m\u001b[1;33m\u001b[0m\u001b[1;33m\u001b[0m\u001b[0m\n",
      "\u001b[1;32m~\\.conda\\envs\\thesis\\lib\\site-packages\\ortools\\linear_solver\\linear_solver_natural_api.py\u001b[0m in \u001b[0;36m__init__\u001b[1;34m(self, expr, coef)\u001b[0m\n\u001b[0;32m    176\u001b[0m       \u001b[0mself\u001b[0m\u001b[1;33m.\u001b[0m\u001b[0m__coef\u001b[0m \u001b[1;33m=\u001b[0m \u001b[0mcoef\u001b[0m\u001b[1;33m\u001b[0m\u001b[1;33m\u001b[0m\u001b[0m\n\u001b[0;32m    177\u001b[0m     \u001b[1;32melse\u001b[0m\u001b[1;33m:\u001b[0m\u001b[1;33m\u001b[0m\u001b[1;33m\u001b[0m\u001b[0m\n\u001b[1;32m--> 178\u001b[1;33m       \u001b[1;32mraise\u001b[0m \u001b[0mTypeError\u001b[0m\u001b[1;33m\u001b[0m\u001b[1;33m\u001b[0m\u001b[0m\n\u001b[0m\u001b[0;32m    179\u001b[0m \u001b[1;33m\u001b[0m\u001b[0m\n\u001b[0;32m    180\u001b[0m   \u001b[1;32mdef\u001b[0m \u001b[0m__str__\u001b[0m\u001b[1;33m(\u001b[0m\u001b[0mself\u001b[0m\u001b[1;33m)\u001b[0m\u001b[1;33m:\u001b[0m\u001b[1;33m\u001b[0m\u001b[1;33m\u001b[0m\u001b[0m\n",
      "\u001b[1;31mTypeError\u001b[0m: "
     ]
    }
   ],
   "source": [
    "# solver.Maximize(1/(1+(a-FSI_req)**2))\n",
    "# solver.Maximize(FSI_lowres(a.solution_value(), b.solution_value(), c.solution_value())[1]) # <-- gives a result but uses only the lower bound of the variables and stops \n",
    "# solver.Maximize(a*b) # <-- this one gives type error (it probably cant pass 'variable' type to the FSI_lowres definition)\n",
    "# solver.Maximize(FSI_lowres(a,b,c)[1]) # <-- this is what I want in the end\n",
    "# solver.Maximize(FSI_lowres(a)[1])\n",
    "solver.Maximize(AREA(a,b))\n",
    "\n",
    "# I might need to use MPSolverParameters.GetIntegerParam to pass current values to the FSI definition, but I don't understand the documentation on this: \n",
    "# paras = pywraplp.MPSolverParameters().GetIntegerParam() \n",
    "\n",
    "# another thing that may be the root cause of the issue is that by definition multiplying variables in the objective is not possible since then it is no longer a linear problem?\n",
    "# this would mean I need to TODO: linearize the objective function for FSI (and PV)?\n",
    "\n",
    "status = solver.Solve()\n",
    "\n",
    "if status == pywraplp.Solver.OPTIMAL:\n",
    "    print('Solution:')\n",
    "    print('Objective value =', solver.Objective().Value())\n",
    "    print('floors =', a.solution_value())\n",
    "    print('width =', b.solution_value())\n",
    "    print('length =', c.solution_value())\n",
    "    # print('rotation =', d.solution_value())\n",
    "else:\n",
    "    print('The problem does not have an optimal solution.', status, pywraplp.Solver.OPTIMAL)"
   ]
  }
 ]
}