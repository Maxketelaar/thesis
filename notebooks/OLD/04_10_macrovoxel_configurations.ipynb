{
 "metadata": {
  "language_info": {
   "codemirror_mode": {
    "name": "ipython",
    "version": 3
   },
   "file_extension": ".py",
   "mimetype": "text/x-python",
   "name": "python",
   "nbconvert_exporter": "python",
   "pygments_lexer": "ipython3",
   "version": "3.8.5"
  },
  "orig_nbformat": 2,
  "kernelspec": {
   "name": "python385jvsc74a57bd0605f37378f8decd54729b74730590eb2917d207ad05faa9b102943824fde243c",
   "display_name": "Python 3.8.5 64-bit ('thesis': conda)"
  }
 },
 "nbformat": 4,
 "nbformat_minor": 2,
 "cells": [
  {
   "source": [
    "# import libraries"
   ],
   "cell_type": "markdown",
   "metadata": {}
  },
  {
   "cell_type": "code",
   "execution_count": 10,
   "metadata": {},
   "outputs": [],
   "source": [
    "import os\n",
    "import random\n",
    "import copy\n",
    "\n",
    "import pyvista as pv\n",
    "import trimesh as tm\n",
    "import numpy as np\n",
    "import topogenesis as tg"
   ]
  },
  {
   "cell_type": "code",
   "execution_count": 11,
   "metadata": {},
   "outputs": [],
   "source": [
    "# base 'rubik's cube'\n",
    "unit = 45\n",
    "division = 3\n",
    "macrovoxel = int(unit/division)\n",
    "base = tm.creation.box((unit,unit,unit))\n",
    "newshape = base.apply_translation([60, -60, 0])"
   ]
  },
  {
   "source": [
    "# import the environment"
   ],
   "cell_type": "markdown",
   "metadata": {}
  },
  {
   "cell_type": "code",
   "execution_count": 12,
   "metadata": {},
   "outputs": [
    {
     "output_type": "execute_result",
     "data": {
      "text/plain": [
       "<trimesh.Trimesh(vertices.shape=(8929, 3), faces.shape=(18283, 3))>"
      ]
     },
     "metadata": {},
     "execution_count": 12
    }
   ],
   "source": [
    "# load context file. Currently set as Rotterdam area from spatial computing course\n",
    "context_path = os.path.relpath(\"../../data/immediate_context.obj\")\n",
    "context = tm.load(context_path)\n",
    "context.apply_translation([0, 0, -unit/2])"
   ]
  },
  {
   "source": [
    "# create macro voxels"
   ],
   "cell_type": "markdown",
   "metadata": {}
  },
  {
   "cell_type": "code",
   "execution_count": 13,
   "metadata": {},
   "outputs": [],
   "source": [
    "# manually create voxels\n",
    "# voxel = newshape.voxelized(macrovoxel)\n",
    "# voxel = voxel.as_boxes()"
   ]
  },
  {
   "cell_type": "code",
   "execution_count": 14,
   "metadata": {},
   "outputs": [],
   "source": [
    "# voxelize the cube\n",
    "base_lattice = tg.lattice(newshape.bounds, unit=[macrovoxel,macrovoxel,macrovoxel], default_value=1, dtype=int)"
   ]
  },
  {
   "cell_type": "code",
   "execution_count": 15,
   "metadata": {},
   "outputs": [
    {
     "output_type": "execute_result",
     "data": {
      "text/plain": [
       "array([[[0, 0, 0, 0, 0],\n",
       "        [0, 0, 0, 0, 0],\n",
       "        [0, 0, 0, 0, 0],\n",
       "        [0, 0, 0, 0, 0],\n",
       "        [0, 0, 0, 0, 0]],\n",
       "\n",
       "       [[0, 0, 0, 0, 0],\n",
       "        [0, 1, 1, 0, 0],\n",
       "        [0, 1, 0, 1, 0],\n",
       "        [0, 0, 1, 0, 0],\n",
       "        [0, 0, 0, 0, 0]],\n",
       "\n",
       "       [[0, 0, 0, 0, 0],\n",
       "        [0, 1, 0, 0, 0],\n",
       "        [0, 1, 0, 1, 0],\n",
       "        [0, 1, 1, 0, 0],\n",
       "        [0, 0, 0, 0, 0]],\n",
       "\n",
       "       [[0, 0, 0, 0, 0],\n",
       "        [0, 1, 1, 0, 0],\n",
       "        [0, 0, 1, 0, 0],\n",
       "        [0, 0, 0, 0, 0],\n",
       "        [0, 0, 0, 0, 0]],\n",
       "\n",
       "       [[0, 0, 0, 0, 0],\n",
       "        [0, 0, 0, 0, 0],\n",
       "        [0, 0, 0, 0, 0],\n",
       "        [0, 0, 0, 0, 0],\n",
       "        [0, 0, 0, 0, 0]]])"
      ]
     },
     "metadata": {},
     "execution_count": 15
    }
   ],
   "source": [
    "# testing configuration:\n",
    "\n",
    "# create random configuration\n",
    "config_rand = [random.randint(0,1) for i in range(27)]\n",
    "\n",
    "# voxels of the configuration\n",
    "# my_config = [vox_macro[i] for i in range(26) if config_rand[i] == 1]\n",
    "config_index = [i for i in range(26) if config_rand[i] == 0]\n",
    "\n",
    "config_rand = np.reshape(config_rand,(3,3,3))\n",
    "config_rand = np.pad(config_rand, 1)\n",
    "config_rand"
   ]
  },
  {
   "cell_type": "code",
   "execution_count": 16,
   "metadata": {},
   "outputs": [],
   "source": [
    "# create a step one moore neighbourhood\n",
    "s_vn = tg.create_stencil(\"von_neumann\", 1)\n",
    "\n",
    "# set the center to 0\n",
    "# s_vn.set_index([1, 0, 0], 1)\n",
    "s_vn.set_index([0, 1, 0], 0)\n",
    "\n",
    "# assign the sum function\n",
    "s_vn.function = tg.sfunc.sum  # np.sum"
   ]
  },
  {
   "cell_type": "code",
   "execution_count": 17,
   "metadata": {},
   "outputs": [
    {
     "output_type": "execute_result",
     "data": {
      "text/plain": [
       "stencil([[[0, 0, 0, 0, 0],\n",
       "          [0, 0, 0, 0, 0],\n",
       "          [0, 0, 0, 0, 0],\n",
       "          [0, 0, 0, 0, 0],\n",
       "          [0, 0, 0, 0, 0]],\n",
       "\n",
       "         [[0, 0, 0, 0, 0],\n",
       "          [0, 0, 0, 0, 0],\n",
       "          [0, 0, 0, 0, 0],\n",
       "          [0, 0, 0, 0, 0],\n",
       "          [0, 0, 0, 0, 0]],\n",
       "\n",
       "         [[0, 0, 0, 0, 0],\n",
       "          [0, 0, 0, 0, 0],\n",
       "          [1, 1, 1, 0, 0],\n",
       "          [0, 0, 0, 0, 0],\n",
       "          [0, 0, 0, 0, 0]],\n",
       "\n",
       "         [[0, 0, 0, 0, 0],\n",
       "          [0, 0, 0, 0, 0],\n",
       "          [0, 0, 0, 0, 0],\n",
       "          [0, 0, 0, 0, 0],\n",
       "          [0, 0, 0, 0, 0]],\n",
       "\n",
       "         [[0, 0, 0, 0, 0],\n",
       "          [0, 0, 0, 0, 0],\n",
       "          [0, 0, 0, 0, 0],\n",
       "          [0, 0, 0, 0, 0],\n",
       "          [0, 0, 0, 0, 0]]])"
      ]
     },
     "metadata": {},
     "execution_count": 17
    }
   ],
   "source": [
    "\n",
    "below_stencil = tg.create_stencil(\"von_neumann\", 2)*0 # for ground contact, only works in 3x3 configurations TODO: generalize\n",
    "\n",
    "below_stencil.set_index([0, 0, 0], 1)\n",
    "below_stencil.set_index([0, 0, -1], 1)\n",
    "below_stencil.set_index([0, 0, -2], 1)\n",
    "\n",
    "below_stencil.function = tg.sfunc.sum\n",
    "# below_stencil\n",
    "\n",
    "nextto_stencil = tg.create_stencil(\"von_neumann\", 1) # for cantilevers\n",
    "\n",
    "nextto_stencil.set_index([-1,0,0],0)\n",
    "nextto_stencil.set_index([1,0,0],0)\n",
    "\n",
    "nextto_stencil.function = tg.sfunc.sum\n",
    "below_stencil"
   ]
  },
  {
   "cell_type": "code",
   "execution_count": 18,
   "metadata": {},
   "outputs": [],
   "source": [
    "config_lattice = base_lattice * config_rand\n",
    "\n",
    "latticerotated = copy.deepcopy(config_lattice)\n",
    "latticerotated = np.rot90(latticerotated, 1, axes=(1,2))\n",
    "\n",
    "[j[0].__setitem__(ii,1) for i,j in enumerate(latticerotated) for ii,jj in enumerate(j)]\n",
    "[j[-1].__setitem__(ii,1) for i,j in enumerate(latticerotated) for ii,jj in enumerate(j)]\n",
    "paddedlattice = np.rot90(latticerotated, -1, axes=(1,2))"
   ]
  },
  {
   "cell_type": "code",
   "execution_count": 19,
   "metadata": {},
   "outputs": [],
   "source": [
    "# applying the mask to check if the voxel is not floating\n",
    "aaaa = paddedlattice.apply_stencil(below_stencil, border_condition=\"roll\", padding_value=1)\n",
    "bbbb = aaaa * config_lattice\n",
    "foundation_mask = aaaa * config_lattice >= 3\n",
    "foundation_mask_lattice  = tg.to_lattice(foundation_mask, paddedlattice)"
   ]
  },
  {
   "cell_type": "code",
   "execution_count": 20,
   "metadata": {},
   "outputs": [],
   "source": [
    "# applying another mask to include cantilevered voxels\n",
    "cccc = config_lattice.apply_stencil(nextto_stencil)\n",
    "dddd = foundation_mask_lattice - config_lattice\n",
    "cantilever_mask = cccc * -dddd >= 2\n",
    "cantilever_mask_lattice = tg.to_lattice(cantilever_mask, foundation_mask_lattice)\n",
    "\n",
    "combined_lattice = cantilever_mask_lattice + foundation_mask_lattice"
   ]
  },
  {
   "source": [
    "# visualizing\n"
   ],
   "cell_type": "markdown",
   "metadata": {}
  },
  {
   "cell_type": "code",
   "execution_count": 21,
   "metadata": {},
   "outputs": [
    {
     "output_type": "display_data",
     "data": {
      "text/plain": "ViewInteractiveWidget(height=768, layout=Layout(height='auto', width='100%'), width=1024)",
      "application/vnd.jupyter.widget-view+json": {
       "version_major": 2,
       "version_minor": 0,
       "model_id": "cd9c0270ea704a46892896ef5935e799"
      }
     },
     "metadata": {}
    },
    {
     "output_type": "execute_result",
     "data": {
      "text/plain": [
       "[(788.6785661399646, 711.2621611399645, 723.5957336399646),\n",
       " (65.08283250000001, -12.333572500000002, 0.0),\n",
       " (0.0, 0.0, 1.0)]"
      ]
     },
     "metadata": {},
     "execution_count": 21
    }
   ],
   "source": [
    "# convert to trimesh definition, taken from spatial computing workshop\n",
    "def tri_to_pv(tri_mesh):\n",
    "    faces = np.pad(tri_mesh.faces, ((0, 0),(1,0)), 'constant', constant_values=3)\n",
    "    pv_mesh = pv.PolyData(tri_mesh.vertices, faces)\n",
    "    return pv_mesh\n",
    "\n",
    "# Visualize the mesh using pyvista plotter\n",
    "\n",
    "# initiating the plotter\n",
    "p = pv.Plotter(notebook=True)\n",
    "\n",
    "# adding the base mesh: light blue\n",
    "p.add_mesh(tri_to_pv(context), color='#abd8ff')\n",
    "p.add_mesh(tri_to_pv(base), color='#abd8ff', opacity=0.2)\n",
    "#p.add_mesh(tri_to_pv(newboxes), color='#804080', opacity=0.1)\n",
    "#p.add_mesh(tri_to_pv(voxel), color='#804080', opacity=0.8)\n",
    "combined_lattice.fast_vis(p)\n",
    "# config_lattice.fast_vis(p)\n",
    "# paddedlattice.fast_vis(p)\n",
    "\n",
    "# plotting\n",
    "p.show(use_ipyvtk=True)"
   ]
  }
 ]
}