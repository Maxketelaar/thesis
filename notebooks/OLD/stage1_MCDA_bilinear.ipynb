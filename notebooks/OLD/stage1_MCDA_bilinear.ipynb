{
 "metadata": {
  "language_info": {
   "codemirror_mode": {
    "name": "ipython",
    "version": 3
   },
   "file_extension": ".py",
   "mimetype": "text/x-python",
   "name": "python",
   "nbconvert_exporter": "python",
   "pygments_lexer": "ipython3",
   "version": "3.8.5-final"
  },
  "orig_nbformat": 2,
  "kernelspec": {
   "name": "python3",
   "display_name": "Python 3.8.5 64-bit ('thesis': conda)",
   "metadata": {
    "interpreter": {
     "hash": "605f37378f8decd54729b74730590eb2917d207ad05faa9b102943824fde243c"
    }
   }
  }
 },
 "nbformat": 4,
 "nbformat_minor": 2,
 "cells": [
  {
   "source": [
    "## Import"
   ],
   "cell_type": "markdown",
   "metadata": {}
  },
  {
   "cell_type": "code",
   "execution_count": 1,
   "metadata": {},
   "outputs": [],
   "source": [
    "# import trimesh as tm\n",
    "# import topogenesis as tg\n",
    "import numpy as np\n",
    "\n",
    "# import os\n",
    "import math\n",
    "import ortools\n",
    "import cvxopt\n",
    "import numpy\n",
    "\n",
    "from ortools.linear_solver import pywraplp\n",
    "from cvxopt import matrix\n",
    "from cvxopt.blas import dot\n",
    "from cvxopt.solvers import qp\n",
    "from cvxopt import solvers\n",
    "\n",
    "import pylab\n",
    "import matplotlib.pyplot as plt"
   ]
  },
  {
   "source": [
    "## Loading context"
   ],
   "cell_type": "markdown",
   "metadata": {}
  },
  {
   "cell_type": "code",
   "execution_count": 2,
   "metadata": {},
   "outputs": [],
   "source": [
    "# path = os.path.relpath('../data/my_envelope.obj') # building outer boundaries file path\n",
    "# buildingplot = tm.load(path) # load specified building boundary mesh (footprint extruded to max height TODO: will be USER INPUT)\n",
    "\n",
    "vox_size = 10\n",
    "fh = 3.6 # floor height\n",
    "\n",
    "# max_extents_height = abs(buildingplot.bounds[0][2]) + abs(buildingplot.bounds[1][2])\n",
    "max_extents_height = 36\n",
    "# max_extents_width = abs(buildingplot.bounds[0][0]) + abs(buildingplot.bounds[1][0])\n",
    "max_extents_width = 140\n",
    "# max_extents_length = abs(buildingplot.bounds[0][1]) + abs(buildingplot.bounds[1][1])\n",
    "max_extents_length = 150"
   ]
  },
  {
   "source": [
    "## FSI presets"
   ],
   "cell_type": "markdown",
   "metadata": {}
  },
  {
   "cell_type": "code",
   "execution_count": 3,
   "metadata": {},
   "outputs": [],
   "source": [
    "# base = buildingplot.apply_transform(tm.transformations.projection_matrix((0,0,0), (0,0,-1))) # project mesh on z plane to get footprint <-- TODO: easier way?\n",
    "# plot_area = base.area/2 # area calculates both sides of the flattened mesh, we need only 1\n",
    "plot_area = 10000\n",
    "FSI_req = 5.0 # goal for the FSI TODO: USER INPUT"
   ]
  },
  {
   "source": [
    "## PV presets"
   ],
   "cell_type": "markdown",
   "metadata": {}
  },
  {
   "cell_type": "code",
   "execution_count": 4,
   "metadata": {},
   "outputs": [],
   "source": [
    "# Annual solar energy output of PV is calculated as follows:\n",
    "# E(kwh) = A*r*H*PR where A = total solar panel area, r = solar panel yield/efficiency, H = Annual average solar radiation, PR = performance ratio\n",
    "# from this site TODO find better source: https://photovoltaic-software.com/principle-ressources/how-calculate-solar-energy-power-pv-systems \n",
    "\n",
    "r = 0.15 # yield/efficiency estimate\n",
    "H = 1050 # to be updated, currently wikipedia estimate. kWh.y\n",
    "PR = 0.75 # default value, estimate performance ratio influenced by angle\n",
    "PV_req = 200 # kWh/m2/year TODO: change to actual expected value from included colors + find source on this value"
   ]
  },
  {
   "cell_type": "code",
   "execution_count": 5,
   "metadata": {},
   "outputs": [],
   "source": [
    "# c1 = plot_area # maximum area\n",
    "# # c1 = 100000000000\n",
    "# c2 = -r * H * PR # PV_constant # update\n",
    "# c2 = -120\n",
    "# c3 = 2000000 # PV_req # PV_goal # update to be total req value for a year for the whole building\n",
    "# c4 = abs(max_extents_height/fh) # floor upper limit\n",
    "# # c4 = 1000000000 # floor upper limit\n",
    "# c5 = -1.0 # floor lower limit\n",
    "# c6 = -100.0 # area lower limit\n",
    "# c7 = FSI_req # FSI_goal\n",
    "\n",
    "# TODO: change the constraints to produce sensible results --> work out 1 case by hand"
   ]
  },
  {
   "cell_type": "code",
   "execution_count": 35,
   "metadata": {},
   "outputs": [],
   "source": [
    "c1 = plot_area # maximum area\n",
    "c2 = r * H * PR # PV yield per m2 roof\n",
    "c3 = 200000.0 # PV goal for a year\n",
    "c4 = 10.0 # floor upper limit\n",
    "c5 = 1.0 # floor lower limit\n",
    "c6 = 100.0 # area lower limit\n",
    "c7 = 10.0 # FSI goal"
   ]
  },
  {
   "cell_type": "code",
   "execution_count": 36,
   "metadata": {},
   "outputs": [
    {
     "output_type": "stream",
     "name": "stdout",
     "text": [
      "     pcost       dcost       gap    pres   dres\n 0: -3.1476e+00 -6.5607e+04  7e+04  0e+00  4e-12\n 1: -3.1496e+00 -6.7982e+02  7e+02  1e-16  6e-13\n 2: -3.3400e+00 -2.9464e+01  3e+01  1e-16  3e-14\n 3: -6.3534e+00 -9.6716e+00  3e+00  2e-19  2e-15\n 4: -6.5918e+00 -7.0740e+00  5e-01  2e-16  2e-16\n 5: -6.9006e+00 -6.9165e+00  2e-02  2e-16  3e-17\n 6: -6.9062e+00 -6.9064e+00  2e-04  5e-16  3e-17\n 7: -6.9062e+00 -6.9063e+00  2e-06  4e-16  3e-17\nOptimal solution found.\n[ 1.00e+01]\n[ 1.00e+04]\n -6.906249434546544\n"
     ]
    }
   ],
   "source": [
    "P = np.array([[0,-(c1**-1*c7**-1)],[-(c1**-1*c7**-1),0]]) # \n",
    "q = np.array([0, -c2*c3**-1]) # \n",
    "G = np.array([[-1,0],[0,-1],[1,0],[0,1]])\n",
    "h = np.array([c5, c6, c4, c1])\n",
    "\n",
    "sol = solvers.qp(\n",
    "    matrix(P, tc='d'),\n",
    "    matrix(q, tc='d'),\n",
    "    matrix(G, tc='d'),\n",
    "    matrix(h, tc='d'),\n",
    "    solver=\"MOSEK\"\n",
    ")\n",
    "\n",
    "print(sol['x'], sol[\"primal objective\"])\n",
    "\n",
    "# Solution always maximizes both floors and area!"
   ]
  },
  {
   "cell_type": "code",
   "execution_count": 37,
   "metadata": {},
   "outputs": [
    {
     "output_type": "stream",
     "name": "stdout",
     "text": [
      "     pcost       dcost       gap    pres   dres\n 0: -3.0353e+00 -6.5607e+04  7e+04  0e+00  3e-12\n 1: -3.0372e+00 -6.7897e+02  7e+02  3e-16  3e-13\n 2: -3.2144e+00 -2.8683e+01  3e+01  2e-16  5e-15\n 3: -6.1091e+00 -9.2785e+00  3e+00  2e-16  3e-16\n 4: -6.1963e+00 -6.5304e+00  3e-01  2e-16  6e-17\n 5: -6.4002e+00 -6.4247e+00  2e-02  2e-16  7e-18\n 6: -6.4062e+00 -6.4064e+00  2e-04  2e-16  7e-18\n 7: -6.4062e+00 -6.4063e+00  2e-06  2e-16  1e-17\nOptimal solution found.\n[ 1.00e+01]\n[ 1.00e+04]\n -6.406249383298748\n"
     ]
    }
   ],
   "source": [
    "# P = matrix(np.diag([math.sqrt(c1**-1), math.sqrt(c1**-1)]), tc='d') # 2D matrix correct?\n",
    "# P = matrix(np.array([[0,((c1**-1)*(c7**-1))/2],[((c1**-1)*(c7**-1))/2,0]]), tc='d') # new version test\n",
    "P = np.array([[0,-((c7**-1)*(c1**-1))/2],[-((c7**-1)*(c1**-1))/2,0]]) # new version test --> negative objective\n",
    "# P = matrix(np.array([[0,((c1**-1)*(c7**-1))/2],[((c1**-1)*(c7**-1))/2,0]]), tc='d') # negative objective??\n",
    "q = np.array([0, -c2*c3**-1]) # new version test --> negative objective\n",
    "G = np.array([[-1,0],[0,-1],[1,0],[0,1]])\n",
    "h = np.array([c5, c6, c4, c1])\n",
    "\n",
    "#np.divide(G, c1)\n",
    "#np.divide(h, c1)\n",
    "\n",
    "from cvxopt import solvers\n",
    "sol = solvers.qp(\n",
    "    matrix(P, tc='d'),\n",
    "    matrix(q, tc='d'),\n",
    "    matrix(G, tc='d'),\n",
    "    matrix(h, tc='d'),\n",
    ")\n",
    "\n",
    "print(sol['x'], sol[\"primal objective\"])\n",
    "# gives 10 floors, -10 as area for optimal solution\n",
    "# print(P)"
   ]
  },
  {
   "source": [
    "## ORTools - variables"
   ],
   "cell_type": "markdown",
   "metadata": {}
  },
  {
   "cell_type": "code",
   "execution_count": 9,
   "metadata": {},
   "outputs": [
    {
     "output_type": "stream",
     "name": "stdout",
     "text": [
      "3\n"
     ]
    }
   ],
   "source": [
    "solver = pywraplp.Solver.CreateSolver(\"GLOP\") # GLOP and SCIP get different and sometimes 'wrong' results, also different results at different times (restarting kernel seems to help)\n",
    "# TODO:--> different solvers? GUROBI? CP-SAT? constraint programming not MILP?\n",
    "infinity = math.inf\n",
    "\n",
    "a = solver.IntVar(1.0, infinity, 'floors') # number of floors\n",
    "b = solver.IntVar(10.0, infinity, 'length') # building length\n",
    "c = solver.IntVar(10.0, infinity, 'width') # building width\n",
    "# d = solver.IntVar(0.0, 90.0, 'rotation') # building orientation\n",
    "\n",
    "print(solver.NumVariables())"
   ]
  },
  {
   "source": [
    "## ORTools - constraints"
   ],
   "cell_type": "markdown",
   "metadata": {}
  },
  {
   "cell_type": "code",
   "execution_count": 10,
   "metadata": {},
   "outputs": [
    {
     "output_type": "stream",
     "name": "stdout",
     "text": [
      "1\n"
     ]
    }
   ],
   "source": [
    "solver.Add(a * fh <= max_extents_height) # ensures height limit is not exceeded\n",
    "\n",
    "# not sure if these work as it they are supposed to right now:\n",
    "# solver.Add(b * math.cos(d.solution_value()) + c * math.sin(d.solution_value()) <= max_extents_length) # constrains the length for the given oreientation\n",
    "# solver.Add(c * math.cos(d.solution_valuen()) + b * math.n(d.solution_extents_width) # constrains the width for the given orientation\n",
    "\n",
    "print(solver.NumConstraints())"
   ]
  },
  {
   "source": [
    "## objective function"
   ],
   "cell_type": "markdown",
   "metadata": {}
  },
  {
   "cell_type": "code",
   "execution_count": 11,
   "metadata": {},
   "outputs": [
    {
     "output_type": "stream",
     "name": "stdout",
     "text": [
      "(0.1, 0.03998400639744101) (0.108, 0.040109637286945624)\n"
     ]
    }
   ],
   "source": [
    "def FSI_lowres(floors, width, length, plot = plot_area, goal = FSI_req):\n",
    "    FSI = (floors * width * length) / plot\n",
    "    FSI_normalized = 1/(1+(FSI - goal)**2)\n",
    "    if FSI >= goal:\n",
    "        FSI_normalized = 1 # if FSI is more than needed, normalized value is 1\n",
    "    return FSI, FSI_normalized # gives a rough estimate of the FSI, and normalizes this value on 0-1 depending on how close to the goal it is. 1 if it exceeds the goal\n",
    "\n",
    "print(FSI_lowres(10,10,10), FSI_lowres(12,10,9))"
   ]
  },
  {
   "source": [
    "## ORTools - solving"
   ],
   "cell_type": "markdown",
   "metadata": {}
  },
  {
   "cell_type": "code",
   "execution_count": 12,
   "metadata": {},
   "outputs": [
    {
     "output_type": "stream",
     "name": "stdout",
     "text": [
      "Solution:\nObjective value = 10.0\nfloors = 10.0\nwidth = 10.0\nlength = 10.0\n"
     ]
    }
   ],
   "source": [
    "solver.Maximize(a)\n",
    "# solver.Maximize(FSI_lowres(a.solution_value(), b.solution_value(), c.solution_value())[1]) # <-- gives a result but uses only the lower bound of the variables and stops \n",
    "# solver.Maximize(a*b) # <-- this one gives type error (it probably cant pass 'variable' type to the FSI_lowres definition)\n",
    "# solver.Maximize(FSI_lowres(a,b,c)[1]) # <-- this is what I want in the end\n",
    "\n",
    "# I might need to use MPSolverParameters.GetIntegerParam to pass current values to the FSI definition, but I don't understand the documentation on this: \n",
    "# paras = pywraplp.MPSolverParameters().GetIntegerParam() \n",
    "\n",
    "# another thing that may be the root cause of the issue is that by definition multiplying variables in the objective is not possible since then it is no longer a linear problem?\n",
    "# this would mean I need to TODO: linearize the objective function for FSI (and PV)?\n",
    "\n",
    "status = solver.Solve()\n",
    "\n",
    "if status == pywraplp.Solver.OPTIMAL:\n",
    "    print('Solution:')\n",
    "    print('Objective value =', solver.Objective().Value())\n",
    "    print('floors =', a.solution_value())\n",
    "    print('width =', b.solution_value())\n",
    "    print('length =', c.solution_value())\n",
    "    # print('rotation =', d.solution_value())\n",
    "else:\n",
    "    print('The problem does not have an optimal solution.', status, pywraplp.Solver.OPTIMAL)"
   ]
  }
 ]
}