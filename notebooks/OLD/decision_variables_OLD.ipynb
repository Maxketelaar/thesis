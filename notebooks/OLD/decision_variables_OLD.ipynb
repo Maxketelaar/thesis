{
 "metadata": {
  "language_info": {
   "codemirror_mode": {
    "name": "ipython",
    "version": 3
   },
   "file_extension": ".py",
   "mimetype": "text/x-python",
   "name": "python",
   "nbconvert_exporter": "python",
   "pygments_lexer": "ipython3",
   "version": "3.8.5-final"
  },
  "orig_nbformat": 2,
  "kernelspec": {
   "name": "python3",
   "display_name": "Python 3.8.5 64-bit ('thesis': conda)",
   "metadata": {
    "interpreter": {
     "hash": "605f37378f8decd54729b74730590eb2917d207ad05faa9b102943824fde243c"
    }
   }
  }
 },
 "nbformat": 4,
 "nbformat_minor": 2,
 "cells": [
  {
   "source": [
    "# Problem formulation\n",
    "\n",
    "1. Define decision variables\n",
    "2. Define constraints (on the decision variables)\n",
    "3. Define objective function"
   ],
   "cell_type": "markdown",
   "metadata": {}
  },
  {
   "source": [
    "## Global decision variables - FSI\n",
    "\n",
    "Inputs required:\n",
    "\n",
    "- maximum building extents in 3D (in the form of a .obj to be provided by user)\n",
    "- the current occupation lattice\n",
    "\n",
    "NB THESE ARE ACTUALLY OBJECTIVE FUNCTIONS"
   ],
   "cell_type": "markdown",
   "metadata": {}
  },
  {
   "source": [
    "# first we define the decision variables for the programmatic minimum requirement of the entire project (manifesting itself as FSI)\n",
    "# then we find the solar yield of the entire project, this includes solar heat gain and PV potential as aggregated values (manifesting itself as collisisons per m2)\n",
    "\n",
    "import trimesh as tm\n",
    "import os\n",
    "import pyvista as pv\n",
    "import numpy as np\n",
    "import topogenesis as tg\n",
    "\n",
    "lattice_path = os.path.relpath(\"../data/voxelized_envelope.csv\")\n",
    "occ_lattice = tg.lattice_from_csv(lattice_path) # the current occupation lattice\n",
    "\n",
    "path = os.path.relpath('../data/my_envelope.obj') # building outer boundaries file path\n",
    "buildingplot = tm.load(path) # load specified building boundary mesh (footprint extruded to max height, USER INPUT)\n",
    "\n",
    "base = buildingplot.apply_transform(tm.transformations.projection_matrix((0,0,0), (0,0,-1))) # project mesh on z plane to get footprint\n",
    "env_all_vox = occ_lattice.flatten() # flattened lattice of all possible positions, True is occupied, False is unoccupied\n",
    "FSI_min = 2.0 # current goal for the FSI, can be a variable\n",
    "\n",
    "# FSI DO: maybe it is faster to take footprint outside of the equation so it does not recompute the footprint everytime?\n",
    "\n",
    "def FSI(footprint, occupationlattice): # calculate FSI based on occupation lattice and mesh plot\n",
    "    vox_size = occupationlattice.unit[0]\n",
    "    m2_plot = footprint.area/2 # area calculates both sides of the flattened mesh, we need only 1\n",
    "    cell_count = [i for i in occupationlattice if i != False ]\n",
    "    m2_total = vox_size**2*len(cell_count)\n",
    "    FSI = m2_total/m2_plot\n",
    "    return FSI\n",
    "\n",
    "def FSI_fast(floors, floor_percent=0.8): # calculate FSI based on floorcount, plot coverage of the floors\n",
    "    m2_floor = floor_percent\n",
    "    FSI = m2_floor*floors\n",
    "    #FSI = m2_total/m2_plot\n",
    "    return FSI\n",
    "\n",
    "# FSI(base,env_all_vox)\n",
    "FSI_fast(3)"
   ],
   "cell_type": "code",
   "metadata": {},
   "execution_count": 3,
   "outputs": [
    {
     "output_type": "execute_result",
     "data": {
      "text/plain": [
       "2.4000000000000004"
      ]
     },
     "metadata": {},
     "execution_count": 3
    }
   ]
  },
  {
   "cell_type": "code",
   "execution_count": 4,
   "metadata": {},
   "outputs": [],
   "source": [
    "import trimesh as tm\n",
    "import os\n",
    "import pyvista as pv\n",
    "import numpy as np\n",
    "import topogenesis as tg"
   ]
  },
  {
   "cell_type": "code",
   "execution_count": 5,
   "metadata": {},
   "outputs": [],
   "source": [
    "\n",
    "lattice_path = os.path.relpath(\"../data/voxelized_envelope.csv\")\n",
    "occ_lattice = tg.lattice_from_csv(lattice_path) # the current occupation lattice\n",
    "\n",
    "path = os.path.relpath('../data/my_envelope.obj') # building outer boundaries file path\n",
    "buildingplot = tm.load(path) # load specified building boundary mesh (footprint extruded to max height, USER INPUT)"
   ]
  },
  {
   "cell_type": "code",
   "execution_count": 6,
   "metadata": {},
   "outputs": [
    {
     "output_type": "execute_result",
     "data": {
      "text/plain": [
       "array([0, 1, 2, 3, 4, 5, 6, 7, 8])"
      ]
     },
     "metadata": {},
     "execution_count": 6
    }
   ],
   "source": [
    "np.arange(9)"
   ]
  },
  {
   "source": [
    "## Global decision variables - Aggregated Solar Score (ASS) (working title) (PV and heat gain)\n",
    "\n",
    "Inputs required:\n",
    "\n",
    "- Building mass (mesh or .obj) OR floorcount + roof area\n",
    "- Coordinates OR solar vectors (prepared) using Ladybug plugin\n",
    "- DO: check values for constants, check if it is needed iteratively or only global\n"
   ],
   "cell_type": "markdown",
   "metadata": {}
  },
  {
   "cell_type": "code",
   "execution_count": 7,
   "metadata": {},
   "outputs": [
    {
     "output_type": "execute_result",
     "data": {
      "text/plain": [
       "652050.0"
      ]
     },
     "metadata": {},
     "execution_count": 7
    }
   ],
   "source": [
    "# this includes a. the PV potential (calculated by roof area over total floor area)\n",
    "# and b. the solar heat gain over the year (calculated by G-value/SHGC, window/wall ratio, solar heat gain coefficient of opaque components)\n",
    "\n",
    "# PV potential - how much roof area per m2 is available for installing PV\n",
    "\n",
    "def PV_fast(floors): # this gives ESTIMATED RATIO between floor area and PV area. Needs to be recomputed at the end of the local scale (or continuously calculated) DO: find out\n",
    "    PV = 1/floors\n",
    "    return PV\n",
    "\n",
    "# Annual solar energy output of PV is calculated as follows:\n",
    "# E(kwh) = A*r*H*PR where A = total solar panel area, r = solar panel yield/efficiency, H = Annual average solar radiation, PR = performance ratio\n",
    "# from: https://photovoltaic-software.com/principle-ressources/how-calculate-solar-energy-power-pv-systems \n",
    "\n",
    "r = 0.15 # yield/efficiency estimate\n",
    "H = 1050 # to be updated, currently wikipedia estimate. Slope, tilt, orientation may change values. kWh.y so maybe *365???\n",
    "PR = 0.75 # default value, estimate\n",
    "\n",
    "def PV(occupationlattice): # an accurate value (kWh estimate) of the PV potential DO: change to only check for the added voxels of the current iteration?\n",
    "    vox_size = occupationlattice.unit[0]\n",
    "    cell_count = [ i for i in occupationlattice if i != False ] # change to only include voxels on the 'roof'\n",
    "    A = len(cell_count)*vox_size # update to actual roof area\n",
    "    E = A*r*H*PR # the estimated solar yield in kWh for the year\n",
    "    return E\n",
    "\n",
    "PV(env_all_vox)\n",
    "# solar heat gain (windows only), include opaque surfaces?\n",
    "\n",
    "\n",
    "\n",
    "# Aggregated score\n",
    "\n"
   ]
  },
  {
   "source": [
    "## Local cost/objective function - Energy usage (minimize)\n",
    "\n",
    "inputs required:\n",
    "\n",
    "- current floor area (per building unit type)\n",
    "- constant value (per building unit type)"
   ],
   "cell_type": "markdown",
   "metadata": {}
  },
  {
   "cell_type": "code",
   "execution_count": 8,
   "metadata": {},
   "outputs": [],
   "source": [
    "# skip for now, maybe skip permanently? --> too dependant on building (material) quality and not only on massing/envelope"
   ]
  },
  {
   "source": [
    "## Local cost/objective function - daylighting (threshold)\n",
    "\n",
    "inputs required:\n",
    "\n",
    "- Current building unit (type)\n",
    "- Surrounding voxels\n",
    "- Solar path"
   ],
   "cell_type": "markdown",
   "metadata": {}
  },
  {
   "cell_type": "code",
   "execution_count": null,
   "metadata": {},
   "outputs": [],
   "source": []
  }
 ]
}