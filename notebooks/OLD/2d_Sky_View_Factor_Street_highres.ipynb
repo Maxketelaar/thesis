{
 "cells": [
  {
   "cell_type": "code",
   "execution_count": 1,
   "metadata": {},
   "outputs": [],
   "source": [
    "import os\n",
    "import topogenesis as tg\n",
    "import pyvista as pv\n",
    "import trimesh as tm\n",
    "import numpy as np\n",
    "import pickle as pk\n",
    "import resources.RES as res\n",
    "from sklearn.preprocessing import minmax_scale as sk_minmax"
   ]
  },
  {
   "cell_type": "code",
   "execution_count": 2,
   "metadata": {},
   "outputs": [],
   "source": [
    "# retrieve context, maximum extents, and maximum extends as voxelised volume\n",
    "\n",
    "context_path = os.path.relpath(\"../data/movedcontext.obj\") \n",
    "context_mesh = tm.load(context_path)\n",
    "\n",
    "# extents_path = os.path.relpath(\"../data/maximumextents.obj\") \n",
    "# extents_mesh = tm.load(extents_path)\n",
    "\n",
    "env_lat_path = os.path.relpath(\"../data/macrovoxels_highres.csv\")\n",
    "envelope_lattice = tg.lattice_from_csv(env_lat_path)"
   ]
  },
  {
   "cell_type": "code",
   "execution_count": 3,
   "metadata": {},
   "outputs": [],
   "source": [
    "# skydome\n",
    "skydome = pk.load(open(\"../data/skydome.pk\", \"rb\"))"
   ]
  },
  {
   "cell_type": "code",
   "execution_count": 4,
   "metadata": {},
   "outputs": [],
   "source": [
    "# finding the test points on the surrounding area/street around the building\n",
    "edges = np.zeros((7,7,7)) # TODO: need to change\n",
    "edges[1] = np.pad(np.zeros((5,5)), 1, constant_values=1)\n",
    "\n",
    "# creating the lattice for the test point origins - basically a padding of the original envelope\n",
    "streetedges = tg.to_lattice(edges,envelope_lattice.minbound - envelope_lattice.unit, unit=envelope_lattice.unit).T"
   ]
  },
  {
   "cell_type": "code",
   "execution_count": 5,
   "metadata": {},
   "outputs": [],
   "source": [
    "# create trimesh cuboids for computing intersections\n",
    "def transform_mat(value):\n",
    "    mat = np.identity(4)\n",
    "    mat[:3,-1] = np.array(value)\n",
    "    return mat"
   ]
  },
  {
   "cell_type": "code",
   "execution_count": 6,
   "metadata": {},
   "outputs": [],
   "source": [
    "# voxel cuboid meshes\n",
    "vox_cuboids = [tm.creation.box(envelope_lattice.unit, transform=transform_mat(ct)) for ct in envelope_lattice.centroids]\n",
    "\n",
    "# number of faces per voxel\n",
    "f_numb = len(vox_cuboids[0].faces)\n",
    "\n",
    "# combine voxels into one mesh\n",
    "combined_voxels = tm.util.concatenate(vox_cuboids)"
   ]
  },
  {
   "cell_type": "code",
   "execution_count": 7,
   "metadata": {},
   "outputs": [],
   "source": [
    "# combine voxels and context into one mesh\n",
    "combined_meshes = tm.util.concatenate(combined_voxels, context_mesh)\n",
    "\n",
    "# shoot towards the skydome points from all of the voxels\n",
    "SVF_ray_ctr = np.tile(skydome, [len(streetedges.centroids),1]) # sky view factor ray for each centroid of the lattice\n",
    "SVF_ctr_ray = np.tile(streetedges.centroids, [1, len(skydome)]).reshape(-1, 3) # sky view factor centroid for each ray"
   ]
  },
  {
   "cell_type": "code",
   "execution_count": 8,
   "metadata": {},
   "outputs": [
    {
     "ename": "MemoryError",
     "evalue": "Unable to allocate 1.08 GiB for an array with shape (48192815, 3) and data type float64",
     "output_type": "error",
     "traceback": [
      "\u001b[1;31m---------------------------------------------------------------------------\u001b[0m",
      "\u001b[1;31mMemoryError\u001b[0m                               Traceback (most recent call last)",
      "\u001b[1;32m<ipython-input-8-d6ce65153679>\u001b[0m in \u001b[0;36m<module>\u001b[1;34m\u001b[0m\n\u001b[0;32m      1\u001b[0m \u001b[1;31m# intersection of rays from ground centroids to sky patches with all voxel faces\u001b[0m\u001b[1;33m\u001b[0m\u001b[1;33m\u001b[0m\u001b[1;33m\u001b[0m\u001b[0m\n\u001b[1;32m----> 2\u001b[1;33m \u001b[0mface_id\u001b[0m\u001b[1;33m,\u001b[0m \u001b[0mray_id\u001b[0m \u001b[1;33m=\u001b[0m \u001b[0mcombined_meshes\u001b[0m\u001b[1;33m.\u001b[0m\u001b[0mray\u001b[0m\u001b[1;33m.\u001b[0m\u001b[0mintersects_id\u001b[0m\u001b[1;33m(\u001b[0m\u001b[0mray_origins\u001b[0m\u001b[1;33m=\u001b[0m\u001b[0mSVF_ctr_ray\u001b[0m\u001b[1;33m,\u001b[0m \u001b[0mray_directions\u001b[0m\u001b[1;33m=\u001b[0m\u001b[0mSVF_ray_ctr\u001b[0m\u001b[1;33m,\u001b[0m \u001b[0mmultiple_hits\u001b[0m\u001b[1;33m=\u001b[0m\u001b[1;32mTrue\u001b[0m\u001b[1;33m)\u001b[0m \u001b[1;31m# environment too complex? Takes about 70s\u001b[0m\u001b[1;33m\u001b[0m\u001b[1;33m\u001b[0m\u001b[0m\n\u001b[0m",
      "\u001b[1;32m~\\.conda\\envs\\thesis\\lib\\site-packages\\trimesh\\ray\\ray_triangle.py\u001b[0m in \u001b[0;36mintersects_id\u001b[1;34m(self, ray_origins, ray_directions, return_locations, multiple_hits, **kwargs)\u001b[0m\n\u001b[0;32m     58\u001b[0m         (index_tri,\n\u001b[0;32m     59\u001b[0m          \u001b[0mindex_ray\u001b[0m\u001b[1;33m,\u001b[0m\u001b[1;33m\u001b[0m\u001b[1;33m\u001b[0m\u001b[0m\n\u001b[1;32m---> 60\u001b[1;33m          \u001b[0mlocations\u001b[0m\u001b[1;33m)\u001b[0m \u001b[1;33m=\u001b[0m \u001b[0mray_triangle_id\u001b[0m\u001b[1;33m(\u001b[0m\u001b[1;33m\u001b[0m\u001b[1;33m\u001b[0m\u001b[0m\n\u001b[0m\u001b[0;32m     61\u001b[0m              \u001b[0mtriangles\u001b[0m\u001b[1;33m=\u001b[0m\u001b[0mself\u001b[0m\u001b[1;33m.\u001b[0m\u001b[0mmesh\u001b[0m\u001b[1;33m.\u001b[0m\u001b[0mtriangles\u001b[0m\u001b[1;33m,\u001b[0m\u001b[1;33m\u001b[0m\u001b[1;33m\u001b[0m\u001b[0m\n\u001b[0;32m     62\u001b[0m              \u001b[0mray_origins\u001b[0m\u001b[1;33m=\u001b[0m\u001b[0mray_origins\u001b[0m\u001b[1;33m,\u001b[0m\u001b[1;33m\u001b[0m\u001b[1;33m\u001b[0m\u001b[0m\n",
      "\u001b[1;32m~\\.conda\\envs\\thesis\\lib\\site-packages\\trimesh\\ray\\ray_triangle.py\u001b[0m in \u001b[0;36mray_triangle_id\u001b[1;34m(triangles, ray_origins, ray_directions, triangles_normal, tree, multiple_hits)\u001b[0m\n\u001b[0;32m    236\u001b[0m     \u001b[1;31m# find the barycentric coordinates of each plane intersection on the\u001b[0m\u001b[1;33m\u001b[0m\u001b[1;33m\u001b[0m\u001b[1;33m\u001b[0m\u001b[0m\n\u001b[0;32m    237\u001b[0m     \u001b[1;31m# triangle candidates\u001b[0m\u001b[1;33m\u001b[0m\u001b[1;33m\u001b[0m\u001b[1;33m\u001b[0m\u001b[0m\n\u001b[1;32m--> 238\u001b[1;33m     barycentric = triangles_mod.points_to_barycentric(\n\u001b[0m\u001b[0;32m    239\u001b[0m         triangle_candidates[valid], location)\n\u001b[0;32m    240\u001b[0m \u001b[1;33m\u001b[0m\u001b[0m\n",
      "\u001b[1;32m~\\.conda\\envs\\thesis\\lib\\site-packages\\trimesh\\triangles.py\u001b[0m in \u001b[0;36mpoints_to_barycentric\u001b[1;34m(triangles, points, method)\u001b[0m\n\u001b[0;32m    539\u001b[0m     \u001b[1;32mif\u001b[0m \u001b[0mmethod\u001b[0m \u001b[1;33m==\u001b[0m \u001b[1;34m'cross'\u001b[0m\u001b[1;33m:\u001b[0m\u001b[1;33m\u001b[0m\u001b[1;33m\u001b[0m\u001b[0m\n\u001b[0;32m    540\u001b[0m         \u001b[1;32mreturn\u001b[0m \u001b[0mmethod_cross\u001b[0m\u001b[1;33m(\u001b[0m\u001b[1;33m)\u001b[0m\u001b[1;33m\u001b[0m\u001b[1;33m\u001b[0m\u001b[0m\n\u001b[1;32m--> 541\u001b[1;33m     \u001b[1;32mreturn\u001b[0m \u001b[0mmethod_cramer\u001b[0m\u001b[1;33m(\u001b[0m\u001b[1;33m)\u001b[0m\u001b[1;33m\u001b[0m\u001b[1;33m\u001b[0m\u001b[0m\n\u001b[0m\u001b[0;32m    542\u001b[0m \u001b[1;33m\u001b[0m\u001b[0m\n\u001b[0;32m    543\u001b[0m \u001b[1;33m\u001b[0m\u001b[0m\n",
      "\u001b[1;32m~\\.conda\\envs\\thesis\\lib\\site-packages\\trimesh\\triangles.py\u001b[0m in \u001b[0;36mmethod_cramer\u001b[1;34m()\u001b[0m\n\u001b[0;32m    510\u001b[0m \u001b[1;33m\u001b[0m\u001b[0m\n\u001b[0;32m    511\u001b[0m     \u001b[1;32mdef\u001b[0m \u001b[0mmethod_cramer\u001b[0m\u001b[1;33m(\u001b[0m\u001b[1;33m)\u001b[0m\u001b[1;33m:\u001b[0m\u001b[1;33m\u001b[0m\u001b[1;33m\u001b[0m\u001b[0m\n\u001b[1;32m--> 512\u001b[1;33m         \u001b[0mdot00\u001b[0m \u001b[1;33m=\u001b[0m \u001b[0mdiagonal_dot\u001b[0m\u001b[1;33m(\u001b[0m\u001b[0medge_vectors\u001b[0m\u001b[1;33m[\u001b[0m\u001b[1;33m:\u001b[0m\u001b[1;33m,\u001b[0m \u001b[1;36m0\u001b[0m\u001b[1;33m]\u001b[0m\u001b[1;33m,\u001b[0m \u001b[0medge_vectors\u001b[0m\u001b[1;33m[\u001b[0m\u001b[1;33m:\u001b[0m\u001b[1;33m,\u001b[0m \u001b[1;36m0\u001b[0m\u001b[1;33m]\u001b[0m\u001b[1;33m)\u001b[0m\u001b[1;33m\u001b[0m\u001b[1;33m\u001b[0m\u001b[0m\n\u001b[0m\u001b[0;32m    513\u001b[0m         \u001b[0mdot01\u001b[0m \u001b[1;33m=\u001b[0m \u001b[0mdiagonal_dot\u001b[0m\u001b[1;33m(\u001b[0m\u001b[0medge_vectors\u001b[0m\u001b[1;33m[\u001b[0m\u001b[1;33m:\u001b[0m\u001b[1;33m,\u001b[0m \u001b[1;36m0\u001b[0m\u001b[1;33m]\u001b[0m\u001b[1;33m,\u001b[0m \u001b[0medge_vectors\u001b[0m\u001b[1;33m[\u001b[0m\u001b[1;33m:\u001b[0m\u001b[1;33m,\u001b[0m \u001b[1;36m1\u001b[0m\u001b[1;33m]\u001b[0m\u001b[1;33m)\u001b[0m\u001b[1;33m\u001b[0m\u001b[1;33m\u001b[0m\u001b[0m\n\u001b[0;32m    514\u001b[0m         \u001b[0mdot02\u001b[0m \u001b[1;33m=\u001b[0m \u001b[0mdiagonal_dot\u001b[0m\u001b[1;33m(\u001b[0m\u001b[0medge_vectors\u001b[0m\u001b[1;33m[\u001b[0m\u001b[1;33m:\u001b[0m\u001b[1;33m,\u001b[0m \u001b[1;36m0\u001b[0m\u001b[1;33m]\u001b[0m\u001b[1;33m,\u001b[0m \u001b[0mw\u001b[0m\u001b[1;33m)\u001b[0m\u001b[1;33m\u001b[0m\u001b[1;33m\u001b[0m\u001b[0m\n",
      "\u001b[1;32m~\\.conda\\envs\\thesis\\lib\\site-packages\\trimesh\\util.py\u001b[0m in \u001b[0;36mdiagonal_dot\u001b[1;34m(a, b)\u001b[0m\n\u001b[0;32m    636\u001b[0m     \u001b[1;31m# 3x faster than (a * b).sum(axis=1)\u001b[0m\u001b[1;33m\u001b[0m\u001b[1;33m\u001b[0m\u001b[1;33m\u001b[0m\u001b[0m\n\u001b[0;32m    637\u001b[0m     \u001b[1;31m# avoiding np.ones saves 5-10% sometimes\u001b[0m\u001b[1;33m\u001b[0m\u001b[1;33m\u001b[0m\u001b[1;33m\u001b[0m\u001b[0m\n\u001b[1;32m--> 638\u001b[1;33m     \u001b[1;32mreturn\u001b[0m \u001b[0mnp\u001b[0m\u001b[1;33m.\u001b[0m\u001b[0mdot\u001b[0m\u001b[1;33m(\u001b[0m\u001b[0ma\u001b[0m \u001b[1;33m*\u001b[0m \u001b[0mb\u001b[0m\u001b[1;33m,\u001b[0m \u001b[1;33m[\u001b[0m\u001b[1;36m1.0\u001b[0m\u001b[1;33m]\u001b[0m \u001b[1;33m*\u001b[0m \u001b[0ma\u001b[0m\u001b[1;33m.\u001b[0m\u001b[0mshape\u001b[0m\u001b[1;33m[\u001b[0m\u001b[1;36m1\u001b[0m\u001b[1;33m]\u001b[0m\u001b[1;33m)\u001b[0m\u001b[1;33m\u001b[0m\u001b[1;33m\u001b[0m\u001b[0m\n\u001b[0m\u001b[0;32m    639\u001b[0m \u001b[1;33m\u001b[0m\u001b[0m\n\u001b[0;32m    640\u001b[0m \u001b[1;33m\u001b[0m\u001b[0m\n",
      "\u001b[1;31mMemoryError\u001b[0m: Unable to allocate 1.08 GiB for an array with shape (48192815, 3) and data type float64"
     ]
    }
   ],
   "source": [
    "# intersection of rays from ground centroids to sky patches with all voxel faces\n",
    "face_id, ray_id = combined_meshes.ray.intersects_id(ray_origins=SVF_ctr_ray, ray_directions=SVF_ray_ctr, multiple_hits=True) # environment too complex? Takes about 70s"
   ]
  },
  {
   "cell_type": "code",
   "execution_count": null,
   "metadata": {},
   "outputs": [],
   "source": [
    "G1, U1  = res.ground_graph(skydome, face_id, ray_id, envelope_lattice, f_numb, streetedges)"
   ]
  },
  {
   "cell_type": "code",
   "execution_count": null,
   "metadata": {},
   "outputs": [],
   "source": [
    "# save interedependencies for later use\n",
    "pk.dump(G1, open(\"../data/SvFG1_highres.pk\", \"wb\"))\n",
    "\n",
    "# save obstructions for later use\n",
    "pk.dump(U1, open(\"../data/SvFU1_highres.pk\", \"wb\"))"
   ]
  },
  {
   "cell_type": "code",
   "execution_count": null,
   "metadata": {},
   "outputs": [],
   "source": [
    "# number of rays shot from each test point at street level\n",
    "skydome_rays = np.full(len(streetedges.centroids),len(skydome)) \n",
    "\n",
    "# number of rays that hit the context from each test point at street level\n",
    "context_hits = np.sum(U1,axis=1) \n",
    "\n",
    "# how much sky patches are visible from each test point at starting situation\n",
    "sky_visibility = skydome_rays - context_hits \n",
    "\n",
    "# percentage of sky visible from the test points at starting situation -> value/weights of the test points\n",
    "vis_percent = sky_visibility/skydome_rays "
   ]
  },
  {
   "cell_type": "code",
   "execution_count": null,
   "metadata": {},
   "outputs": [],
   "source": [
    "# sum per row twice\n",
    "sky_obstructed = (G1.sum(axis=1)).sum(axis=1) # number of blocks of sky visibility from street level by each voxel"
   ]
  },
  {
   "cell_type": "code",
   "execution_count": null,
   "metadata": {},
   "outputs": [],
   "source": [
    "def reshape_and_store_to_lattice(values_list, envelope_lattice):\n",
    "    env_all_vox_id = envelope_lattice.indices.flatten()\n",
    "    env_all_vox = envelope_lattice.flatten() # envelope inclusion condition: True-False\n",
    "    env_in_vox_id = env_all_vox_id[env_all_vox] # keep in-envelope voxels (True)\n",
    "\n",
    "    # initialize array\n",
    "    values_array = np.full(env_all_vox.shape, 0.0)\n",
    "    \n",
    "    # store values for the in-envelope voxels\n",
    "    values_array[env_in_vox_id] = values_list\n",
    "\n",
    "    # reshape to lattice shape\n",
    "    values_array_3d = values_array.reshape(envelope_lattice.shape)\n",
    "\n",
    "    # convert to lattice\n",
    "    values_lattice = tg.to_lattice(values_array_3d, envelope_lattice)\n",
    "\n",
    "    return values_lattice"
   ]
  },
  {
   "cell_type": "code",
   "execution_count": null,
   "metadata": {},
   "outputs": [],
   "source": [
    "# apply weight to ground test points (currently percentage of sky visible in default situation) - blocking bright spaces will have high costs and vice versa\n",
    "w1 = vis_percent\n",
    "\n",
    "# dot product with ray weights\n",
    "o1 = np.array(np.dot(G1.sum(axis=2),w1), dtype='int64') # sun blocking\n",
    "\n",
    "# normalize values\n",
    "c4_norm = sk_minmax(o1) # voxel sky view factor potential TODO: need to verify whether values should be high or low at the top of the lattice\n",
    "\n",
    "# reshape and store to lattice\n",
    "street_lat = reshape_and_store_to_lattice(c4_norm, envelope_lattice)"
   ]
  },
  {
   "cell_type": "code",
   "execution_count": null,
   "metadata": {},
   "outputs": [],
   "source": [
    "# save normalized values for later use\n",
    "pk.dump(c4_norm, open(\"../data/svf_norm_highres.pk\", \"wb\"))\n",
    "# normalized values of sky blocking/sky blocked cost of each voxel"
   ]
  },
  {
   "cell_type": "code",
   "execution_count": null,
   "metadata": {},
   "outputs": [
    {
     "data": {
      "application/vnd.jupyter.widget-view+json": {
       "model_id": "cf8855e795834de3a5eb599e7402df27",
       "version_major": 2,
       "version_minor": 0
      },
      "text/plain": [
       "ViewInteractiveWidget(height=768, layout=Layout(height='auto', width='100%'), width=1024)"
      ]
     },
     "metadata": {},
     "output_type": "display_data"
    },
    {
     "data": {
      "text/plain": [
       "[(788.6785661399646, 711.2621611399645, 723.5957336399646),\n",
       " (65.08283250000001, -12.333572500000002, 0.0),\n",
       " (0.0, 0.0, 1.0)]"
      ]
     },
     "execution_count": 24,
     "metadata": {},
     "output_type": "execute_result"
    }
   ],
   "source": [
    "# visualize sky view factor values \n",
    "p = pv.Plotter(notebook=True)\n",
    "\n",
    "def tri_to_pv(tri_mesh):\n",
    "    faces = np.pad(tri_mesh.faces, ((0, 0),(1,0)), 'constant', constant_values=3)\n",
    "    pv_mesh = pv.PolyData(tri_mesh.vertices, faces)\n",
    "    return pv_mesh\n",
    "\n",
    "# fast visualization of the lattice\n",
    "# envelope_lattice.fast_vis(p)\n",
    "\n",
    "# add context\n",
    "p.add_mesh(tri_to_pv(context_mesh), opacity=0.1, color='lightgrey')\n",
    "\n",
    "base_lattice = street_lat\n",
    "grid = pv.UniformGrid() # Create the spatial reference\n",
    "grid.dimensions = np.array(base_lattice.shape) + 1 # Set the grid dimensions\n",
    "grid.origin = base_lattice.minbound - 0.5 * base_lattice.unit # The bottom left corner of the data set\n",
    "grid.spacing = base_lattice.unit # These are the cell sizes along each axis\n",
    "\n",
    "# Add the data values to the cell data\n",
    "# grid.point_arrays[\"Score\"] = base_lattice.flatten(order=\"F\")  # Flatten the Lattice\n",
    "grid.cell_arrays[\"Score\"] = base_lattice.flatten(order=\"F\")  # Flatten the Lattice\n",
    "# adding the volume\n",
    "opacity = np.array([1,1,1,1,1,1])\n",
    "p.add_volume(grid, cmap=\"coolwarm\", clim=[base_lattice.min(), base_lattice.max()],opacity=opacity, shade=True)\n",
    "\n",
    "# plotting\n",
    "p.show(use_ipyvtk=True, screenshot='skyviewfactorstreet.png')"
   ]
  }
 ],
 "metadata": {
  "interpreter": {
   "hash": "605f37378f8decd54729b74730590eb2917d207ad05faa9b102943824fde243c"
  },
  "kernelspec": {
   "display_name": "Python 3.8.5 64-bit ('thesis': conda)",
   "name": "python3"
  },
  "language_info": {
   "codemirror_mode": {
    "name": "ipython",
    "version": 3
   },
   "file_extension": ".py",
   "mimetype": "text/x-python",
   "name": "python",
   "nbconvert_exporter": "python",
   "pygments_lexer": "ipython3",
   "version": "3.8.5"
  },
  "orig_nbformat": 4
 },
 "nbformat": 4,
 "nbformat_minor": 2
}
