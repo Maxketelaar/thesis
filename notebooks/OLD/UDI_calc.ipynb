{
 "metadata": {
  "language_info": {
   "codemirror_mode": {
    "name": "ipython",
    "version": 3
   },
   "file_extension": ".py",
   "mimetype": "text/x-python",
   "name": "python",
   "nbconvert_exporter": "python",
   "pygments_lexer": "ipython3",
   "version": "3.8.5-final"
  },
  "orig_nbformat": 2,
  "kernelspec": {
   "name": "python3",
   "display_name": "Python 3.8.5 64-bit ('thesis': conda)",
   "metadata": {
    "interpreter": {
     "hash": "605f37378f8decd54729b74730590eb2917d207ad05faa9b102943824fde243c"
    }
   }
  }
 },
 "nbformat": 4,
 "nbformat_minor": 2,
 "cells": [
  {
   "cell_type": "code",
   "execution_count": 26,
   "metadata": {},
   "outputs": [
    {
     "output_type": "error",
     "ename": "ImportError",
     "evalue": "cannot import name 'geometry3d' from 'honeybee.room' (C:\\Users\\maxke\\.conda\\envs\\thesis\\lib\\site-packages\\honeybee\\room.py)",
     "traceback": [
      "\u001b[1;31m---------------------------------------------------------------------------\u001b[0m",
      "\u001b[1;31mImportError\u001b[0m                               Traceback (most recent call last)",
      "\u001b[1;32m<ipython-input-26-3ec503b957f4>\u001b[0m in \u001b[0;36m<module>\u001b[1;34m\u001b[0m\n\u001b[0;32m      5\u001b[0m \u001b[1;32mfrom\u001b[0m \u001b[0mhoneybee\u001b[0m\u001b[1;33m.\u001b[0m\u001b[0mradiance\u001b[0m\u001b[1;33m.\u001b[0m\u001b[0mrecipe\u001b[0m\u001b[1;33m.\u001b[0m\u001b[0mpointintime\u001b[0m\u001b[1;33m.\u001b[0m\u001b[0mgridbased\u001b[0m \u001b[1;32mimport\u001b[0m \u001b[0mGridBased\u001b[0m\u001b[1;33m\u001b[0m\u001b[1;33m\u001b[0m\u001b[0m\n\u001b[0;32m      6\u001b[0m \u001b[1;32mfrom\u001b[0m \u001b[0mhoneybee\u001b[0m\u001b[1;33m.\u001b[0m\u001b[0mconfig\u001b[0m \u001b[1;32mimport\u001b[0m \u001b[0mFolders\u001b[0m\u001b[1;33m\u001b[0m\u001b[1;33m\u001b[0m\u001b[0m\n\u001b[1;32m----> 7\u001b[1;33m \u001b[1;32mfrom\u001b[0m \u001b[0mhoneybee\u001b[0m\u001b[1;33m.\u001b[0m\u001b[0mroom\u001b[0m \u001b[1;32mimport\u001b[0m \u001b[0mgeometry3d\u001b[0m\u001b[1;33m\u001b[0m\u001b[1;33m\u001b[0m\u001b[0m\n\u001b[0m\u001b[0;32m      8\u001b[0m \u001b[0mFolders\u001b[0m\u001b[1;33m.\u001b[0m\u001b[0mradiance_path\u001b[0m \u001b[1;33m=\u001b[0m \u001b[1;34m\"C:/Radiance/bin\"\u001b[0m\u001b[1;33m\u001b[0m\u001b[1;33m\u001b[0m\u001b[0m\n\u001b[0;32m      9\u001b[0m \u001b[1;33m\u001b[0m\u001b[0m\n",
      "\u001b[1;31mImportError\u001b[0m: cannot import name 'geometry3d' from 'honeybee.room' (C:\\Users\\maxke\\.conda\\envs\\thesis\\lib\\site-packages\\honeybee\\room.py)"
     ]
    }
   ],
   "source": [
    "import honeybee\n",
    "from honeybee.room import Room\n",
    "from honeybee.radiance.material.glass import Glass\n",
    "from honeybee.radiance.sky.certainIlluminance import CertainIlluminanceLevel\n",
    "from honeybee.radiance.recipe.pointintime.gridbased import GridBased\n",
    "from honeybee.config import Folders\n",
    "from honeybee.room import \n",
    "Folders.radiance_path = \"C:/Radiance/bin\"\n",
    "\n",
    "import ladybug\n",
    "from ladybug.epw import EPW\n",
    "from ladybug.location import Location\n",
    "from ladybug.sunpath import Sunpath\n",
    "from ladybug_geometry.geometry3d.polyface import Polyface3D"
   ]
  },
  {
   "cell_type": "code",
   "execution_count": 2,
   "metadata": {},
   "outputs": [],
   "source": [
    "EPW_path = os.path.relpath('../data/NLD_Amsterdam.062400_IWEC.epw')\n",
    "write_path = os.path.relpath('../output')\n",
    "epw_data = EPW(EPW_path)\n",
    "delftsterdam = epw_data.location\n",
    "sp = Sunpath.from_location(delftsterdam)\n",
    "sun = sp.calculate_sun"
   ]
  },
  {
   "cell_type": "code",
   "execution_count": 10,
   "metadata": {},
   "outputs": [
    {
     "output_type": "stream",
     "name": "stdout",
     "text": [
      "Found 6 opaque surfaces.\n",
      "Found 2 fenestration surfaces.\n",
      "Found 0 window-groups.\n",
      "Writing recipe contents to: ..\\output\\room\\gridbased\n",
      "Unloading the current values from the analysis grids.\n"
     ]
    },
    {
     "output_type": "execute_result",
     "data": {
      "text/plain": [
       "(Point3(0.00, 0.00, 3.20),\n",
       " Point3(2.97, 2.97, 3.20),\n",
       " Point3(-1.27, 7.21, 3.20),\n",
       " Point3(-4.24, 4.24, 3.20),\n",
       " Point3(0.00, 0.00, 6.40),\n",
       " Point3(2.97, 2.97, 6.40),\n",
       " Point3(-1.27, 7.21, 6.40),\n",
       " Point3(-4.24, 4.24, 6.40))"
      ]
     },
     "metadata": {},
     "execution_count": 10
    }
   ],
   "source": [
    "# create room\n",
    "room = Room(origin=(0, 0, 3.2), width=4.2, depth=6, height=3.2, rotation_angle = 45)\n",
    "\n",
    "# add window\n",
    "room.add_fenestration_surface(wall_name='back', width=2, height=2, sill_height=0.7, radiance_material=None)\n",
    "\n",
    "# run grid-based analysis\n",
    "sky = CertainIlluminanceLevel(illuminance_value=2000)\n",
    "analysis_grid = room.generate_test_points(grid_size=0.5, height=0.75)\n",
    "rp = GridBased(sky=sky, analysis_grids=(analysis_grid,), simulation_type=0, hb_objects=(room,))\n",
    "\n",
    "honeybee.config.radlib_path\n",
    "batch_file = rp.write(target_folder=write_path, project_name='room')\n",
    "\n",
    "# run simulation\n",
    "rp.run(batch_file, debug=False)\n",
    "result = rp.results()[0]\n",
    "UDI = honeybee.radiance.analysisgrid.AnalysisGrid.annual_metrics(result)\n",
    "UDI\n",
    "aaa = room.vertices\n",
    "aaa\n",
    "# # print the values for each point\n",
    "# for value in result.combined_value_by_id():\n",
    "#     print('illuminance value: %d lux' % value[0])"
   ]
  },
  {
   "cell_type": "code",
   "execution_count": 23,
   "metadata": {},
   "outputs": [
    {
     "output_type": "error",
     "ename": "AssertionError",
     "evalue": "\"geometry\" property can only be used in [+] libraries.",
     "traceback": [
      "\u001b[1;31m---------------------------------------------------------------------------\u001b[0m",
      "\u001b[1;31mAssertionError\u001b[0m                            Traceback (most recent call last)",
      "\u001b[1;32m<ipython-input-23-bb32e24742be>\u001b[0m in \u001b[0;36m<module>\u001b[1;34m\u001b[0m\n\u001b[1;32m----> 1\u001b[1;33m \u001b[0mroom\u001b[0m\u001b[1;33m.\u001b[0m\u001b[0mgeometry\u001b[0m\u001b[1;33m\u001b[0m\u001b[1;33m\u001b[0m\u001b[0m\n\u001b[0m",
      "\u001b[1;32m~\\.conda\\envs\\thesis\\lib\\site-packages\\honeybee\\hbzone.py\u001b[0m in \u001b[0;36mgeometry\u001b[1;34m(self)\u001b[0m\n\u001b[0;32m    218\u001b[0m         \u001b[0m_geo\u001b[0m \u001b[1;33m=\u001b[0m \u001b[1;33m[\u001b[0m\u001b[1;33m]\u001b[0m\u001b[1;33m\u001b[0m\u001b[1;33m\u001b[0m\u001b[0m\n\u001b[0;32m    219\u001b[0m         \u001b[1;32mfor\u001b[0m \u001b[0msurface\u001b[0m \u001b[1;32min\u001b[0m \u001b[0mself\u001b[0m\u001b[1;33m.\u001b[0m\u001b[0msurfaces\u001b[0m\u001b[1;33m:\u001b[0m\u001b[1;33m\u001b[0m\u001b[1;33m\u001b[0m\u001b[0m\n\u001b[1;32m--> 220\u001b[1;33m             \u001b[0m_geo\u001b[0m\u001b[1;33m.\u001b[0m\u001b[0mappend\u001b[0m\u001b[1;33m(\u001b[0m\u001b[0msurface\u001b[0m\u001b[1;33m.\u001b[0m\u001b[0mgeometry\u001b[0m\u001b[1;33m)\u001b[0m\u001b[1;33m\u001b[0m\u001b[1;33m\u001b[0m\u001b[0m\n\u001b[0m\u001b[0;32m    221\u001b[0m             \u001b[1;32mif\u001b[0m \u001b[0msurface\u001b[0m\u001b[1;33m.\u001b[0m\u001b[0mhas_child_surfaces\u001b[0m\u001b[1;33m:\u001b[0m\u001b[1;33m\u001b[0m\u001b[1;33m\u001b[0m\u001b[0m\n\u001b[0;32m    222\u001b[0m                 \u001b[1;32mfor\u001b[0m \u001b[0mchildSurface\u001b[0m \u001b[1;32min\u001b[0m \u001b[0msurface\u001b[0m\u001b[1;33m.\u001b[0m\u001b[0mchildren_surfaces\u001b[0m\u001b[1;33m:\u001b[0m\u001b[1;33m\u001b[0m\u001b[1;33m\u001b[0m\u001b[0m\n",
      "\u001b[1;32m~\\.conda\\envs\\thesis\\lib\\site-packages\\honeybee\\hbsurface.py\u001b[0m in \u001b[0;36mgeometry\u001b[1;34m(self)\u001b[0m\n\u001b[0;32m    219\u001b[0m     \u001b[1;32mdef\u001b[0m \u001b[0mgeometry\u001b[0m\u001b[1;33m(\u001b[0m\u001b[0mself\u001b[0m\u001b[1;33m)\u001b[0m\u001b[1;33m:\u001b[0m\u001b[1;33m\u001b[0m\u001b[1;33m\u001b[0m\u001b[0m\n\u001b[0;32m    220\u001b[0m         \u001b[1;34m\"\"\"Return geometry.\"\"\"\u001b[0m\u001b[1;33m\u001b[0m\u001b[1;33m\u001b[0m\u001b[0m\n\u001b[1;32m--> 221\u001b[1;33m         \u001b[1;32massert\u001b[0m \u001b[0mhoneybee\u001b[0m\u001b[1;33m.\u001b[0m\u001b[0misplus\u001b[0m\u001b[1;33m,\u001b[0m\u001b[0;31m \u001b[0m\u001b[0;31m\\\u001b[0m\u001b[1;33m\u001b[0m\u001b[1;33m\u001b[0m\u001b[0m\n\u001b[0m\u001b[0;32m    222\u001b[0m             \u001b[1;34m'\"geometry\" property can only be used in [+] libraries.'\u001b[0m\u001b[1;33m\u001b[0m\u001b[1;33m\u001b[0m\u001b[0m\n\u001b[0;32m    223\u001b[0m         \u001b[1;32mif\u001b[0m \u001b[0mself\u001b[0m\u001b[1;33m.\u001b[0m\u001b[0mis_created_from_geometry\u001b[0m\u001b[1;33m:\u001b[0m\u001b[1;33m\u001b[0m\u001b[1;33m\u001b[0m\u001b[0m\n",
      "\u001b[1;31mAssertionError\u001b[0m: \"geometry\" property can only be used in [+] libraries."
     ]
    }
   ],
   "source": []
  }
 ]
}