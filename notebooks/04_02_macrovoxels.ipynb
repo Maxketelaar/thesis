{
 "metadata": {
  "language_info": {
   "codemirror_mode": {
    "name": "ipython",
    "version": 3
   },
   "file_extension": ".py",
   "mimetype": "text/x-python",
   "name": "python",
   "nbconvert_exporter": "python",
   "pygments_lexer": "ipython3",
   "version": "3.8.5"
  },
  "orig_nbformat": 2,
  "kernelspec": {
   "name": "python385jvsc74a57bd0605f37378f8decd54729b74730590eb2917d207ad05faa9b102943824fde243c",
   "display_name": "Python 3.8.5 64-bit ('thesis': conda)"
  }
 },
 "nbformat": 4,
 "nbformat_minor": 2,
 "cells": [
  {
   "source": [
    "# import libraries"
   ],
   "cell_type": "markdown",
   "metadata": {}
  },
  {
   "cell_type": "code",
   "execution_count": 1,
   "metadata": {},
   "outputs": [],
   "source": [
    "import os\n",
    "import copy\n",
    "import random\n",
    "import pyvista as pv\n",
    "import trimesh as tm\n",
    "import numpy as np\n",
    "import topogenesis as tg"
   ]
  },
  {
   "source": [
    "# import the environment"
   ],
   "cell_type": "markdown",
   "metadata": {}
  },
  {
   "cell_type": "code",
   "execution_count": 2,
   "metadata": {},
   "outputs": [],
   "source": [
    "# load context file. Currently set as Rotterdam area from spatial computing\n",
    "context_path = os.path.relpath('../data/immediate_context.obj')\n",
    "context = tm.load(context_path)"
   ]
  },
  {
   "source": [
    "# create macro voxels"
   ],
   "cell_type": "markdown",
   "metadata": {}
  },
  {
   "cell_type": "code",
   "execution_count": 3,
   "metadata": {},
   "outputs": [
    {
     "output_type": "execute_result",
     "data": {
      "text/plain": [
       "<trimesh.Trimesh(vertices.shape=(8, 3), faces.shape=(12, 3))>"
      ]
     },
     "metadata": {},
     "execution_count": 3
    }
   ],
   "source": [
    "# base of the 'rubik's cube'\n",
    "unit = 45\n",
    "division = 3\n",
    "macrosize = int(unit/division)\n",
    "base = tm.creation.box((unit,unit,unit))\n",
    "m_vox_size = (macrosize,macrosize,macrosize)\n",
    "base.apply_translation([60, -50, unit/2])"
   ]
  },
  {
   "cell_type": "code",
   "execution_count": 4,
   "metadata": {},
   "outputs": [],
   "source": [
    "# for loop to create initial macro voxels\n",
    "vox_macro = []\n",
    "for x in range(-1,2):\n",
    "    xval = x*macrosize\n",
    "    for y in range(-1,2):\n",
    "        yval = y*macrosize\n",
    "        for z in range(-1,2):\n",
    "            zval = z*macrosize\n",
    "            box = tm.creation.box(m_vox_size, transform=tm.transformations.translation_matrix((xval,yval,zval)))\n",
    "            box.apply_translation([60, -50, unit/2]) # move objects to acceptable starting position\n",
    "            vox_macro.append(box)"
   ]
  },
  {
   "cell_type": "code",
   "execution_count": 5,
   "metadata": {},
   "outputs": [],
   "source": [
    "# testing configuration:\n",
    "\n",
    "# create random configuration\n",
    "config_rand = [random.randint(0,1) for i in range(26)]\n",
    "\n",
    "# voxels of the configuration\n",
    "my_config = [vox_macro[i] for i in range(26) if config_rand[i] == 1]\n",
    "config_index = [i for i in range(26) if config_rand[i] == 1]"
   ]
  },
  {
   "cell_type": "code",
   "execution_count": 6,
   "metadata": {},
   "outputs": [],
   "source": [
    "# creating union is major time cost\n",
    "configuration = tm.boolean.union(my_config)"
   ]
  },
  {
   "cell_type": "code",
   "execution_count": 7,
   "metadata": {},
   "outputs": [],
   "source": [
    "# prepping ladybug\n",
    "import ladybug\n",
    "from ladybug.epw import EPW\n",
    "from ladybug.sunpath import Sunpath\n",
    "epw_data = EPW('../data/NLD_Amsterdam.062400_IWEC.epw')\n",
    "write_path = os.path.relpath('../output')\n",
    "RottAmsterdam = epw_data.location # context is Rotterdam, information used is Amsterdam TODO:unify\n",
    "# sp = Sunpath.from_location(RottAmsterdam)\n",
    "# sun = sp.calculate_sun(month=11, day=15, hour=11.0)\n",
    "# ladybug.skymodel, honeybee.radiance --> how to incorporate (surrounding) geometry"
   ]
  },
  {
   "source": [
    "# visualizing\n"
   ],
   "cell_type": "markdown",
   "metadata": {}
  },
  {
   "cell_type": "code",
   "execution_count": 8,
   "metadata": {},
   "outputs": [
    {
     "output_type": "display_data",
     "data": {
      "text/plain": "ViewInteractiveWidget(height=768, layout=Layout(height='auto', width='100%'), width=1024)",
      "application/vnd.jupyter.widget-view+json": {
       "version_major": 2,
       "version_minor": 0,
       "model_id": "f1b9f519602141fd802b8e70727cf796"
      }
     },
     "metadata": {}
    },
    {
     "output_type": "execute_result",
     "data": {
      "text/plain": [
       "[(785.6075686833789, 708.1911636833788, 743.2184808333789),\n",
       " (65.08283250000001, -12.333572500000002, 22.69374465),\n",
       " (0.0, 0.0, 1.0)]"
      ]
     },
     "metadata": {},
     "execution_count": 8
    }
   ],
   "source": [
    "# convert to trimesh definition, taken from spatial computing workshop\n",
    "def tri_to_pv(tri_mesh):\n",
    "    faces = np.pad(tri_mesh.faces, ((0, 0),(1,0)), 'constant', constant_values=3)\n",
    "    pv_mesh = pv.PolyData(tri_mesh.vertices, faces)\n",
    "    return pv_mesh\n",
    "\n",
    "# Visualize the mesh using pyvista plotter\n",
    "\n",
    "# initiating the plotter\n",
    "p = pv.Plotter(notebook=True)\n",
    "\n",
    "# adding the base mesh: light blue\n",
    "p.add_mesh(tri_to_pv(context), color='#abd8ff')\n",
    "p.add_mesh(tri_to_pv(base), color='#804080', opacity=0.2)\n",
    "p.add_mesh(tri_to_pv(configuration), color='#104080')\n",
    "\n",
    "\n",
    "# plotting\n",
    "p.show(use_ipyvtk=True)"
   ]
  },
  {
   "cell_type": "code",
   "execution_count": null,
   "metadata": {},
   "outputs": [],
   "source": []
  }
 ]
}