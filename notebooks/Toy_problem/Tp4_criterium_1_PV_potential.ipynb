{
 "cells": [
  {
   "cell_type": "markdown",
   "metadata": {},
   "source": [
    "#### loading the libraries"
   ]
  },
  {
   "cell_type": "code",
   "execution_count": 17,
   "metadata": {},
   "outputs": [],
   "source": [
    "import os\n",
    "import sys\n",
    "import pyvista as pv\n",
    "import trimesh as tm\n",
    "import numpy as np\n",
    "import topogenesis as tg\n",
    "import pickle as pk\n",
    "sys.path.append(os.path.realpath('..\\..')) # no idea how or why this is not working without adding this to the path TODO: learn about path etc.\n",
    "from notebooks.resources import RES as res"
   ]
  },
  {
   "cell_type": "markdown",
   "metadata": {},
   "source": [
    "#### loading the configuration of the test"
   ]
  },
  {
   "cell_type": "code",
   "execution_count": 18,
   "metadata": {},
   "outputs": [],
   "source": [
    "# load base lattice CSV file\n",
    "lattice_path = os.path.relpath('../../data/macrovoxels.csv')\n",
    "macro_lattice = tg.lattice_from_csv(lattice_path)\n",
    "\n",
    "# load random configuration for testing\n",
    "config_path = os.path.relpath('../../data/random_lattice.csv')\n",
    "configuration = tg.lattice_from_csv(config_path)\n",
    "\n",
    "# load environment\n",
    "environment_path = os.path.relpath(\"../../data/movedcontext.obj\") \n",
    "environment_mesh = tm.load(environment_path)\n",
    "\n",
    "# load solar vectors\n",
    "vectors = pk.load(open(\"../../data/sunvectors.pk\", \"rb\"))\n",
    "\n",
    "# load vector intensities\n",
    "intensity = pk.load(open(\"../../data/ghrval.pk\", \"rb\"))"
   ]
  },
  {
   "cell_type": "markdown",
   "metadata": {},
   "source": [
    "#### during optimization, arrays like these will be passed to the function:"
   ]
  },
  {
   "cell_type": "code",
   "execution_count": 19,
   "metadata": {},
   "outputs": [],
   "source": [
    "variable = [0, 0, 0, 1, 1, 1, 0, 0, 0, 0, 1, 0, 0, 0, 1, 0, 0, 0, 1, 0, 0, 0, 0, 0, 0, 0, 1, 0, 0, 1, 1, 1, 0, 1, 1, 0, 1, 1, 1, 0, 0, 1, 1, 1, 0, 0, 1, 0, 1, 0, 1, 0, 0, 0, 0, 0, 1, 0, 0, 0, 1, 1, 1, 0, 0, 0, 1, 1, 0, 0, 0, 1, 0, 0, 1, 0, 0, 0, 0, 0, 1, 1, 0, 1, 1, 0, 0, 1, 1, 1, 1, 0, 1, 1, 1, 1, 0, 0, 1, 1, 1, 1, 0, 0, 1, 0, 0, 0, 0, 0, 0, 1, 1, 1, 0, 1, 1, 1, 0, 0, 1, 0, 1, 0, 0]"
   ]
  },
  {
   "cell_type": "markdown",
   "metadata": {},
   "source": [
    "#### calling the objective function"
   ]
  },
  {
   "cell_type": "code",
   "execution_count": 31,
   "metadata": {},
   "outputs": [],
   "source": [
    "# input is the decision variables, a referenca lattice, the visibility vectors, their magnitude (i.e. global horizontal radiation for p.v.), and a mesh of the environment\n",
    "# output is the total objective score in wH on the roof, and wH per each surface (voxel roofs)\n",
    "crit, voxcrit = res.crit_1_PV(variable, macro_lattice, vectors, intensity, environment_mesh)"
   ]
  },
  {
   "cell_type": "code",
   "execution_count": 23,
   "metadata": {},
   "outputs": [],
   "source": [
    "# # angles may not be completely relevant or useful here\n",
    "# vector_1 = ray_per_ctr\n",
    "# vector_2 = nrm_per_ray\n",
    "\n",
    "# # much faster and intuitive with vg library \n",
    "# angles = vg.angle(vector_1, vector_2)  # angle of incidence w.r.t. surface normal\n",
    "# elevat = 90-angles # elevation angle w.r.t horizontal plane"
   ]
  },
  {
   "cell_type": "markdown",
   "metadata": {},
   "source": [
    "#### generating mesh"
   ]
  },
  {
   "cell_type": "code",
   "execution_count": 24,
   "metadata": {},
   "outputs": [],
   "source": [
    "meshes, _, _ = res.construct_horizontal_mesh(configuration, configuration.unit)\n",
    "roofmesh = tm.util.concatenate(meshes)"
   ]
  },
  {
   "cell_type": "markdown",
   "metadata": {},
   "source": [
    "#### visualisation"
   ]
  },
  {
   "cell_type": "code",
   "execution_count": 25,
   "metadata": {},
   "outputs": [
    {
     "data": {
      "application/vnd.jupyter.widget-view+json": {
       "model_id": "744e7567d3574f0da66f7de5d54e0772",
       "version_major": 2,
       "version_minor": 0
      },
      "text/plain": [
       "ViewInteractiveWidget(height=768, layout=Layout(height='auto', width='100%'), width=1024)"
      ]
     },
     "metadata": {},
     "output_type": "display_data"
    },
    {
     "data": {
      "text/plain": [
       "[(934.6849359435321, 889.6664645202169, 1045.7249681860692),\n",
       " (1.9444256636511739, -43.074045759664074, 112.98445790618828),\n",
       " (0.0, 0.0, 1.0)]"
      ]
     },
     "execution_count": 25,
     "metadata": {},
     "output_type": "execute_result"
    }
   ],
   "source": [
    "p = pv.Plotter(notebook=True)\n",
    "\n",
    "configuration.fast_vis(p,False,False,opacity=0.1)\n",
    "# p.add_arrows(ctr_per_ray, -ray_per_ctr, mag=5, show_scalar_bar=False)\n",
    "# p.add_arrows(ctr_per_ray, nrm_per_ray, mag=5, show_scalar_bar=False)\n",
    "# p.add_mesh(roof_mesh)\n",
    "p.add_mesh(environment_mesh)\n",
    "p.add_mesh(roofmesh, cmap='fire', scalars=np.repeat(voxcrit,2))\n",
    "p.add_points(vectors*-300)\n",
    "# p.add_points(horizontal_test_points)\n",
    "\n",
    "p.show(use_ipyvtk=True)\n"
   ]
  }
 ],
 "metadata": {
  "interpreter": {
   "hash": "605f37378f8decd54729b74730590eb2917d207ad05faa9b102943824fde243c"
  },
  "kernelspec": {
   "display_name": "Python 3.8.5 64-bit ('thesis': conda)",
   "language": "python",
   "name": "python3"
  },
  "language_info": {
   "codemirror_mode": {
    "name": "ipython",
    "version": 3
   },
   "file_extension": ".py",
   "mimetype": "text/x-python",
   "name": "python",
   "nbconvert_exporter": "python",
   "pygments_lexer": "ipython3",
   "version": "3.8.5"
  },
  "orig_nbformat": 4
 },
 "nbformat": 4,
 "nbformat_minor": 2
}
