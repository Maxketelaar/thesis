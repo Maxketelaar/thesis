{
 "cells": [
  {
   "cell_type": "markdown",
   "metadata": {},
   "source": [
    "### 0.0 import libraries"
   ]
  },
  {
   "cell_type": "code",
   "execution_count": 1,
   "metadata": {},
   "outputs": [],
   "source": [
    "import os\n",
    "\n",
    "import pyvista as pv\n",
    "import trimesh as tm\n",
    "import numpy as np\n",
    "import topogenesis as tg\n",
    "import pickle as pk"
   ]
  },
  {
   "cell_type": "markdown",
   "metadata": {},
   "source": [
    "### 0.1 import environment"
   ]
  },
  {
   "cell_type": "code",
   "execution_count": 2,
   "metadata": {},
   "outputs": [],
   "source": [
    "# base 'rubik's cube'\n",
    "unit = 75\n",
    "division = 5\n",
    "macrovoxel = int(unit/division)\n",
    "base = tm.creation.box((unit,unit,unit))\n",
    "newshape = base.apply_translation([60, -60, 0]) # cube is moved to correct position"
   ]
  },
  {
   "cell_type": "code",
   "execution_count": 8,
   "metadata": {},
   "outputs": [],
   "source": [
    "# load context file. Currently set as Rotterdam area from spatial computing course\n",
    "context_path = os.path.relpath('../../input/immediate_context.obj')\n",
    "context = tm.load(context_path)\n",
    "context = context.apply_translation([0, 0, -unit/2]) # Environment is moved down to accomodate accurate voxelization TODO: change to defaults, remember for simulations!\n",
    "\n",
    "# save obj using pickle TODO: pickle\n",
    "export_path = os.path.relpath('../../data/movedcontext.obj')\n",
    "contextnew = context.copy()\n",
    "# contextnew.export(export_path)\n",
    "# context.export(export_path)"
   ]
  },
  {
   "cell_type": "markdown",
   "metadata": {},
   "source": [
    "### 0.2 create macro voxels"
   ]
  },
  {
   "cell_type": "code",
   "execution_count": 4,
   "metadata": {},
   "outputs": [],
   "source": [
    "# voxelize the cube\n",
    "base_lattice = tg.lattice(newshape.bounds, unit=[macrovoxel,macrovoxel,macrovoxel], default_value=1, dtype=int)\n",
    "\n",
    "# take inside values only\n",
    "interior = newshape.contains(base_lattice.centroids) \n",
    "interior_array = interior.reshape(base_lattice.shape)\n",
    "\n",
    "# convert the interior array into a lattice\n",
    "envelope_lattice = tg.to_lattice(interior_array, base_lattice.minbound, base_lattice.unit)"
   ]
  },
  {
   "cell_type": "markdown",
   "metadata": {},
   "source": [
    "### 0.3 saving the lattice"
   ]
  },
  {
   "cell_type": "code",
   "execution_count": 5,
   "metadata": {},
   "outputs": [],
   "source": [
    "save_path = os.path.relpath('../../data/macrovoxels.csv')\n",
    "envelope_lattice.to_csv(save_path)\n",
    "\n",
    "extents_path = os.path.relpath(\"../../data/maximumextents.obj\")\n",
    "pk.dump(newshape, open(extents_path, \"wb\"))"
   ]
  },
  {
   "cell_type": "markdown",
   "metadata": {},
   "source": [
    "### 0.4 visualization"
   ]
  },
  {
   "cell_type": "code",
   "execution_count": 6,
   "metadata": {},
   "outputs": [
    {
     "data": {
      "application/vnd.jupyter.widget-view+json": {
       "model_id": "8c1c3153c1cd4f25a6024f77f4400fef",
       "version_major": 2,
       "version_minor": 0
      },
      "text/plain": [
       "ViewInteractiveWidget(height=768, layout=Layout(height='auto', width='100%'), width=1024)"
      ]
     },
     "metadata": {},
     "output_type": "display_data"
    },
    {
     "data": {
      "text/plain": [
       "[(788.6785661399646, 711.2621611399645, 723.5957336399646),\n",
       " (65.08283250000001, -12.333572500000002, 0.0),\n",
       " (0.0, 0.0, 1.0)]"
      ]
     },
     "execution_count": 6,
     "metadata": {},
     "output_type": "execute_result"
    }
   ],
   "source": [
    "# convert to trimesh definition, taken from spatial computing workshop\n",
    "def tri_to_pv(tri_mesh):\n",
    "    faces = np.pad(tri_mesh.faces, ((0, 0),(1,0)), 'constant', constant_values=3)\n",
    "    pv_mesh = pv.PolyData(tri_mesh.vertices, faces)\n",
    "    return pv_mesh\n",
    "\n",
    "# visualize the mesh using pyvista plotter\n",
    "\n",
    "# initiating the plotter\n",
    "p = pv.Plotter(notebook=True)\n",
    "\n",
    "# adding context, base shape, and lattice\n",
    "p.add_mesh(tri_to_pv(contextnew), opacity=0.5, color='lightgray')\n",
    "#p.add_mesh(tri_to_pv(newshape), color='#abd8ff', opacity=0.9)\n",
    "base_lattice.fast_vis(p)\n",
    "\n",
    "p.show(use_ipyvtk=True, screenshot='lattice.png')\n"
   ]
  }
 ],
 "metadata": {
  "interpreter": {
   "hash": "605f37378f8decd54729b74730590eb2917d207ad05faa9b102943824fde243c"
  },
  "kernelspec": {
   "display_name": "Python 3.8.5 64-bit ('thesis': conda)",
   "name": "python3"
  },
  "language_info": {
   "codemirror_mode": {
    "name": "ipython",
    "version": 3
   },
   "file_extension": ".py",
   "mimetype": "text/x-python",
   "name": "python",
   "nbconvert_exporter": "python",
   "pygments_lexer": "ipython3",
   "version": "3.8.5"
  },
  "orig_nbformat": 2
 },
 "nbformat": 4,
 "nbformat_minor": 2
}
