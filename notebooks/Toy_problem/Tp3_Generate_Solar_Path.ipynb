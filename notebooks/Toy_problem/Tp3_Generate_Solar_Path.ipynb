{
 "cells": [
  {
   "cell_type": "code",
   "execution_count": 1,
   "metadata": {},
   "outputs": [],
   "source": [
    "import trimesh as tm\n",
    "import numpy as np\n",
    "import pyvista as pv\n",
    "import os\n",
    "import pickle as pk\n",
    "import topogenesis as tg\n",
    "from datetime import date\n",
    "from ladybug.sunpath import Sunpath\n",
    "from ladybug.epw import EPW\n",
    "import math"
   ]
  },
  {
   "cell_type": "code",
   "execution_count": 2,
   "metadata": {},
   "outputs": [],
   "source": [
    "context_path = os.path.relpath('../../data/movedcontext.obj')\n",
    "context_mesh = tm.load(context_path)\n",
    "\n",
    "env_lat_path = os.path.relpath('../../data/macrovoxels.csv')\n",
    "envelope_lattice = tg.lattice_from_csv(env_lat_path)"
   ]
  },
  {
   "cell_type": "code",
   "execution_count": 3,
   "metadata": {},
   "outputs": [],
   "source": [
    "# daylighting requirements - for now: put at march 21 - sept 21, 2 hrs of sunlight (?)\n",
    "\n",
    "# location:\n",
    "Longtitude = 4.3571\n",
    "Lattitude = 52.0116\n",
    "\n",
    "start_month = 3\n",
    "start_day = 21\n",
    "\n",
    "end_month = 9\n",
    "end_day = 21\n",
    "# minimum sunlight hours per day for this period\n",
    "min_hours = 2\n",
    "\n",
    "start_doy = date(2014, start_month, start_day).timetuple().tm_yday\n",
    "end_doy = date(2014, end_month, end_day).timetuple().tm_yday\n",
    "\n",
    "################### OLD ###########################\n",
    "\n",
    "# def hoystart(doy):\n",
    "#     hoycurr = (doy-1) * 24\n",
    "#     return hoycurr\n",
    "\n",
    "# def hoyend(doy):\n",
    "#     hoycurr = doy * 24\n",
    "#     return hoycurr\n",
    "\n",
    "# def calc_hoys(start, end, step):\n",
    "#     first_hoy = hoystart(start)\n",
    "#     last_hoy = hoyend(end)\n",
    "#     if first_hoy < last_hoy:\n",
    "#         return list(range(first_hoy, last_hoy, step)) \n",
    "#     elif first_hoy > last_hoy:\n",
    "#         a = list(range(0, last_hoy, step))\n",
    "#         b = list(range(first_hoy, 365*24, step))\n",
    "#         return a + b\n",
    "#     else:\n",
    "#         return None\n",
    "\n",
    "#################### END OF OLD ###################"
   ]
  },
  {
   "cell_type": "code",
   "execution_count": 4,
   "metadata": {},
   "outputs": [],
   "source": [
    "# assign illuminance and irradiance values to the vectors\n",
    "# path1 = os.path.abspath(\"C:\\Users\\maxke\\Documents\\GitHub\\thesis_Max_Ketelaar\\data\\NLD_Amsterdam.062400_IWEC.epw\")\n",
    "path = os.path.relpath(\"../../input/NLD_Amsterdam.062400_IWEC.epw\")\n",
    "epw = EPW(path)\n",
    "\n",
    "dnr = epw.direct_normal_radiation\n",
    "dni = epw.direct_normal_illuminance\n",
    "ghi = epw.global_horizontal_illuminance\n",
    "\n",
    "# include sun hoy azimuth, PV tilt, "
   ]
  },
  {
   "cell_type": "code",
   "execution_count": 5,
   "metadata": {},
   "outputs": [],
   "source": [
    "# sp = Sunpath(longtitude=Longtitude, lattitude=Lattitude)\n",
    "sp = Sunpath(longitude=4.3571, latitude=52.0116)\n",
    "# seems to only work like this\n",
    "\n",
    "sunvectors = []\n",
    "hoys = []\n",
    "dnrval = []\n",
    "dnival = []\n",
    "ghival = []\n",
    "\n",
    "# hours = calc_hoys(start_doy, end_doy, 1)\n",
    "# for hoy in hours:\n",
    "#     sun = sp.calculate_sun_from_hoy(hoy)\n",
    "#     sun_vec = sun.sun_vector.to_array()\n",
    "#      # remove vectors under horizon\n",
    "#     if sun_vec[2] < 0.0:\n",
    "#         hoys.append(hoy)\n",
    "#         sunvectors.append(sun_vec)\n",
    "#     # this calculates EVERY hoy for the given period\n",
    "\n",
    "for i in range(0, 365, 7): # gives weekly moments\n",
    "    for j in range(24): # can also give a range of f.e. 12:00-14:00 hrs if needed\n",
    "        k = i*24 + j\n",
    "        sun = sp.calculate_sun_from_hoy(k)\n",
    "        sun_vec = sun.sun_vector.to_array()\n",
    "        if sun_vec[2] < 0.0:\n",
    "            hoys.append(j)\n",
    "            sunvectors.append(sun_vec)\n",
    "            dnrval.append(dnr[k])\n",
    "            dnival.append(dni[k])\n",
    "            ghival.append(ghi[k])\n",
    "            # include dni and dnr and ghi and azimuth\n",
    "            # azimuth = sun.altitude # see documentation from ladybug\n",
    "            # azi = sun.azimuth\n",
    "            \n",
    "# convert to numpy array\n",
    "sunvectors = np.array(sunvectors)\n",
    "hoys = np.array(hoys)\n",
    "dnrval = np.array(dnrval)\n",
    "dnival = np.array(dnival)\n",
    "ghival = np.array(ghival)\n",
    "\n",
    "# rotate vectors to correct orientation for site\n",
    "# TODO: check correct rotation for site --> 116 or 36???\n",
    "\n",
    "rotation = 36.324\n",
    "Rz = tm.transformations.rotation_matrix(np.radians(rotation), [0,0,1])\n",
    "sunvectors = tm.transform_points(sunvectors, Rz)\n",
    "\n",
    "# print(sunvectors.shape)\n",
    "# sunvectors[1]\n",
    "# x,y,z = sunvectors[1][0], sunvectors[1][1], sunvectors[1][2]\n",
    "\n",
    "# magnitude = math.sqrt(x**2 + y**2 + z**2)\n",
    "# unitvector = (x/magnitude, y/magnitude, z/magnitude)\n",
    "# unitvector, (x,y,z)"
   ]
  },
  {
   "cell_type": "code",
   "execution_count": 38,
   "metadata": {},
   "outputs": [],
   "source": [
    "# save global horizontal illuminance to pk\n",
    "pk.dump(ghival, open(\"../../data/ghival.pk\", \"wb\"))"
   ]
  },
  {
   "cell_type": "code",
   "execution_count": 39,
   "metadata": {},
   "outputs": [],
   "source": [
    "# save hoys  to pk\n",
    "pk.dump(hoys, open(\"../../data/hoys.pk\", \"wb\"))"
   ]
  },
  {
   "cell_type": "code",
   "execution_count": 40,
   "metadata": {},
   "outputs": [],
   "source": [
    "# save sun vectors to pk\n",
    "pk.dump(sunvectors, open(\"../../data/sunvectors.pk\", \"wb\"))"
   ]
  },
  {
   "cell_type": "code",
   "execution_count": 41,
   "metadata": {},
   "outputs": [],
   "source": [
    "# save direct normal radiation to pk\n",
    "pk.dump(dnrval, open(\"../../data/dnrval.pk\", \"wb\"))"
   ]
  },
  {
   "cell_type": "code",
   "execution_count": 42,
   "metadata": {},
   "outputs": [],
   "source": [
    "# save direct normal illuminance to pk\n",
    "pk.dump(dnival, open(\"../../data/dnival.pk\", \"wb\"))"
   ]
  },
  {
   "cell_type": "code",
   "execution_count": 6,
   "metadata": {},
   "outputs": [],
   "source": [
    "a = - sunvectors * 300\n",
    "b = np.array((30,-30,0))\n",
    "vec = b - a"
   ]
  },
  {
   "cell_type": "code",
   "execution_count": 7,
   "metadata": {},
   "outputs": [
    {
     "data": {
      "application/vnd.jupyter.widget-view+json": {
       "model_id": "2f7abd86f0c140caa47e5b21b40733e0",
       "version_major": 2,
       "version_minor": 0
      },
      "text/plain": [
       "ViewInteractiveWidget(height=768, layout=Layout(height='auto', width='100%'), width=1024)"
      ]
     },
     "metadata": {},
     "output_type": "display_data"
    },
    {
     "data": {
      "text/plain": [
       "[(981.9440024651442, 977.4066642083083, 1112.6340474642668),\n",
       " (-0.1175537109375, -4.6548919677734375, 130.57249128818512),\n",
       " (0.0, 0.0, 1.0)]"
      ]
     },
     "execution_count": 7,
     "metadata": {},
     "output_type": "execute_result"
    }
   ],
   "source": [
    "p = pv.Plotter(notebook=True)\n",
    "\n",
    "def tri_to_pv(tri_mesh):\n",
    "    faces = np.pad(tri_mesh.faces, ((0, 0),(1,0)), 'constant', constant_values=3)\n",
    "    pv_mesh = pv.PolyData(tri_mesh.vertices, faces)\n",
    "    return pv_mesh\n",
    "\n",
    "# fast visualization of the lattice\n",
    "# envelope_lattice.fast_vis(p)\n",
    "\n",
    "# add the sky vectors\n",
    "# p.add_points(- sunvectors * 300 , color='#0013ff')\n",
    "p.add_arrows(- sunvectors * 300, vec, mag=0.1, show_scalar_bar=False)\n",
    "\n",
    "# add context\n",
    "# p.add_mesh(tri_to_pv(context_mesh), opacity=0.1, color='lightgrey')\n",
    "\n",
    "# plotting\n",
    "p.show(use_ipyvtk=True, screenshot='sunpath.png')\n",
    "\n",
    "# TODO: check the sunpath points/locations as well as environment: might be something off about z-values!"
   ]
  },
  {
   "cell_type": "code",
   "execution_count": 45,
   "metadata": {},
   "outputs": [],
   "source": [
    "# calculate yield from surface normal vector (by defining rotation and tilt of panels) and Solar radiation perpendicular to sun and the solar vectors from GH\n",
    "# Smodule = SincidentS.N where Sincident is solar rad perp to sun, S is unit vector to sun, N is unit vector normal to surface\n",
    "# from: https://www.pveducation.org/pvcdrom/properties-of-sunlight/arbitrary-orientation-and-tilt \n",
    "\n",
    "azimuth_angle = 10 # degrees (counterclockwise) the panels are rotated from north\n",
    "azimuth = math.radians(azimuth_angle + 180) # northern hemisphere\n",
    "\n",
    "pv_angle = 70 # degrees of tilt for the pv panels on the roof (0 = horizontal, 90 = vertical)\n",
    "pv_tilt = math.radians(pv_angle)\n",
    "\n",
    "# calculate xyz components of surface (plane)\n",
    "Vx, Vy, Vz = math.sin(pv_tilt) * math.sin(azimuth), -math.sin(pv_tilt) * math.cos(azimuth), math.cos(pv_tilt)\n",
    "\n",
    "# check if it is a unit vector\n",
    "# magnitude  = math.sqrt( Vx**2 + Vy**2 + Vz**2)\n",
    "# unit_vector  = ( Vx / magnitude ,  Vy / magnitude,  Vz / magnitude )\n",
    "# unit_vector, (Vx, Vy, Vz)"
   ]
  },
  {
   "cell_type": "code",
   "execution_count": 46,
   "metadata": {},
   "outputs": [
    {
     "data": {
      "text/plain": [
       "(194.4476027561066,\n",
       " (-0.16317591116653493, 0.9254165783983233, 0.3420201433256688),\n",
       " 290,\n",
       " (0.444711558077882, 0.8745056110557492, -0.19357573800441288))"
      ]
     },
     "execution_count": 46,
     "metadata": {},
     "output_type": "execute_result"
    }
   ],
   "source": [
    "# calculating actual annual usage\n",
    "# test for a single hoy, on the previous panel, using a random ray:\n",
    "# using: https://photovoltaic-software.com/principle-ressources/how-calculate-solar-energy-power-pv-systems \n",
    "# E = Energy (kWh)\n",
    "# A = Total solar panel Area (m2)\n",
    "# r = solar panel yield or efficiency(%) - 15% or something\n",
    "# H = Annual average solar radiation on tilted panels (shadings not included) = Smodule over the entire year\n",
    "# PR = Performance ratio, coefficient for losses (range between 0.5 and 0.9, default value = 0.75)\n",
    "\n",
    "# currently gives unexpected and sometimes negative values, possibly angle and/or azimuth are formulated wrong. EPW file also seems to contain unexpected data\n",
    "\n",
    "hoy = 62\n",
    "testsun = sp.calculate_sun_from_hoy(hoy)\n",
    "testsun_vec = testsun.sun_vector.to_array()\n",
    "\n",
    "Sincident = dnr[hoy]\n",
    "N = Vx, Vy, Vz\n",
    "S = testsun_vec\n",
    "\n",
    "Smodule = Sincident * np.dot(S, N)\n",
    "Smodule, (N), Sincident, S"
   ]
  },
  {
   "cell_type": "code",
   "execution_count": null,
   "metadata": {},
   "outputs": [],
   "source": []
  }
 ],
 "metadata": {
  "interpreter": {
   "hash": "605f37378f8decd54729b74730590eb2917d207ad05faa9b102943824fde243c"
  },
  "kernelspec": {
   "display_name": "Python 3.8.5 64-bit ('thesis': conda)",
   "name": "python3"
  },
  "language_info": {
   "codemirror_mode": {
    "name": "ipython",
    "version": 3
   },
   "file_extension": ".py",
   "mimetype": "text/x-python",
   "name": "python",
   "nbconvert_exporter": "python",
   "pygments_lexer": "ipython3",
   "version": "3.8.5"
  },
  "orig_nbformat": 4
 },
 "nbformat": 4,
 "nbformat_minor": 2
}
