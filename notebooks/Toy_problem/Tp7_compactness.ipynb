{
 "cells": [
  {
   "cell_type": "code",
   "execution_count": 1,
   "metadata": {},
   "outputs": [],
   "source": [
    "import topogenesis as tg\n",
    "import numpy as np\n",
    "import os\n",
    "import pickle as pk\n",
    "import random\n",
    "import pyvista as pv\n",
    "# TODO: incorporate into pygmo structure"
   ]
  },
  {
   "cell_type": "code",
   "execution_count": 2,
   "metadata": {},
   "outputs": [],
   "source": [
    "def reshape_and_store_to_lattice(values_list, envelope_lattice):\n",
    "    env_all_vox_id = envelope_lattice.indices.flatten()\n",
    "    env_all_vox = envelope_lattice.flatten() # envelope inclusion condition: True-False\n",
    "    env_in_vox_id = env_all_vox_id[env_all_vox] # keep in-envelope voxels (True)\n",
    "\n",
    "    # initialize array\n",
    "    values_array = np.full(env_all_vox.shape, 0.0)\n",
    "    \n",
    "    # store values for the in-envelope voxels\n",
    "    values_array[env_in_vox_id] = values_list\n",
    "\n",
    "    # reshape to lattice shape\n",
    "    values_array_3d = values_array.reshape(envelope_lattice.shape)\n",
    "\n",
    "    # convert to lattice\n",
    "    values_lattice = tg.to_lattice(values_array_3d, envelope_lattice)\n",
    "\n",
    "    return values_lattice"
   ]
  },
  {
   "cell_type": "code",
   "execution_count": 3,
   "metadata": {},
   "outputs": [],
   "source": [
    "rdm_lat_path = os.path.relpath(\"../../data/randomlattice.csv\")\n",
    "# random_envelope = tg.lattice_from_csv(rdm_lat_path)\n",
    "env_lat_path = os.path.relpath(\"../../data/macrovoxels.csv\")\n",
    "envelope_lattice = tg.lattice_from_csv(env_lat_path)\n",
    "\n",
    "random_values = pk.load(open(\"../../data/randomvalues.pk\", \"rb\"))\n",
    "random_envelope = reshape_and_store_to_lattice(random_values, envelope_lattice)\n",
    "\n"
   ]
  },
  {
   "cell_type": "code",
   "execution_count": 4,
   "metadata": {},
   "outputs": [],
   "source": [
    "# create random configuration\n",
    "config_rand = [random.randint(0,1) for i in range(125)]\n",
    "\n",
    "# voxels of the configuration\n",
    "config_index = [i for i in range(26) if config_rand[i] == 0] # random indices\n",
    "\n",
    "#config_rand = np.reshape(config_rand,(5,5,5))\n",
    "#config_rand = np.pad(config_rand, 1) # pad to regain original lattice structure\n",
    "#config_rand.shape\n",
    "random_envelope2 = reshape_and_store_to_lattice(config_rand, envelope_lattice)"
   ]
  },
  {
   "cell_type": "code",
   "execution_count": 5,
   "metadata": {},
   "outputs": [],
   "source": [
    "# create stencil\n",
    "stencil = tg.create_stencil(\"von_neumann\", 1, 1)\n",
    "\n",
    "# remove \"self\" from stencil\n",
    "stencil.set_index([0,0,0], 0)\n",
    "\n",
    "# find indices of the neighbours for each voxel \n",
    "neighs = random_envelope.find_neighbours(stencil)\n",
    "\n",
    "# check which voxels are inside the envelope\n",
    "envlp_voxs = random_envelope.flatten().astype(bool) # True-False values\n",
    "\n",
    "# map indices to True-False values \n",
    "neighs_status = envlp_voxs[neighs].astype(bool)\n",
    "neighs_status,envlp_voxs\n",
    "# for voxels inside the envelope\n",
    "negh_array = np.array(neighs_status[envlp_voxs])"
   ]
  },
  {
   "cell_type": "code",
   "execution_count": 6,
   "metadata": {},
   "outputs": [],
   "source": [
    "# when the neighbour's status is False that refers to an outer face\n",
    "# another method to calculate this: len(np.where(negh_array == False)[0])\n",
    "outer_faces = np.count_nonzero(negh_array==0)\n",
    "\n",
    "# voxel edge length\n",
    "l = envelope_lattice.unit[0]\n",
    "\n",
    "# calculate total surface area of outer faces\n",
    "A_exterior = (l**2)*outer_faces\n",
    "\n",
    "# number of in-envelope voxels\n",
    "in_voxels = len(random_envelope.centroids)\n",
    "\n",
    "# calculate total volume inclosed in the envelope\n",
    "V = in_voxels * (l**3)"
   ]
  },
  {
   "cell_type": "code",
   "execution_count": 7,
   "metadata": {},
   "outputs": [],
   "source": [
    "# edge length of a cube that has the same volume\n",
    "l_ref = V**(1/3)\n",
    "\n",
    "# calculate ratio\n",
    "R_ref = (6*(l_ref**2))/V"
   ]
  },
  {
   "cell_type": "code",
   "execution_count": 8,
   "metadata": {},
   "outputs": [],
   "source": [
    "RC = (A_exterior/V)/R_ref\n",
    "\n",
    "RC_cost = abs(RC-1)"
   ]
  },
  {
   "cell_type": "code",
   "execution_count": 9,
   "metadata": {},
   "outputs": [],
   "source": [
    "# current definition:\n",
    "\n",
    "def compactness(x, reference_lattice):\n",
    "    # create the current configuration as a lattice\n",
    "    curr_envelope = reshape_and_store_to_lattice(x.astype('bool'), reference_lattice)\n",
    "    # flatten the envelope\n",
    "    envlp_voxs = curr_envelope.flatten()\n",
    "\n",
    "    # create stencil\n",
    "    stencil = tg.create_stencil(\"von_neumann\", 1, 1)\n",
    "    stencil.set_index([0,0,0], 0)\n",
    "\n",
    "    # find indices of the neighbours for each voxel \n",
    "    neighs = curr_envelope.find_neighbours(stencil)\n",
    "\n",
    "    # occupation status for the neighbours for each voxel\n",
    "    neighs_status = envlp_voxs[neighs]\n",
    "\n",
    "    # for voxels inside the envelope:\n",
    "    neigh_array = np.array(neighs_status[envlp_voxs.astype(\"bool\")])  \n",
    "\n",
    "    # when the neighbour's status is False that refers to an outer face\n",
    "    outer_faces = np.count_nonzero(neigh_array==0)\n",
    "\n",
    "    # voxel edge length\n",
    "    l = envelope_lattice.unit[0] # TODO: can we leave this dimension out?\n",
    "\n",
    "    # calculate total surface area of outer faces\n",
    "    A_exterior = (l**2)*outer_faces\n",
    "\n",
    "    # number of in-envelope voxels\n",
    "    in_voxels = np.count_nonzero(x)\n",
    "\n",
    "    # calculate total volume inclosed in the envelope\n",
    "    V = in_voxels * (l**3)\n",
    "\n",
    "    # edge length of a cube that has the same volume\n",
    "    l_ref = V**(1/3)\n",
    "\n",
    "    # calculate ratio\n",
    "    R_ref = (6*(l_ref**2))/V\n",
    "\n",
    "    relative_compactness = (A_exterior/V)/R_ref\n",
    "    return relative_compactness, A_exterior/V, V, A_exterior"
   ]
  },
  {
   "cell_type": "code",
   "execution_count": 10,
   "metadata": {},
   "outputs": [
    {
     "data": {
      "text/plain": [
       "array([[[0., 0., 0., 0., 0.],\n",
       "        [0., 0., 0., 0., 0.],\n",
       "        [0., 0., 0., 0., 0.],\n",
       "        [0., 0., 0., 0., 0.],\n",
       "        [0., 0., 0., 0., 1.]],\n",
       "\n",
       "       [[1., 0., 0., 0., 0.],\n",
       "        [0., 0., 0., 0., 0.],\n",
       "        [0., 0., 0., 0., 0.],\n",
       "        [0., 0., 0., 0., 0.],\n",
       "        [0., 0., 0., 0., 0.]],\n",
       "\n",
       "       [[0., 0., 0., 0., 0.],\n",
       "        [0., 1., 0., 0., 0.],\n",
       "        [0., 0., 0., 0., 0.],\n",
       "        [0., 0., 0., 0., 0.],\n",
       "        [0., 0., 0., 0., 0.]],\n",
       "\n",
       "       [[0., 0., 0., 0., 0.],\n",
       "        [0., 0., 0., 0., 0.],\n",
       "        [0., 0., 1., 0., 0.],\n",
       "        [0., 0., 0., 0., 0.],\n",
       "        [0., 0., 0., 0., 0.]],\n",
       "\n",
       "       [[0., 0., 0., 0., 0.],\n",
       "        [0., 0., 0., 0., 0.],\n",
       "        [0., 0., 0., 0., 0.],\n",
       "        [0., 0., 0., 1., 0.],\n",
       "        [0., 0., 0., 0., 0.]]])"
      ]
     },
     "execution_count": 10,
     "metadata": {},
     "output_type": "execute_result"
    }
   ],
   "source": [
    "diag = np.zeros((5,5,5))\n",
    "np.fill_diagonal(diag,1)\n",
    "np.roll(diag,1,0)"
   ]
  },
  {
   "cell_type": "code",
   "execution_count": 11,
   "metadata": {},
   "outputs": [
    {
     "data": {
      "text/plain": [
       "((1.8662840560779066, 0.18028169014084508, 239625, 43200),\n",
       " (1.7099759466766977, 0.4, 16875, 6750))"
      ]
     },
     "execution_count": 11,
     "metadata": {},
     "output_type": "execute_result"
    }
   ],
   "source": [
    "method2 = compactness(random_values,envelope_lattice)\n",
    "method3 = compactness(np.array(config_rand),envelope_lattice)\n",
    "method4 = compactness(diag.flatten(),envelope_lattice)\n",
    "method3, method4"
   ]
  },
  {
   "cell_type": "code",
   "execution_count": 12,
   "metadata": {},
   "outputs": [
    {
     "data": {
      "text/plain": [
       "(1.926003539862875, 0.37037037037037035, 30375, 11250)"
      ]
     },
     "execution_count": 12,
     "metadata": {},
     "output_type": "execute_result"
    }
   ],
   "source": [
    "ar_rand = np.rot90(diag,1)*envelope_lattice\n",
    "ar_rand2 = np.rot90(diag,3)*envelope_lattice\n",
    "ar_rand3 = ar_rand + ar_rand2\n",
    "ar_rand3[2][2][2] = 1\n",
    "compactness(ar_rand3.flatten(),envelope_lattice)"
   ]
  },
  {
   "cell_type": "code",
   "execution_count": 13,
   "metadata": {},
   "outputs": [
    {
     "data": {
      "application/vnd.jupyter.widget-view+json": {
       "model_id": "aa4d8d2d4b6e4c4a93e83f33743070c5",
       "version_major": 2,
       "version_minor": 0
      },
      "text/plain": [
       "ViewInteractiveWidget(height=768, layout=Layout(height='auto', width='100%'), width=1024)"
      ]
     },
     "metadata": {},
     "output_type": "display_data"
    },
    {
     "data": {
      "text/plain": [
       "[(204.88887394336027, 84.88887394336027, 144.88887394336027),\n",
       " (60.0, -60.0, 0.0),\n",
       " (0.0, 0.0, 1.0)]"
      ]
     },
     "execution_count": 13,
     "metadata": {},
     "output_type": "execute_result"
    }
   ],
   "source": [
    "p = pv.Plotter(notebook=True)\n",
    "\n",
    "a = reshape_and_store_to_lattice(np.array(ar_rand.flatten()),envelope_lattice)\n",
    "ar_rand3.fast_vis(p,color='pink',opacity=1)\n",
    "p.show(use_ipyvtk=True, screenshot='compactnessdiag.png')"
   ]
  }
 ],
 "metadata": {
  "interpreter": {
   "hash": "605f37378f8decd54729b74730590eb2917d207ad05faa9b102943824fde243c"
  },
  "kernelspec": {
   "display_name": "Python 3.8.5 64-bit ('thesis': conda)",
   "language": "python",
   "name": "python3"
  },
  "language_info": {
   "codemirror_mode": {
    "name": "ipython",
    "version": 3
   },
   "file_extension": ".py",
   "mimetype": "text/x-python",
   "name": "python",
   "nbconvert_exporter": "python",
   "pygments_lexer": "ipython3",
   "version": "3.8.5"
  },
  "orig_nbformat": 4
 },
 "nbformat": 4,
 "nbformat_minor": 2
}
