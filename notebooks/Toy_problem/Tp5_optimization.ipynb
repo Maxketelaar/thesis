{
 "cells": [
  {
   "cell_type": "markdown",
   "metadata": {},
   "source": [
    "#### loading the libraries"
   ]
  },
  {
   "cell_type": "code",
   "execution_count": 1,
   "metadata": {},
   "outputs": [],
   "source": [
    "import os\n",
    "import sys\n",
    "import pyvista as pv\n",
    "import trimesh as tm\n",
    "import numpy as np\n",
    "import topogenesis as tg\n",
    "import pickle as pk\n",
    "sys.path.append(os.path.realpath('..\\..')) # no idea how or why this is not working without adding this to the path TODO: learn about path etc.\n",
    "from notebooks.resources import RES as res\n",
    "import pygmo as pg"
   ]
  },
  {
   "cell_type": "markdown",
   "metadata": {},
   "source": [
    "#### loading the meshes and vectors"
   ]
  },
  {
   "cell_type": "code",
   "execution_count": 2,
   "metadata": {},
   "outputs": [],
   "source": [
    "# load base lattice CSV file\n",
    "lattice_path = os.path.relpath('../../data/macrovoxels.csv')\n",
    "macro_lattice = tg.lattice_from_csv(lattice_path)\n",
    "\n",
    "# load environment\n",
    "environment_path = os.path.relpath(\"../../data/movedcontext.obj\") \n",
    "environment_mesh = tm.load(environment_path)\n",
    "\n",
    "# load solar vectors\n",
    "vectors = pk.load(open(\"../../data/sunvectors.pk\", \"rb\"))\n",
    "\n",
    "# load vector intensities\n",
    "intensity_pv = pk.load(open(\"../../data/ghrval.pk\", \"rb\")) # global horizontal radiation\n",
    "\n",
    "# load vector intensities\n",
    "intensity_dl = pk.load(open(\"../../data/dnival.pk\", \"rb\")) # direct normal illuminance"
   ]
  },
  {
   "cell_type": "markdown",
   "metadata": {},
   "source": [
    "#### defining target FSI, number of variables"
   ]
  },
  {
   "cell_type": "code",
   "execution_count": 3,
   "metadata": {},
   "outputs": [],
   "source": [
    "goal_FSI = 3\n",
    "num_var = macro_lattice.flatten().shape[0]"
   ]
  },
  {
   "cell_type": "markdown",
   "metadata": {},
   "source": [
    "#### creating the class for running the optimization"
   ]
  },
  {
   "cell_type": "code",
   "execution_count": 4,
   "metadata": {},
   "outputs": [],
   "source": [
    "class pygmo_optimize:\n",
    "\n",
    "    # Number of dimensions\n",
    "    def __init__(self, dim, reflattice, crit1_values, crit2_values, sunvectors, environment, targetFSI):\n",
    "        self.dim = dim\n",
    "        self.reflattice = reflattice\n",
    "        self.crit1_values = crit1_values\n",
    "        self.crit2_values = crit2_values\n",
    "        self.sunvectors = sunvectors\n",
    "        self.environment = environment\n",
    "        self.targetFSI = targetFSI\n",
    "\n",
    "    # Define objectives    \n",
    "    def fitness(self, x):\n",
    "        # PyGmo minimizes. To maximize, we need to invert our objective functions\n",
    "\n",
    "        # global horizontal radiation on voxel roofs (PV potential) MAXIMIZE\n",
    "        f1 = - res.crit_1_PV(x, self.reflattice, self.sunvectors, self.crit1_values, self.environment)[0]\n",
    "\n",
    "        # direct normal illuminance on voxel facade (daylight potential) MAXIMIZE\n",
    "        f2 = - res.crit_2_DL(x, self.reflattice, self.sunvectors, self.crit2_values, self.environment)[0]\n",
    "\n",
    "        # relative compactness MINIMIZE\n",
    "        f3 =   res.crit_3_RC(x, self.reflattice)\n",
    "\n",
    "        # Floor Space Index deviation MAXIMIZE\n",
    "        f4 = - res.crit_4_FSI(x, self.reflattice, self.targetFSI)\n",
    "\n",
    "        return [f1, f2, f3, f4]\n",
    "    \n",
    "    # Return number of objectives\n",
    "    def get_nobj(self):\n",
    "        return 4\n",
    "\n",
    "    # Return bounds of decision variables\n",
    "    def get_bounds(self):\n",
    "        return (np.full((self.dim,),0.),np.full((self.dim,),1.))\n",
    "\n",
    "    # Return function name\n",
    "    def get_name(self):\n",
    "        return \"Test function MAX\""
   ]
  },
  {
   "cell_type": "code",
   "execution_count": 5,
   "metadata": {},
   "outputs": [],
   "source": [
    "# create User Defined Problem\n",
    "prob = pg.problem(pygmo_optimize(\n",
    "    dim= num_var, \n",
    "    reflattice= macro_lattice, \n",
    "    crit1_values= intensity_pv, \n",
    "    crit2_values= intensity_dl, \n",
    "    sunvectors= vectors, \n",
    "    environment= environment_mesh, \n",
    "    targetFSI= goal_FSI\n",
    "    ))"
   ]
  },
  {
   "cell_type": "code",
   "execution_count": 6,
   "metadata": {},
   "outputs": [],
   "source": [
    "# create population\n",
    "pop = pg.population(prob, size=10)\n",
    "\n",
    "# select algorithm --> ihs nsga2 maco for integers\n",
    "# maco seems slow, unreliable\n",
    "# nspso non dominated sorting particle swarm optimization\n",
    "# ihs seems fastest but not always yields results that make sense\n",
    "# nsga2 is most consistent with results, average speed\n",
    "\n",
    "# TODO: continuous in stead of discrete/integer\n",
    "algo = pg.algorithm(pg.nspso(gen=100))\n",
    "\n",
    "# run optimization\n",
    "pop = algo.evolve(pop)\n"
   ]
  },
  {
   "cell_type": "code",
   "execution_count": 25,
   "metadata": {},
   "outputs": [],
   "source": [
    "class my_isl:\n",
    "\n",
    "    def run_evolve(self, algo, pop):\n",
    "\n",
    "        new_pop = algo.evolve(pop)\n",
    "\n",
    "        return algo, new_pop\n",
    "\n",
    "    def get_name(self):\n",
    "\n",
    "        return \"It's my island!\"\n",
    "\n",
    "isl = pg.island(algo = pg.nspso(100), prob = prob, udi = my_isl(), size=10)"
   ]
  },
  {
   "cell_type": "code",
   "execution_count": 43,
   "metadata": {},
   "outputs": [],
   "source": [
    "def _evolve_func(algo, pop): # doctest : +SKIP\n",
    "\n",
    "    new_pop = algo.evolve(pop)\n",
    "\n",
    "    return algo, new_pop\n",
    "\n",
    "class mp_island(object): # doctest : +SKIP\n",
    "\n",
    "    def __init__(self):\n",
    "\n",
    "        # Init the process pool, if necessary.\n",
    "\n",
    "        mp_island.init_pool()\n",
    "\n",
    "\n",
    "    def run_evolve(self, algo, pop):\n",
    "\n",
    "        with mp_island._pool_lock:\n",
    "\n",
    "            res = mp_island._pool.apply_async(_evolve_func, (algo, pop))\n",
    "\n",
    "        return res.get()"
   ]
  },
  {
   "cell_type": "code",
   "execution_count": 45,
   "metadata": {},
   "outputs": [],
   "source": [
    "archi = pg.archipelago(n = 5, algo = pg.nspso(100), prob = prob, pop_size = 10, udi = my_isl())\n",
    "\n",
    "archi.evolve()"
   ]
  },
  {
   "cell_type": "code",
   "execution_count": 73,
   "metadata": {},
   "outputs": [
    {
     "name": "stdout",
     "output_type": "stream",
     "text": [
      "Number of islands: 5\n",
      "Topology: Unconnected\n",
      "Migration type: point-to-point\n",
      "Migrant handling policy: preserve\n",
      "Status: busy\n",
      "\n",
      "Islands summaries:\n",
      "\n",
      "\t#  Type             Algo   Prob               Size  Status  \n",
      "\t------------------------------------------------------------\n",
      "\t0  It's my island!  NSPSO  Test function MAX  10    busy    \n",
      "\t1  It's my island!  NSPSO  Test function MAX  10    busy    \n",
      "\t2  It's my island!  NSPSO  Test function MAX  10    busy    \n",
      "\t3  It's my island!  NSPSO  Test function MAX  10    busy    \n",
      "\t4  It's my island!  NSPSO  Test function MAX  10    busy    \n",
      "\n"
     ]
    }
   ],
   "source": [
    "print(archi)"
   ]
  },
  {
   "cell_type": "code",
   "execution_count": 28,
   "metadata": {},
   "outputs": [],
   "source": [
    "import matplotlib.pyplot as plt"
   ]
  },
  {
   "cell_type": "code",
   "execution_count": null,
   "metadata": {},
   "outputs": [],
   "source": [
    "fig, axes = plt.subplots(nrows=3, ncols=3, sharex='col', sharey='row', figsize=(15,15)) "
   ]
  },
  {
   "cell_type": "code",
   "execution_count": 67,
   "metadata": {},
   "outputs": [
    {
     "data": {
      "image/png": "[encoded data removed]",
      "text/plain": [
       "<Figure size 432x288 with 1 Axes>"
      ]
     },
     "metadata": {
      "needs_background": "light"
     },
     "output_type": "display_data"
    }
   ],
   "source": [
    "# extract results\n",
    "fits, vecs = pop.get_f(), pop.get_x()\n",
    "\n",
    "# extract and print non-dominated fronts\n",
    "ndf, dl, dc, ndr = pg.fast_non_dominated_sorting(fits)\n",
    "\n",
    "ax = pg.plot_non_dominated_fronts(fits,comp=[2,3], marker='x') # plotting the non dominated fronts #TODO: what exactly does this mean in this context"
   ]
  },
  {
   "cell_type": "code",
   "execution_count": 8,
   "metadata": {},
   "outputs": [],
   "source": [
    "fits_path = os.path.relpath(\"../../data/fits_NSPSO_10x100_all.obj\")\n",
    "pk.dump(fits, open(fits_path, \"wb\"))\n",
    "\n",
    "vecs_path = os.path.relpath(\"../../data/vecs_NSPSO_10x100_all.obj\")\n",
    "pk.dump(vecs, open(vecs_path, \"wb\"))"
   ]
  },
  {
   "cell_type": "code",
   "execution_count": 9,
   "metadata": {},
   "outputs": [],
   "source": [
    "best = pg.sort_population_mo(points = fits)[0] # the best solutions (by population)"
   ]
  },
  {
   "cell_type": "code",
   "execution_count": 10,
   "metadata": {},
   "outputs": [
    {
     "name": "stdout",
     "output_type": "stream",
     "text": [
      "The best configuration is: \n",
      " [1 0 0 0 1 1 0 1 1 0 0 1 1 1 0 0 1 1 1 0 0 0 1 0 1 1 0 0 1 0 0 0 1 0 0 0 1\n",
      " 1 1 1 1 1 0 1 0 1 0 1 0 1 0 0 1 0 1 0 0 1 1 0 1 0 1 1 0 1 0 1 0 1 1 0 1 1\n",
      " 0 1 0 1 0 1 1 1 0 0 1 0 0 1 0 0 1 0 1 0 1 1 0 0 0 1 0 0 1 1 0 0 0 1 0 1 1\n",
      " 0 1 0 0 0 1 1 0 1 1 1 1 0 1] \n",
      " It's fitness is:  -2147483648 -2147483648 1.293333333333334 -0.828125 \n",
      " This is population # 0\n"
     ]
    }
   ],
   "source": [
    "print(\"The best configuration is: \\n\", np.around(vecs[best]).astype(int), \"\\n It's fitness is: \", fits[best][0].astype(int), fits[best][1].astype(int), fits[best][2], fits[best][3], \"\\n This is population #\", best)"
   ]
  },
  {
   "cell_type": "code",
   "execution_count": 11,
   "metadata": {},
   "outputs": [
    {
     "data": {
      "text/plain": [
       "64"
      ]
     },
     "execution_count": 11,
     "metadata": {},
     "output_type": "execute_result"
    }
   ],
   "source": [
    "np.count_nonzero(np.around(vecs[best]))"
   ]
  },
  {
   "cell_type": "code",
   "execution_count": 12,
   "metadata": {},
   "outputs": [],
   "source": [
    "crit1, voxcrit1 = res.crit_1_PV(vecs[best], macro_lattice, vectors, intensity_pv, environment_mesh)\n",
    "crit2, voxcrit2 = res.crit_2_DL(vecs[best], macro_lattice, vectors, intensity_pv, environment_mesh)\n",
    "crit3 = res.crit_3_RC(vecs[best], macro_lattice)\n",
    "crit4 = res.crit_4_FSI(vecs[best], macro_lattice, goal_FSI)"
   ]
  },
  {
   "cell_type": "code",
   "execution_count": 13,
   "metadata": {},
   "outputs": [],
   "source": [
    "configuration = res.reshape_and_store_to_lattice(np.around(vecs[best]), macro_lattice)"
   ]
  },
  {
   "cell_type": "code",
   "execution_count": 14,
   "metadata": {},
   "outputs": [],
   "source": [
    "meshesroof, _, _ = res.construct_horizontal_mesh(configuration, configuration.unit)\n",
    "roofmesh = tm.util.concatenate(meshesroof)\n",
    "\n",
    "meshesfacade, _, _ = res.construct_vertical_mesh(configuration, configuration.unit)\n",
    "facademesh = tm.util.concatenate(meshesfacade)"
   ]
  },
  {
   "cell_type": "code",
   "execution_count": 15,
   "metadata": {},
   "outputs": [
    {
     "data": {
      "application/vnd.jupyter.widget-view+json": {
       "model_id": "60d101c2bcaf4ff985e52610e53793ab",
       "version_major": 2,
       "version_minor": 0
      },
      "text/plain": [
       "ViewInteractiveWidget(height=768, layout=Layout(height='auto', width='100%'), width=1024)"
      ]
     },
     "metadata": {},
     "output_type": "display_data"
    },
    {
     "data": {
      "text/plain": [
       "[(788.6785661399646, 711.2621611399645, 723.5957336399646),\n",
       " (65.08283250000001, -12.333572500000002, 0.0),\n",
       " (0.0, 0.0, 1.0)]"
      ]
     },
     "execution_count": 15,
     "metadata": {},
     "output_type": "execute_result"
    }
   ],
   "source": [
    "# visualize configuration \n",
    "p = pv.Plotter(notebook=True)\n",
    "\n",
    "# fast visualization of the lattice\n",
    "configuration.fast_vis(p,opacity=0.1)\n",
    "p.add_mesh(environment_mesh)\n",
    "p.add_mesh(roofmesh, cmap='fire', scalars=np.repeat(voxcrit1,2))\n",
    "p.add_mesh(facademesh, cmap='fire', scalars=np.repeat(voxcrit2,2))\n",
    "\n",
    "# plotting\n",
    "p.show(use_ipyvtk=True)"
   ]
  },
  {
   "cell_type": "code",
   "execution_count": null,
   "metadata": {},
   "outputs": [],
   "source": []
  }
 ],
 "metadata": {
  "interpreter": {
   "hash": "605f37378f8decd54729b74730590eb2917d207ad05faa9b102943824fde243c"
  },
  "kernelspec": {
   "display_name": "Python 3.8.5 64-bit ('thesis': conda)",
   "name": "python3"
  },
  "language_info": {
   "codemirror_mode": {
    "name": "ipython",
    "version": 3
   },
   "file_extension": ".py",
   "mimetype": "text/x-python",
   "name": "python",
   "nbconvert_exporter": "python",
   "pygments_lexer": "ipython3",
   "version": "3.8.5"
  },
  "orig_nbformat": 4
 },
 "nbformat": 4,
 "nbformat_minor": 2
}
