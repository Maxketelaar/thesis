{
 "cells": [
  {
   "cell_type": "code",
   "execution_count": 1,
   "metadata": {},
   "outputs": [
    {
     "ename": "ModuleNotFoundError",
     "evalue": "No module named 'resources'",
     "output_type": "error",
     "traceback": [
      "\u001b[1;31m---------------------------------------------------------------------------\u001b[0m",
      "\u001b[1;31mModuleNotFoundError\u001b[0m                       Traceback (most recent call last)",
      "\u001b[1;32m<ipython-input-1-b1cadd55b77b>\u001b[0m in \u001b[0;36m<module>\u001b[1;34m\u001b[0m\n\u001b[0;32m      5\u001b[0m \u001b[1;32mimport\u001b[0m \u001b[0mnumpy\u001b[0m \u001b[1;32mas\u001b[0m \u001b[0mnp\u001b[0m\u001b[1;33m\u001b[0m\u001b[1;33m\u001b[0m\u001b[0m\n\u001b[0;32m      6\u001b[0m \u001b[1;32mimport\u001b[0m \u001b[0mpickle\u001b[0m \u001b[1;32mas\u001b[0m \u001b[0mpk\u001b[0m\u001b[1;33m\u001b[0m\u001b[1;33m\u001b[0m\u001b[0m\n\u001b[1;32m----> 7\u001b[1;33m \u001b[1;32mimport\u001b[0m \u001b[0mresources\u001b[0m\u001b[1;33m.\u001b[0m\u001b[0mRES\u001b[0m \u001b[1;32mas\u001b[0m \u001b[0mres\u001b[0m\u001b[1;33m\u001b[0m\u001b[1;33m\u001b[0m\u001b[0m\n\u001b[0m\u001b[0;32m      8\u001b[0m \u001b[1;32mfrom\u001b[0m \u001b[0msklearn\u001b[0m\u001b[1;33m.\u001b[0m\u001b[0mpreprocessing\u001b[0m \u001b[1;32mimport\u001b[0m \u001b[0mminmax_scale\u001b[0m \u001b[1;32mas\u001b[0m \u001b[0msk_minmax\u001b[0m\u001b[1;33m\u001b[0m\u001b[1;33m\u001b[0m\u001b[0m\n",
      "\u001b[1;31mModuleNotFoundError\u001b[0m: No module named 'resources'"
     ]
    }
   ],
   "source": [
    "import os\n",
    "import topogenesis as tg\n",
    "import pyvista as pv\n",
    "import trimesh as tm\n",
    "import numpy as np\n",
    "import pickle as pk\n",
    "import resources.RES as res\n",
    "from sklearn.preprocessing import minmax_scale as sk_minmax"
   ]
  },
  {
   "cell_type": "code",
   "execution_count": 1,
   "metadata": {},
   "outputs": [],
   "source": [
    "import sys,os"
   ]
  },
  {
   "cell_type": "code",
   "execution_count": 2,
   "metadata": {},
   "outputs": [
    {
     "name": "stdout",
     "output_type": "stream",
     "text": [
      "['c:\\\\Users\\\\maxke\\\\Documents\\\\GitHub\\\\thesis_Max_Ketelaar\\\\notebooks\\\\Toy_problem', 'c:\\\\Users\\\\maxke\\\\.vscode\\\\extensions\\\\ms-toolsai.jupyter-2021.10.1101450599\\\\pythonFiles', 'c:\\\\Users\\\\maxke\\\\.vscode\\\\extensions\\\\ms-toolsai.jupyter-2021.10.1101450599\\\\pythonFiles\\\\lib\\\\python', 'C:\\\\Users\\\\maxke\\\\.conda\\\\envs\\\\thesis\\\\python38.zip', 'C:\\\\Users\\\\maxke\\\\.conda\\\\envs\\\\thesis\\\\DLLs', 'C:\\\\Users\\\\maxke\\\\.conda\\\\envs\\\\thesis\\\\lib', 'C:\\\\Users\\\\maxke\\\\.conda\\\\envs\\\\thesis', '', 'C:\\\\Users\\\\maxke\\\\.conda\\\\envs\\\\thesis\\\\lib\\\\site-packages', 'c:\\\\users\\\\maxke\\\\documents\\\\github\\\\topogenesis', 'C:\\\\Users\\\\maxke\\\\.conda\\\\envs\\\\thesis\\\\lib\\\\site-packages\\\\win32', 'C:\\\\Users\\\\maxke\\\\.conda\\\\envs\\\\thesis\\\\lib\\\\site-packages\\\\win32\\\\lib', 'C:\\\\Users\\\\maxke\\\\.conda\\\\envs\\\\thesis\\\\lib\\\\site-packages\\\\Pythonwin', 'C:\\\\Users\\\\maxke\\\\.conda\\\\envs\\\\thesis\\\\lib\\\\site-packages\\\\IPython\\\\extensions', 'C:\\\\Users\\\\maxke\\\\.ipython']\n"
     ]
    }
   ],
   "source": [
    "print(sys.path)"
   ]
  },
  {
   "cell_type": "code",
   "execution_count": 2,
   "metadata": {},
   "outputs": [],
   "source": [
    "# retrieve context, maximum extents, and maximum extends as voxelised volume\n",
    "\n",
    "context_path = os.path.relpath(\"../../data/movedcontext.obj\") \n",
    "context_mesh = tm.load(context_path)\n",
    "\n",
    "# extents_path = os.path.relpath(\"../data/maximumextents.obj\") \n",
    "# extents_mesh = tm.load(extents_path)\n",
    "\n",
    "env_lat_path = os.path.relpath(\"../../data/macrovoxels.csv\")\n",
    "envelope_lattice = tg.lattice_from_csv(env_lat_path)"
   ]
  },
  {
   "cell_type": "code",
   "execution_count": 3,
   "metadata": {},
   "outputs": [],
   "source": [
    "# skydome\n",
    "skydome = pk.load(open(\"../../data/skydome.pk\", \"rb\"))"
   ]
  },
  {
   "cell_type": "code",
   "execution_count": 4,
   "metadata": {},
   "outputs": [],
   "source": [
    "# finding the test points on the surrounding area/street around the building\n",
    "edges = np.zeros((7,7,7)) # TODO: need to change\n",
    "edges[1] = np.pad(np.zeros((5,5)), 1, constant_values=1)\n",
    "\n",
    "# creating the lattice for the test point origins - basically a padding of the original envelope\n",
    "streetedges = tg.to_lattice(edges,envelope_lattice.minbound - envelope_lattice.unit, unit=envelope_lattice.unit).T"
   ]
  },
  {
   "cell_type": "code",
   "execution_count": 5,
   "metadata": {},
   "outputs": [],
   "source": [
    "# create trimesh cuboids for computing intersections\n",
    "def transform_mat(value):\n",
    "    mat = np.identity(4)\n",
    "    mat[:3,-1] = np.array(value)\n",
    "    return mat"
   ]
  },
  {
   "cell_type": "code",
   "execution_count": 6,
   "metadata": {},
   "outputs": [],
   "source": [
    "# voxel cuboid meshes\n",
    "vox_cuboids = [tm.creation.box(envelope_lattice.unit, transform=transform_mat(ct)) for ct in envelope_lattice.centroids]\n",
    "\n",
    "# number of faces per voxel\n",
    "f_numb = len(vox_cuboids[0].faces)\n",
    "\n",
    "# combine voxels into one mesh\n",
    "combined_voxels = tm.util.concatenate(vox_cuboids)"
   ]
  },
  {
   "cell_type": "code",
   "execution_count": 7,
   "metadata": {},
   "outputs": [],
   "source": [
    "# combine voxels and context into one mesh\n",
    "combined_meshes = tm.util.concatenate(combined_voxels, context_mesh)\n",
    "\n",
    "# shoot towards the skydome points from all of the voxels\n",
    "SVF_ray_ctr = np.tile(skydome, [len(streetedges.centroids),1]) # sky view factor ray for each centroid of the lattice\n",
    "SVF_ctr_ray = np.tile(streetedges.centroids, [1, len(skydome)]).reshape(-1, 3) # sky view factor centroid for each ray"
   ]
  },
  {
   "cell_type": "code",
   "execution_count": 8,
   "metadata": {},
   "outputs": [],
   "source": [
    "# intersection of rays from ground centroids to sky patches with all voxel faces\n",
    "face_id, ray_id = combined_meshes.ray.intersects_id(ray_origins=SVF_ctr_ray, ray_directions=SVF_ray_ctr, multiple_hits=True) # environment too complex? Takes about 70s"
   ]
  },
  {
   "cell_type": "code",
   "execution_count": 9,
   "metadata": {},
   "outputs": [],
   "source": [
    "G1, U1  = res.ground_graph(skydome, face_id, ray_id, envelope_lattice, f_numb, streetedges)"
   ]
  },
  {
   "cell_type": "code",
   "execution_count": 10,
   "metadata": {},
   "outputs": [],
   "source": [
    "# save interedependencies for later use\n",
    "pk.dump(G1, open(\"../../data/SvFG1.pk\", \"wb\"))\n",
    "\n",
    "# save obstructions for later use\n",
    "pk.dump(U1, open(\"../../data/SvFU1.pk\", \"wb\"))"
   ]
  },
  {
   "cell_type": "code",
   "execution_count": 11,
   "metadata": {},
   "outputs": [],
   "source": [
    "# number of rays shot from each test point at street level\n",
    "skydome_rays = np.full(len(streetedges.centroids),len(skydome)) \n",
    "\n",
    "# number of rays that hit the context from each test point at street level\n",
    "context_hits = np.sum(U1,axis=1) \n",
    "\n",
    "# how much sky patches are visible from each test point at starting situation\n",
    "sky_visibility = skydome_rays - context_hits \n",
    "\n",
    "# percentage of sky visible from the test points at starting situation -> value/weights of the test points\n",
    "vis_percent = sky_visibility/skydome_rays "
   ]
  },
  {
   "cell_type": "code",
   "execution_count": 12,
   "metadata": {},
   "outputs": [],
   "source": [
    "# sum per row twice\n",
    "sky_obstructed = (G1.sum(axis=1)).sum(axis=1) # number of blocks of sky visibility from street level by each voxel"
   ]
  },
  {
   "cell_type": "code",
   "execution_count": 13,
   "metadata": {},
   "outputs": [],
   "source": [
    "def reshape_and_store_to_lattice(values_list, envelope_lattice):\n",
    "    env_all_vox_id = envelope_lattice.indices.flatten()\n",
    "    env_all_vox = envelope_lattice.flatten() # envelope inclusion condition: True-False\n",
    "    env_in_vox_id = env_all_vox_id[env_all_vox] # keep in-envelope voxels (True)\n",
    "\n",
    "    # initialize array\n",
    "    values_array = np.full(env_all_vox.shape, 0.0)\n",
    "    \n",
    "    # store values for the in-envelope voxels\n",
    "    values_array[env_in_vox_id] = values_list\n",
    "\n",
    "    # reshape to lattice shape\n",
    "    values_array_3d = values_array.reshape(envelope_lattice.shape)\n",
    "\n",
    "    # convert to lattice\n",
    "    values_lattice = tg.to_lattice(values_array_3d, envelope_lattice)\n",
    "\n",
    "    return values_lattice"
   ]
  },
  {
   "cell_type": "code",
   "execution_count": 14,
   "metadata": {},
   "outputs": [],
   "source": [
    "# apply weight to ground test points (currently percentage of sky visible in default situation) - blocking bright spaces will have high costs and vice versa\n",
    "w1 = vis_percent\n",
    "\n",
    "# dot product with ray weights\n",
    "o1 = np.array(np.dot(G1.sum(axis=2),w1), dtype='int64') # sun blocking\n",
    "\n",
    "# normalize values\n",
    "c4_norm = sk_minmax(o1) # voxel sky view factor potential TODO: need to verify whether values should be high or low at the top of the lattice\n",
    "\n",
    "# reshape and store to lattice\n",
    "street_lat = reshape_and_store_to_lattice(c4_norm, envelope_lattice)"
   ]
  },
  {
   "cell_type": "code",
   "execution_count": 15,
   "metadata": {},
   "outputs": [],
   "source": [
    "# save normalized values for later use\n",
    "pk.dump(c4_norm, open(\"..././data/svf_norm.pk\", \"wb\"))\n",
    "# normalized values of sky blocking/sky blocked cost of each voxel"
   ]
  },
  {
   "cell_type": "code",
   "execution_count": 24,
   "metadata": {},
   "outputs": [
    {
     "data": {
      "application/vnd.jupyter.widget-view+json": {
       "model_id": "cf8855e795834de3a5eb599e7402df27",
       "version_major": 2,
       "version_minor": 0
      },
      "text/plain": [
       "ViewInteractiveWidget(height=768, layout=Layout(height='auto', width='100%'), width=1024)"
      ]
     },
     "metadata": {},
     "output_type": "display_data"
    },
    {
     "data": {
      "text/plain": [
       "[(788.6785661399646, 711.2621611399645, 723.5957336399646),\n",
       " (65.08283250000001, -12.333572500000002, 0.0),\n",
       " (0.0, 0.0, 1.0)]"
      ]
     },
     "execution_count": 24,
     "metadata": {},
     "output_type": "execute_result"
    }
   ],
   "source": [
    "# visualize sky view factor values \n",
    "p = pv.Plotter(notebook=True)\n",
    "\n",
    "def tri_to_pv(tri_mesh):\n",
    "    faces = np.pad(tri_mesh.faces, ((0, 0),(1,0)), 'constant', constant_values=3)\n",
    "    pv_mesh = pv.PolyData(tri_mesh.vertices, faces)\n",
    "    return pv_mesh\n",
    "\n",
    "# fast visualization of the lattice\n",
    "# envelope_lattice.fast_vis(p)\n",
    "\n",
    "# add context\n",
    "p.add_mesh(tri_to_pv(context_mesh), opacity=0.1, color='lightgrey')\n",
    "\n",
    "base_lattice = street_lat\n",
    "grid = pv.UniformGrid() # Create the spatial reference\n",
    "grid.dimensions = np.array(base_lattice.shape) + 1 # Set the grid dimensions\n",
    "grid.origin = base_lattice.minbound - 0.5 * base_lattice.unit # The bottom left corner of the data set\n",
    "grid.spacing = base_lattice.unit # These are the cell sizes along each axis\n",
    "\n",
    "# Add the data values to the cell data\n",
    "# grid.point_arrays[\"Score\"] = base_lattice.flatten(order=\"F\")  # Flatten the Lattice\n",
    "grid.cell_arrays[\"Score\"] = base_lattice.flatten(order=\"F\")  # Flatten the Lattice\n",
    "# adding the volume\n",
    "opacity = np.array([1,1,1,1,1,1])\n",
    "p.add_volume(grid, cmap=\"coolwarm\", clim=[base_lattice.min(), base_lattice.max()],opacity=opacity, shade=True)\n",
    "\n",
    "# plotting\n",
    "p.show(use_ipyvtk=True, screenshot='skyviewfactorstreet.png')"
   ]
  }
 ],
 "metadata": {
  "interpreter": {
   "hash": "605f37378f8decd54729b74730590eb2917d207ad05faa9b102943824fde243c"
  },
  "kernelspec": {
   "display_name": "Python 3.8.5 64-bit ('thesis': conda)",
   "name": "python3"
  },
  "language_info": {
   "codemirror_mode": {
    "name": "ipython",
    "version": 3
   },
   "file_extension": ".py",
   "mimetype": "text/x-python",
   "name": "python",
   "nbconvert_exporter": "python",
   "pygments_lexer": "ipython3",
   "version": "3.8.5"
  },
  "orig_nbformat": 4
 },
 "nbformat": 4,
 "nbformat_minor": 2
}
