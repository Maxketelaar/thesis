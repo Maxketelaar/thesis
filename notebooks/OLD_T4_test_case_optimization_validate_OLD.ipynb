{
 "cells": [
  {
   "cell_type": "code",
   "execution_count": 1,
   "metadata": {},
   "outputs": [],
   "source": [
    "import os\n",
    "import topogenesis as tg\n",
    "import pyvista as pv\n",
    "import numpy as np\n",
    "import math as m\n",
    "import pickle as pk\n",
    "import resources.RES as res\n",
    "from sklearn.preprocessing import minmax_scale as sk_minmax\n",
    "import pygmo as pg\n",
    "import trimesh as tm"
   ]
  },
  {
   "cell_type": "code",
   "execution_count": null,
   "metadata": {},
   "outputs": [],
   "source": []
  },
  {
   "cell_type": "code",
   "execution_count": 2,
   "metadata": {},
   "outputs": [],
   "source": [
    "# import lattice\n",
    "env_lat_path = os.path.relpath(\"../data/testcase_lattice.csv\")\n",
    "envelope_lattice = tg.lattice_from_csv(env_lat_path)\n",
    "\n",
    "# voxel dimension\n",
    "vox_dim = envelope_lattice.unit[0]*envelope_lattice.unit[1]\n",
    "\n",
    "# plot dimensions\n",
    "size = envelope_lattice.bounds[1]-envelope_lattice.bounds[0]\n",
    "plot_area = vox_dim * size[0] * size[1]\n",
    "\n",
    "# required FSI - USER INPUT\n",
    "FSI = 3\n",
    "\n",
    "area_req = FSI * plot_area\n",
    "voxs_req = int(area_req / (vox_dim))\n",
    "\n",
    "# number of variables:\n",
    "num_var = envelope_lattice.flatten().shape[0]\n",
    "\n",
    "# actual PV interdependencies array:\n",
    "sol_interd = pk.load(open(\"../data/T3_SolG1.pk\", \"rb\")) # interdependencies\n",
    "sol_blocks = pk.load(open(\"../data/T3_SolU1.pk\", \"rb\")) # context blocks\n",
    "\n",
    "# actual daylighting obstructing cost array:\n",
    "sky_interd = pk.load(open(\"../data/T3_SkyG1.pk\", \"rb\")) # interdependencies\n",
    "sky_blocks = pk.load(open(\"../data/T3_SkyU1.pk\", \"rb\")) # context blocks\n",
    "\n",
    "# actual sky view factor obstructing cost array:\n",
    "# svf_norm = pk.load(open(\"../data/T3_svf_norm.pk\", \"rb\")) # sky view blockage of street level from voxels\n",
    "# svf_interd = pk.load(open(\"../data/SvFG1.pk\", \"rb\")) # interdependencies\n",
    "# svf_blocks = pk.load(open(\"../data/SvFU1.pk\", \"rb\")) # context blocks\n",
    "\n",
    "dnr = pk.load(open(\"../data/T2_dnrval.pk\", \"rb\")) # direct normal radiation"
   ]
  },
  {
   "cell_type": "code",
   "execution_count": 3,
   "metadata": {},
   "outputs": [],
   "source": [
    "# function for reshaping an array to a lattice\n",
    "def reshape_and_store_to_lattice(values_list, envelope_lattice):\n",
    "    env_all_vox_id = envelope_lattice.indices.flatten()\n",
    "    env_all_vox = envelope_lattice.flatten() # envelope inclusion condition: True-False\n",
    "    env_in_vox_id = env_all_vox_id[env_all_vox] # keep in-envelope voxels (True)\n",
    "\n",
    "    # initialize array\n",
    "    values_array = np.full(env_all_vox.shape, 0.0)\n",
    "    \n",
    "    # store values for the in-envelope voxels\n",
    "    values_array[env_in_vox_id] = values_list\n",
    "\n",
    "    # reshape to lattice shape\n",
    "    values_array_3d = values_array.reshape(envelope_lattice.shape)\n",
    "\n",
    "    # convert to lattice\n",
    "    values_lattice = tg.to_lattice(values_array_3d, envelope_lattice)\n",
    "\n",
    "    return values_lattice"
   ]
  },
  {
   "cell_type": "code",
   "execution_count": 4,
   "metadata": {},
   "outputs": [],
   "source": [
    "# transformation matrix\n",
    "def transform_mat(value):\n",
    "    mat = np.identity(4)\n",
    "    mat[:3,-1] = np.array(value)\n",
    "    return mat"
   ]
  },
  {
   "cell_type": "code",
   "execution_count": 5,
   "metadata": {},
   "outputs": [],
   "source": [
    "# function for finding total amount of rays that reach the sun for configuration x with possibility for weight\n",
    "def solarhits(interdependencies, contextblocks, x, radiation=None):\n",
    "    \n",
    "    # mask for finding active voxels that may block the rays\n",
    "    blockedrays = x[np.newaxis, :, np.newaxis] * interdependencies # all rays that are blocked by the 'active' voxels\n",
    "\n",
    "    blocked = np.sum(blockedrays, axis=1, dtype='int') # how many times each ray is blocked by another active voxel for each voxel\n",
    "    context_blocks = x[:, np.newaxis] * contextblocks # whether a ray is blocked by the environment for each voxel\n",
    "    total_blocks = context_blocks + blocked\n",
    "\n",
    "    # dnr_reshape = radiation[np.newaxis, :]\n",
    "\n",
    "    reaches = np.where(total_blocks == 0, 1, 0) # outputs 1 if a ray can reach the voxel, else it outputs 0\n",
    "    # weighted_hits = dnr_reshape * reaches # optional weighting of the rays\n",
    "\n",
    "    hits = np.sum(reaches, axis=1) # total number of rays that can reach the current configuration\n",
    "    # directradiation = np.sum(weighted_hits, axis=1) # total direct normal radiation on the voxels TODO: do we want to use this?\n",
    "\n",
    "    possiblehits = (np.count_nonzero(x) * interdependencies.shape[2]) - context_blocks.sum()\n",
    "    \n",
    "    score = hits.sum()\n",
    "    return score"
   ]
  },
  {
   "cell_type": "code",
   "execution_count": 6,
   "metadata": {},
   "outputs": [],
   "source": [
    "# function for finding total amount of rays that reach the sky for configuration x\n",
    "def skyhits(interdependencies, contextblocks, x):\n",
    "    \n",
    "    # mask for finding active voxels that may block the rays\n",
    "    blockedrays = x[np.newaxis, :, np.newaxis] * interdependencies # all rays that are blocked by the 'active' voxels\n",
    "\n",
    "    blocked = np.sum(blockedrays, axis=1, dtype='int') # how many times each ray is blocked by another active voxel for each voxel\n",
    "    context_blocks = x[:, np.newaxis] * contextblocks # whether a ray is blocked by the environment for each voxel\n",
    "    total_blocks = context_blocks + blocked\n",
    "\n",
    "    reaches = np.where(total_blocks == 0, 1, 0) # outputs 1 if a ray can reach the voxel, else it outputs 0\n",
    "\n",
    "    hits = np.sum(reaches, axis=1) # total number of rays that can reach the current configuration\n",
    "\n",
    "    possiblehits = (np.count_nonzero(x) * interdependencies.shape[2]) - context_blocks.sum()\n",
    "    \n",
    "    score = hits.sum()\n",
    "    return score"
   ]
  },
  {
   "cell_type": "code",
   "execution_count": 7,
   "metadata": {},
   "outputs": [],
   "source": [
    "# function for finding the compactness of configuration x\n",
    "def compactness(x, reference_lattice):\n",
    "    # create the current configuration as a lattice\n",
    "    curr_envelope = reshape_and_store_to_lattice(x.astype('bool'), reference_lattice)\n",
    "    # flatten the envelope\n",
    "    envlp_voxs = curr_envelope.flatten()\n",
    "\n",
    "    # create stencil\n",
    "    stencil = tg.create_stencil(\"von_neumann\", 1, 1)\n",
    "    stencil.set_index([0,0,0], 0)\n",
    "\n",
    "    # find indices of the neighbours for each voxel \n",
    "    neighs = curr_envelope.find_neighbours(stencil)\n",
    "\n",
    "    # occupation status for the neighbours for each voxel\n",
    "    neighs_status = envlp_voxs[neighs]\n",
    "\n",
    "    # for voxels inside the envelope:\n",
    "    neigh_array = np.array(neighs_status[envlp_voxs.astype(\"bool\")])  \n",
    "\n",
    "    # when the neighbour's status is False that refers to an outer face\n",
    "    outer_faces = np.count_nonzero(neigh_array==0)\n",
    "\n",
    "    # voxel edge length\n",
    "    l = envelope_lattice.unit[0] # TODO: can we leave this dimension out?\n",
    "\n",
    "    # calculate total surface area of outer faces\n",
    "    A_exterior = (l**2)*outer_faces\n",
    "\n",
    "    # number of in-envelope voxels\n",
    "    in_voxels = np.count_nonzero(x)\n",
    "\n",
    "    # calculate total volume inclosed in the envelope\n",
    "    V = in_voxels * (l**3)\n",
    "\n",
    "    # edge length of a cube that has the same volume\n",
    "    l_ref = V**(1/3)\n",
    "\n",
    "    # calculate ratio\n",
    "    R_ref = (6*(l_ref**2))/V\n",
    "\n",
    "    relative_compactness = (A_exterior/V)/R_ref\n",
    "    return relative_compactness"
   ]
  },
  {
   "cell_type": "code",
   "execution_count": 8,
   "metadata": {},
   "outputs": [],
   "source": [
    "class pygmo_optimze:\n",
    "\n",
    "    # Number of dimensions\n",
    "    def __init__(self, dim):\n",
    "        self.dim = dim\n",
    "\n",
    "    # Define objectives    \n",
    "    def fitness(self, x):\n",
    "        # total solar hits on the roofs of the configuration (PV potential)\n",
    "        f1 = -solarhits(sol_interd, sol_blocks, x)\n",
    "\n",
    "        # total daylighting (sky visibility from building)\n",
    "        f2 = -skyhits(sky_interd, sky_blocks, x) # daylighting potential of voxels\n",
    "\n",
    "        # floor space index\n",
    "        # f3 = -(1 - (abs(voxs_req - sum(x)))/voxs_req) # TODO: this constrains the model too much\n",
    "\n",
    "        # sky view factor from street level around plot\n",
    "        # f4 = sum(svf_norm[np.nonzero(x)])\n",
    "\n",
    "        # relative compactness\n",
    "        # f5 = -compactness(x, envelope_lattice)\n",
    "\n",
    "        return [f1, f2]\n",
    "    \n",
    "    # Return number of objectives\n",
    "    def get_nobj(self):\n",
    "        return 2\n",
    "\n",
    "    # Return bounds of decision variables\n",
    "    def get_bounds(self):\n",
    "        return (np.full((self.dim,),0.),np.full((self.dim,),1.))\n",
    "\n",
    "    # return number of integer variables (all variables are integer in this case TODO: transparency vectors for smoother shapes/results)\n",
    "    def get_nix(self):\n",
    "        return self.dim\n",
    "\n",
    "    # Return function name\n",
    "    def get_name(self):\n",
    "        return \"Test function MAX no.1\""
   ]
  },
  {
   "cell_type": "code",
   "execution_count": 9,
   "metadata": {},
   "outputs": [],
   "source": [
    "# create User Defined Problem\n",
    "prob = pg.problem(pygmo_optimze(dim = num_var))"
   ]
  },
  {
   "cell_type": "code",
   "execution_count": 10,
   "metadata": {},
   "outputs": [],
   "source": [
    "# create population\n",
    "pop = pg.population(prob, size=8)\n",
    "\n",
    "# the used algorithm\n",
    "algo = pg.algorithm(pg.ihs(gen=150))\n",
    "\n",
    "# run optimization\n",
    "pop = algo.evolve(pop)\n",
    "\n",
    "# extract results\n",
    "fits, vectors = pop.get_f(), pop.get_x()\n",
    "\n",
    "# extract non-dominated fronts\n",
    "ndf, dl, dc, ndr = pg.fast_non_dominated_sorting(fits)\n",
    "\n"
   ]
  },
  {
   "cell_type": "code",
   "execution_count": 11,
   "metadata": {},
   "outputs": [],
   "source": [
    "#plotting\n",
    "# ax = pg.plot_non_dominated_fronts(pop.get_f()) # plotting the non dominated fronts #TODO: what exactly does this represent?"
   ]
  },
  {
   "cell_type": "code",
   "execution_count": 12,
   "metadata": {},
   "outputs": [],
   "source": [
    "# the best solutions\n",
    "best = pg.sort_population_mo(points = pop.get_f())[0] # the best solutions (by population)"
   ]
  },
  {
   "cell_type": "code",
   "execution_count": 13,
   "metadata": {},
   "outputs": [
    {
     "name": "stdout",
     "output_type": "stream",
     "text": [
      "The best configuration is: \n",
      " [1. 1. 0. 1. 1. 1. 1. 1. 0. 1. 1. 0. 1. 1. 1. 1. 1. 1. 1. 1. 0. 0. 0. 0.\n",
      " 0. 1. 1. 0. 1. 0. 0. 0. 0. 1. 1. 1. 0. 0. 1. 0. 0. 0. 0. 0. 0. 0. 0. 1.\n",
      " 0. 1. 0. 1. 0. 0. 1. 1. 0. 0. 1. 1. 1. 0. 1. 0. 1. 1. 1. 0. 0. 0. 0. 1.\n",
      " 1. 0. 1. 1. 1. 1. 0. 1. 1. 0. 0. 1. 1. 0. 0. 1. 1. 1. 0. 0. 0. 0. 1. 0.\n",
      " 0. 0. 1. 1. 1. 1. 0. 1. 1. 0. 0. 1. 0. 0. 1. 0. 0. 1. 0. 0. 0. 1. 0. 1.\n",
      " 0. 1. 1. 1. 1. 0. 1. 0. 1. 0. 0. 1. 0. 1. 0. 1. 0. 0. 0. 1. 0. 1. 1. 0.\n",
      " 1. 1. 0. 1. 1. 0. 1. 1. 1. 1. 1. 0. 0. 1. 1. 0. 1. 0. 0. 1. 0. 0. 1. 0.\n",
      " 1. 1. 0. 0. 0. 0. 0. 0. 1. 0. 1. 1. 0. 0. 1. 1. 0. 1. 1. 0. 0. 0. 1. 1.\n",
      " 0. 1. 1. 1. 1. 1. 0. 1. 1. 1. 0. 0. 0. 0. 0. 1. 1. 1. 1. 1. 0. 0. 1. 1.\n",
      " 0. 0. 0. 0. 0. 0. 0. 1. 1. 0. 0. 1. 0. 0. 0. 0. 1. 1. 1. 0. 0. 1. 0. 0.\n",
      " 0. 1. 1. 1. 1. 1. 0. 1. 0. 1. 0. 0. 0. 0. 1. 0. 1. 0. 1. 0. 1. 0. 1. 0.\n",
      " 1. 1. 1. 0. 0. 1. 1. 0. 1. 0. 1. 1. 1. 0. 0. 1. 1. 0. 0. 0. 1. 1. 0. 0.\n",
      " 0. 0. 1. 1. 0. 0. 1. 0. 0. 0. 0. 1. 0. 0. 0. 0. 1. 0. 0. 1. 1. 1. 0. 0.\n",
      " 0. 0. 1.] \n",
      " It's fitness is:  [-30760. -29057.] \n",
      " This is population # 0\n"
     ]
    }
   ],
   "source": [
    "print(\"The best configuration is: \\n\", pop.get_x()[best], \"\\n It's fitness is: \", pop.get_f()[best], \"\\n This is population #\", best)"
   ]
  },
  {
   "cell_type": "code",
   "execution_count": 14,
   "metadata": {},
   "outputs": [
    {
     "data": {
      "text/plain": [
       "array([[-30760., -29057.],\n",
       "       [-30739., -29455.],\n",
       "       [-30760., -29057.],\n",
       "       [-30760., -29057.],\n",
       "       [-30760., -29057.],\n",
       "       [-30760., -29057.],\n",
       "       [-29706., -27938.],\n",
       "       [-29706., -27938.]])"
      ]
     },
     "execution_count": 14,
     "metadata": {},
     "output_type": "execute_result"
    }
   ],
   "source": [
    "pop.get_f() #, pop.get_x()"
   ]
  },
  {
   "cell_type": "code",
   "execution_count": 15,
   "metadata": {},
   "outputs": [],
   "source": [
    "best_lat = envelope_lattice.flatten()*pop.get_x()[3]\n",
    "best_lat_3D = best_lat.reshape(envelope_lattice.shape)\n",
    "\n",
    "# convert to lattice\n",
    "values_lattice = tg.to_lattice(best_lat_3D, envelope_lattice)"
   ]
  },
  {
   "cell_type": "code",
   "execution_count": 16,
   "metadata": {},
   "outputs": [],
   "source": [
    "# creating the new configuration\n",
    "# configuration = reshape_and_store_to_lattice(pop.get_x()[3], envelope_lattice)\n",
    "configuration = values_lattice"
   ]
  },
  {
   "cell_type": "code",
   "execution_count": 17,
   "metadata": {},
   "outputs": [
    {
     "data": {
      "application/vnd.jupyter.widget-view+json": {
       "model_id": "4cb3d2b0f051471bb800203e14453d5c",
       "version_major": 2,
       "version_minor": 0
      },
      "text/plain": [
       "ViewInteractiveWidget(height=768, layout=Layout(height='auto', width='100%'), width=1024)"
      ]
     },
     "metadata": {},
     "output_type": "display_data"
    },
    {
     "data": {
      "text/plain": [
       "[(69.43029329077571, 69.43029329077571, 89.43029329077571),\n",
       " (0.0, 0.0, 20.0),\n",
       " (0.0, 0.0, 1.0)]"
      ]
     },
     "execution_count": 17,
     "metadata": {},
     "output_type": "execute_result"
    }
   ],
   "source": [
    "# visualize configuration \n",
    "p = pv.Plotter(notebook=True)\n",
    "\n",
    "# fast visualization of the lattice\n",
    "configuration.fast_vis(p,True,True,color='pink',opacity=1)\n",
    "\n",
    "# plotting\n",
    "p.show(use_ipyvtk=True)"
   ]
  },
  {
   "cell_type": "code",
   "execution_count": 18,
   "metadata": {},
   "outputs": [],
   "source": [
    "# voxel cuboid meshes\n",
    "vox_cuboids = [tm.creation.box(configuration.unit, transform=transform_mat(ct)) for ct in configuration.centroids]\n",
    "\n",
    "# number of faces per voxel\n",
    "f_numb = len(vox_cuboids[0].faces)\n",
    "\n",
    "# combine voxels into one mesh\n",
    "combined_voxels = tm.util.concatenate(vox_cuboids)"
   ]
  },
  {
   "cell_type": "code",
   "execution_count": 19,
   "metadata": {},
   "outputs": [],
   "source": [
    "# retrieve skydome\n",
    "skydome = pk.load(open(\"../data/T2_skydome.pk\", \"rb\"))"
   ]
  },
  {
   "cell_type": "code",
   "execution_count": 20,
   "metadata": {},
   "outputs": [],
   "source": [
    "# retrieve context\n",
    "context_path = os.path.relpath(\"../input/testcase_context.obj\") \n",
    "context_mesh = tm.load(context_path)"
   ]
  },
  {
   "cell_type": "code",
   "execution_count": 21,
   "metadata": {},
   "outputs": [],
   "source": [
    "# combine voxels and context into one mesh\n",
    "combined_meshes = tm.util.concatenate(combined_voxels, context_mesh)\n",
    "\n",
    "# shoot towards the skydome points from all of the voxels\n",
    "DL_ray_ctr = np.tile(skydome, [len(configuration.centroids),1]) # daylighting ray for each centroid\n",
    "DL_ctr_ray = np.tile(configuration.centroids, [1, len(skydome)]).reshape(-1, 3) # daylighting centroid for each ray"
   ]
  },
  {
   "cell_type": "code",
   "execution_count": 22,
   "metadata": {},
   "outputs": [],
   "source": [
    "# intersection of rays from voxel centroids to sky patch objects with all voxel faces\n",
    "face_id, ray_id = combined_meshes.ray.intersects_id(ray_origins=DL_ctr_ray, ray_directions=DL_ray_ctr, multiple_hits=True)"
   ]
  },
  {
   "cell_type": "code",
   "execution_count": 23,
   "metadata": {},
   "outputs": [],
   "source": [
    "G2, U2 = res.construct_graph(skydome, face_id, ray_id, configuration, f_numb)"
   ]
  },
  {
   "cell_type": "code",
   "execution_count": 105,
   "metadata": {},
   "outputs": [
    {
     "data": {
      "text/plain": [
       "(69102, 29057.0)"
      ]
     },
     "execution_count": 105,
     "metadata": {},
     "output_type": "execute_result"
    }
   ],
   "source": [
    "obj_score = skyhits(G2,U2,configuration.flatten()) # score of the configuration output according to objective function\n",
    "opt_score = pop.get_f()[3][1]*-1 # score according to the cost function in the optimization\n",
    "\n",
    "obj_score, opt_score"
   ]
  }
 ],
 "metadata": {
  "interpreter": {
   "hash": "605f37378f8decd54729b74730590eb2917d207ad05faa9b102943824fde243c"
  },
  "kernelspec": {
   "display_name": "Python 3.8.5 64-bit ('thesis': conda)",
   "language": "python",
   "name": "python3"
  },
  "language_info": {
   "codemirror_mode": {
    "name": "ipython",
    "version": 3
   },
   "file_extension": ".py",
   "mimetype": "text/x-python",
   "name": "python",
   "nbconvert_exporter": "python",
   "pygments_lexer": "ipython3",
   "version": "3.8.5"
  },
  "orig_nbformat": 4
 },
 "nbformat": 4,
 "nbformat_minor": 2
}
