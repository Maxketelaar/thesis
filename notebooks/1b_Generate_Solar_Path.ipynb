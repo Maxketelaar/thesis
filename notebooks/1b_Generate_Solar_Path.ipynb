{
 "cells": [
  {
   "cell_type": "code",
   "execution_count": 43,
   "source": [
    "import trimesh as tm\r\n",
    "import numpy as np\r\n",
    "import pyvista as pv\r\n",
    "import os\r\n",
    "import pickle as pc\r\n",
    "import topogenesis as tg\r\n",
    "from datetime import date\r\n",
    "from ladybug.sunpath import Sunpath\r\n",
    "from ladybug.epw import EPW\r\n",
    "import math"
   ],
   "outputs": [],
   "metadata": {}
  },
  {
   "cell_type": "code",
   "execution_count": 32,
   "source": [
    "context_path = os.path.relpath('../data/context_transformed.obj')\r\n",
    "context_mesh = tm.load(context_path)\r\n",
    "\r\n",
    "env_lat_path = os.path.relpath('../data/macrovoxels.csv')\r\n",
    "envelope_lattice = tg.lattice_from_csv(env_lat_path)"
   ],
   "outputs": [],
   "metadata": {}
  },
  {
   "cell_type": "code",
   "execution_count": 33,
   "source": [
    "# daylighting requirements - for now: put at march 21 - sept 21, 2 hrs of sunlight (?)\r\n",
    "\r\n",
    "# location:\r\n",
    "Longtitude = 4.3571\r\n",
    "Lattitude = 52.0116\r\n",
    "\r\n",
    "start_month = 3\r\n",
    "start_day = 21\r\n",
    "\r\n",
    "end_month = 9\r\n",
    "end_day = 21\r\n",
    "# minimum sunlight hours per day for this period\r\n",
    "min_hours = 2\r\n",
    "\r\n",
    "start_doy = date(2014, start_month, start_day).timetuple().tm_yday\r\n",
    "end_doy = date(2014, end_month, end_day).timetuple().tm_yday\r\n",
    "\r\n",
    "################### OLD ###########################\r\n",
    "\r\n",
    "def hoystart(doy):\r\n",
    "    hoycurr = (doy-1) * 24\r\n",
    "    return hoycurr\r\n",
    "\r\n",
    "def hoyend(doy):\r\n",
    "    hoycurr = doy * 24\r\n",
    "    return hoycurr\r\n",
    "\r\n",
    "def calc_hoys(start, end, step):\r\n",
    "    first_hoy = hoystart(start)\r\n",
    "    last_hoy = hoyend(end)\r\n",
    "    if first_hoy < last_hoy:\r\n",
    "        return list(range(first_hoy, last_hoy, step)) \r\n",
    "    elif first_hoy > last_hoy:\r\n",
    "        a = list(range(0, last_hoy, step))\r\n",
    "        b = list(range(first_hoy, 365*24, step))\r\n",
    "        return a + b\r\n",
    "    else:\r\n",
    "        return None\r\n",
    "\r\n",
    "#################### END OF OLD ###################"
   ],
   "outputs": [],
   "metadata": {}
  },
  {
   "cell_type": "code",
   "execution_count": 52,
   "source": [
    "# sp = Sunpath(longtitude=Longtitude, lattitude=Lattitude)\r\n",
    "sp = Sunpath(longitude=4.3571, latitude=52.0116)\r\n",
    "# seems to only work like this\r\n",
    "\r\n",
    "sunvectors = []\r\n",
    "hoys = []\r\n",
    "\r\n",
    "# hours = calc_hoys(start_doy, end_doy, 1)\r\n",
    "# for hoy in hours:\r\n",
    "#     sun = sp.calculate_sun_from_hoy(hoy)\r\n",
    "#     sun_vec = sun.sun_vector.to_array()\r\n",
    "#      # remove vectors under horizon\r\n",
    "#     if sun_vec[2] < 0.0:\r\n",
    "#         hoys.append(hoy)\r\n",
    "#         sunvectors.append(sun_vec)\r\n",
    "#     # this calculates EVERY hoy for the given period\r\n",
    "\r\n",
    "for i in range(0, 365, 7): # gives weekly moments\r\n",
    "    for j in range(24): # can also give a range of f.e. 12:00-14:00 hrs if needed\r\n",
    "        k = i*24 + j\r\n",
    "        sun = sp.calculate_sun_from_hoy(k)\r\n",
    "        sun_vec = sun.sun_vector.to_array()\r\n",
    "        if sun_vec[2] < 0.0:\r\n",
    "            hoys.append(j)\r\n",
    "            sunvectors.append(sun_vec)\r\n",
    "            # include dni and dnr and ghi and azimuth\r\n",
    "            # azimuth = sun.altitude # see documentation from ladybug\r\n",
    "            azi = sun.azimuth\r\n",
    "            \r\n",
    "\r\n",
    "    \r\n",
    "# convert to numpy array\r\n",
    "sunvectors = np.array(sunvectors)\r\n",
    "hoys = np.array(hoys)\r\n",
    "\r\n",
    "# TODO: rewrite to definitions\r\n",
    "# TODO: annotate\r\n",
    "\r\n",
    "# rotate vectors to correct orientation for site\r\n",
    "# TODO: find correct rotation for site --> 116???\r\n",
    "\r\n",
    "\r\n",
    "rotation = 36.324\r\n",
    "Rz = tm.transformations.rotation_matrix(np.radians(rotation), [0,0,1])\r\n",
    "sunvectors = tm.transform_points(sunvectors, Rz)\r\n",
    "\r\n",
    "\r\n",
    "# print(sunvectors.shape)\r\n",
    "# sunvectors[1]\r\n",
    "# x,y,z = sunvectors[1][0], sunvectors[1][1], sunvectors[1][2]\r\n",
    "\r\n",
    "# magnitude = math.sqrt(x**2 + y**2 + z**2)\r\n",
    "# unitvector = (x/magnitude, y/magnitude, z/magnitude)\r\n",
    "# unitvector, (x,y,z)"
   ],
   "outputs": [],
   "metadata": {}
  },
  {
   "cell_type": "code",
   "execution_count": null,
   "source": [
    "p = pv.Plotter(notebook=True)\r\n",
    "\r\n",
    "def tri_to_pv(tri_mesh):\r\n",
    "    faces = np.pad(tri_mesh.faces, ((0, 0),(1,0)), 'constant', constant_values=3)\r\n",
    "    pv_mesh = pv.PolyData(tri_mesh.vertices, faces)\r\n",
    "    return pv_mesh\r\n",
    "\r\n",
    "# fast visualization of the lattice\r\n",
    "envelope_lattice.fast_vis(p)\r\n",
    "\r\n",
    "# add the sky vectors\r\n",
    "p.add_points(- sunvectors * 300, color='#0013ff')\r\n",
    "\r\n",
    "# add context\r\n",
    "p.add_mesh(tri_to_pv(context_mesh), opacity=0.1, style='wireframe')\r\n",
    "\r\n",
    "# plotting\r\n",
    "p.show(use_ipyvtk=True)"
   ],
   "outputs": [
    {
     "output_type": "display_data",
     "data": {
      "text/plain": [
       "ViewInteractiveWidget(height=768, layout=Layout(height='auto', width='100%'), width=1024)"
      ],
      "application/vnd.jupyter.widget-view+json": {
       "version_major": 2,
       "version_minor": 0,
       "model_id": "1e1217ff9a9b43829612995b8945671c"
      }
     },
     "metadata": {}
    },
    {
     "output_type": "execute_result",
     "data": {
      "text/plain": [
       "[(998.9259362248986, 992.3981374807923, 1110.002747433558),\n",
       " (1.8784376932030966, -4.649361050903195, 112.95524890186238),\n",
       " (0.0, 0.0, 1.0)]"
      ]
     },
     "metadata": {},
     "execution_count": 5
    }
   ],
   "metadata": {}
  },
  {
   "cell_type": "code",
   "execution_count": 117,
   "source": [
    "# assign illuminance and irradiance values to the vectors\r\n",
    "# path1 = os.path.abspath(\"C:\\Users\\maxke\\Documents\\GitHub\\thesis_Max_Ketelaar\\data\\NLD_Amsterdam.062400_IWEC.epw\")\r\n",
    "path = os.path.relpath(\"../data/NLD_Amsterdam.062400_IWEC.epw\")\r\n",
    "epw = EPW(path)\r\n",
    "\r\n",
    "dnr = epw.direct_normal_radiation\r\n",
    "dni = epw.direct_normal_illuminance\r\n",
    "ghi = epw.global_horizontal_illuminance\r\n",
    "testval = epw.global_horizontal_radiation[12]\r\n",
    "\r\n",
    "# include sun hoy azimuth, PV tilt, "
   ],
   "outputs": [
    {
     "output_type": "execute_result",
     "data": {
      "text/plain": [
       "Hourly Continuous Data Collection\n",
       "1/1 to 12/31 between 0 and 23 @1\n",
       "Direct Normal Radiation (Wh/m2)\n",
       "...8760 values..."
      ]
     },
     "metadata": {},
     "execution_count": 117
    }
   ],
   "metadata": {}
  },
  {
   "cell_type": "code",
   "execution_count": 179,
   "source": [
    "# calculate yield from surface normal vector (by defining rotation and tilt of panels) and Solar radiation perpendicular to sun and the solar vectors from GH\r\n",
    "# Smodule = SincidentS.N where Sincident is solar rad perp to sun, S is unit vector to sun, N is unit vector normal to surface\r\n",
    "# from: https://www.pveducation.org/pvcdrom/properties-of-sunlight/arbitrary-orientation-and-tilt \r\n",
    "\r\n",
    "azimuth_angle = 10 # degrees (counterclockwise) the panels are rotated from north\r\n",
    "azimuth = math.radians(azimuth_angle + 180) # northern hemisphere\r\n",
    "\r\n",
    "pv_angle = 70 # degrees of tilt for the pv panels on the roof (0 = horizontal, 90 = vertical)\r\n",
    "pv_tilt = math.radians(pv_angle)\r\n",
    "\r\n",
    "# calculate xyz components of surface (plane)\r\n",
    "Vx, Vy, Vz = math.sin(pv_tilt) * math.sin(azimuth), -math.sin(pv_tilt) * math.cos(azimuth), math.cos(pv_tilt)\r\n",
    "\r\n",
    "# check if it is a unit vector\r\n",
    "# magnitude  = math.sqrt( Vx**2 + Vy**2 + Vz**2)\r\n",
    "# unit_vector  = ( Vx / magnitude ,  Vy / magnitude,  Vz / magnitude )\r\n",
    "# unit_vector, (Vx, Vy, Vz)"
   ],
   "outputs": [],
   "metadata": {}
  },
  {
   "cell_type": "code",
   "execution_count": 188,
   "source": [
    "# calculating actual annual usage\r\n",
    "# test for a single hoy, on the previous panel, using a random ray:\r\n",
    "# using: https://photovoltaic-software.com/principle-ressources/how-calculate-solar-energy-power-pv-systems \r\n",
    "# E = Energy (kWh)\r\n",
    "# A = Total solar panel Area (m2)\r\n",
    "# r = solar panel yield or efficiency(%) - 15% or something\r\n",
    "# H = Annual average solar radiation on tilted panels (shadings not included) = Smodule over the entire year\r\n",
    "# PR = Performance ratio, coefficient for losses (range between 0.5 and 0.9, default value = 0.75)\r\n",
    "\r\n",
    "# currently gives unexpected and sometimes negative values, possibly angle and/or azimuth are formulated wrong. EPW file also seems to contain unexpected data\r\n",
    "\r\n",
    "hoy = 62\r\n",
    "testsun = sp.calculate_sun_from_hoy(hoy)\r\n",
    "testsun_vec = testsun.sun_vector.to_array()\r\n",
    "\r\n",
    "Sincident = dnr[hoy]\r\n",
    "N = Vx, Vy, Vz\r\n",
    "S = testsun_vec\r\n",
    "\r\n",
    "Smodule = Sincident * np.dot(S, N)\r\n",
    "Smodule, (N), Sincident, S"
   ],
   "outputs": [
    {
     "output_type": "execute_result",
     "data": {
      "text/plain": [
       "(194.4476027561066,\n",
       " (-0.16317591116653493, 0.9254165783983233, 0.3420201433256688),\n",
       " 290,\n",
       " (0.444711558077882, 0.8745056110557492, -0.19357573800441288))"
      ]
     },
     "metadata": {},
     "execution_count": 188
    }
   ],
   "metadata": {}
  },
  {
   "cell_type": "code",
   "execution_count": null,
   "source": [],
   "outputs": [],
   "metadata": {}
  }
 ],
 "metadata": {
  "orig_nbformat": 4,
  "language_info": {
   "name": "python",
   "version": "3.8.5",
   "mimetype": "text/x-python",
   "codemirror_mode": {
    "name": "ipython",
    "version": 3
   },
   "pygments_lexer": "ipython3",
   "nbconvert_exporter": "python",
   "file_extension": ".py"
  },
  "kernelspec": {
   "name": "python3",
   "display_name": "Python 3.8.5 64-bit ('thesis': conda)"
  },
  "interpreter": {
   "hash": "605f37378f8decd54729b74730590eb2917d207ad05faa9b102943824fde243c"
  }
 },
 "nbformat": 4,
 "nbformat_minor": 2
}