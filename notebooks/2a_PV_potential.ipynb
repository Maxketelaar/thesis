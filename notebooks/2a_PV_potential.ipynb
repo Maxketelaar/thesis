{
 "cells": [
  {
   "cell_type": "code",
   "execution_count": 4,
   "metadata": {},
   "outputs": [],
   "source": [
    "import os\n",
    "import topogenesis as tg\n",
    "import pyvista as pv\n",
    "import trimesh as tm\n",
    "import numpy as np\n",
    "import pickle as pk\n",
    "import resources.RES as res\n",
    "from sklearn.preprocessing import minmax_scale as sk_minmax\n"
   ]
  },
  {
   "cell_type": "code",
   "execution_count": 5,
   "metadata": {},
   "outputs": [],
   "source": [
    "# retrieve context, maximum extents, and maximum extends as voxelised volume\n",
    "\n",
    "context_path = os.path.relpath(\"../data/movedcontext.obj\") \n",
    "context_mesh = tm.load(context_path)\n",
    "\n",
    "# extents_path = os.path.relpath(\"../data/maximumextents.obj\") \n",
    "# extents_mesh = tm.load(extents_path)\n",
    "\n",
    "env_lat_path = os.path.relpath(\"../data/macrovoxels.csv\")\n",
    "envelope_lattice = tg.lattice_from_csv(env_lat_path)"
   ]
  },
  {
   "cell_type": "code",
   "execution_count": 6,
   "metadata": {},
   "outputs": [],
   "source": [
    "# PV positions\n",
    "unit = envelope_lattice.unit[0]\n",
    "dist = unit/2 # distance from centroid to top of voxel\n",
    "\n",
    "transfrm = [0,0,dist] \n",
    "ctr = envelope_lattice.centroids\n",
    "\n",
    "newctr = ctr + transfrm  # move z-value of centroids for placement/calculation of PV"
   ]
  },
  {
   "cell_type": "code",
   "execution_count": 7,
   "metadata": {},
   "outputs": [],
   "source": [
    "# ############## PV rotation NOT NEEDED CURRENTLY/OLD ####################\n",
    "# azimuth_angle = 10 # degrees (counterclockwise) the panels are rotated from north\n",
    "# azimuth = m.radians(azimuth_angle + 180) # northern hemisphere\n",
    "\n",
    "# pv_angle = -15 # degrees of tilt for the pv panels on the roof (0 = horizontal, 90 = vertical)\n",
    "# pv_tilt = m.radians(pv_angle)\n",
    "\n",
    "# # calculate xyz components of surface normal vector (plane)\n",
    "# Vx, Vy, Vz = m.sin(pv_tilt) * m.sin(azimuth), - m.sin(pv_tilt) * m.cos(azimuth), m.cos(pv_tilt)\n",
    "# PV_normals = np.tile([Vx, Vy, Vz], (len(newctr),1)) # create vectors for each position"
   ]
  },
  {
   "cell_type": "code",
   "execution_count": 8,
   "metadata": {},
   "outputs": [],
   "source": [
    "# # visualize normal vectors\n",
    "# p = pv.Plotter(notebook=True)\n",
    "\n",
    "# def tri_to_pv(tri_mesh):\n",
    "#     faces = np.pad(tri_mesh.faces, ((0, 0),(1,0)), 'constant', constant_values=3)\n",
    "#     pv_mesh = pv.PolyData(tri_mesh.vertices, faces)\n",
    "#     return pv_mesh\n",
    "\n",
    "# # fast visualization of the lattice\n",
    "# envelope_lattice.fast_vis(p)\n",
    "\n",
    "# # add the normal vectors\n",
    "# p.add_arrows(newctr, PV_normals, mag=25)\n",
    "\n",
    "# # add solar vector\n",
    "# sunvectors = pk.load(open(\"../data/sunvectors.pk\", \"rb\"))\n",
    "# p.add_arrows(-300*sunvectors, sunvectors, mag = 25)\n",
    "\n",
    "# # add context\n",
    "# p.add_mesh(tri_to_pv(context_mesh), opacity=0.1, style='wireframe')\n",
    "\n",
    "# # add extents\n",
    "# # p.add_mesh(extents_mesh)\n",
    "\n",
    "# # plotting\n",
    "# p.show(use_ipyvtk=True)"
   ]
  },
  {
   "cell_type": "code",
   "execution_count": 9,
   "metadata": {},
   "outputs": [],
   "source": [
    "# retrieve solar position, hour of the year, and irradiation values"
   ]
  },
  {
   "cell_type": "code",
   "execution_count": 10,
   "metadata": {},
   "outputs": [],
   "source": [
    "# sunvectors\n",
    "sunvectors = pk.load(open(\"../data/sunvectors.pk\", \"rb\"))"
   ]
  },
  {
   "cell_type": "code",
   "execution_count": 11,
   "metadata": {},
   "outputs": [],
   "source": [
    "# direct normal radiation\n",
    "dnr = pk.load(open(\"../data/dnrval.pk\", \"rb\"))"
   ]
  },
  {
   "cell_type": "code",
   "execution_count": 12,
   "metadata": {},
   "outputs": [],
   "source": [
    "# hour of the year\n",
    "hoy = pk.load(open(\"../data/hoys.pk\", \"rb\"))"
   ]
  },
  {
   "cell_type": "code",
   "execution_count": 13,
   "metadata": {},
   "outputs": [],
   "source": [
    "# # calculating performance over a time period in kWh ################# OLD ######################\n",
    "\n",
    "# # using: https://photovoltaic-software.com/principle-ressources/how-calculate-solar-energy-power-pv-systems \n",
    "# # E = Energy (kWh)\n",
    "# # A = Total solar panel Area (m2)\n",
    "# # r = Solar panel yield or efficiency(%) - 15% or something\n",
    "# # PR = Performance ratio, coefficient for losses (range between 0.5 and 0.9, default value = 0.75)\n",
    "# # H = Average solar radiation on tilted panels (shadings not included) = Smodule over the time period (summed)\n",
    "\n",
    "# #constants:\n",
    "# A = 1\n",
    "# r = 0.15\n",
    "# PR = 0.75\n",
    "\n",
    "# # calculate yield from surface normal vector (by defining rotation and tilt of panels) and Solar radiation perpendicular to sun and the solar vectors from GH\n",
    "# # Smodule = SincidentS.N where Sincident is solar rad perp to sun, S is unit vector to sun, N is unit vector normal to surface\n",
    "# # from: https://www.pveducation.org/pvcdrom/properties-of-sunlight/arbitrary-orientation-and-tilt \n",
    "\n",
    "# S = -sunvectors\n",
    "# N = PV_normals\n",
    "# S_incident = dnr\n",
    "\n",
    "# # print(S.shape, N.shape, S_incident.shape)\n",
    "# # print(S.T.shape, N.T.shape, S_incident.T.shape)\n",
    "# #H = S_incident * np.dot(S,N)\n",
    "# #Htotal = np.sum(H)\n",
    "# S_module = np.dot(N, (S.T)) * S_incident\n",
    "# cum_rad = np.sum(S_module,-1) # cumulative irradiation values over the year: these are currently uniform since every voxel and every sun vector is the same\n",
    "\n",
    "# E = A * r * PR * cum_rad\n",
    "\n",
    "# # TODO: replace blocked/unblocked vectors with 0's according to status e.g. if a ray is blocked by surrounding buildings, the ray becomes a 0 for that voxel\n",
    "# # TODO: add interdependancy for for rays so mcda can be applied for selecting best interblocking voxels"
   ]
  },
  {
   "cell_type": "code",
   "execution_count": 14,
   "metadata": {},
   "outputs": [],
   "source": [
    "# create trimesh cuboids for computing intersections\n",
    "def transform_mat(value):\n",
    "    mat = np.identity(4)\n",
    "    mat[:3,-1] = np.array(value)\n",
    "    return mat"
   ]
  },
  {
   "cell_type": "code",
   "execution_count": 15,
   "metadata": {},
   "outputs": [],
   "source": [
    "# voxel cuboid meshes\n",
    "vox_cuboids = [tm.creation.box(envelope_lattice.unit, transform=transform_mat(ct)) for ct in envelope_lattice.centroids]\n",
    "\n",
    "# number of faces per voxel\n",
    "f_numb = len(vox_cuboids[0].faces)\n",
    "\n",
    "# combine voxels into one mesh\n",
    "combined_voxels = tm.util.concatenate(vox_cuboids)"
   ]
  },
  {
   "cell_type": "code",
   "execution_count": 16,
   "metadata": {},
   "outputs": [],
   "source": [
    "# combine voxels and context into one mesh\n",
    "combined_meshes = tm.util.concatenate(combined_voxels, context_mesh)\n",
    "\n",
    "# voxel centroids\n",
    "vox_ctr = envelope_lattice.centroids\n",
    "\n",
    "PV_ray_ctr = np.tile(-sunvectors, [len(newctr),1]) # PV ray for each centroid\n",
    "PV_ctr_ray = np.tile(newctr, [1, len(sunvectors)]).reshape(-1, 3) # PV centroid for each ray"
   ]
  },
  {
   "cell_type": "code",
   "execution_count": 17,
   "metadata": {},
   "outputs": [],
   "source": [
    "# intersection of rays from voxel centroids to sun objects with all voxel faces\n",
    "face_id, ray_id = combined_meshes.ray.intersects_id(ray_origins=PV_ctr_ray, ray_directions=PV_ray_ctr, multiple_hits=True) # environment too complex? Takes about 70s"
   ]
  },
  {
   "cell_type": "code",
   "execution_count": 18,
   "metadata": {},
   "outputs": [],
   "source": [
    "G1, U1 = res.construct_graph(sunvectors, face_id, ray_id, envelope_lattice, f_numb)"
   ]
  },
  {
   "cell_type": "code",
   "execution_count": 19,
   "metadata": {},
   "outputs": [],
   "source": [
    "# ############# OLD ############################################################################\n",
    "# # save voxel interdependencies array\n",
    "# G1_l_indices = np.argwhere(G1>0)\n",
    "# # G1_l_vals = G1[tuple(G1_l_indices.T)]\n",
    "# # G1_l_flat = np.hstack([G1_l_indices, G1_l_vals.reshape(G1_l_vals.size, -1)]).astype(int)\n",
    "# G1_l_flat = np.insert(G1_l_indices, len(G1_l_indices[0]), 1, axis=1)\n",
    "# pk.dump(G1_l_flat, open(\"../data/G1_l_flat.pk\", \"wb\"))\n",
    "\n",
    "# # save obstracted rays array\n",
    "# np.savetxt(\"../data/U1.csv\", U1, delimiter=',')\n",
    "\n",
    "# # save cuboid meshes as one mesh\n",
    "# file_string = tm.exchange.obj.export_obj(combined_meshes, include_normals=True)\n",
    "# with open(\"../data/cuboids.obj\", \"w\") as file:\n",
    "#     file.write(file_string)"
   ]
  },
  {
   "cell_type": "code",
   "execution_count": 20,
   "metadata": {},
   "outputs": [],
   "source": [
    "# sum per row twice\n",
    "sol_obstructed = (G1.sum(axis=1)).sum(axis=1)\n",
    "\n",
    "# sum per column and then per row\n",
    "sol_obstructing = (G1.sum(axis=0)).sum(axis=1)"
   ]
  },
  {
   "cell_type": "code",
   "execution_count": 21,
   "metadata": {},
   "outputs": [],
   "source": [
    "def reshape_and_store_to_lattice(values_list, envelope_lattice):\n",
    "    env_all_vox_id = envelope_lattice.indices.flatten()\n",
    "    env_all_vox = envelope_lattice.flatten() # envelope inclusion condition: True-False\n",
    "    env_in_vox_id = env_all_vox_id[env_all_vox] # keep in-envelope voxels (True)\n",
    "\n",
    "    # initialize array\n",
    "    values_array = np.full(env_all_vox.shape, 0.0)\n",
    "    \n",
    "    # store values for the in-envelope voxels\n",
    "    values_array[env_in_vox_id] = values_list\n",
    "\n",
    "    # reshape to lattice shape\n",
    "    values_array_3d = values_array.reshape(envelope_lattice.shape)\n",
    "\n",
    "    # convert to lattice\n",
    "    values_lattice = tg.to_lattice(values_array_3d, envelope_lattice)\n",
    "\n",
    "    return values_lattice"
   ]
  },
  {
   "cell_type": "code",
   "execution_count": 22,
   "metadata": {},
   "outputs": [],
   "source": [
    "# apply weight to rays (direct normal radiation form hoy values)\n",
    "w1 = dnr\n",
    "\n",
    "# dot product with ray weights\n",
    "o1 = np.array(np.dot(G1.sum(axis=1),w1), dtype='int64') # sun blocking\n",
    "o2 = np.array(np.dot(G1.sum(axis=0),w1), dtype='int64') # sun blocked\n",
    "\n",
    "# obscurity cost formula (hadamard product)\n",
    "c1 = np.multiply(o1+1, o2+1)\n",
    "\n",
    "# normalize values\n",
    "c1_norm = sk_minmax(c1) # PV potential\n",
    "\n",
    "# reshape and store to lattice\n",
    "c1_lat = reshape_and_store_to_lattice(c1_norm, envelope_lattice)"
   ]
  },
  {
   "cell_type": "code",
   "execution_count": 23,
   "metadata": {},
   "outputs": [],
   "source": [
    "# save normalized values for later use\n",
    "pk.dump(c1_norm, open(\"../data/c1_norm.pk\", \"wb\"))\n",
    "# normalized values of sun blocking/sun blocked cost of each voxel"
   ]
  },
  {
   "cell_type": "code",
   "execution_count": 25,
   "metadata": {},
   "outputs": [
    {
     "data": {
      "application/vnd.jupyter.widget-view+json": {
       "model_id": "6c225258fc5544d388762fd5f7b54b92",
       "version_major": 2,
       "version_minor": 0
      },
      "text/plain": [
       "ViewInteractiveWidget(height=768, layout=Layout(height='auto', width='100%'), width=1024)"
      ]
     },
     "metadata": {},
     "output_type": "display_data"
    },
    {
     "data": {
      "text/plain": [
       "[(788.6785661399646, 711.2621611399645, 723.5957336399646),\n",
       " (65.08283250000001, -12.333572500000002, 0.0),\n",
       " (0.0, 0.0, 1.0)]"
      ]
     },
     "execution_count": 25,
     "metadata": {},
     "output_type": "execute_result"
    }
   ],
   "source": [
    "# visualize pv potential values \n",
    "p = pv.Plotter(notebook=True)\n",
    "\n",
    "def tri_to_pv(tri_mesh):\n",
    "    faces = np.pad(tri_mesh.faces, ((0, 0),(1,0)), 'constant', constant_values=3)\n",
    "    pv_mesh = pv.PolyData(tri_mesh.vertices, faces)\n",
    "    return pv_mesh\n",
    "\n",
    "# fast visualization of the lattice\n",
    "# envelope_lattice.fast_vis(p)\n",
    "\n",
    "# add context\n",
    "p.add_mesh(tri_to_pv(context_mesh), opacity=0.1, style='wireframe')\n",
    "\n",
    "base_lattice = c1_lat\n",
    "grid = pv.UniformGrid() # Create the spatial reference\n",
    "grid.dimensions = np.array(base_lattice.shape) + 1 # Set the grid dimensions\n",
    "grid.origin = base_lattice.minbound - 0.5 * base_lattice.unit # The bottom left corner of the data set\n",
    "grid.spacing = base_lattice.unit # These are the cell sizes along each axis\n",
    "\n",
    "# Add the data values to the cell data\n",
    "# grid.point_arrays[\"Score\"] = base_lattice.flatten(order=\"F\")  # Flatten the Lattice\n",
    "grid.cell_arrays[\"Score\"] = base_lattice.flatten(order=\"F\")  # Flatten the Lattice\n",
    "# adding the volume\n",
    "opacity = np.array([0,0.6,0.6,0.6,0.6,0.6,0.6])*1.0\n",
    "p.add_volume(grid, cmap=\"coolwarm\", clim=[base_lattice.min(), base_lattice.max()],opacity=opacity, shade=True)\n",
    "\n",
    "# plotting\n",
    "p.show(use_ipyvtk=True)"
   ]
  }
 ],
 "metadata": {
  "interpreter": {
   "hash": "605f37378f8decd54729b74730590eb2917d207ad05faa9b102943824fde243c"
  },
  "kernelspec": {
   "display_name": "Python 3.8.5 64-bit ('thesis': conda)",
   "name": "python3"
  },
  "language_info": {
   "codemirror_mode": {
    "name": "ipython",
    "version": 3
   },
   "file_extension": ".py",
   "mimetype": "text/x-python",
   "name": "python",
   "nbconvert_exporter": "python",
   "pygments_lexer": "ipython3",
   "version": "3.8.5"
  },
  "orig_nbformat": 4
 },
 "nbformat": 4,
 "nbformat_minor": 2
}
